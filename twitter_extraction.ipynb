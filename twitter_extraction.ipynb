{
 "cells": [
  {
   "cell_type": "code",
   "execution_count": 1,
   "metadata": {},
   "outputs": [
    {
     "name": "stdout",
     "output_type": "stream",
     "text": [
      "done\n"
     ]
    }
   ],
   "source": [
    "import pandas as pd\n",
    "\n",
    "# Load the CSV file\n",
    "df = pd.read_csv('/Users/jashparekh/Desktop/twcs.csv')\n",
    "\n",
    "# filter rows where 'in_response_to_tweet_id' column is empty\n",
    "filtered_df = df[df['in_response_to_tweet_id'].isna()]\n",
    "\n",
    "# Save the filtered data to a new CSV file\n",
    "filtered_df.to_csv('/Users/jashparekh/Desktop/filtered_twcs.csv', index=False)\n",
    "\n",
    "print(\"done\")\n"
   ]
  }
 ],
 "metadata": {
  "language_info": {
   "name": "python"
  }
 },
 "nbformat": 4,
 "nbformat_minor": 2
}
