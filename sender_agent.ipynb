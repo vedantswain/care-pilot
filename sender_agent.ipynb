{
 "cells": [
  {
   "cell_type": "code",
   "execution_count": 1,
   "id": "a4614a726a28ff06",
   "metadata": {
    "collapsed": false,
    "ExecuteTime": {
     "end_time": "2024-06-27T14:21:45.010212Z",
     "start_time": "2024-06-27T14:21:44.981150Z"
    }
   },
   "outputs": [
    {
     "data": {
      "text/plain": "True"
     },
     "execution_count": 1,
     "metadata": {},
     "output_type": "execute_result"
    }
   ],
   "source": [
    "from dotenv import load_dotenv\n",
    "load_dotenv(\"project.env\") "
   ]
  },
  {
   "cell_type": "code",
   "execution_count": 2,
   "id": "e5c814a2b01f55c8",
   "metadata": {
    "collapsed": false,
    "ExecuteTime": {
     "end_time": "2024-06-27T14:21:48.566996Z",
     "start_time": "2024-06-27T14:21:45.003100Z"
    }
   },
   "outputs": [],
   "source": [
    "import pandas as pd\n",
    "import itertools"
   ]
  },
  {
   "cell_type": "code",
   "execution_count": 3,
   "id": "initial_id",
   "metadata": {
    "collapsed": false,
    "ExecuteTime": {
     "end_time": "2024-06-27T14:21:56.095635Z",
     "start_time": "2024-06-27T14:21:48.565714Z"
    }
   },
   "outputs": [],
   "source": [
    "import os\n",
    "import openai as oai\n",
    "\n",
    "import langchain_openai as lcai\n",
    "from langchain.agents import AgentExecutor, create_openai_tools_agent\n",
    "from langchain.chains import create_retrieval_chain\n",
    "from langchain.chains.combine_documents import create_stuff_documents_chain\n",
    "from langchain_community.document_loaders import WebBaseLoader\n",
    "from langchain_community.vectorstores import FAISS\n",
    "from langchain_core.prompts import ChatPromptTemplate, MessagesPlaceholder, SystemMessagePromptTemplate, PromptTemplate, HumanMessagePromptTemplate\n",
    "from langchain_core.messages import AIMessage, HumanMessage\n",
    "from langchain_core.runnables import RunnablePassthrough\n",
    "from langchain.text_splitter import RecursiveCharacterTextSplitter\n",
    "from langchain.tools.retriever import create_retriever_tool\n",
    "from langchain.chains import SequentialChain, LLMChain\n",
    "\n",
    "\n",
    "from utils import mLangChain"
   ]
  },
  {
   "cell_type": "markdown",
   "id": "3005e5b6f38b39b4",
   "metadata": {
    "collapsed": false
   },
   "source": [
    "## I. Initial Message"
   ]
  },
  {
   "cell_type": "code",
   "execution_count": 8,
   "id": "fd0588e1285a3276",
   "metadata": {
    "collapsed": false,
    "ExecuteTime": {
     "end_time": "2024-04-19T18:48:23.794410Z",
     "start_time": "2024-04-19T18:48:23.789293Z"
    }
   },
   "outputs": [],
   "source": [
    "def agent_sender_zeroshot():\n",
    "    client_LC = mLangChain()\n",
    "    prompt = \"\"\"Your role is to act like a customer seeking support for {product}. \\\n",
    "                You are messaging a service representative via the support chat.\\\n",
    "                You ONLY play the role of the customer. Do NOT play the role of the representative. \\\n",
    "                Style your complaint based on your feelings. \\\n",
    "                Initiate the chat with a ONLY ONE complaint message. \\\n",
    "                \n",
    "                Feeling: You are {is_grateful}. You are {is_ranting}. You are {is_expressive}.\\\n",
    "                Complaint:\n",
    "            \"\"\"\n",
    "    template = ChatPromptTemplate.from_messages(\n",
    "        [\n",
    "            (\"system\", prompt),\n",
    "        ]\n",
    "    )\n",
    "    chain = template | client_LC.client_prompt\n",
    "    return chain"
   ]
  },
  {
   "cell_type": "code",
   "execution_count": 9,
   "id": "b3f3854383b0826a",
   "metadata": {
    "collapsed": false,
    "ExecuteTime": {
     "end_time": "2024-04-19T18:48:24.345491Z",
     "start_time": "2024-04-19T18:48:24.324711Z"
    }
   },
   "outputs": [],
   "source": [
    "def agent_sender_fewshot_rcis():\n",
    "    client_LC = mLangChain()\n",
    "    prompt = \"\"\"Your role is to act like a customer seeking support for {product}. \\\n",
    "                You are messaging a service representative via the support chat.\\\n",
    "                You ONLY play the role of the customer. Do NOT play the role of the representative. \\\n",
    "                Style your complaint based on your feelings. \\\n",
    "                Initiate the chat with a ONLY ONE complaint message. \\\n",
    "                                \n",
    "                Feeling: You are NOT grateful. You are NOT ranting. You are NOT expressive.\\\n",
    "                Complaint: I am flying from Luton to Dalaman (Turkey) next week with Monarch and am wondering whether or not to bother with online check-in. [We already have allocated seats, so as far as I can see the only extra thing that online check-in offers is that you don't have to have your boarding pass printed at the check-in desk. Things that are putting me off are: (1) I've noticed over the past couple of years that because now most people are checking in online, the queues for the online check-in desks are often actually longer than the queues for people who haven't checked in online (2) Last year we had a 12 hour flight delay - the original plane had a problem and the airline then split passengers into two groups and people who had NOT checked in online were flown out on a much earlier plane than those who had checked in online - goodness knows why.\\\n",
    "                \n",
    "                Feeling: You are NOT grateful. You are NOT ranting. You are expressive.\\\n",
    "                Complaint: Looking at round trip airfare from JFK to Rome for the end of June. $ 1350 - 1450 per person....... wow, that's a lot ??? or normal cost for airfare to Rome ? On Delta. \\\n",
    "                \n",
    "                Feeling: You are NOT grateful. You are ranting. You are NOT expressive.\\\n",
    "                Complaint: i'v never saw a company that so disrespect her clients. i[ bought a ticket from israel to usa which cost a-l-o-t of money.since I'm from israel I'm not familiar with there coin (GBP) or something like that, it looks just like the Euro sign so i was sure i was paying in Euro. a few min after i realized it was not Euro so it means i paid 1000 more (nis) than i thought, i tried to find an email to contect them right away to cancel my flight befot the confirmation of the ticket, but there was no email in the web just phone number in Europe that i cant call. i sent them a massage on facebook which was my only option, beggin them to get back to me..in the mean time i sent an email to paypal asking to not aprove the charge...no one was answering me.... just the next day edreams answered to my facebbok, that i can't cancel the flight and there's nothing to do. in there website they wrote black on white the you can cancel the flight for 25 GBP... the only answer i got from them was trough facebook, and i was begging for an email adresss i could contact and explain, or at least get a better explaintion...but nothing i dont mind paying the fee cuse anyway if ill book a diffrent flight+ the fee it will be cheaper than what i paid in edreams! it's not even the gratest flight there are stops in the middle so i could find a cheaper flight for shore, it was an onest mistake that i was reading the sign wrong, i tried to cancel a less then 5 min after, but nothing... now I'm crying every time i remember this, I'm a student that can't afford this amount for a flying ticket.. i need to work 3 months for this kind of amount..my all vacation rouin...i will never book frim them again!\n",
    "                \n",
    "                Feeling: You are NOT grateful. You are ranting. You are expressive.\\\n",
    "                Complaint: I,ve just been looking at a package with Jet2 over xmas/new year to Servigroup Venus where we have stayed many times. I got the price back and had a quick chat with hubby and we decided to go for it and book. Within about 20 mins the price had risen almost £400. I,m so angry, how can they justify this? I had a live web chat with their advisors who more or less said it boils down to supply and demand on flight seats and hotel rooms. I don,t buy that, not in such a short space of time. Well I,m sorry Jet2, you can stick it !!!!! \\\n",
    "                                                                       \n",
    "                Feeling: You are grateful. You are NOT ranting. You are NOT expressive.\\\n",
    "                Complaint: Hi! Among all the US airlines, which offers the best service and reliability?[ I've heard horrid stories abt flight cancellation, delays, poor service, bad air plane conditions etc. We'll be taking a 6 hr flight from SFO to MCO (Orlando), with 3 kids. Appreciate the feedback. thks v much!! \\\n",
    "\n",
    "                Feeling: You are grateful. You are NOT ranting. You are expressive.\\\n",
    "                Complaint: Quick question.... My passport is a normal passport which was issue 5 years ago and expire 2013 [it does not have a chip in it as i beleive chipped passports didnt not come in when i renewed my passport, is this passport ok to travel on because it doesnt havw a chip? its machine readable as it has all the numbers etc on the bottom of the photo page, ive tried various website etc for a answer and starting to panick now as im going in 2 weeks!! Ive completed my ESTA and that is fine Thanks in advance \\\n",
    "                                \n",
    "                Feeling: You are grateful. You are ranting. You are NOT expressive.\\\n",
    "                Complaint: Hello, Traveling for first time with our 7 month old daughter this weekend. Going to Aruba for a week. Bought her a ticket on a Continental flight. Website says stroller dimensions must not exeed 62 inches folded...ours of course is about 10 inches over I think. Says they will charge $100. Does anyone know if this is really enforced? I just can't believe I will have to pay an extra $100 ON TOP of a ticket price for an infant! Any experiences or advice...PLEASE. Thanks \\\n",
    "                \n",
    "                Feeling: You are {is_grateful}. You are {is_ranting}. You are {is_expressive}.\\\n",
    "                Complaint:\n",
    "            \"\"\"\n",
    "    template = ChatPromptTemplate.from_messages(\n",
    "        [\n",
    "            (\"system\", prompt),\n",
    "        ]\n",
    "    )\n",
    "    chain = template | client_LC.client_prompt\n",
    "    return chain"
   ]
  },
  {
   "cell_type": "code",
   "execution_count": 10,
   "id": "7a9d784ac7ccb5a7",
   "metadata": {
    "collapsed": false,
    "ExecuteTime": {
     "end_time": "2024-04-19T18:48:24.806957Z",
     "start_time": "2024-04-19T18:48:24.803008Z"
    }
   },
   "outputs": [],
   "source": [
    "def agent_sender_fewshot_twitter():\n",
    "    client_LC = mLangChain()\n",
    "    prompt = \"\"\"Your role is to act like a customer seeking support. \\\n",
    "                You are messaging a service representative via the support chat.\\\n",
    "                You ONLY play the role of the customer. Do NOT play the role of the representative. \\\n",
    "                Style your complaint based on your feelings. \\\n",
    "                Initiate the chat with a ONLY ONE complaint message. \\\n",
    "                \n",
    "                Product: Mobile Network               \n",
    "                Feeling: You are NOT grateful. You are NOT ranting. You are NOT expressive.\\\n",
    "                Complaint: @O2 I received this a few weeks ago, since then I've been getting 2/3 calls a day from a telemarketer. Is someone using your name?\\\n",
    "                \n",
    "                Product: Air Travel\n",
    "                Feeling: You are NOT grateful. You are NOT ranting. You are expressive.\\\n",
    "                Complaint: First flight for long time with @British_Airways. Now over one 1h delay for the short jump FRA-LCY and NO one here to provide status updates\\\n",
    "                \n",
    "                Product: Mobile Device\n",
    "                Feeling: You are NOT grateful. You are NOT ranting. You are expressive.\\\n",
    "                Complaint: You‚ have paralysed my phone with your update grrrrrrrrrr\\\n",
    "                \n",
    "                Product: Mobile Device\n",
    "                Feeling: You are NOT grateful. You are ranting. You are NOT expressive.\\\n",
    "                Complaint:  After the 11.0.2 my phone just sucks most of the apps are broken, wifi disconnects frequently #apple #ios1102 #painfulupdate! \\\n",
    "                \n",
    "                Product: Mobile Device\n",
    "                Feeling: You are NOT grateful. You are ranting. You are NOT expressive.\\\n",
    "                Complaint:  @AppleSupport #ios11update - is still killing my battery within 12 hours - phone is 10 months old - it's a disgrace - used to get 2 days \\\n",
    "                \n",
    "                Product: Air Travel\n",
    "                Feeling: You are NOT grateful. You are ranting. You are expressive.\\\n",
    "                Complaint:  I really hope you all change but I'm sure you won't! Because you don't have to! \\\n",
    "                \n",
    "                Product: Mobile Device\n",
    "                Feeling: You are NOT grateful. You are ranting. You are expressive.\\\n",
    "                Complaint:  I just updated my phone and suddenly everything takes ages to load wtf this update sux I hate it fix it bye \\\n",
    "                  \n",
    "                Product: Mobile Device\n",
    "                Feeling: You are NOT grateful. You are ranting. You are expressive.\\\n",
    "                Complaint:  Okay I used my fucking phone for 2 minutes and it drains it down 8 fucking percent \\\n",
    "                \n",
    "                Product: Mobile Device                                                     \n",
    "                Feeling: You are grateful. You are NOT ranting. You are NOT expressive.\\\n",
    "                Complaint: hi #apple, I‚ have a concern about the latest ios is too slow on #iphone6 and i am not happy with it. Any solution please? \\\n",
    "\n",
    "                Product: Mobile App\n",
    "                Feeling: You are grateful. You are NOT ranting. You are expressive.\\\n",
    "                Complaint: Please help! Spotify Premium skipping through songs constantly on android tablet  bluetooth speaker. Tried everything! \\\n",
    "                \n",
    "                Product: Convenience Store                \n",
    "                Feeling: You are NOT grateful. You are ranting. You are NOT expressive.\\\n",
    "                Complaint: Got id'd @Tesco for buying one Adnams Broadside. Is being blind part of the job-spec? I am 35 and 99 kilos. \\\n",
    "                \n",
    "                Product: {product}\n",
    "                Feeling: You are {is_grateful}. You are {is_ranting}. You are {is_expressive}.\\\n",
    "                Complaint:\n",
    "            \"\"\"\n",
    "    template = ChatPromptTemplate.from_messages(\n",
    "        [\n",
    "            (\"system\", prompt),\n",
    "        ]\n",
    "    )\n",
    "    chain = template | client_LC.client_prompt\n",
    "    return chain"
   ]
  },
  {
   "cell_type": "code",
   "execution_count": 11,
   "id": "377f282550cb03e",
   "metadata": {
    "collapsed": false,
    "ExecuteTime": {
     "end_time": "2024-04-19T18:48:26.020043Z",
     "start_time": "2024-04-19T18:48:25.914542Z"
    }
   },
   "outputs": [
    {
     "ename": "AttributeError",
     "evalue": "'mLangChain' object has no attribute 'client_prompt'",
     "output_type": "error",
     "traceback": [
      "\u001B[0;31m---------------------------------------------------------------------------\u001B[0m",
      "\u001B[0;31mAttributeError\u001B[0m                            Traceback (most recent call last)",
      "Cell \u001B[0;32mIn[11], line 8\u001B[0m\n\u001B[1;32m      1\u001B[0m user_input \u001B[38;5;241m=\u001B[39m {\n\u001B[1;32m      2\u001B[0m     \u001B[38;5;124m\"\u001B[39m\u001B[38;5;124mproduct\u001B[39m\u001B[38;5;124m\"\u001B[39m: \u001B[38;5;124m\"\u001B[39m\u001B[38;5;124mpizza\u001B[39m\u001B[38;5;124m\"\u001B[39m,\n\u001B[1;32m      3\u001B[0m     \u001B[38;5;124m\"\u001B[39m\u001B[38;5;124mis_grateful\u001B[39m\u001B[38;5;124m\"\u001B[39m: \u001B[38;5;124m\"\u001B[39m\u001B[38;5;124mNOT grateful\u001B[39m\u001B[38;5;124m\"\u001B[39m,\n\u001B[1;32m      4\u001B[0m     \u001B[38;5;124m\"\u001B[39m\u001B[38;5;124mis_ranting\u001B[39m\u001B[38;5;124m\"\u001B[39m: \u001B[38;5;124m\"\u001B[39m\u001B[38;5;124mranting\u001B[39m\u001B[38;5;124m\"\u001B[39m,\n\u001B[1;32m      5\u001B[0m     \u001B[38;5;124m\"\u001B[39m\u001B[38;5;124mis_expressive\u001B[39m\u001B[38;5;124m\"\u001B[39m: \u001B[38;5;124m\"\u001B[39m\u001B[38;5;124mexpressive\u001B[39m\u001B[38;5;124m\"\u001B[39m\n\u001B[1;32m      6\u001B[0m }\n\u001B[0;32m----> 8\u001B[0m response \u001B[38;5;241m=\u001B[39m \u001B[43magent_sender_zeroshot\u001B[49m\u001B[43m(\u001B[49m\u001B[43m)\u001B[49m\u001B[38;5;241m.\u001B[39minvoke(user_input)\n\u001B[1;32m      9\u001B[0m \u001B[38;5;28mprint\u001B[39m(\u001B[38;5;124m\"\u001B[39m\u001B[38;5;124mZERO-SHOT\u001B[39m\u001B[38;5;124m\"\u001B[39m, response)\n",
      "Cell \u001B[0;32mIn[8], line 17\u001B[0m, in \u001B[0;36magent_sender_zeroshot\u001B[0;34m()\u001B[0m\n\u001B[1;32m      3\u001B[0m prompt \u001B[38;5;241m=\u001B[39m \u001B[38;5;124m\"\"\"\u001B[39m\u001B[38;5;124mYour role is to act like a customer seeking support for \u001B[39m\u001B[38;5;132;01m{product}\u001B[39;00m\u001B[38;5;124m. \u001B[39m\u001B[38;5;130;01m\\\u001B[39;00m\n\u001B[1;32m      4\u001B[0m \u001B[38;5;124m            You are messaging a service representative via the support chat.\u001B[39m\u001B[38;5;130;01m\\\u001B[39;00m\n\u001B[1;32m      5\u001B[0m \u001B[38;5;124m            You ONLY play the role of the customer. Do NOT play the role of the representative. \u001B[39m\u001B[38;5;130;01m\\\u001B[39;00m\n\u001B[0;32m   (...)\u001B[0m\n\u001B[1;32m     10\u001B[0m \u001B[38;5;124m            Complaint:\u001B[39m\n\u001B[1;32m     11\u001B[0m \u001B[38;5;124m        \u001B[39m\u001B[38;5;124m\"\"\"\u001B[39m\n\u001B[1;32m     12\u001B[0m template \u001B[38;5;241m=\u001B[39m ChatPromptTemplate\u001B[38;5;241m.\u001B[39mfrom_messages(\n\u001B[1;32m     13\u001B[0m     [\n\u001B[1;32m     14\u001B[0m         (\u001B[38;5;124m\"\u001B[39m\u001B[38;5;124msystem\u001B[39m\u001B[38;5;124m\"\u001B[39m, prompt),\n\u001B[1;32m     15\u001B[0m     ]\n\u001B[1;32m     16\u001B[0m )\n\u001B[0;32m---> 17\u001B[0m chain \u001B[38;5;241m=\u001B[39m template \u001B[38;5;241m|\u001B[39m \u001B[43mclient_LC\u001B[49m\u001B[38;5;241;43m.\u001B[39;49m\u001B[43mclient_prompt\u001B[49m\n\u001B[1;32m     18\u001B[0m \u001B[38;5;28;01mreturn\u001B[39;00m chain\n",
      "\u001B[0;31mAttributeError\u001B[0m: 'mLangChain' object has no attribute 'client_prompt'"
     ]
    }
   ],
   "source": [
    "user_input = {\n",
    "    \"product\": \"pizza\",\n",
    "    \"is_grateful\": \"NOT grateful\",\n",
    "    \"is_ranting\": \"ranting\",\n",
    "    \"is_expressive\": \"expressive\"\n",
    "}\n",
    "\n",
    "response = agent_sender_zeroshot().invoke(user_input)\n",
    "print(\"ZERO-SHOT\", response)"
   ]
  },
  {
   "cell_type": "code",
   "execution_count": 12,
   "id": "31306beb9c8de2ee",
   "metadata": {
    "collapsed": false,
    "ExecuteTime": {
     "end_time": "2024-04-19T18:48:28.630171Z",
     "start_time": "2024-04-19T18:48:28.541320Z"
    }
   },
   "outputs": [
    {
     "ename": "AttributeError",
     "evalue": "'mLangChain' object has no attribute 'client_prompt'",
     "output_type": "error",
     "traceback": [
      "\u001B[0;31m---------------------------------------------------------------------------\u001B[0m",
      "\u001B[0;31mAttributeError\u001B[0m                            Traceback (most recent call last)",
      "Cell \u001B[0;32mIn[12], line 1\u001B[0m\n\u001B[0;32m----> 1\u001B[0m response \u001B[38;5;241m=\u001B[39m \u001B[43magent_sender_fewshot_rcis\u001B[49m\u001B[43m(\u001B[49m\u001B[43m)\u001B[49m\u001B[38;5;241m.\u001B[39minvoke(user_input)\n\u001B[1;32m      2\u001B[0m \u001B[38;5;28mprint\u001B[39m(\u001B[38;5;124m\"\u001B[39m\u001B[38;5;124mFEW-SHOT RCIS\u001B[39m\u001B[38;5;124m\"\u001B[39m, response)\n",
      "Cell \u001B[0;32mIn[9], line 38\u001B[0m, in \u001B[0;36magent_sender_fewshot_rcis\u001B[0;34m()\u001B[0m\n\u001B[1;32m      3\u001B[0m prompt \u001B[38;5;241m=\u001B[39m \u001B[38;5;124m\"\"\"\u001B[39m\u001B[38;5;124mYour role is to act like a customer seeking support for \u001B[39m\u001B[38;5;132;01m{product}\u001B[39;00m\u001B[38;5;124m. \u001B[39m\u001B[38;5;130;01m\\\u001B[39;00m\n\u001B[1;32m      4\u001B[0m \u001B[38;5;124m            You are messaging a service representative via the support chat.\u001B[39m\u001B[38;5;130;01m\\\u001B[39;00m\n\u001B[1;32m      5\u001B[0m \u001B[38;5;124m            You ONLY play the role of the customer. Do NOT play the role of the representative. \u001B[39m\u001B[38;5;130;01m\\\u001B[39;00m\n\u001B[0;32m   (...)\u001B[0m\n\u001B[1;32m     31\u001B[0m \u001B[38;5;124m            Complaint:\u001B[39m\n\u001B[1;32m     32\u001B[0m \u001B[38;5;124m        \u001B[39m\u001B[38;5;124m\"\"\"\u001B[39m\n\u001B[1;32m     33\u001B[0m template \u001B[38;5;241m=\u001B[39m ChatPromptTemplate\u001B[38;5;241m.\u001B[39mfrom_messages(\n\u001B[1;32m     34\u001B[0m     [\n\u001B[1;32m     35\u001B[0m         (\u001B[38;5;124m\"\u001B[39m\u001B[38;5;124msystem\u001B[39m\u001B[38;5;124m\"\u001B[39m, prompt),\n\u001B[1;32m     36\u001B[0m     ]\n\u001B[1;32m     37\u001B[0m )\n\u001B[0;32m---> 38\u001B[0m chain \u001B[38;5;241m=\u001B[39m template \u001B[38;5;241m|\u001B[39m \u001B[43mclient_LC\u001B[49m\u001B[38;5;241;43m.\u001B[39;49m\u001B[43mclient_prompt\u001B[49m\n\u001B[1;32m     39\u001B[0m \u001B[38;5;28;01mreturn\u001B[39;00m chain\n",
      "\u001B[0;31mAttributeError\u001B[0m: 'mLangChain' object has no attribute 'client_prompt'"
     ]
    }
   ],
   "source": [
    "response = agent_sender_fewshot_rcis().invoke(user_input)\n",
    "print(\"FEW-SHOT RCIS\", response)"
   ]
  },
  {
   "cell_type": "code",
   "execution_count": 41,
   "id": "e89ae22bf49f134a",
   "metadata": {
    "ExecuteTime": {
     "end_time": "2024-02-29T15:19:32.292820Z",
     "start_time": "2024-02-29T15:19:31.712991Z"
    },
    "collapsed": false
   },
   "outputs": [
    {
     "ename": "AttributeError",
     "evalue": "'mLangChain' object has no attribute 'client_prompt'",
     "output_type": "error",
     "traceback": [
      "\u001B[0;31m---------------------------------------------------------------------------\u001B[0m",
      "\u001B[0;31mAttributeError\u001B[0m                            Traceback (most recent call last)",
      "Cell \u001B[0;32mIn[41], line 1\u001B[0m\n\u001B[0;32m----> 1\u001B[0m response \u001B[38;5;241m=\u001B[39m \u001B[43magent_sender_fewshot_twitter\u001B[49m\u001B[43m(\u001B[49m\u001B[43m)\u001B[49m\u001B[38;5;241m.\u001B[39minvoke(user_input)\n\u001B[1;32m      2\u001B[0m \u001B[38;5;28mprint\u001B[39m(\u001B[38;5;124m\"\u001B[39m\u001B[38;5;124mFEW-SHOT TWITTER\u001B[39m\u001B[38;5;124m\"\u001B[39m, response)\n",
      "Cell \u001B[0;32mIn[38], line 62\u001B[0m, in \u001B[0;36magent_sender_fewshot_twitter\u001B[0;34m()\u001B[0m\n\u001B[1;32m      3\u001B[0m prompt \u001B[38;5;241m=\u001B[39m \u001B[38;5;124m\"\"\"\u001B[39m\u001B[38;5;124mYour role is to act like a customer seeking support. \u001B[39m\u001B[38;5;130;01m\\\u001B[39;00m\n\u001B[1;32m      4\u001B[0m \u001B[38;5;124m            You are messaging a service representative via the support chat.\u001B[39m\u001B[38;5;130;01m\\\u001B[39;00m\n\u001B[1;32m      5\u001B[0m \u001B[38;5;124m            You ONLY play the role of the customer. Do NOT play the role of the representative. \u001B[39m\u001B[38;5;130;01m\\\u001B[39;00m\n\u001B[0;32m   (...)\u001B[0m\n\u001B[1;32m     55\u001B[0m \u001B[38;5;124m            Complaint:\u001B[39m\n\u001B[1;32m     56\u001B[0m \u001B[38;5;124m        \u001B[39m\u001B[38;5;124m\"\"\"\u001B[39m\n\u001B[1;32m     57\u001B[0m template \u001B[38;5;241m=\u001B[39m ChatPromptTemplate\u001B[38;5;241m.\u001B[39mfrom_messages(\n\u001B[1;32m     58\u001B[0m     [\n\u001B[1;32m     59\u001B[0m         (\u001B[38;5;124m\"\u001B[39m\u001B[38;5;124msystem\u001B[39m\u001B[38;5;124m\"\u001B[39m, prompt),\n\u001B[1;32m     60\u001B[0m     ]\n\u001B[1;32m     61\u001B[0m )\n\u001B[0;32m---> 62\u001B[0m chain \u001B[38;5;241m=\u001B[39m template \u001B[38;5;241m|\u001B[39m \u001B[43mclient_LC\u001B[49m\u001B[38;5;241;43m.\u001B[39;49m\u001B[43mclient_prompt\u001B[49m\n\u001B[1;32m     63\u001B[0m \u001B[38;5;28;01mreturn\u001B[39;00m chain\n",
      "\u001B[0;31mAttributeError\u001B[0m: 'mLangChain' object has no attribute 'client_prompt'"
     ]
    }
   ],
   "source": [
    "response = agent_sender_fewshot_twitter().invoke(user_input)\n",
    "print(\"FEW-SHOT TWITTER\", response)"
   ]
  },
  {
   "cell_type": "code",
   "execution_count": 8,
   "id": "269dc4b0c05802be",
   "metadata": {
    "ExecuteTime": {
     "end_time": "2024-02-25T23:55:06.597107Z",
     "start_time": "2024-02-25T23:54:24.189834Z"
    },
    "collapsed": false
   },
   "outputs": [
    {
     "name": "stdout",
     "output_type": "stream",
     "text": [
      "{'product': 'game console', 'is_grateful': 'NOT grateful', 'is_ranting': 'NOT ranting', 'is_expressive': 'NOT expressive'}\n"
     ]
    },
    {
     "ename": "AttributeError",
     "evalue": "'mLangChain' object has no attribute 'client_prompt'",
     "output_type": "error",
     "traceback": [
      "\u001B[0;31m---------------------------------------------------------------------------\u001B[0m",
      "\u001B[0;31mAttributeError\u001B[0m                            Traceback (most recent call last)",
      "Cell \u001B[0;32mIn[8], line 18\u001B[0m\n\u001B[1;32m     10\u001B[0m user_input \u001B[38;5;241m=\u001B[39m {\n\u001B[1;32m     11\u001B[0m     \u001B[38;5;124m\"\u001B[39m\u001B[38;5;124mproduct\u001B[39m\u001B[38;5;124m\"\u001B[39m: r[\u001B[38;5;241m0\u001B[39m],\n\u001B[1;32m     12\u001B[0m     \u001B[38;5;124m\"\u001B[39m\u001B[38;5;124mis_grateful\u001B[39m\u001B[38;5;124m\"\u001B[39m: r[\u001B[38;5;241m1\u001B[39m],\n\u001B[1;32m     13\u001B[0m     \u001B[38;5;124m\"\u001B[39m\u001B[38;5;124mis_ranting\u001B[39m\u001B[38;5;124m\"\u001B[39m: r[\u001B[38;5;241m2\u001B[39m],\n\u001B[1;32m     14\u001B[0m     \u001B[38;5;124m\"\u001B[39m\u001B[38;5;124mis_expressive\u001B[39m\u001B[38;5;124m\"\u001B[39m: r[\u001B[38;5;241m3\u001B[39m]\n\u001B[1;32m     15\u001B[0m }\n\u001B[1;32m     16\u001B[0m \u001B[38;5;28mprint\u001B[39m(user_input)\n\u001B[0;32m---> 18\u001B[0m response \u001B[38;5;241m=\u001B[39m \u001B[43magent_sender_zeroshot\u001B[49m\u001B[43m(\u001B[49m\u001B[43m)\u001B[49m\u001B[38;5;241m.\u001B[39minvoke(user_input)\n\u001B[1;32m     19\u001B[0m \u001B[38;5;66;03m# print(\"\\nZERO-SHOT:\", response)\u001B[39;00m\n\u001B[1;32m     20\u001B[0m user_input[\u001B[38;5;124m'\u001B[39m\u001B[38;5;124mshot_zero\u001B[39m\u001B[38;5;124m'\u001B[39m] \u001B[38;5;241m=\u001B[39m response\n",
      "Cell \u001B[0;32mIn[5], line 17\u001B[0m, in \u001B[0;36magent_sender_zeroshot\u001B[0;34m()\u001B[0m\n\u001B[1;32m      3\u001B[0m prompt \u001B[38;5;241m=\u001B[39m \u001B[38;5;124m\"\"\"\u001B[39m\u001B[38;5;124mYour role is to act like a customer seeking support for \u001B[39m\u001B[38;5;132;01m{product}\u001B[39;00m\u001B[38;5;124m. \u001B[39m\u001B[38;5;130;01m\\\u001B[39;00m\n\u001B[1;32m      4\u001B[0m \u001B[38;5;124m            You are messaging a service representative via the support chat.\u001B[39m\u001B[38;5;130;01m\\\u001B[39;00m\n\u001B[1;32m      5\u001B[0m \u001B[38;5;124m            You ONLY play the role of the customer. Do NOT play the role of the representative. \u001B[39m\u001B[38;5;130;01m\\\u001B[39;00m\n\u001B[0;32m   (...)\u001B[0m\n\u001B[1;32m     10\u001B[0m \u001B[38;5;124m            Complaint:\u001B[39m\n\u001B[1;32m     11\u001B[0m \u001B[38;5;124m        \u001B[39m\u001B[38;5;124m\"\"\"\u001B[39m\n\u001B[1;32m     12\u001B[0m template \u001B[38;5;241m=\u001B[39m ChatPromptTemplate\u001B[38;5;241m.\u001B[39mfrom_messages(\n\u001B[1;32m     13\u001B[0m     [\n\u001B[1;32m     14\u001B[0m         (\u001B[38;5;124m\"\u001B[39m\u001B[38;5;124msystem\u001B[39m\u001B[38;5;124m\"\u001B[39m, prompt),\n\u001B[1;32m     15\u001B[0m     ]\n\u001B[1;32m     16\u001B[0m )\n\u001B[0;32m---> 17\u001B[0m chain \u001B[38;5;241m=\u001B[39m template \u001B[38;5;241m|\u001B[39m \u001B[43mclient_LC\u001B[49m\u001B[38;5;241;43m.\u001B[39;49m\u001B[43mclient_prompt\u001B[49m\n\u001B[1;32m     18\u001B[0m \u001B[38;5;28;01mreturn\u001B[39;00m chain\n",
      "\u001B[0;31mAttributeError\u001B[0m: 'mLangChain' object has no attribute 'client_prompt'"
     ]
    }
   ],
   "source": [
    "input_product = [\"game console\", \"airline ticket\"]\n",
    "input_grateful = [\"NOT grateful\", \"grateful\"]\n",
    "input_ranting = [\"NOT ranting\", \"ranting\"]\n",
    "input_expressive = [\"NOT expressive\", \"expressive\"]\n",
    "\n",
    "data_out = []\n",
    "\n",
    "for r in itertools.product(input_product, input_grateful, input_ranting, input_expressive):\n",
    "    \n",
    "    user_input = {\n",
    "        \"product\": r[0],\n",
    "        \"is_grateful\": r[1],\n",
    "        \"is_ranting\": r[2],\n",
    "        \"is_expressive\": r[3]\n",
    "    }\n",
    "    print(user_input)\n",
    "    \n",
    "    response = agent_sender_zeroshot().invoke(user_input)\n",
    "    # print(\"\\nZERO-SHOT:\", response)\n",
    "    user_input['shot_zero'] = response\n",
    "    \n",
    "    response = agent_sender_fewshot_rcis().invoke(user_input)\n",
    "#     print(\"\\nFEW-SHOT RCIS:\", response)\n",
    "    user_input['shot_few_rcis'] = response\n",
    "    \n",
    "    response = agent_sender_fewshot_twitter().invoke(user_input)\n",
    "#     print(\"\\nFEW-SHOT TWITTER:\", response)\n",
    "    user_input['shot_few_twitter'] = response\n",
    "    \n",
    "    data_out.append(user_input)\n",
    "    \n",
    "#     print(\"\\n---\\n\")\n",
    "\n",
    "pd.DataFrame(data_out).to_csv(\"results/test_sender_agent.csv\")"
   ]
  },
  {
   "cell_type": "code",
   "execution_count": 49,
   "id": "63ffe3d97ebea74f",
   "metadata": {
    "ExecuteTime": {
     "end_time": "2024-02-25T23:59:22.365423Z",
     "start_time": "2024-02-25T23:59:22.356020Z"
    },
    "collapsed": false
   },
   "outputs": [],
   "source": []
  },
  {
   "cell_type": "markdown",
   "id": "97a585748b3d0616",
   "metadata": {
    "collapsed": false
   },
   "source": [
    "## II. Subsequent Chat"
   ]
  },
  {
   "cell_type": "code",
   "execution_count": 6,
   "id": "208f1dc36a98815",
   "metadata": {
    "collapsed": false,
    "ExecuteTime": {
     "end_time": "2024-04-19T18:48:10.315856Z",
     "start_time": "2024-04-19T18:48:10.249607Z"
    }
   },
   "outputs": [
    {
     "ename": "OpenAIError",
     "evalue": "Missing credentials. Please pass one of `api_key`, `azure_ad_token`, `azure_ad_token_provider`, or the `AZURE_OPENAI_API_KEY` or `AZURE_OPENAI_AD_TOKEN` environment variables.",
     "output_type": "error",
     "traceback": [
      "\u001B[0;31m---------------------------------------------------------------------------\u001B[0m",
      "\u001B[0;31mOpenAIError\u001B[0m                               Traceback (most recent call last)",
      "Cell \u001B[0;32mIn[6], line 8\u001B[0m\n\u001B[1;32m      5\u001B[0m \u001B[38;5;28;01mfrom\u001B[39;00m \u001B[38;5;21;01mlangchain_text_splitters\u001B[39;00m \u001B[38;5;28;01mimport\u001B[39;00m RecursiveCharacterTextSplitter\n\u001B[1;32m      6\u001B[0m \u001B[38;5;28;01mfrom\u001B[39;00m \u001B[38;5;21;01mlangchain_community\u001B[39;00m\u001B[38;5;21;01m.\u001B[39;00m\u001B[38;5;21;01mvectorstores\u001B[39;00m \u001B[38;5;28;01mimport\u001B[39;00m FAISS\n\u001B[0;32m----> 8\u001B[0m llmchat \u001B[38;5;241m=\u001B[39m \u001B[43mlcai\u001B[49m\u001B[38;5;241;43m.\u001B[39;49m\u001B[43mAzureChatOpenAI\u001B[49m\u001B[43m(\u001B[49m\n\u001B[1;32m      9\u001B[0m \u001B[43m    \u001B[49m\u001B[43mopenai_api_key\u001B[49m\u001B[38;5;241;43m=\u001B[39;49m\u001B[43mos\u001B[49m\u001B[38;5;241;43m.\u001B[39;49m\u001B[43mgetenv\u001B[49m\u001B[43m(\u001B[49m\u001B[38;5;124;43m\"\u001B[39;49m\u001B[38;5;124;43mAZURE_OPENAI_KEY\u001B[39;49m\u001B[38;5;124;43m\"\u001B[39;49m\u001B[43m)\u001B[49m\u001B[43m,\u001B[49m\n\u001B[1;32m     10\u001B[0m \u001B[43m    \u001B[49m\u001B[43mazure_endpoint\u001B[49m\u001B[38;5;241;43m=\u001B[39;49m\u001B[43mos\u001B[49m\u001B[38;5;241;43m.\u001B[39;49m\u001B[43mgetenv\u001B[49m\u001B[43m(\u001B[49m\u001B[38;5;124;43m\"\u001B[39;49m\u001B[38;5;124;43mAZURE_OPENAI_ENDPOINT\u001B[39;49m\u001B[38;5;124;43m\"\u001B[39;49m\u001B[43m)\u001B[49m\u001B[43m,\u001B[49m\n\u001B[1;32m     11\u001B[0m \u001B[43m    \u001B[49m\u001B[43mazure_deployment\u001B[49m\u001B[38;5;241;43m=\u001B[39;49m\u001B[38;5;124;43m\"\u001B[39;49m\u001B[38;5;124;43mNUHAI-GPT4\u001B[39;49m\u001B[38;5;124;43m\"\u001B[39;49m\u001B[43m,\u001B[49m\n\u001B[1;32m     12\u001B[0m \u001B[43m    \u001B[49m\u001B[43mopenai_api_version\u001B[49m\u001B[38;5;241;43m=\u001B[39;49m\u001B[38;5;124;43m\"\u001B[39;49m\u001B[38;5;124;43m2024-02-15-preview\u001B[39;49m\u001B[38;5;124;43m\"\u001B[39;49m\u001B[43m,\u001B[49m\n\u001B[1;32m     13\u001B[0m \u001B[43m    \u001B[49m\u001B[43mmodel_name\u001B[49m\u001B[38;5;241;43m=\u001B[39;49m\u001B[38;5;124;43m\"\u001B[39;49m\u001B[38;5;124;43mgpt-4\u001B[39;49m\u001B[38;5;124;43m\"\u001B[39;49m\u001B[43m,\u001B[49m\n\u001B[1;32m     14\u001B[0m \u001B[43m)\u001B[49m\n\u001B[1;32m     16\u001B[0m embeddings \u001B[38;5;241m=\u001B[39m lcai\u001B[38;5;241m.\u001B[39mAzureOpenAIEmbeddings(\n\u001B[1;32m     17\u001B[0m     openai_api_key\u001B[38;5;241m=\u001B[39mos\u001B[38;5;241m.\u001B[39mgetenv(\u001B[38;5;124m\"\u001B[39m\u001B[38;5;124mAZURE_OPENAI_KEY\u001B[39m\u001B[38;5;124m\"\u001B[39m),\n\u001B[1;32m     18\u001B[0m     openai_api_version\u001B[38;5;241m=\u001B[39m\u001B[38;5;124m\"\u001B[39m\u001B[38;5;124m2024-02-15-preview\u001B[39m\u001B[38;5;124m\"\u001B[39m,\n\u001B[1;32m     19\u001B[0m     azure_endpoint\u001B[38;5;241m=\u001B[39mos\u001B[38;5;241m.\u001B[39mgetenv(\u001B[38;5;124m\"\u001B[39m\u001B[38;5;124mAZURE_OPENAI_ENDPOINT\u001B[39m\u001B[38;5;124m\"\u001B[39m),\n\u001B[1;32m     20\u001B[0m     deployment\u001B[38;5;241m=\u001B[39m\u001B[38;5;124m\"\u001B[39m\u001B[38;5;124mTEST-Embedding\u001B[39m\u001B[38;5;124m\"\u001B[39m,\n\u001B[1;32m     21\u001B[0m )\n",
      "File \u001B[0;32m~/Documents/PostDoc/Projects/empathetic_llm/propilot.nosync/venv311/lib/python3.11/site-packages/langchain_core/load/serializable.py:120\u001B[0m, in \u001B[0;36mSerializable.__init__\u001B[0;34m(self, **kwargs)\u001B[0m\n\u001B[1;32m    119\u001B[0m \u001B[38;5;28;01mdef\u001B[39;00m \u001B[38;5;21m__init__\u001B[39m(\u001B[38;5;28mself\u001B[39m, \u001B[38;5;241m*\u001B[39m\u001B[38;5;241m*\u001B[39mkwargs: Any) \u001B[38;5;241m-\u001B[39m\u001B[38;5;241m>\u001B[39m \u001B[38;5;28;01mNone\u001B[39;00m:\n\u001B[0;32m--> 120\u001B[0m     \u001B[38;5;28;43msuper\u001B[39;49m\u001B[43m(\u001B[49m\u001B[43m)\u001B[49m\u001B[38;5;241;43m.\u001B[39;49m\u001B[38;5;21;43m__init__\u001B[39;49m\u001B[43m(\u001B[49m\u001B[38;5;241;43m*\u001B[39;49m\u001B[38;5;241;43m*\u001B[39;49m\u001B[43mkwargs\u001B[49m\u001B[43m)\u001B[49m\n\u001B[1;32m    121\u001B[0m     \u001B[38;5;28mself\u001B[39m\u001B[38;5;241m.\u001B[39m_lc_kwargs \u001B[38;5;241m=\u001B[39m kwargs\n",
      "File \u001B[0;32m~/Documents/PostDoc/Projects/empathetic_llm/propilot.nosync/venv311/lib/python3.11/site-packages/pydantic/v1/main.py:339\u001B[0m, in \u001B[0;36mBaseModel.__init__\u001B[0;34m(__pydantic_self__, **data)\u001B[0m\n\u001B[1;32m    333\u001B[0m \u001B[38;5;250m\u001B[39m\u001B[38;5;124;03m\"\"\"\u001B[39;00m\n\u001B[1;32m    334\u001B[0m \u001B[38;5;124;03mCreate a new model by parsing and validating input data from keyword arguments.\u001B[39;00m\n\u001B[1;32m    335\u001B[0m \n\u001B[1;32m    336\u001B[0m \u001B[38;5;124;03mRaises ValidationError if the input data cannot be parsed to form a valid model.\u001B[39;00m\n\u001B[1;32m    337\u001B[0m \u001B[38;5;124;03m\"\"\"\u001B[39;00m\n\u001B[1;32m    338\u001B[0m \u001B[38;5;66;03m# Uses something other than `self` the first arg to allow \"self\" as a settable attribute\u001B[39;00m\n\u001B[0;32m--> 339\u001B[0m values, fields_set, validation_error \u001B[38;5;241m=\u001B[39m \u001B[43mvalidate_model\u001B[49m\u001B[43m(\u001B[49m\u001B[43m__pydantic_self__\u001B[49m\u001B[38;5;241;43m.\u001B[39;49m\u001B[38;5;18;43m__class__\u001B[39;49m\u001B[43m,\u001B[49m\u001B[43m \u001B[49m\u001B[43mdata\u001B[49m\u001B[43m)\u001B[49m\n\u001B[1;32m    340\u001B[0m \u001B[38;5;28;01mif\u001B[39;00m validation_error:\n\u001B[1;32m    341\u001B[0m     \u001B[38;5;28;01mraise\u001B[39;00m validation_error\n",
      "File \u001B[0;32m~/Documents/PostDoc/Projects/empathetic_llm/propilot.nosync/venv311/lib/python3.11/site-packages/pydantic/v1/main.py:1100\u001B[0m, in \u001B[0;36mvalidate_model\u001B[0;34m(model, input_data, cls)\u001B[0m\n\u001B[1;32m   1098\u001B[0m     \u001B[38;5;28;01mcontinue\u001B[39;00m\n\u001B[1;32m   1099\u001B[0m \u001B[38;5;28;01mtry\u001B[39;00m:\n\u001B[0;32m-> 1100\u001B[0m     values \u001B[38;5;241m=\u001B[39m \u001B[43mvalidator\u001B[49m\u001B[43m(\u001B[49m\u001B[43mcls_\u001B[49m\u001B[43m,\u001B[49m\u001B[43m \u001B[49m\u001B[43mvalues\u001B[49m\u001B[43m)\u001B[49m\n\u001B[1;32m   1101\u001B[0m \u001B[38;5;28;01mexcept\u001B[39;00m (\u001B[38;5;167;01mValueError\u001B[39;00m, \u001B[38;5;167;01mTypeError\u001B[39;00m, \u001B[38;5;167;01mAssertionError\u001B[39;00m) \u001B[38;5;28;01mas\u001B[39;00m exc:\n\u001B[1;32m   1102\u001B[0m     errors\u001B[38;5;241m.\u001B[39mappend(ErrorWrapper(exc, loc\u001B[38;5;241m=\u001B[39mROOT_KEY))\n",
      "File \u001B[0;32m~/Documents/PostDoc/Projects/empathetic_llm/propilot.nosync/venv311/lib/python3.11/site-packages/langchain_openai/chat_models/azure.py:190\u001B[0m, in \u001B[0;36mAzureChatOpenAI.validate_environment\u001B[0;34m(cls, values)\u001B[0m\n\u001B[1;32m    159\u001B[0m         \u001B[38;5;28;01mraise\u001B[39;00m \u001B[38;5;167;01mValueError\u001B[39;00m(\n\u001B[1;32m    160\u001B[0m             \u001B[38;5;124m\"\u001B[39m\u001B[38;5;124mAs of openai>=1.0.0, if `azure_deployment` (or alias \u001B[39m\u001B[38;5;124m\"\u001B[39m\n\u001B[1;32m    161\u001B[0m             \u001B[38;5;124m\"\u001B[39m\u001B[38;5;124m`deployment_name`) is specified then \u001B[39m\u001B[38;5;124m\"\u001B[39m\n\u001B[0;32m   (...)\u001B[0m\n\u001B[1;32m    169\u001B[0m             \u001B[38;5;124m'\u001B[39m\u001B[38;5;124mbase_url=\u001B[39m\u001B[38;5;124m\"\u001B[39m\u001B[38;5;124mhttps://xxx.openai.azure.com/openai/deployments/my-deployment\u001B[39m\u001B[38;5;124m\"\u001B[39m\u001B[38;5;124m'\u001B[39m  \u001B[38;5;66;03m# noqa: E501\u001B[39;00m\n\u001B[1;32m    170\u001B[0m         )\n\u001B[1;32m    171\u001B[0m client_params \u001B[38;5;241m=\u001B[39m {\n\u001B[1;32m    172\u001B[0m     \u001B[38;5;124m\"\u001B[39m\u001B[38;5;124mapi_version\u001B[39m\u001B[38;5;124m\"\u001B[39m: values[\u001B[38;5;124m\"\u001B[39m\u001B[38;5;124mopenai_api_version\u001B[39m\u001B[38;5;124m\"\u001B[39m],\n\u001B[1;32m    173\u001B[0m     \u001B[38;5;124m\"\u001B[39m\u001B[38;5;124mazure_endpoint\u001B[39m\u001B[38;5;124m\"\u001B[39m: values[\u001B[38;5;124m\"\u001B[39m\u001B[38;5;124mazure_endpoint\u001B[39m\u001B[38;5;124m\"\u001B[39m],\n\u001B[0;32m   (...)\u001B[0m\n\u001B[1;32m    188\u001B[0m     \u001B[38;5;124m\"\u001B[39m\u001B[38;5;124mhttp_client\u001B[39m\u001B[38;5;124m\"\u001B[39m: values[\u001B[38;5;124m\"\u001B[39m\u001B[38;5;124mhttp_client\u001B[39m\u001B[38;5;124m\"\u001B[39m],\n\u001B[1;32m    189\u001B[0m }\n\u001B[0;32m--> 190\u001B[0m values[\u001B[38;5;124m\"\u001B[39m\u001B[38;5;124mclient\u001B[39m\u001B[38;5;124m\"\u001B[39m] \u001B[38;5;241m=\u001B[39m \u001B[43mopenai\u001B[49m\u001B[38;5;241;43m.\u001B[39;49m\u001B[43mAzureOpenAI\u001B[49m\u001B[43m(\u001B[49m\u001B[38;5;241;43m*\u001B[39;49m\u001B[38;5;241;43m*\u001B[39;49m\u001B[43mclient_params\u001B[49m\u001B[43m)\u001B[49m\u001B[38;5;241m.\u001B[39mchat\u001B[38;5;241m.\u001B[39mcompletions\n\u001B[1;32m    191\u001B[0m values[\u001B[38;5;124m\"\u001B[39m\u001B[38;5;124masync_client\u001B[39m\u001B[38;5;124m\"\u001B[39m] \u001B[38;5;241m=\u001B[39m openai\u001B[38;5;241m.\u001B[39mAsyncAzureOpenAI(\n\u001B[1;32m    192\u001B[0m     \u001B[38;5;241m*\u001B[39m\u001B[38;5;241m*\u001B[39mclient_params\n\u001B[1;32m    193\u001B[0m )\u001B[38;5;241m.\u001B[39mchat\u001B[38;5;241m.\u001B[39mcompletions\n\u001B[1;32m    194\u001B[0m \u001B[38;5;28;01mreturn\u001B[39;00m values\n",
      "File \u001B[0;32m~/Documents/PostDoc/Projects/empathetic_llm/propilot.nosync/venv311/lib/python3.11/site-packages/openai/lib/azure.py:167\u001B[0m, in \u001B[0;36mAzureOpenAI.__init__\u001B[0;34m(self, api_version, azure_endpoint, azure_deployment, api_key, azure_ad_token, azure_ad_token_provider, organization, base_url, timeout, max_retries, default_headers, default_query, http_client, _strict_response_validation)\u001B[0m\n\u001B[1;32m    164\u001B[0m     azure_ad_token \u001B[38;5;241m=\u001B[39m os\u001B[38;5;241m.\u001B[39menviron\u001B[38;5;241m.\u001B[39mget(\u001B[38;5;124m\"\u001B[39m\u001B[38;5;124mAZURE_OPENAI_AD_TOKEN\u001B[39m\u001B[38;5;124m\"\u001B[39m)\n\u001B[1;32m    166\u001B[0m \u001B[38;5;28;01mif\u001B[39;00m api_key \u001B[38;5;129;01mis\u001B[39;00m \u001B[38;5;28;01mNone\u001B[39;00m \u001B[38;5;129;01mand\u001B[39;00m azure_ad_token \u001B[38;5;129;01mis\u001B[39;00m \u001B[38;5;28;01mNone\u001B[39;00m \u001B[38;5;129;01mand\u001B[39;00m azure_ad_token_provider \u001B[38;5;129;01mis\u001B[39;00m \u001B[38;5;28;01mNone\u001B[39;00m:\n\u001B[0;32m--> 167\u001B[0m     \u001B[38;5;28;01mraise\u001B[39;00m OpenAIError(\n\u001B[1;32m    168\u001B[0m         \u001B[38;5;124m\"\u001B[39m\u001B[38;5;124mMissing credentials. Please pass one of `api_key`, `azure_ad_token`, `azure_ad_token_provider`, or the `AZURE_OPENAI_API_KEY` or `AZURE_OPENAI_AD_TOKEN` environment variables.\u001B[39m\u001B[38;5;124m\"\u001B[39m\n\u001B[1;32m    169\u001B[0m     )\n\u001B[1;32m    171\u001B[0m \u001B[38;5;28;01mif\u001B[39;00m api_version \u001B[38;5;129;01mis\u001B[39;00m \u001B[38;5;28;01mNone\u001B[39;00m:\n\u001B[1;32m    172\u001B[0m     api_version \u001B[38;5;241m=\u001B[39m os\u001B[38;5;241m.\u001B[39menviron\u001B[38;5;241m.\u001B[39mget(\u001B[38;5;124m\"\u001B[39m\u001B[38;5;124mOPENAI_API_VERSION\u001B[39m\u001B[38;5;124m\"\u001B[39m)\n",
      "\u001B[0;31mOpenAIError\u001B[0m: Missing credentials. Please pass one of `api_key`, `azure_ad_token`, `azure_ad_token_provider`, or the `AZURE_OPENAI_API_KEY` or `AZURE_OPENAI_AD_TOKEN` environment variables."
     ]
    }
   ],
   "source": [
    "from langchain import hub\n",
    "from langchain_community.document_loaders import WebBaseLoader\n",
    "from langchain_core.output_parsers import StrOutputParser\n",
    "from langchain_core.runnables import RunnablePassthrough\n",
    "from langchain_text_splitters import RecursiveCharacterTextSplitter\n",
    "from langchain_community.vectorstores import FAISS\n",
    "\n",
    "llmchat = lcai.AzureChatOpenAI(\n",
    "    openai_api_key=os.getenv(\"AZURE_OPENAI_KEY\"),\n",
    "    azure_endpoint=os.getenv(\"AZURE_OPENAI_ENDPOINT\"),\n",
    "    azure_deployment=\"NUHAI-GPT4\",\n",
    "    openai_api_version=\"2024-02-15-preview\",\n",
    "    model_name=\"gpt-4\",\n",
    ")\n",
    "\n",
    "embeddings = lcai.AzureOpenAIEmbeddings(\n",
    "    openai_api_key=os.getenv(\"AZURE_OPENAI_KEY\"),\n",
    "    openai_api_version=\"2024-02-15-preview\",\n",
    "    azure_endpoint=os.getenv(\"AZURE_OPENAI_ENDPOINT\"),\n",
    "    deployment=\"TEST-Embedding\",\n",
    ")"
   ]
  },
  {
   "cell_type": "markdown",
   "id": "3e7ce7f088e30d73",
   "metadata": {
    "collapsed": false
   },
   "source": [
    "### a. History + RAG"
   ]
  },
  {
   "cell_type": "code",
   "execution_count": 9,
   "id": "439f0f453ac50f06",
   "metadata": {
    "ExecuteTime": {
     "end_time": "2024-03-08T04:05:40.267480Z",
     "start_time": "2024-03-08T04:05:37.175341Z"
    },
    "collapsed": false
   },
   "outputs": [
    {
     "ename": "ModuleNotFoundError",
     "evalue": "No module named 'bs4'",
     "output_type": "error",
     "traceback": [
      "\u001B[0;31m---------------------------------------------------------------------------\u001B[0m",
      "\u001B[0;31mModuleNotFoundError\u001B[0m                       Traceback (most recent call last)",
      "Cell \u001B[0;32mIn[9], line 3\u001B[0m\n\u001B[1;32m      1\u001B[0m \u001B[38;5;66;03m# Load, chunk and index the contents of the blog.\u001B[39;00m\n\u001B[1;32m      2\u001B[0m loader \u001B[38;5;241m=\u001B[39m WebBaseLoader(\u001B[38;5;124m\"\u001B[39m\u001B[38;5;124mhttps://sky.cehd.umn.edu/governance/default/cehd-civility-initiative/examples-of-civil-and-uncivil-behavior/\u001B[39m\u001B[38;5;124m\"\u001B[39m)\n\u001B[0;32m----> 3\u001B[0m docs \u001B[38;5;241m=\u001B[39m \u001B[43mloader\u001B[49m\u001B[38;5;241;43m.\u001B[39;49m\u001B[43mload\u001B[49m\u001B[43m(\u001B[49m\u001B[43m)\u001B[49m\n\u001B[1;32m      4\u001B[0m text_splitter \u001B[38;5;241m=\u001B[39m RecursiveCharacterTextSplitter(chunk_size\u001B[38;5;241m=\u001B[39m\u001B[38;5;241m1000\u001B[39m, chunk_overlap\u001B[38;5;241m=\u001B[39m\u001B[38;5;241m200\u001B[39m)\n\u001B[1;32m      5\u001B[0m splits \u001B[38;5;241m=\u001B[39m text_splitter\u001B[38;5;241m.\u001B[39msplit_documents(docs)\n",
      "File \u001B[0;32m~/propilot/.venv/lib/python3.11/site-packages/langchain_core/document_loaders/base.py:29\u001B[0m, in \u001B[0;36mBaseLoader.load\u001B[0;34m(self)\u001B[0m\n\u001B[1;32m     27\u001B[0m \u001B[38;5;28;01mdef\u001B[39;00m \u001B[38;5;21mload\u001B[39m(\u001B[38;5;28mself\u001B[39m) \u001B[38;5;241m-\u001B[39m\u001B[38;5;241m>\u001B[39m List[Document]:\n\u001B[1;32m     28\u001B[0m \u001B[38;5;250m    \u001B[39m\u001B[38;5;124;03m\"\"\"Load data into Document objects.\"\"\"\u001B[39;00m\n\u001B[0;32m---> 29\u001B[0m     \u001B[38;5;28;01mreturn\u001B[39;00m \u001B[38;5;28;43mlist\u001B[39;49m\u001B[43m(\u001B[49m\u001B[38;5;28;43mself\u001B[39;49m\u001B[38;5;241;43m.\u001B[39;49m\u001B[43mlazy_load\u001B[49m\u001B[43m(\u001B[49m\u001B[43m)\u001B[49m\u001B[43m)\u001B[49m\n",
      "File \u001B[0;32m~/propilot/.venv/lib/python3.11/site-packages/langchain_community/document_loaders/web_base.py:249\u001B[0m, in \u001B[0;36mWebBaseLoader.lazy_load\u001B[0;34m(self)\u001B[0m\n\u001B[1;32m    247\u001B[0m \u001B[38;5;250m\u001B[39m\u001B[38;5;124;03m\"\"\"Lazy load text from the url(s) in web_path.\"\"\"\u001B[39;00m\n\u001B[1;32m    248\u001B[0m \u001B[38;5;28;01mfor\u001B[39;00m path \u001B[38;5;129;01min\u001B[39;00m \u001B[38;5;28mself\u001B[39m\u001B[38;5;241m.\u001B[39mweb_paths:\n\u001B[0;32m--> 249\u001B[0m     soup \u001B[38;5;241m=\u001B[39m \u001B[38;5;28;43mself\u001B[39;49m\u001B[38;5;241;43m.\u001B[39;49m\u001B[43m_scrape\u001B[49m\u001B[43m(\u001B[49m\u001B[43mpath\u001B[49m\u001B[43m,\u001B[49m\u001B[43m \u001B[49m\u001B[43mbs_kwargs\u001B[49m\u001B[38;5;241;43m=\u001B[39;49m\u001B[38;5;28;43mself\u001B[39;49m\u001B[38;5;241;43m.\u001B[39;49m\u001B[43mbs_kwargs\u001B[49m\u001B[43m)\u001B[49m\n\u001B[1;32m    250\u001B[0m     text \u001B[38;5;241m=\u001B[39m soup\u001B[38;5;241m.\u001B[39mget_text(\u001B[38;5;241m*\u001B[39m\u001B[38;5;241m*\u001B[39m\u001B[38;5;28mself\u001B[39m\u001B[38;5;241m.\u001B[39mbs_get_text_kwargs)\n\u001B[1;32m    251\u001B[0m     metadata \u001B[38;5;241m=\u001B[39m _build_metadata(soup, path)\n",
      "File \u001B[0;32m~/propilot/.venv/lib/python3.11/site-packages/langchain_community/document_loaders/web_base.py:218\u001B[0m, in \u001B[0;36mWebBaseLoader._scrape\u001B[0;34m(self, url, parser, bs_kwargs)\u001B[0m\n\u001B[1;32m    212\u001B[0m \u001B[38;5;28;01mdef\u001B[39;00m \u001B[38;5;21m_scrape\u001B[39m(\n\u001B[1;32m    213\u001B[0m     \u001B[38;5;28mself\u001B[39m,\n\u001B[1;32m    214\u001B[0m     url: \u001B[38;5;28mstr\u001B[39m,\n\u001B[1;32m    215\u001B[0m     parser: Union[\u001B[38;5;28mstr\u001B[39m, \u001B[38;5;28;01mNone\u001B[39;00m] \u001B[38;5;241m=\u001B[39m \u001B[38;5;28;01mNone\u001B[39;00m,\n\u001B[1;32m    216\u001B[0m     bs_kwargs: Optional[\u001B[38;5;28mdict\u001B[39m] \u001B[38;5;241m=\u001B[39m \u001B[38;5;28;01mNone\u001B[39;00m,\n\u001B[1;32m    217\u001B[0m ) \u001B[38;5;241m-\u001B[39m\u001B[38;5;241m>\u001B[39m Any:\n\u001B[0;32m--> 218\u001B[0m     \u001B[38;5;28;01mfrom\u001B[39;00m \u001B[38;5;21;01mbs4\u001B[39;00m \u001B[38;5;28;01mimport\u001B[39;00m BeautifulSoup\n\u001B[1;32m    220\u001B[0m     \u001B[38;5;28;01mif\u001B[39;00m parser \u001B[38;5;129;01mis\u001B[39;00m \u001B[38;5;28;01mNone\u001B[39;00m:\n\u001B[1;32m    221\u001B[0m         \u001B[38;5;28;01mif\u001B[39;00m url\u001B[38;5;241m.\u001B[39mendswith(\u001B[38;5;124m\"\u001B[39m\u001B[38;5;124m.xml\u001B[39m\u001B[38;5;124m\"\u001B[39m):\n",
      "\u001B[0;31mModuleNotFoundError\u001B[0m: No module named 'bs4'"
     ]
    }
   ],
   "source": [
    "# Load, chunk and index the contents of the blog.\n",
    "loader = WebBaseLoader(\"https://sky.cehd.umn.edu/governance/default/cehd-civility-initiative/examples-of-civil-and-uncivil-behavior/\")\n",
    "docs = loader.load()\n",
    "text_splitter = RecursiveCharacterTextSplitter(chunk_size=1000, chunk_overlap=200)\n",
    "splits = text_splitter.split_documents(docs)\n",
    "vectorstore = FAISS.from_documents(splits, embeddings)\n",
    "\n",
    "# Retrieve and generate using the relevant snippets of the blog.\n",
    "retriever = vectorstore.as_retriever()\n",
    "prompt = hub.pull(\"rlm/rag-prompt\")"
   ]
  },
  {
   "cell_type": "code",
   "execution_count": 19,
   "id": "b6212c56c815c664",
   "metadata": {
    "ExecuteTime": {
     "end_time": "2024-03-08T01:44:06.950018Z",
     "start_time": "2024-03-08T01:44:06.934958Z"
    },
    "collapsed": false
   },
   "outputs": [
    {
     "ename": "NameError",
     "evalue": "name 'prompt' is not defined",
     "output_type": "error",
     "traceback": [
      "\u001B[0;31m---------------------------------------------------------------------------\u001B[0m",
      "\u001B[0;31mNameError\u001B[0m                                 Traceback (most recent call last)",
      "Cell \u001B[0;32mIn[19], line 1\u001B[0m\n\u001B[0;32m----> 1\u001B[0m \u001B[43mprompt\u001B[49m\n",
      "\u001B[0;31mNameError\u001B[0m: name 'prompt' is not defined"
     ]
    }
   ],
   "source": [
    "prompt"
   ]
  },
  {
   "cell_type": "code",
   "execution_count": 20,
   "id": "e9ed34f5537ff31e",
   "metadata": {
    "ExecuteTime": {
     "end_time": "2024-03-08T04:05:46.247069Z",
     "start_time": "2024-03-08T04:05:46.236405Z"
    },
    "collapsed": false
   },
   "outputs": [],
   "source": [
    "from typing import Dict\n",
    "\n",
    "def format_docs(docs):\n",
    "    return \"\\n\\n\".join(doc.page_content for doc in docs)"
   ]
  },
  {
   "cell_type": "code",
   "execution_count": 21,
   "id": "d4a66c2e6df94178",
   "metadata": {
    "ExecuteTime": {
     "end_time": "2024-03-07T22:12:50.890345Z",
     "start_time": "2024-03-07T22:12:50.887595Z"
    },
    "collapsed": false
   },
   "outputs": [],
   "source": [
    "contextualize_q_system_prompt = \"\"\"Given a chat history and the latest user question \\\n",
    "which might reference context in the chat history, formulate a standalone question \\\n",
    "which can be understood without the chat history. Do NOT answer the question, \\\n",
    "just reformulate it if needed and otherwise return it as is.\"\"\"\n",
    "contextualize_q_prompt = ChatPromptTemplate.from_messages(\n",
    "    [\n",
    "        (\"system\", contextualize_q_system_prompt),\n",
    "        MessagesPlaceholder(variable_name=\"chat_history\"),\n",
    "        (\"human\", \"{question}\"),\n",
    "    ]\n",
    ")\n",
    "contextualize_q_chain = contextualize_q_prompt | llmchat | StrOutputParser()"
   ]
  },
  {
   "cell_type": "code",
   "execution_count": 49,
   "id": "51a0ccff7b713bd2",
   "metadata": {
    "ExecuteTime": {
     "start_time": "2024-03-07T22:32:57.727989Z"
    },
    "collapsed": false
   },
   "outputs": [
    {
     "ename": "NameError",
     "evalue": "name 'retriever' is not defined",
     "output_type": "error",
     "traceback": [
      "\u001B[0;31m---------------------------------------------------------------------------\u001B[0m",
      "\u001B[0;31mNameError\u001B[0m                                 Traceback (most recent call last)",
      "Cell \u001B[0;32mIn[49], line 18\u001B[0m\n\u001B[1;32m      1\u001B[0m qa_system_prompt \u001B[38;5;241m=\u001B[39m \u001B[38;5;124m\"\"\"\u001B[39m\n\u001B[1;32m      2\u001B[0m \u001B[38;5;124m            Your role is to act like a CUSTOMER seeking support. \u001B[39m\u001B[38;5;130;01m\\\u001B[39;00m\n\u001B[1;32m      3\u001B[0m \u001B[38;5;124m            The user is a support representative. \u001B[39m\u001B[38;5;130;01m\\\u001B[39;00m\n\u001B[0;32m   (...)\u001B[0m\n\u001B[1;32m      6\u001B[0m \n\u001B[1;32m      7\u001B[0m \u001B[38;5;132;01m{context}\u001B[39;00m\u001B[38;5;124m\"\"\"\u001B[39m\n\u001B[1;32m      8\u001B[0m qa_prompt \u001B[38;5;241m=\u001B[39m ChatPromptTemplate\u001B[38;5;241m.\u001B[39mfrom_messages(\n\u001B[1;32m      9\u001B[0m     [\n\u001B[1;32m     10\u001B[0m         (\u001B[38;5;124m\"\u001B[39m\u001B[38;5;124msystem\u001B[39m\u001B[38;5;124m\"\u001B[39m, qa_system_prompt),\n\u001B[0;32m   (...)\u001B[0m\n\u001B[1;32m     13\u001B[0m     ]\n\u001B[1;32m     14\u001B[0m )\n\u001B[1;32m     16\u001B[0m rag_chain \u001B[38;5;241m=\u001B[39m (\n\u001B[1;32m     17\u001B[0m         RunnablePassthrough\u001B[38;5;241m.\u001B[39massign(\n\u001B[0;32m---> 18\u001B[0m             context\u001B[38;5;241m=\u001B[39mcontextualize_q_chain \u001B[38;5;241m|\u001B[39m \u001B[43mretriever\u001B[49m \u001B[38;5;241m|\u001B[39m format_docs\n\u001B[1;32m     19\u001B[0m         )\n\u001B[1;32m     20\u001B[0m         \u001B[38;5;241m|\u001B[39m qa_prompt\n\u001B[1;32m     21\u001B[0m         \u001B[38;5;241m|\u001B[39m llmchat\n\u001B[1;32m     22\u001B[0m )\n",
      "\u001B[0;31mNameError\u001B[0m: name 'retriever' is not defined"
     ]
    }
   ],
   "source": [
    "qa_system_prompt = \"\"\"\n",
    "            Your role is to act like a CUSTOMER seeking support. \\\n",
    "            The user is a support representative. \\\n",
    "            You ONLY play the role of the customer. Do NOT play the role of the representative. \\\n",
    "            Style your messages in an UNCIVIL way. \\\n",
    "\n",
    "{context}\"\"\"\n",
    "qa_prompt = ChatPromptTemplate.from_messages(\n",
    "    [\n",
    "        (\"system\", qa_system_prompt),\n",
    "        MessagesPlaceholder(variable_name=\"chat_history\"),\n",
    "        (\"human\", \"{question}\"),\n",
    "    ]\n",
    ")\n",
    "\n",
    "rag_chain = (\n",
    "        RunnablePassthrough.assign(\n",
    "            context=contextualize_q_chain | retriever | format_docs\n",
    "        )\n",
    "        | qa_prompt\n",
    "        | llmchat\n",
    ")"
   ]
  },
  {
   "cell_type": "code",
   "execution_count": 26,
   "id": "eb365490d721fc8",
   "metadata": {
    "collapsed": false
   },
   "outputs": [],
   "source": [
    "chat_history = [AIMessage(content=\"\"\"@Dominos I ordered a pizza from you guys and it arrived cold and soggy. Not the delicious meal I was hoping for. Disappointed and hungry.\"\"\")]\n",
    "\n",
    "prompt = \"Sorry, could you please share your order number?\""
   ]
  },
  {
   "cell_type": "code",
   "execution_count": 27,
   "id": "687d87a16ebaf9c3",
   "metadata": {
    "ExecuteTime": {
     "start_time": "2024-03-08T03:28:15.789Z"
    },
    "collapsed": false
   },
   "outputs": [
    {
     "ename": "NameError",
     "evalue": "name 'rag_chain' is not defined",
     "output_type": "error",
     "traceback": [
      "\u001B[0;31m---------------------------------------------------------------------------\u001B[0m",
      "\u001B[0;31mNameError\u001B[0m                                 Traceback (most recent call last)",
      "Cell \u001B[0;32mIn[27], line 2\u001B[0m\n\u001B[1;32m      1\u001B[0m prompt \u001B[38;5;241m=\u001B[39m \u001B[38;5;124m\"\u001B[39m\u001B[38;5;124mSorry, could you please share your order number?\u001B[39m\u001B[38;5;124m\"\u001B[39m\n\u001B[0;32m----> 2\u001B[0m ai_msg \u001B[38;5;241m=\u001B[39m \u001B[43mrag_chain\u001B[49m\u001B[38;5;241m.\u001B[39minvoke({\u001B[38;5;124m\"\u001B[39m\u001B[38;5;124mquestion\u001B[39m\u001B[38;5;124m\"\u001B[39m: prompt, \u001B[38;5;124m\"\u001B[39m\u001B[38;5;124mchat_history\u001B[39m\u001B[38;5;124m\"\u001B[39m: chat_history})\n\u001B[1;32m      3\u001B[0m chat_history\u001B[38;5;241m.\u001B[39mextend([HumanMessage(content\u001B[38;5;241m=\u001B[39mprompt), ai_msg])\n\u001B[1;32m      5\u001B[0m \u001B[38;5;28mprint\u001B[39m(ai_msg)\n",
      "\u001B[0;31mNameError\u001B[0m: name 'rag_chain' is not defined"
     ]
    }
   ],
   "source": [
    "prompt = \"Sorry, could you please share your order number?\"\n",
    "ai_msg = rag_chain.invoke({\"question\": prompt, \"chat_history\": chat_history})\n",
    "chat_history.extend([HumanMessage(content=prompt), ai_msg])\n",
    "\n",
    "print(ai_msg)"
   ]
  },
  {
   "cell_type": "code",
   "execution_count": 50,
   "id": "30ce590bdea6ab8",
   "metadata": {
    "ExecuteTime": {
     "start_time": "2024-03-08T01:40:47.913195Z"
    },
    "collapsed": false
   },
   "outputs": [
    {
     "ename": "NameError",
     "evalue": "name 'rag_chain' is not defined",
     "output_type": "error",
     "traceback": [
      "\u001B[0;31m---------------------------------------------------------------------------\u001B[0m",
      "\u001B[0;31mNameError\u001B[0m                                 Traceback (most recent call last)",
      "Cell \u001B[0;32mIn[50], line 2\u001B[0m\n\u001B[1;32m      1\u001B[0m prompt \u001B[38;5;241m=\u001B[39m \u001B[38;5;124m\"\u001B[39m\u001B[38;5;124mWhere did you order it from?\u001B[39m\u001B[38;5;124m\"\u001B[39m\n\u001B[0;32m----> 2\u001B[0m ai_msg \u001B[38;5;241m=\u001B[39m \u001B[43mrag_chain\u001B[49m\u001B[38;5;241m.\u001B[39minvoke({\u001B[38;5;124m\"\u001B[39m\u001B[38;5;124mquestion\u001B[39m\u001B[38;5;124m\"\u001B[39m: prompt, \u001B[38;5;124m\"\u001B[39m\u001B[38;5;124mchat_history\u001B[39m\u001B[38;5;124m\"\u001B[39m: chat_history})\n\u001B[1;32m      3\u001B[0m chat_history\u001B[38;5;241m.\u001B[39mextend([HumanMessage(content\u001B[38;5;241m=\u001B[39mprompt), ai_msg])\n\u001B[1;32m      5\u001B[0m \u001B[38;5;28mprint\u001B[39m(ai_msg)\n",
      "\u001B[0;31mNameError\u001B[0m: name 'rag_chain' is not defined"
     ]
    }
   ],
   "source": [
    "prompt = \"Where did you order it from?\"\n",
    "ai_msg = rag_chain.invoke({\"question\": prompt, \"chat_history\": chat_history})\n",
    "chat_history.extend([HumanMessage(content=prompt), ai_msg])\n",
    "\n",
    "print(ai_msg)"
   ]
  },
  {
   "cell_type": "code",
   "execution_count": null,
   "id": "26a87221ef5efbb7",
   "metadata": {
    "collapsed": false
   },
   "outputs": [],
   "source": []
  },
  {
   "cell_type": "markdown",
   "id": "dcc88cf3e962695d",
   "metadata": {
    "collapsed": false
   },
   "source": [
    "### b. History Chain + Uncivil Chain"
   ]
  },
  {
   "cell_type": "code",
   "execution_count": 10,
   "id": "df6baff2a0d3c238",
   "metadata": {
    "ExecuteTime": {
     "end_time": "2024-03-08T05:22:44.537708Z",
     "start_time": "2024-03-08T05:22:44.535224Z"
    },
    "collapsed": false
   },
   "outputs": [
    {
     "ename": "NameError",
     "evalue": "name 'contextualize_q_chain' is not defined",
     "output_type": "error",
     "traceback": [
      "\u001B[0;31m---------------------------------------------------------------------------\u001B[0m",
      "\u001B[0;31mNameError\u001B[0m                                 Traceback (most recent call last)",
      "Cell \u001B[0;32mIn[10], line 18\u001B[0m\n\u001B[1;32m      3\u001B[0m qa_info_prompt \u001B[38;5;241m=\u001B[39m \u001B[38;5;124m\"\"\"\u001B[39m\n\u001B[1;32m      4\u001B[0m \u001B[38;5;124m            Your role is to act like a CUSTOMER seeking support. \u001B[39m\u001B[38;5;130;01m\\\u001B[39;00m\n\u001B[1;32m      5\u001B[0m \u001B[38;5;124m            The user is a support representative. \u001B[39m\u001B[38;5;130;01m\\\u001B[39;00m\n\u001B[1;32m      6\u001B[0m \u001B[38;5;124m            Respond to the question as if you were the customer. \u001B[39m\u001B[38;5;130;01m\\\u001B[39;00m\n\u001B[1;32m      7\u001B[0m \u001B[38;5;124m            If the user is asking for a specific detail, respond with a believable answer.\u001B[39m\n\u001B[1;32m      8\u001B[0m \u001B[38;5;124m        \u001B[39m\u001B[38;5;124m\"\"\"\u001B[39m\n\u001B[1;32m      9\u001B[0m qa_info \u001B[38;5;241m=\u001B[39m ChatPromptTemplate\u001B[38;5;241m.\u001B[39mfrom_messages(\n\u001B[1;32m     10\u001B[0m     [\n\u001B[1;32m     11\u001B[0m         (\u001B[38;5;124m\"\u001B[39m\u001B[38;5;124msystem\u001B[39m\u001B[38;5;124m\"\u001B[39m, qa_info_prompt),\n\u001B[0;32m   (...)\u001B[0m\n\u001B[1;32m     14\u001B[0m     ]\n\u001B[1;32m     15\u001B[0m )\n\u001B[1;32m     16\u001B[0m rag_chain_info \u001B[38;5;241m=\u001B[39m (\n\u001B[1;32m     17\u001B[0m         RunnablePassthrough\u001B[38;5;241m.\u001B[39massign(\n\u001B[0;32m---> 18\u001B[0m             context\u001B[38;5;241m=\u001B[39m\u001B[43mcontextualize_q_chain\u001B[49m\n\u001B[1;32m     19\u001B[0m         )\n\u001B[1;32m     20\u001B[0m         \u001B[38;5;241m|\u001B[39m qa_info\n\u001B[1;32m     21\u001B[0m         \u001B[38;5;241m|\u001B[39m llmchat\n\u001B[1;32m     22\u001B[0m )\n\u001B[1;32m     24\u001B[0m qa_uncivil_prompt \u001B[38;5;241m=\u001B[39m \u001B[38;5;124m\"\"\"\u001B[39m\n\u001B[1;32m     25\u001B[0m \u001B[38;5;124m            Given a history of messages, where the AI is a customer and the user is a representative, rephrase the response to the representative\u001B[39m\u001B[38;5;124m'\u001B[39m\u001B[38;5;124ms message.\u001B[39m\u001B[38;5;130;01m\\\u001B[39;00m\n\u001B[1;32m     26\u001B[0m \u001B[38;5;124m            \u001B[39m\n\u001B[0;32m   (...)\u001B[0m\n\u001B[1;32m     35\u001B[0m \u001B[38;5;124m            - Accusing others of incompetence or dismissing their expertise.\u001B[39m\u001B[38;5;130;01m\\\u001B[39;00m\n\u001B[1;32m     36\u001B[0m \u001B[38;5;124m        \u001B[39m\u001B[38;5;124m\"\"\"\u001B[39m\n\u001B[1;32m     37\u001B[0m qa_uncivil \u001B[38;5;241m=\u001B[39m ChatPromptTemplate\u001B[38;5;241m.\u001B[39mfrom_messages(\n\u001B[1;32m     38\u001B[0m     [\n\u001B[1;32m     39\u001B[0m         (\u001B[38;5;124m\"\u001B[39m\u001B[38;5;124msystem\u001B[39m\u001B[38;5;124m\"\u001B[39m, qa_uncivil_prompt),\n\u001B[0;32m   (...)\u001B[0m\n\u001B[1;32m     45\u001B[0m     ]\n\u001B[1;32m     46\u001B[0m )\n",
      "\u001B[0;31mNameError\u001B[0m: name 'contextualize_q_chain' is not defined"
     ]
    }
   ],
   "source": [
    "from langchain.chains import SimpleSequentialChain, SequentialChain\n",
    "\n",
    "qa_info_prompt = \"\"\"\n",
    "            Your role is to act like a CUSTOMER seeking support. \\\n",
    "            The user is a support representative. \\\n",
    "            Respond to the question as if you were the customer. \\\n",
    "            If the user is asking for a specific detail, respond with a believable answer.\n",
    "        \"\"\"\n",
    "qa_info = ChatPromptTemplate.from_messages(\n",
    "    [\n",
    "        (\"system\", qa_info_prompt),\n",
    "        MessagesPlaceholder(variable_name=\"chat_history\"),\n",
    "        (\"human\", \"{question}\"),\n",
    "    ]\n",
    ")\n",
    "rag_chain_info = (\n",
    "        RunnablePassthrough.assign(\n",
    "            context=contextualize_q_chain\n",
    "        )\n",
    "        | qa_info\n",
    "        | llmchat\n",
    ")\n",
    "\n",
    "qa_uncivil_prompt = \"\"\"\n",
    "            Given a history of messages, where the AI is a customer and the user is a representative, rephrase the response to the representative's message.\\\n",
    "            \n",
    "            Rephrase the customer response to sound UNCIVIL. \\\n",
    "            Do NOT reply to the question ONLY rephrase. \\\n",
    "            \n",
    "            This is what UNCIVIL customers do:\\\n",
    "            - Address others in an unprofessional, disrespectful way-for example, talking down, using degrading remarks or tone of voice.\\\n",
    "            - Pay little or no attention to others’ opinions.\\\n",
    "            - Use intimidating or threatening verbal communication—yelling, repeated emotional outbursts, threats, berating or harsh tone of voice, repeatedly interrupting.\\\n",
    "            - Blaming others for things out of their control.\\\n",
    "            - Accusing others of incompetence or dismissing their expertise.\\\n",
    "        \"\"\"\n",
    "qa_uncivil = ChatPromptTemplate.from_messages(\n",
    "    [\n",
    "        (\"system\", qa_uncivil_prompt),\n",
    "        MessagesPlaceholder(variable_name=\"chat_history\"),\n",
    "        (\"user\", '''\n",
    "            Representative asked: {question}\n",
    "            Customer responded: {input}\n",
    "        '''),\n",
    "    ]\n",
    ")\n",
    "chain_uncivil = (RunnablePassthrough.assign(\n",
    "                    context=contextualize_q_chain\n",
    "                )\n",
    "                 | qa_uncivil\n",
    "                 | llmchat\n",
    "                 )"
   ]
  },
  {
   "cell_type": "code",
   "execution_count": 217,
   "id": "889463cc4c8c519d",
   "metadata": {
    "ExecuteTime": {
     "start_time": "2024-03-08T04:35:09.565161Z"
    },
    "collapsed": false
   },
   "outputs": [],
   "source": []
  },
  {
   "cell_type": "code",
   "execution_count": 52,
   "id": "5014e66acaa5a544",
   "metadata": {
    "ExecuteTime": {
     "start_time": "2024-03-08T04:03:30.045957Z"
    },
    "collapsed": false
   },
   "outputs": [],
   "source": [
    "chat_history = [AIMessage(content=\"\"\"@Dominos I ordered a pizza from you guys and it arrived cold and soggy. Not the delicious meal I was hoping for. Disappointed and hungry.\"\"\")]\n",
    "\n",
    "prompt = \"Sorry, could you please share your order number?\""
   ]
  },
  {
   "cell_type": "code",
   "execution_count": 55,
   "id": "3d883e3d4a223d78",
   "metadata": {
    "ExecuteTime": {
     "start_time": "2024-03-08T02:34:32.444954Z"
    },
    "collapsed": false
   },
   "outputs": [
    {
     "name": "stdout",
     "output_type": "stream",
     "text": [
      "[AIMessage(content='@Dominos I ordered a pizza from you guys and it arrived cold and soggy. Not the delicious meal I was hoping for. Disappointed and hungry.')]\n"
     ]
    }
   ],
   "source": [
    "contextualize_q_chain.invoke({\"chat_history\": chat_history, \"question\": prompt})"
   ]
  },
  {
   "cell_type": "code",
   "execution_count": 54,
   "id": "cc0d393b17a9db8",
   "metadata": {
    "ExecuteTime": {
     "start_time": "2024-03-08T03:49:11.207957Z"
    },
    "collapsed": false
   },
   "outputs": [
    {
     "name": "stdout",
     "output_type": "stream",
     "text": [
      "content='Sure, my order number is 5684321.' response_metadata={'token_usage': {'completion_tokens': 11, 'prompt_tokens': 109, 'total_tokens': 120}, 'model_name': 'gpt-4', 'system_fingerprint': 'fp_2f57f81c11', 'finish_reason': 'stop', 'logprobs': None, 'content_filter_results': {}}\n"
     ]
    }
   ],
   "source": [
    "info_msg = rag_chain_info.invoke({\"chat_history\": chat_history, \"question\": prompt})\n",
    "print(info_msg)"
   ]
  },
  {
   "cell_type": "code",
   "execution_count": 221,
   "id": "42f321ec79b7b49b",
   "metadata": {
    "ExecuteTime": {
     "end_time": "2024-03-08T05:18:57.832139Z",
     "start_time": "2024-03-08T05:18:57.802377Z"
    },
    "collapsed": false
   },
   "outputs": [
    {
     "data": {
      "text/plain": [
       "'Yes, my order number is 85692347.'"
      ]
     },
     "execution_count": 221,
     "metadata": {},
     "output_type": "execute_result"
    }
   ],
   "source": [
    "info_msg.content"
   ]
  },
  {
   "cell_type": "code",
   "execution_count": 224,
   "id": "13977f4470b6082e",
   "metadata": {
    "ExecuteTime": {
     "end_time": "2024-03-08T05:23:03.366147Z",
     "start_time": "2024-03-08T05:22:52.424631Z"
    },
    "collapsed": false
   },
   "outputs": [
    {
     "name": "stdout",
     "output_type": "stream",
     "text": [
      "content=\"Do I look like I memorize every insignificant number? It's your job to fix this, not mine. Here, since you can't seem to do it yourself: 85692347. Happy now?\"\n"
     ]
    }
   ],
   "source": [
    "ai_msg = chain_uncivil.invoke({\"chat_history\": chat_history, \"question\": prompt, \"input\": info_msg.content})\n",
    "print(ai_msg)"
   ]
  },
  {
   "cell_type": "markdown",
   "id": "4d63556d4ce4d6e3",
   "metadata": {
    "collapsed": false
   },
   "source": [
    "### Information Agents"
   ]
  },
  {
   "cell_type": "code",
   "execution_count": 57,
   "id": "c0619a9366a243fd",
   "metadata": {
    "ExecuteTime": {
     "end_time": "2024-03-14T14:35:35.393297Z",
     "start_time": "2024-03-14T14:35:35.367708Z"
    },
    "collapsed": false
   },
   "outputs": [],
   "source": [
    "import re\n",
    "\n",
    "def get_historical_info_context_chain():\n",
    "    contextualize_q_system_prompt = \"\"\"Given a chat history and the latest user input \\\n",
    "        which might reference context in the chat history, formulate a standalone statement \\\n",
    "        which can be understood without the chat history. Do NOT respond to the statement, \\\n",
    "        just reformulate it if needed and otherwise return it as is.\"\"\"\n",
    "    contextualize_q_prompt = ChatPromptTemplate.from_messages(\n",
    "        [\n",
    "            (\"system\", contextualize_q_system_prompt),\n",
    "            MessagesPlaceholder(variable_name=\"chat_history\"),\n",
    "            (\"user\", \"{complaint}\"),\n",
    "        ]\n",
    "    )\n",
    "    contextualize_q_chain = contextualize_q_prompt | llmchat | StrOutputParser()\n",
    "    return contextualize_q_chain\n",
    "\n",
    "def agent_coworker_info():\n",
    "    client = mLangChain()\n",
    "    prompt = \"\"\"Your role is to help a service representative by providing INFORMATIONAL SUPPORT. \\\n",
    "                Help the representative address a customer's complaints about {product}. \\\n",
    "                The representative's next message should be non-verbose 2 - 3 cues that aim to do ONLY ONE of the following (Each Cues should be Max 10 Words):\\\n",
    "                1) Request the customer to perform ONE immediate next step for troubleshooting. OR \\\n",
    "                2) Provide a solution to resolve the customer's need. \\\n",
    "                \n",
    "                Customer message: {complaint}\n",
    "                Representative response: \n",
    "            \"\"\"\n",
    "    template = ChatPromptTemplate.from_messages(\n",
    "        [\n",
    "            (\"system\", prompt),\n",
    "            (\"user\", \"{product}: {complaint}\"),\n",
    "        ]\n",
    "    )\n",
    "    chain = template | client.client_completion\n",
    "\n",
    "    chain = (RunnablePassthrough.assign(\n",
    "        context=get_historical_info_context_chain()\n",
    "    )\n",
    "             | template\n",
    "             | llmchat\n",
    "             )\n",
    "    \n",
    "    chain = chain | extract_cues\n",
    "\n",
    "    return chain\n",
    "\n",
    "def extract_cues(chain_output):\n",
    "    cues_text = chain_output.content\n",
    "    # Assuming each cue is separated by a newline in the chain_output.\n",
    "    cues = cues_text.split('\\n')\n",
    "    # Filter out any empty strings or whitespace-only strings\n",
    "    cues = [cue.strip() for cue in cues if cue.strip()]\n",
    "    # Return the first 2 - 3 cues\n",
    "    processed_cues = [re.sub(r'^\\d+\\.\\s*', '', cue) for cue in cues]\n",
    "    return processed_cues[:3]\n"
   ]
  },
  {
   "cell_type": "code",
   "execution_count": 42,
   "id": "ca1a0bb8b364bc13",
   "metadata": {
    "ExecuteTime": {
     "end_time": "2024-03-14T14:35:59.684306Z",
     "start_time": "2024-03-14T14:35:54.115982Z"
    },
    "collapsed": false
   },
   "outputs": [
    {
     "name": "stdout",
     "output_type": "stream",
     "text": [
      "['Apologize for any inconvenience caused.', 'Checking your order details now.']\n"
     ]
    }
   ],
   "source": [
    "chat_history = [AIMessage(content=\"\"\"Hey @Dominos_UK, I ordered a large pepperoni pizza and it came with only 6 slices of pepperoni. I paid extra for additional toppings and this is unacceptable. Please fix this issue.\"\"\"), HumanMessage(content=\"That is so unfortunate. Could you share your order number?\")]\n",
    "complaint = \"Sure, here it is: 785239. But honestly, should've figured you'd need that to do anything useful.\"\n",
    "response_cw_info = agent_coworker_info().invoke({'product': 'pizza', 'complaint':complaint, 'chat_history':chat_history})\n",
    "print(response_cw_info)"
   ]
  },
  {
   "cell_type": "code",
   "execution_count": null,
   "id": "d064b61fc148ff47",
   "metadata": {
    "collapsed": false
   },
   "outputs": [],
   "source": []
  },
  {
   "cell_type": "markdown",
   "id": "23fa7110d32edd05",
   "metadata": {
    "collapsed": false
   },
   "source": [
    "### Emotional Agents"
   ]
  },
  {
   "cell_type": "code",
   "execution_count": 14,
   "id": "763b3d8fa396c4ed",
   "metadata": {
    "ExecuteTime": {
     "end_time": "2024-03-14T13:48:54.405897Z",
     "start_time": "2024-03-14T13:48:54.390573Z"
    },
    "collapsed": false
   },
   "outputs": [],
   "source": [
    "def get_historical_info_context_chain():\n",
    "    contextualize_q_system_prompt = \"\"\"Given a chat history and the latest user input \\\n",
    "        which might reference context in the chat history, formulate a standalone statement \\\n",
    "        which can be understood without the chat history. Do NOT respond to the statement, \\\n",
    "        just reformulate it if needed and otherwise return it as is.\"\"\"\n",
    "    contextualize_q_prompt = ChatPromptTemplate.from_messages(\n",
    "        [\n",
    "            (\"system\", contextualize_q_system_prompt),\n",
    "            MessagesPlaceholder(variable_name=\"chat_history\"),\n",
    "            (\"user\", \"{complaint}\"),\n",
    "        ]\n",
    "    )\n",
    "    contextualize_q_chain = contextualize_q_prompt | llmchat | StrOutputParser()\n",
    "    return contextualize_q_chain"
   ]
  },
  {
   "cell_type": "code",
   "execution_count": 246,
   "id": "198f7d8868a4c229",
   "metadata": {
    "ExecuteTime": {
     "end_time": "2024-03-14T13:50:29.915193Z",
     "start_time": "2024-03-14T13:50:29.897018Z"
    },
    "collapsed": false
   },
   "outputs": [],
   "source": [
    "def agent_coworker_emo_reframe():\n",
    "    client = mLangChain()\n",
    "   \n",
    "    prompt = \"\"\"Reframe the latest customer message to help empathize with them.\\                \n",
    "                Here are some examples of reframing:\n",
    "                \n",
    "                Complaint: Why on earth do you need my zipcode? Fine, it's 10001, but hurry up and fix this mess. \n",
    "                Reframe: The customer is frustrated with the network disruptions and needs an urgent resolution.\n",
    "                \n",
    "                Complaint: Yeah, finally, it's about time you asked for that. It's #784593. Now hurry up and figure out what mess you've made with my order! \n",
    "                Reframe: The customer has been waiting on their order for a long time and is feeling frustrated. They are communicating while they are very hungry.\n",
    "                \n",
    "                Complaint: {complaint}\n",
    "                Reframe:\n",
    "            \"\"\"\n",
    "    template = ChatPromptTemplate.from_messages(\n",
    "        [\n",
    "            (\"system\", prompt),\n",
    "            (\"user\", \"{complaint}\"),\n",
    "        ]\n",
    "    )\n",
    "    # chain = template | client.client_completion\n",
    "\n",
    "    chain = (RunnablePassthrough.assign(\n",
    "        context=get_historical_info_context_chain()\n",
    "    )\n",
    "             | template\n",
    "             | llmchat\n",
    "             )\n",
    "    \n",
    "    return chain"
   ]
  },
  {
   "cell_type": "code",
   "execution_count": 247,
   "id": "a67152f36b1b2857",
   "metadata": {
    "ExecuteTime": {
     "end_time": "2024-03-14T13:50:35.879502Z",
     "start_time": "2024-03-14T13:50:30.177274Z"
    },
    "collapsed": false
   },
   "outputs": [
    {
     "name": "stdout",
     "output_type": "stream",
     "text": [
      "content=\"The customer is feeling overwhelmed by the details required and is seeking a prompt and efficient resolution to their issue. They've provided the information needed, hoping for a satisfactory and quick response.\"\n"
     ]
    }
   ],
   "source": [
    "chat_history = [AIMessage(content=\"\"\"@Dominos I ordered a pizza from you guys and it arrived cold and soggy. Not the delicious meal I was hoping for. Disappointed and hungry.\"\"\"), HumanMessage(content=\"Sorry, could you please share your order number?\")]\n",
    "complaint = \"Do I look like I memorize every insignificant number? It's your job to fix this, not mine. Here, since you can't seem to do it yourself: 85692347. Happy now?\"\n",
    "response_cw_emo = agent_coworker_emo_reframe().invoke({'complaint':complaint, 'chat_history':chat_history})\n",
    "print(response_cw_emo)"
   ]
  },
  {
   "cell_type": "code",
   "execution_count": 230,
   "id": "f29a30e721e43468",
   "metadata": {
    "ExecuteTime": {
     "end_time": "2024-03-14T13:23:56.075830Z",
     "start_time": "2024-03-14T13:23:56.060968Z"
    },
    "collapsed": false
   },
   "outputs": [
    {
     "data": {
      "text/plain": [
       "'\\nAI: I understand that you are frustrated and disappointed with your recent pizza order. I am sorry that it arrived cold and soggy. To help address this issue, could you please provide your order number? This will allow us to look into the situation and make things right for you. Thank you for your understanding.'"
      ]
     },
     "execution_count": 230,
     "metadata": {},
     "output_type": "execute_result"
    }
   ],
   "source": [
    "response_cw_emo"
   ]
  },
  {
   "cell_type": "code",
   "execution_count": 73,
   "id": "1140c95a16592c2a",
   "metadata": {
    "ExecuteTime": {
     "end_time": "2024-03-28T03:24:34.976799Z",
     "start_time": "2024-03-28T03:24:34.972588Z"
    },
    "collapsed": false
   },
   "outputs": [],
   "source": [
    "def agent_coworker_emo_reappraisal_situation():\n",
    "    client = mLangChain()\n",
    "\n",
    "    prompt = \"\"\"The chat history describes a representative chatting online with a complaining customer. \\\n",
    "                The latest input is the last message from the customer. \\\n",
    "                which can be understood without the chat history.\\\n",
    "                Describe the situation with respect to the customer's behavior towards the representative.\\\n",
    "                Include the specifics of the complaint while describing the situation.\\\n",
    "                \n",
    "                Do NOT respond to the input, just summarize the situation.\\\n",
    "                Do NOT speculate.\\\n",
    "            \"\"\"\n",
    "    template = ChatPromptTemplate.from_messages(\n",
    "        [\n",
    "            (\"system\", prompt),\n",
    "            MessagesPlaceholder(variable_name=\"chat_history\"),\n",
    "            (\"user\", \"{complaint}\"),\n",
    "        ]\n",
    "    )\n",
    "    chain = template | client.client_completion\n",
    "\n",
    "    return chain"
   ]
  },
  {
   "cell_type": "code",
   "execution_count": 74,
   "id": "9df2301345af574d",
   "metadata": {
    "ExecuteTime": {
     "end_time": "2024-03-28T03:24:36.225279Z",
     "start_time": "2024-03-28T03:24:35.621789Z"
    },
    "collapsed": false
   },
   "outputs": [
    {
     "name": "stdout",
     "output_type": "stream",
     "text": [
      "\n",
      "The customer is being rude and impatient with the representative, not providing important information and expecting the representative to fix the issue without their help. The customer's complaint is about receiving a cold and soggy pizza, which is not what they were expecting.\n"
     ]
    }
   ],
   "source": [
    "chat_history = [AIMessage(content=\"\"\"@Dominos I ordered a pizza from you guys and it arrived cold and soggy. Not the delicious meal I was hoping for. Disappointed and hungry.\"\"\"), HumanMessage(content=\"Sorry, could you please share your order number?\")]\n",
    "complaint = \"Do I look like I memorize every insignificant number? It's your job to fix this, not mine. Here, since you can't seem to do it yourself: 85692347. Happy now?\"\n",
    "situation = agent_coworker_emo_reappraisal_situation().invoke({'complaint':complaint, 'chat_history':chat_history})\n",
    "print(situation)"
   ]
  },
  {
   "cell_type": "code",
   "execution_count": 147,
   "id": "aa31a6aa6db4bc6d",
   "metadata": {
    "ExecuteTime": {
     "end_time": "2024-03-28T04:15:23.812014Z",
     "start_time": "2024-03-28T04:15:23.806985Z"
    },
    "collapsed": false
   },
   "outputs": [],
   "source": [
    "def agent_coworker_emo_reappraisal_thought():\n",
    "    client = mLangChain()\n",
    "\n",
    "    prompt = \"\"\"You are roleplaying as the representative talking to a complaining customer.\\\n",
    "                Refer to the chat history between you and the customer and the latest {complaint} from the customer.\\\n",
    "                What is the representative thinking about the situation?\\\n",
    "                Be concise. Only 2 sentences.\\\n",
    "                \n",
    "                Situation: An mturk requester rejected my task and I wasn't sure why because I work very hard on my tasks. Being new it affected my approval rating more negatively.\\\n",
    "                Thought: I'm not smart enough to succeed at mturk\\\n",
    "                \n",
    "                Situation: I asked my daughter a question, and she responded in a snotty way.\\\n",
    "                Thought: She doesn't love me like she used to.\\\n",
    "                \n",
    "                Situation: I got upset at my boss for not putting me in a temporary promotion to act as supervisor of our team.\\\n",
    "                Thought: I wasn't valued as much as the other person.\\\n",
    "                \n",
    "                Situation: I had been working on a project at work for a very long time, but a higher up manager contacted my boss and asked about it, insinuating I wasn't delivering it fast enough.\\\n",
    "                Thought: I'm working on this as fast as I possibly can.\\\n",
    "                \n",
    "                Situation: I tried on my wedding dress in front of my family. My mother was excited and told me I was beautiful, but other members of my family made comments about my weight. I was told to not eat and exercise so I could be beautiful.\\\n",
    "                Thought: I'm a fat ugly troll.\\\n",
    "                \n",
    "                Situation: I was reprimanded at work for standing up to a coworker who was bullying another co-worker.\\\n",
    "                Thought: It was unfair that I was the one to get in trouble for defending a weaker person.\\\n",
    "                \n",
    "                Situation: {situation}\\\n",
    "                Thought:\n",
    "            \"\"\"\n",
    "    template = ChatPromptTemplate.from_messages(\n",
    "        [\n",
    "            (\"system\", prompt),\n",
    "            MessagesPlaceholder(variable_name=\"chat_history\"),\n",
    "            (\"user\", \"{situation}: {complaint}\"),\n",
    "        ]\n",
    "    )\n",
    "    chain = template | client.client_completion\n",
    "\n",
    "    return chain"
   ]
  },
  {
   "cell_type": "code",
   "execution_count": 148,
   "id": "3d3082bb731cd5e3",
   "metadata": {
    "ExecuteTime": {
     "end_time": "2024-03-28T04:15:24.665233Z",
     "start_time": "2024-03-28T04:15:24.151025Z"
    },
    "collapsed": false
   },
   "outputs": [
    {
     "name": "stdout",
     "output_type": "stream",
     "text": [
      "\n",
      "\n",
      "Thought: This customer is being unreasonable and expecting me to magically fix their issue without any necessary information.\n"
     ]
    }
   ],
   "source": [
    "chat_history = [AIMessage(content=\"\"\"@Dominos I ordered a pizza from you guys and it arrived cold and soggy. Not the delicious meal I was hoping for. Disappointed and hungry.\"\"\"), HumanMessage(content=\"Sorry, could you please share your order number?\")]\n",
    "complaint = \"Do I look like I memorize every insignificant number? It's your job to fix this, not mine. Here, since you can't seem to do it yourself: 85692347. Happy now?\"\n",
    "thought = agent_coworker_emo_reappraisal_thought().invoke({'complaint':complaint, 'situation':situation, 'chat_history':chat_history})\n",
    "print(thought)"
   ]
  },
  {
   "cell_type": "code",
   "execution_count": 130,
   "id": "ba9b81a5ecfc7aee",
   "metadata": {
    "ExecuteTime": {
     "end_time": "2024-03-28T03:58:39.981057Z",
     "start_time": "2024-03-28T03:58:39.976558Z"
    },
    "collapsed": false
   },
   "outputs": [],
   "source": [
    "def agent_coworker_emo_reappraisal_reframe():\n",
    "    client = mLangChain()\n",
    "\n",
    "    prompt = \"\"\"You are a representative chatting online with a complaining customer.\\\n",
    "                Reframe your thoughts in the given situation.\n",
    "                \n",
    "                Situation: An mturk requester rejected my task and I wasn't sure why because I work very hard on my tasks. Being new it affected my approval rating more negatively.\\\n",
    "                Thought: I'm not smart enough to succeed at mturk\\\n",
    "                Reframe: It seems like there was some miscommunication. It doesn't mean that I do not have the skills to do well with mturk. I should reach out to see if I can get more clarity on why my task was rejected.\\\n",
    "                \n",
    "                Situation: I asked my daughter a question, and she responded in a snotty way.\\\n",
    "                Thought: She doesn't love me like she used to.\\\n",
    "                Reframe: Kids say snappy things to their parents all the time. It doesn't mean I'm a bad parent or that she doesn't love me.\\\n",
    "                \n",
    "                Situation: I got upset at my boss for not putting me in a temporary promotion to act as supervisor of our team.\\\n",
    "                Thought: I wasn't valued as much as the other person.\\\n",
    "                Reframe: I should ask my boss why I was not selected for the promotion. Maybe the reason will be something other than my work ethic. Maybe my boss will reassure that I am still valuable to the company.\\\n",
    "                \n",
    "                Situation: I had been working on a project at work for a very long time, but a higher up manager contacted my boss and asked about it, insinuating I wasn't delivering it fast enough.\\\n",
    "                Thought: I'm working on this as fast as I possibly can.\\\n",
    "                Reframe: I am stressed by trying to compare how fast I am working on this to how fast I think other people complete their assignments. I know I am being efficient with my time and producing good work. I need to focus on that to get this task done.\\\n",
    "                \n",
    "                Situation: I tried on my wedding dress in front of my family. My mother was excited and told me I was beautiful, but other members of my family made comments about my weight. I was told to not eat and exercise so I could be beautiful.\\\n",
    "                Thought: I'm a fat ugly troll.\\\n",
    "                Reframe: The commend about my weight hurt and have me feeling self conscious. I'm glad my mother thinks I'm beautiful and know that my weight does not dictate my worth.\\\n",
    "                \n",
    "                Situation: I was reprimanded at work for standing up to a coworker who was bullying another co-worker.\\\n",
    "                Thought: It was unfair that I was the one to get in trouble for defending a weaker person.\\\n",
    "                Reframe: I can own some responsibility for this conflict that occurred at work.\\\n",
    "                \n",
    "                Situation: {situation}\\\n",
    "                Thought: {thought}\\\n",
    "                Reframe:\\\n",
    "            \"\"\"\n",
    "    template = ChatPromptTemplate.from_messages(\n",
    "        [\n",
    "            (\"system\", prompt),\n",
    "            (\"user\", \"{situation}: {thought}\"),\n",
    "        ]\n",
    "    )\n",
    "    chain = template | client.client_completion\n",
    "\n",
    "    return chain"
   ]
  },
  {
   "cell_type": "code",
   "execution_count": 131,
   "id": "5ffa32c5a95b8121",
   "metadata": {
    "ExecuteTime": {
     "end_time": "2024-03-28T03:58:42.774612Z",
     "start_time": "2024-03-28T03:58:42.071803Z"
    },
    "collapsed": false
   },
   "outputs": [
    {
     "name": "stdout",
     "output_type": "stream",
     "text": [
      " \n",
      "Reframe: The customer may be frustrated and upset about their pizza, which is understandable. I will try to remain calm and work with them to find a solution that will make them happy.\n"
     ]
    }
   ],
   "source": [
    "reframe = agent_coworker_emo_reappraisal_reframe().invoke({'thought':thought, 'situation':situation, 'chat_history':chat_history})\n",
    "print(reframe)"
   ]
  },
  {
   "cell_type": "code",
   "execution_count": 22,
   "id": "92707b80df33fe25",
   "metadata": {
    "collapsed": false
   },
   "outputs": [
    {
     "ename": "AttributeError",
     "evalue": "'str' object has no attribute 'content'",
     "output_type": "error",
     "traceback": [
      "\u001B[0;31m---------------------------------------------------------------------------\u001B[0m",
      "\u001B[0;31mAttributeError\u001B[0m                            Traceback (most recent call last)",
      "Cell \u001B[0;32mIn[22], line 101\u001B[0m\n\u001B[1;32m     99\u001B[0m input_data \u001B[38;5;241m=\u001B[39m [product, fixed_complaint, chat_history]\n\u001B[1;32m    100\u001B[0m infoAgent \u001B[38;5;241m=\u001B[39m mAgentInfo()\n\u001B[0;32m--> 101\u001B[0m info_agent1_avg_time \u001B[38;5;241m=\u001B[39m \u001B[43mtest_agent_performance\u001B[49m\u001B[43m(\u001B[49m\u001B[43minfoAgent\u001B[49m\u001B[43m,\u001B[49m\u001B[43m \u001B[49m\u001B[43minput_data\u001B[49m\u001B[43m)\u001B[49m\n\u001B[1;32m    103\u001B[0m \u001B[38;5;66;03m# Output the results\u001B[39;00m\n\u001B[1;32m    104\u001B[0m \u001B[38;5;28mprint\u001B[39m(\u001B[38;5;124mf\u001B[39m\u001B[38;5;124m\"\u001B[39m\u001B[38;5;124mInfo Agent 1 Average Time: \u001B[39m\u001B[38;5;132;01m{\u001B[39;00minfo_agent1_avg_time\u001B[38;5;132;01m}\u001B[39;00m\u001B[38;5;124m\"\u001B[39m)\n",
      "Cell \u001B[0;32mIn[22], line 88\u001B[0m, in \u001B[0;36mtest_agent_performance\u001B[0;34m(agent_function, input_data, num_calls)\u001B[0m\n\u001B[1;32m     86\u001B[0m \u001B[38;5;28;01mfor\u001B[39;00m _ \u001B[38;5;129;01min\u001B[39;00m \u001B[38;5;28mrange\u001B[39m(num_calls):\n\u001B[1;32m     87\u001B[0m     start_time \u001B[38;5;241m=\u001B[39m time\u001B[38;5;241m.\u001B[39mtime()\n\u001B[0;32m---> 88\u001B[0m     res \u001B[38;5;241m=\u001B[39m \u001B[43magent_function\u001B[49m\u001B[38;5;241;43m.\u001B[39;49m\u001B[43minvoke\u001B[49m\u001B[43m(\u001B[49m\u001B[43m{\u001B[49m\u001B[38;5;124;43m'\u001B[39;49m\u001B[38;5;124;43mproduct\u001B[39;49m\u001B[38;5;124;43m'\u001B[39;49m\u001B[43m:\u001B[49m\u001B[43m \u001B[49m\u001B[43minput_data\u001B[49m\u001B[43m[\u001B[49m\u001B[38;5;241;43m0\u001B[39;49m\u001B[43m]\u001B[49m\u001B[43m,\u001B[49m\u001B[43m \u001B[49m\u001B[38;5;124;43m'\u001B[39;49m\u001B[38;5;124;43mcomplaint\u001B[39;49m\u001B[38;5;124;43m'\u001B[39;49m\u001B[43m:\u001B[49m\u001B[43m \u001B[49m\u001B[43minput_data\u001B[49m\u001B[43m[\u001B[49m\u001B[38;5;241;43m1\u001B[39;49m\u001B[43m]\u001B[49m\u001B[43m,\u001B[49m\u001B[43m \u001B[49m\u001B[38;5;124;43m'\u001B[39;49m\u001B[38;5;124;43mchat_history\u001B[39;49m\u001B[38;5;124;43m'\u001B[39;49m\u001B[43m:\u001B[49m\u001B[43m \u001B[49m\u001B[43minput_data\u001B[49m\u001B[43m[\u001B[49m\u001B[38;5;241;43m2\u001B[39;49m\u001B[43m]\u001B[49m\u001B[43m}\u001B[49m\u001B[43m)\u001B[49m\n\u001B[1;32m     89\u001B[0m     end_time \u001B[38;5;241m=\u001B[39m time\u001B[38;5;241m.\u001B[39mtime()\n\u001B[1;32m     90\u001B[0m     \u001B[38;5;28mprint\u001B[39m(res)\n",
      "Cell \u001B[0;32mIn[22], line 77\u001B[0m, in \u001B[0;36mmAgentInfo.invoke\u001B[0;34m(self, user_input)\u001B[0m\n\u001B[1;32m     76\u001B[0m \u001B[38;5;28;01mdef\u001B[39;00m \u001B[38;5;21minvoke\u001B[39m(\u001B[38;5;28mself\u001B[39m, user_input):\n\u001B[0;32m---> 77\u001B[0m     info \u001B[38;5;241m=\u001B[39m \u001B[38;5;28;43mself\u001B[39;49m\u001B[38;5;241;43m.\u001B[39;49m\u001B[43minfo_chain\u001B[49m\u001B[38;5;241;43m.\u001B[39;49m\u001B[43minvoke\u001B[49m\u001B[43m(\u001B[49m\u001B[43m{\u001B[49m\u001B[38;5;124;43m'\u001B[39;49m\u001B[38;5;124;43mproduct\u001B[39;49m\u001B[38;5;124;43m'\u001B[39;49m\u001B[43m:\u001B[49m\u001B[43m \u001B[49m\u001B[43muser_input\u001B[49m\u001B[43m[\u001B[49m\u001B[38;5;124;43m'\u001B[39;49m\u001B[38;5;124;43mproduct\u001B[39;49m\u001B[38;5;124;43m'\u001B[39;49m\u001B[43m]\u001B[49m\u001B[43m,\u001B[49m\u001B[43m \u001B[49m\u001B[38;5;124;43m'\u001B[39;49m\u001B[38;5;124;43mcomplaint\u001B[39;49m\u001B[38;5;124;43m'\u001B[39;49m\u001B[43m:\u001B[49m\u001B[43m \u001B[49m\u001B[43muser_input\u001B[49m\u001B[43m[\u001B[49m\u001B[38;5;124;43m'\u001B[39;49m\u001B[38;5;124;43mcomplaint\u001B[39;49m\u001B[38;5;124;43m'\u001B[39;49m\u001B[43m]\u001B[49m\u001B[43m,\u001B[49m\u001B[43m \u001B[49m\u001B[38;5;124;43m'\u001B[39;49m\u001B[38;5;124;43mchat_history\u001B[39;49m\u001B[38;5;124;43m'\u001B[39;49m\u001B[43m:\u001B[49m\u001B[43m \u001B[49m\u001B[43muser_input\u001B[49m\u001B[43m[\u001B[49m\u001B[38;5;124;43m'\u001B[39;49m\u001B[38;5;124;43mchat_history\u001B[39;49m\u001B[38;5;124;43m'\u001B[39;49m\u001B[43m]\u001B[49m\u001B[43m}\u001B[49m\u001B[43m)\u001B[49m\n\u001B[1;32m     78\u001B[0m     \u001B[38;5;28;01mreturn\u001B[39;00m info\n",
      "File \u001B[0;32m~/propilot/.venv/lib/python3.11/site-packages/langchain_core/runnables/base.py:2309\u001B[0m, in \u001B[0;36mRunnableSequence.invoke\u001B[0;34m(self, input, config)\u001B[0m\n\u001B[1;32m   2307\u001B[0m \u001B[38;5;28;01mtry\u001B[39;00m:\n\u001B[1;32m   2308\u001B[0m     \u001B[38;5;28;01mfor\u001B[39;00m i, step \u001B[38;5;129;01min\u001B[39;00m \u001B[38;5;28menumerate\u001B[39m(\u001B[38;5;28mself\u001B[39m\u001B[38;5;241m.\u001B[39msteps):\n\u001B[0;32m-> 2309\u001B[0m         \u001B[38;5;28minput\u001B[39m \u001B[38;5;241m=\u001B[39m \u001B[43mstep\u001B[49m\u001B[38;5;241;43m.\u001B[39;49m\u001B[43minvoke\u001B[49m\u001B[43m(\u001B[49m\n\u001B[1;32m   2310\u001B[0m \u001B[43m            \u001B[49m\u001B[38;5;28;43minput\u001B[39;49m\u001B[43m,\u001B[49m\n\u001B[1;32m   2311\u001B[0m \u001B[43m            \u001B[49m\u001B[38;5;66;43;03m# mark each step as a child run\u001B[39;49;00m\n\u001B[1;32m   2312\u001B[0m \u001B[43m            \u001B[49m\u001B[43mpatch_config\u001B[49m\u001B[43m(\u001B[49m\n\u001B[1;32m   2313\u001B[0m \u001B[43m                \u001B[49m\u001B[43mconfig\u001B[49m\u001B[43m,\u001B[49m\u001B[43m \u001B[49m\u001B[43mcallbacks\u001B[49m\u001B[38;5;241;43m=\u001B[39;49m\u001B[43mrun_manager\u001B[49m\u001B[38;5;241;43m.\u001B[39;49m\u001B[43mget_child\u001B[49m\u001B[43m(\u001B[49m\u001B[38;5;124;43mf\u001B[39;49m\u001B[38;5;124;43m\"\u001B[39;49m\u001B[38;5;124;43mseq:step:\u001B[39;49m\u001B[38;5;132;43;01m{\u001B[39;49;00m\u001B[43mi\u001B[49m\u001B[38;5;241;43m+\u001B[39;49m\u001B[38;5;241;43m1\u001B[39;49m\u001B[38;5;132;43;01m}\u001B[39;49;00m\u001B[38;5;124;43m\"\u001B[39;49m\u001B[43m)\u001B[49m\n\u001B[1;32m   2314\u001B[0m \u001B[43m            \u001B[49m\u001B[43m)\u001B[49m\u001B[43m,\u001B[49m\n\u001B[1;32m   2315\u001B[0m \u001B[43m        \u001B[49m\u001B[43m)\u001B[49m\n\u001B[1;32m   2316\u001B[0m \u001B[38;5;66;03m# finish the root run\u001B[39;00m\n\u001B[1;32m   2317\u001B[0m \u001B[38;5;28;01mexcept\u001B[39;00m \u001B[38;5;167;01mBaseException\u001B[39;00m \u001B[38;5;28;01mas\u001B[39;00m e:\n",
      "File \u001B[0;32m~/propilot/.venv/lib/python3.11/site-packages/langchain_core/runnables/base.py:3771\u001B[0m, in \u001B[0;36mRunnableLambda.invoke\u001B[0;34m(self, input, config, **kwargs)\u001B[0m\n\u001B[1;32m   3769\u001B[0m \u001B[38;5;250m\u001B[39m\u001B[38;5;124;03m\"\"\"Invoke this runnable synchronously.\"\"\"\u001B[39;00m\n\u001B[1;32m   3770\u001B[0m \u001B[38;5;28;01mif\u001B[39;00m \u001B[38;5;28mhasattr\u001B[39m(\u001B[38;5;28mself\u001B[39m, \u001B[38;5;124m\"\u001B[39m\u001B[38;5;124mfunc\u001B[39m\u001B[38;5;124m\"\u001B[39m):\n\u001B[0;32m-> 3771\u001B[0m     \u001B[38;5;28;01mreturn\u001B[39;00m \u001B[38;5;28;43mself\u001B[39;49m\u001B[38;5;241;43m.\u001B[39;49m\u001B[43m_call_with_config\u001B[49m\u001B[43m(\u001B[49m\n\u001B[1;32m   3772\u001B[0m \u001B[43m        \u001B[49m\u001B[38;5;28;43mself\u001B[39;49m\u001B[38;5;241;43m.\u001B[39;49m\u001B[43m_invoke\u001B[49m\u001B[43m,\u001B[49m\n\u001B[1;32m   3773\u001B[0m \u001B[43m        \u001B[49m\u001B[38;5;28;43minput\u001B[39;49m\u001B[43m,\u001B[49m\n\u001B[1;32m   3774\u001B[0m \u001B[43m        \u001B[49m\u001B[38;5;28;43mself\u001B[39;49m\u001B[38;5;241;43m.\u001B[39;49m\u001B[43m_config\u001B[49m\u001B[43m(\u001B[49m\u001B[43mconfig\u001B[49m\u001B[43m,\u001B[49m\u001B[43m \u001B[49m\u001B[38;5;28;43mself\u001B[39;49m\u001B[38;5;241;43m.\u001B[39;49m\u001B[43mfunc\u001B[49m\u001B[43m)\u001B[49m\u001B[43m,\u001B[49m\n\u001B[1;32m   3775\u001B[0m \u001B[43m        \u001B[49m\u001B[38;5;241;43m*\u001B[39;49m\u001B[38;5;241;43m*\u001B[39;49m\u001B[43mkwargs\u001B[49m\u001B[43m,\u001B[49m\n\u001B[1;32m   3776\u001B[0m \u001B[43m    \u001B[49m\u001B[43m)\u001B[49m\n\u001B[1;32m   3777\u001B[0m \u001B[38;5;28;01melse\u001B[39;00m:\n\u001B[1;32m   3778\u001B[0m     \u001B[38;5;28;01mraise\u001B[39;00m \u001B[38;5;167;01mTypeError\u001B[39;00m(\n\u001B[1;32m   3779\u001B[0m         \u001B[38;5;124m\"\u001B[39m\u001B[38;5;124mCannot invoke a coroutine function synchronously.\u001B[39m\u001B[38;5;124m\"\u001B[39m\n\u001B[1;32m   3780\u001B[0m         \u001B[38;5;124m\"\u001B[39m\u001B[38;5;124mUse `ainvoke` instead.\u001B[39m\u001B[38;5;124m\"\u001B[39m\n\u001B[1;32m   3781\u001B[0m     )\n",
      "File \u001B[0;32m~/propilot/.venv/lib/python3.11/site-packages/langchain_core/runnables/base.py:1488\u001B[0m, in \u001B[0;36mRunnable._call_with_config\u001B[0;34m(self, func, input, config, run_type, **kwargs)\u001B[0m\n\u001B[1;32m   1484\u001B[0m     context \u001B[38;5;241m=\u001B[39m copy_context()\n\u001B[1;32m   1485\u001B[0m     context\u001B[38;5;241m.\u001B[39mrun(var_child_runnable_config\u001B[38;5;241m.\u001B[39mset, child_config)\n\u001B[1;32m   1486\u001B[0m     output \u001B[38;5;241m=\u001B[39m cast(\n\u001B[1;32m   1487\u001B[0m         Output,\n\u001B[0;32m-> 1488\u001B[0m         \u001B[43mcontext\u001B[49m\u001B[38;5;241;43m.\u001B[39;49m\u001B[43mrun\u001B[49m\u001B[43m(\u001B[49m\n\u001B[1;32m   1489\u001B[0m \u001B[43m            \u001B[49m\u001B[43mcall_func_with_variable_args\u001B[49m\u001B[43m,\u001B[49m\u001B[43m  \u001B[49m\u001B[38;5;66;43;03m# type: ignore[arg-type]\u001B[39;49;00m\n\u001B[1;32m   1490\u001B[0m \u001B[43m            \u001B[49m\u001B[43mfunc\u001B[49m\u001B[43m,\u001B[49m\u001B[43m  \u001B[49m\u001B[38;5;66;43;03m# type: ignore[arg-type]\u001B[39;49;00m\n\u001B[1;32m   1491\u001B[0m \u001B[43m            \u001B[49m\u001B[38;5;28;43minput\u001B[39;49m\u001B[43m,\u001B[49m\u001B[43m  \u001B[49m\u001B[38;5;66;43;03m# type: ignore[arg-type]\u001B[39;49;00m\n\u001B[1;32m   1492\u001B[0m \u001B[43m            \u001B[49m\u001B[43mconfig\u001B[49m\u001B[43m,\u001B[49m\n\u001B[1;32m   1493\u001B[0m \u001B[43m            \u001B[49m\u001B[43mrun_manager\u001B[49m\u001B[43m,\u001B[49m\n\u001B[1;32m   1494\u001B[0m \u001B[43m            \u001B[49m\u001B[38;5;241;43m*\u001B[39;49m\u001B[38;5;241;43m*\u001B[39;49m\u001B[43mkwargs\u001B[49m\u001B[43m,\u001B[49m\n\u001B[1;32m   1495\u001B[0m \u001B[43m        \u001B[49m\u001B[43m)\u001B[49m,\n\u001B[1;32m   1496\u001B[0m     )\n\u001B[1;32m   1497\u001B[0m \u001B[38;5;28;01mexcept\u001B[39;00m \u001B[38;5;167;01mBaseException\u001B[39;00m \u001B[38;5;28;01mas\u001B[39;00m e:\n\u001B[1;32m   1498\u001B[0m     run_manager\u001B[38;5;241m.\u001B[39mon_chain_error(e)\n",
      "File \u001B[0;32m~/propilot/.venv/lib/python3.11/site-packages/langchain_core/runnables/config.py:347\u001B[0m, in \u001B[0;36mcall_func_with_variable_args\u001B[0;34m(func, input, config, run_manager, **kwargs)\u001B[0m\n\u001B[1;32m    345\u001B[0m \u001B[38;5;28;01mif\u001B[39;00m run_manager \u001B[38;5;129;01mis\u001B[39;00m \u001B[38;5;129;01mnot\u001B[39;00m \u001B[38;5;28;01mNone\u001B[39;00m \u001B[38;5;129;01mand\u001B[39;00m accepts_run_manager(func):\n\u001B[1;32m    346\u001B[0m     kwargs[\u001B[38;5;124m\"\u001B[39m\u001B[38;5;124mrun_manager\u001B[39m\u001B[38;5;124m\"\u001B[39m] \u001B[38;5;241m=\u001B[39m run_manager\n\u001B[0;32m--> 347\u001B[0m \u001B[38;5;28;01mreturn\u001B[39;00m \u001B[43mfunc\u001B[49m\u001B[43m(\u001B[49m\u001B[38;5;28;43minput\u001B[39;49m\u001B[43m,\u001B[49m\u001B[43m \u001B[49m\u001B[38;5;241;43m*\u001B[39;49m\u001B[38;5;241;43m*\u001B[39;49m\u001B[43mkwargs\u001B[49m\u001B[43m)\u001B[49m\n",
      "File \u001B[0;32m~/propilot/.venv/lib/python3.11/site-packages/langchain_core/runnables/base.py:3645\u001B[0m, in \u001B[0;36mRunnableLambda._invoke\u001B[0;34m(self, input, run_manager, config, **kwargs)\u001B[0m\n\u001B[1;32m   3643\u001B[0m                 output \u001B[38;5;241m=\u001B[39m chunk\n\u001B[1;32m   3644\u001B[0m \u001B[38;5;28;01melse\u001B[39;00m:\n\u001B[0;32m-> 3645\u001B[0m     output \u001B[38;5;241m=\u001B[39m \u001B[43mcall_func_with_variable_args\u001B[49m\u001B[43m(\u001B[49m\n\u001B[1;32m   3646\u001B[0m \u001B[43m        \u001B[49m\u001B[38;5;28;43mself\u001B[39;49m\u001B[38;5;241;43m.\u001B[39;49m\u001B[43mfunc\u001B[49m\u001B[43m,\u001B[49m\u001B[43m \u001B[49m\u001B[38;5;28;43minput\u001B[39;49m\u001B[43m,\u001B[49m\u001B[43m \u001B[49m\u001B[43mconfig\u001B[49m\u001B[43m,\u001B[49m\u001B[43m \u001B[49m\u001B[43mrun_manager\u001B[49m\u001B[43m,\u001B[49m\u001B[43m \u001B[49m\u001B[38;5;241;43m*\u001B[39;49m\u001B[38;5;241;43m*\u001B[39;49m\u001B[43mkwargs\u001B[49m\n\u001B[1;32m   3647\u001B[0m \u001B[43m    \u001B[49m\u001B[43m)\u001B[49m\n\u001B[1;32m   3648\u001B[0m \u001B[38;5;66;03m# If the output is a runnable, invoke it\u001B[39;00m\n\u001B[1;32m   3649\u001B[0m \u001B[38;5;28;01mif\u001B[39;00m \u001B[38;5;28misinstance\u001B[39m(output, Runnable):\n",
      "File \u001B[0;32m~/propilot/.venv/lib/python3.11/site-packages/langchain_core/runnables/config.py:347\u001B[0m, in \u001B[0;36mcall_func_with_variable_args\u001B[0;34m(func, input, config, run_manager, **kwargs)\u001B[0m\n\u001B[1;32m    345\u001B[0m \u001B[38;5;28;01mif\u001B[39;00m run_manager \u001B[38;5;129;01mis\u001B[39;00m \u001B[38;5;129;01mnot\u001B[39;00m \u001B[38;5;28;01mNone\u001B[39;00m \u001B[38;5;129;01mand\u001B[39;00m accepts_run_manager(func):\n\u001B[1;32m    346\u001B[0m     kwargs[\u001B[38;5;124m\"\u001B[39m\u001B[38;5;124mrun_manager\u001B[39m\u001B[38;5;124m\"\u001B[39m] \u001B[38;5;241m=\u001B[39m run_manager\n\u001B[0;32m--> 347\u001B[0m \u001B[38;5;28;01mreturn\u001B[39;00m \u001B[43mfunc\u001B[49m\u001B[43m(\u001B[49m\u001B[38;5;28;43minput\u001B[39;49m\u001B[43m,\u001B[49m\u001B[43m \u001B[49m\u001B[38;5;241;43m*\u001B[39;49m\u001B[38;5;241;43m*\u001B[39;49m\u001B[43mkwargs\u001B[49m\u001B[43m)\u001B[49m\n",
      "Cell \u001B[0;32mIn[22], line 63\u001B[0m, in \u001B[0;36mmAgentInfo.agent_coworker_info.<locals>.extract_cues\u001B[0;34m(chain_output)\u001B[0m\n\u001B[1;32m     62\u001B[0m \u001B[38;5;28;01mdef\u001B[39;00m \u001B[38;5;21mextract_cues\u001B[39m(chain_output):\n\u001B[0;32m---> 63\u001B[0m     cues_text \u001B[38;5;241m=\u001B[39m \u001B[43mchain_output\u001B[49m\u001B[38;5;241;43m.\u001B[39;49m\u001B[43mcontent\u001B[49m\n\u001B[1;32m     64\u001B[0m     \u001B[38;5;66;03m# Assuming each cue is separated by a newline in the chain_output.\u001B[39;00m\n\u001B[1;32m     65\u001B[0m     cues \u001B[38;5;241m=\u001B[39m cues_text\u001B[38;5;241m.\u001B[39msplit(\u001B[38;5;124m'\u001B[39m\u001B[38;5;130;01m\\n\u001B[39;00m\u001B[38;5;124m'\u001B[39m)\n",
      "\u001B[0;31mAttributeError\u001B[0m: 'str' object has no attribute 'content'"
     ]
    }
   ],
   "source": [
    "import time\n",
    "\n",
    "# Assuming agent_call is a function that simulates calling an agent\n",
    "# and returns its response.\n",
    "\n",
    "# chat_history = [AIMessage(content=\"\"\"@Dominos I ordered a pizza from you guys and it arrived cold and soggy. Not the delicious meal I was hoping for. Disappointed and hungry.\"\"\"), HumanMessage(content=\"Sorry, could you please share your order number?\")]\n",
    "# complaint = \"Do I look like I memorize every insignificant number? It's your job to fix this, not mine. Here, since you can't seem to do it yourself: 85692347. Happy now?\"\n",
    "# situation = agent_coworker_emo_reappraisal_situation().invoke({'complaint':complaint, 'chat_history':chat_history})\n",
    "# agent_coworker_info()\n",
    "\n",
    "class mAgentInfo:\n",
    "    def get_historical_context_chain(self):\n",
    "        contextualize_q_system_prompt = \"\"\"Given a chat history and the latest user question \\\n",
    "        which might reference context in the chat history, formulate a standalone question \\\n",
    "        which can be understood without the chat history. Do NOT answer the question, \\\n",
    "        just reformulate it if needed and otherwise return it as is.\"\"\"\n",
    "        contextualize_q_prompt = ChatPromptTemplate.from_messages(\n",
    "            [\n",
    "                (\"system\", contextualize_q_system_prompt),\n",
    "                MessagesPlaceholder(variable_name=\"chat_history\"),\n",
    "                (\"human\", \"{question}\"),\n",
    "            ]\n",
    "        )\n",
    "        contextualize_q_chain = contextualize_q_prompt | llmchat | StrOutputParser()\n",
    "        return contextualize_q_chain\n",
    "\n",
    "    def agent_coworker_info(self):\n",
    "        client = mLangChain()\n",
    "        prompt = \"\"\"Your role is to help a service representative by providing INFORMATIONAL SUPPORT. \\\n",
    "                    The representative is chatting online with a customer complaining about {product}.  \\\n",
    "                    \n",
    "                    Given the chat history,\n",
    "                    provide 2-3 hints to help the representative's response.\\\n",
    "                    The hints should direct the representative to do ONLY ONE of the following:\\\n",
    "                    \n",
    "                    1) Inquire more details about the problem. OR \\\n",
    "                    2) Request the customer to troubleshoot. OR \\\n",
    "                    3) Provide a solution to resolve the customer's need. \\\n",
    "                    \n",
    "                    Each cue should be a single phrase of less than 10 words.\\\n",
    "                    Do NOT number the cues.\\\n",
    "                    \n",
    "                    Customer message: {complaint}\n",
    "                    Hints: \n",
    "                \"\"\"\n",
    "        template = ChatPromptTemplate.from_messages(\n",
    "            [\n",
    "                (\"system\", prompt),\n",
    "                MessagesPlaceholder(variable_name=\"chat_history\"),\n",
    "                (\"user\", \"{product}: {complaint}\"),\n",
    "            ]\n",
    "        )\n",
    "        chain = template | client.client_completion\n",
    "\n",
    "        chain = (RunnablePassthrough.assign(\n",
    "            context=self.history_chain\n",
    "        )\n",
    "                | template\n",
    "                | llmchat\n",
    "                )\n",
    "        \n",
    "        def extract_cues(chain_output):\n",
    "            cues_text = chain_output.content\n",
    "            # Assuming each cue is separated by a newline in the chain_output.\n",
    "            cues = cues_text.split('\\n')\n",
    "            # Filter out any empty strings or whitespace-only strings\n",
    "            cues = [cue.strip() for cue in cues if cue.strip()]\n",
    "            # Return the first 2 - 3 cues\n",
    "            processed_cues = [re.sub(r'^\\d+\\.\\s*', '', cue) for cue in cues]\n",
    "            return processed_cues[:3]\n",
    "        \n",
    "        chain = chain | extract_cues\n",
    "\n",
    "        return chain\n",
    "    \n",
    "    def invoke(self, user_input):\n",
    "        info = self.info_chain.invoke({'product': user_input['product'], 'complaint': user_input['complaint'], 'chat_history': user_input['chat_history']})\n",
    "        return info\n",
    "    \n",
    "    def __init__(self):\n",
    "            self.history_chain = self.get_historical_context_chain()\n",
    "            self.info_chain = self.agent_coworker_info()\n",
    "\n",
    "def test_agent_performance(agent_function, input_data, num_calls=100):\n",
    "    total_time = 0\n",
    "    for _ in range(num_calls):\n",
    "        start_time = time.time()\n",
    "        res = agent_function.invoke({'product': input_data[0], 'complaint': input_data[1], 'chat_history': input_data[2]})\n",
    "        end_time = time.time()\n",
    "        print(res)\n",
    "        total_time += (end_time - start_time)\n",
    "    average_time = total_time / num_calls\n",
    "    return average_time\n",
    "\n",
    "# Define fixed complaint and chat history\n",
    "product = \"pizza\"\n",
    "fixed_complaint = \"Do I look like I memorize every insignificant number? It's your job to fix this, not mine. Here, since you can't seem to do it yourself: 85692347. Happy now?\"\n",
    "chat_history = [AIMessage(content=\"\"\"@Dominos I ordered a pizza from you guys and it arrived cold and soggy. Not the delicious meal I was hoping for. Disappointed and hungry.\"\"\"), HumanMessage(content=\"Sorry, could you please share your order number?\")]\n",
    "input_data = [product, fixed_complaint, chat_history]\n",
    "infoAgent = mAgentInfo()\n",
    "info_agent1_avg_time = test_agent_performance(infoAgent, input_data)\n",
    "\n",
    "# Output the results\n",
    "print(f\"Info Agent 1 Average Time: {info_agent1_avg_time}\")\n",
    "# Info Agent 1 Average Time: 6.716837291717529\n"
   ]
  },
  {
   "cell_type": "code",
   "execution_count": 4,
   "id": "47604389",
   "metadata": {
    "ExecuteTime": {
     "end_time": "2024-06-27T14:36:42.828554Z",
     "start_time": "2024-06-27T14:34:13.222073Z"
    }
   },
   "outputs": [
    {
     "name": "stdout",
     "output_type": "stream",
     "text": [
      "                    Reframe: I understand the customer's frustration and I am committed to finding a solution for them. I will use the order number to investigate and make sure this doesn't happen again.\n",
      "                    Reframe: I understand how frustrating it can be to receive a disappointing order. I want to make sure we can address this issue and provide a solution. Can you please provide your order number so I can look into this further for you?\n",
      "                    Reframe: The representative is actively working to help me resolve this issue and ensure that I am satisfied with my order. I appreciate their empathy and willingness to assist me.\n",
      "\n",
      "Reframe: I am glad the customer reached out to us to address their concerns. It is important to provide prompt and effective customer service to ensure their satisfaction and uphold our company's reputation. By asking for the order number, I will be able to quickly resolve the issue and make sure the customer receives a hot and delicious pizza.\n",
      " \n",
      "Reframe: The customer's frustration is understandable and they are looking for a solution to their issue. I will do my best to help them and make sure they are satisfied with their order.\n",
      "                    Reframe:It's understandable that the customer is frustrated and hungry. I need to focus on finding a solution and making sure they are satisfied with their order.\n",
      " \n",
      "\n",
      "Reframe: I have the opportunity to turn this negative experience into a positive one for the customer. I will do my best to address their concerns and make sure they leave satisfied with their order.\n",
      " \n",
      "Reframe: The customer's experience was not what they were hoping for and it's my job to make it right. I will listen to their concerns and work towards finding a solution that will leave them satisfied.\n",
      "                    Reframe: I understand that this customer had high expectations for their meal and it must be disappointing to receive it in an unsatisfactory state. I will do my best to make things right and ensure that their next order is hot and delicious.\n",
      "                    Reframe: I can empathize with the customer's disappointment and hunger. I will do my best to address their concerns and find a way to make things right for them.\n",
      " \n",
      "Reframe: I understand the customer's frustration and I am committed to finding a solution to make sure they are satisfied with their order. Asking for the order number will help me address their specific concerns.\n",
      "\n",
      "Reframe: My main priority is to make sure the customer feels heard and valued. I will do my best to resolve their issue and ensure a better experience with our company in the future.\n",
      "                    Reframe: The customer's negative experience is a priority and we must work to make things right for them. I will gather all the necessary information to help resolve the issue and ensure they have a better experience next time. \n",
      " \n",
      "\n",
      "Reframe: The representative is showing genuine concern for the customer's experience and is taking necessary steps to address the issue and make things right.\n",
      " Reframe: The customer's experience is important to us and I am determined to make it right by offering a speedy resolution and ensuring that their next order is prepared to their satisfaction.\n",
      "                    Reframe: I understand how disappointing it can be to receive a cold and soggy order, especially when you're hungry. I want to make sure we can resolve this for you as soon as possible. Can you please provide me with your order number so I can look into this for you?\n",
      "                    Reframe: I understand how frustrating it is to receive a disappointing order, especially when you're hungry. I want to make things right and ensure you have a positive experience with Dominos. Let's work together to find a solution that will satisfy your hunger and meet your expectations.\n",
      "\n",
      "Reframe: I understand that the customer is disappointed and hungry. As a representative, it is my responsibility to make sure their issue is resolved and they receive a delicious meal as soon as possible.\n",
      " \n",
      "Reframe: The representative is doing their best to help the customer and make things right. I am grateful for their assistance and understanding.\n",
      "                    Reframe: This is a chance for me to show my customer service skills and make sure the customer is satisfied. I will work with the team to ensure their next order is hot and fresh.\n",
      "\n",
      "Reframe: I have the opportunity to turn this negative experience into a positive one by providing excellent customer service and finding a solution for the customer.\n",
      "                    Reframe: The customer is understandably disappointed and frustrated with their experience, and it is the representative's responsibility to address their concerns and find a solution. By requesting the order number, the representative is taking the necessary steps to resolve the issue and ensure the customer's satisfaction. \n",
      " \n",
      "Reframe: The customer is clearly disappointed and hungry, but they are also reaching out for help in resolving the issue. I can use this as an opportunity to make things right and provide a satisfying experience for them.\n",
      " Reframe: The representative is actively trying to find a solution to the problem and is showing empathy towards the customer's experience. They are taking responsibility for addressing the issue and making things right for the customer.\n",
      "                    \n",
      "Reframe: It's important for me to understand the customer's experience and what went wrong with their order. By asking for the order number, I can gather more information and work towards finding a solution. I want to make sure the customer is satisfied and has a positive experience with our company.\n",
      "                    Reframe: It's understandable that the customer would be disappointed with their cold and soggy pizza. I will do my best to resolve the issue and make sure they are satisfied with their order.\n",
      " Reframe: The customer's emotions are valid and it is the representative's responsibility to address their concerns and make things right. Asking for the order number shows that the representative is taking the complaint seriously and is willing to take action to resolve the issue.\n",
      " \n",
      "Reframe: I understand how disappointing it can be to receive a subpar pizza. I am committed to finding a solution and making things right for the customer. Requesting the order number will help me gather more information and provide better assistance.\n",
      "                    Reframe: The customer's feedback is valuable and will help us improve our services. The representative is actively listening and taking note of the specific details provided to ensure a satisfactory resolution for the customer.\n",
      "                    Reframe: The customer deserves to have their concerns addressed and I can work with them to find a solution that will satisfy their hunger and disappointment.\n",
      "                    Reframe:I understand that the customer is disappointed and hungry, and it's my job to help them find a solution to their complaint. I will work to make sure they are satisfied with their experience and that their next pizza is hot and delicious.\n",
      "                    Reframe: It's understandable that the customer is upset and hungry after receiving a subpar pizza. As a representative, I am here to listen and make things right. I will do my best to find a solution and ensure that their future orders are of the highest quality.\n",
      "                    Reframe: I understand that the customer is upset and it is my responsibility to ensure that their concerns are addressed. By asking for the order number, I can gather more information and work towards finding a solution. My goal is to provide a positive resolution and ensure that the customer's experience with Dominos is a good one.\n",
      "\n",
      "Reframe: It's clear that the customer had high expectations for their meal and unfortunately it fell short. I want to make sure we address this issue and make sure they have a positive experience with Dominos in the future.\n",
      "                    Reframe: I am here to help the customer and find a solution to their problem. I am glad they are bringing this to our attention so we can improve our service and ensure their future orders are of the highest quality.\n",
      "                    \n",
      "Reframe: It's understandable that the customer is upset and disappointed. As a representative, I want to make sure they have a positive experience with our company. I will do my best to find a solution to their issue and make sure their next order is hot and delicious.\n",
      "\n",
      "Thought: This pizza is terrible, I can't believe I wasted my money on it.                    Reframe: It's frustrating that my pizza arrived cold and soggy. I should contact Dominos and provide my order number to see if they can make it right.\n",
      "\n",
      "Reframe: It's important to gather more details about the customer's order so I can understand what went wrong and find a solution to make things right.\n",
      "                    Reframe: I can understand how frustrating it must be to receive a pizza that is not up to our standards. I am committed to finding a solution that will satisfy the customer and ensure they have a positive experience with our company.\n",
      "                    Reframe: It's understandable that the customer is disappointed with their order. I'll do my best to gather more information and figure out how we can make it right for them.\n",
      "\n",
      "Reframe: It's understandable that the customer may have forgotten to provide their order number in the frustration of receiving a disappointing meal. I can still try to help them by asking for more details about their order and offering a solution to make things right. I hope I can turn this situation around for them and make them feel satisfied with their experience.\n",
      "                    Reframe: The representative is showing empathy and trying to understand the situation in order to provide a satisfactory resolution for the customer's experience.\n",
      " Reframe: I understand that the customer is upset and may not be in the best mindset to provide their order number right away. I will remain patient and try to find a solution to make their experience better.\n",
      "                    Reframe: I understand how frustrating it can be to receive a cold and soggy order. I want to make sure we make this right for you and ensure your satisfaction with our brand. Can you please provide me with your order number so I can assist you further?\n",
      "                    Reframe: This customer is clearly unsatisfied with their order and is looking to me for a resolution. I will remain calm and empathetic while addressing their concerns and work towards finding a suitable solution for them.\n",
      " Reframe: I understand how frustrating it must be to receive a cold and soggy order. I will do my best to make sure this does not happen again and ensure that your future orders are delivered promptly and in the best quality possible.\n",
      "\n",
      "Reframe: I understand that the customer is upset and hungry, and I want to help them have a better experience. I will kindly request their order number so I can quickly address the issue and make sure they receive a hot and delicious pizza.\n",
      " Reframe: It's understandable that the customer is upset. As a representative, I want to make sure we can fix the issue with their order and make sure they are satisfied. Asking for the order number will allow me to quickly and efficiently help them.\n",
      "                    Reframe: The customer's dissatisfaction is a chance for me to improve their experience and show them that their satisfaction is important to us. I will do my best to gather all the necessary information and find a solution that will leave them satisfied and happy with their meal.\n",
      " \n",
      "Reframe: The customer is understandably upset and I want to make sure I have all the necessary details to address their concerns and provide a satisfactory solution.\n",
      " \n",
      "Reframe: I understand how frustrating it can be to receive a cold and soggy pizza. I want to make sure we fix this issue for you and ensure that your next order is delivered hot and fresh. May I have your order number so I can look into this for you? \n",
      "                    Reframe: The customer's satisfaction and experience is important to the representative and they are using this feedback to improve the company's processes and ensure a better experience for future customers.\n",
      " \n",
      "Reframe: The customer must be really hungry and disappointed. I can understand their frustration and I am here to help make things right. I will gather all the necessary details to ensure we can provide a satisfying resolution.\n",
      " Reframe: The customer is understandably upset about their order and it's my job to gather all the necessary information to resolve the issue and make things right.\n",
      " Reframe: The representative is empathizing with the customer's disappointment and wants to make things right for them. They are taking proactive steps to address the issue and ensure the customer's future satisfaction.\n",
      "                    Reframe: I understand how disappointing it can be to receive a cold and soggy order. I want to make sure we fix this issue for you and ensure that your future orders are delivered hot and fresh.\n",
      "                    Reframe: I understand the customer's frustration and I want to make sure their experience with Dominos is a positive one. By asking for the order number, I can help address the issue and ensure they receive a hot and delicious pizza.\n",
      "                    Reframe: I can empathize with the customer's disappointment and hunger. My priority is to find a solution to their complaint and ensure they have a positive experience with our company. I will try my best to make things right for them.\n",
      " Reframe: I have the opportunity to help this customer and make their experience better.\n",
      "                    Reframe: I understand the customer's frustration and I am eager to find a solution for them. I will gather all the necessary information, including the order number, to ensure that we can address the issue effectively.\n",
      "                    Reframe: The customer's complaint is valid and it's my job to help find a solution. I can use this feedback to improve the customer's experience in the future.\n",
      " \n",
      "Reframe: The representative is working hard to find a solution for the customer's issue and ensure their satisfaction. It's understandable that they may be feeling overwhelmed, but they are dedicated to resolving the problem and making things right. I trust that they will do their best to help me.\n",
      "\n",
      "Reframe: I understand that the customer is disappointed with their order and I want to make sure I gather all the necessary details to help resolve the issue and make things right for them.\n",
      "\n",
      "Reframe: I understand how disappointing it can be to receive a cold and soggy pizza. I want to make things right and find a solution for you. Can you provide me with your order number so I can take a look into this?\n",
      "\n",
      "\n",
      "Reframe: I understand that this customer may be upset about their pizza being cold and soggy. I need to show empathy and ask for their order number so I can quickly resolve the issue and make sure they are satisfied with their pizza.\n",
      "\n",
      "Reframe: I understand how frustrating it can be to receive a less than satisfactory meal. I am committed to resolving this issue for the customer and making sure they receive a hot and delicious pizza.\n",
      "  \n",
      "Reframe: The representative is genuinely concerned about the customer's experience and wants to make things right. They are actively trying to gather information to help resolve the issue and ensure the customer is satisfied.\n",
      " This is an opportunity for me to empathize with their situation and find a solution to make things right. \n",
      "                    Reframe: It's unfortunate that the customer had a bad experience with their pizza order. I will do my best to help them and make sure their next order is perfect.\n",
      "\n",
      "\n",
      "Reframe: I have an opportunity to improve the customer's experience and potentially turn this situation into a positive one. I will listen to their feedback and work towards finding a solution that meets their expectations.\n",
      " Reframe: I am glad the customer is bringing this issue to my attention so I can help find a solution for them. I will do my best to make sure they feel satisfied and valued as a customer.\n",
      "                    Reframe: The representative is showing empathy and actively working towards finding a solution to make the customer's experience better. Asking for the order number will help them identify the specific issue and take appropriate action.\n",
      "\n",
      "Reframe: The customer's feedback is important to us and we want to make sure we address their concerns. Asking for the order number will help us identify the specific order and address the issue effectively. I will do my best to resolve this and make sure the customer receives a hot and delicious pizza.\n",
      " They are doing their best to make things right and I appreciate their effort.\n",
      "                    Reframe: I understand how frustrating it can be to receive a cold and soggy pizza. I will do my best to address this issue and make sure you are satisfied with your order. Let me gather all the necessary details to resolve this for you.\n",
      "                    Reframe: The representative is showing empathy and taking action to help the customer have a better experience with Dominos. They are working to find a solution and make things right for the customer. \n",
      "                    Reframe: The customer's feedback is important to improve our services and the representative is genuinely trying to help find a solution. I will provide the order number to assist in the process.\n",
      "                    Reframe: I am here to assist the customer and gather more information to help resolve this issue. By asking for the order number, I can better understand what went wrong with their order and work towards finding a solution. \n",
      "                    Reframe: It's understandable that the customer is disappointed with their experience. I will apologize for the inconvenience and work to find a solution that will satisfy their expectations.\n",
      "                    Reframe: I can empathize with the customer's frustration and hunger. I will do my best to resolve this issue and make sure their next order is delivered hot and fresh.\n",
      "                    Reframe: I can ask the customer for their order number and apologize for the inconvenience. This will help me get more information to better assist them and show that I am willing to help resolve their issue.\n",
      "\n",
      "Reframe: I understand that the customer is frustrated and hungry because their pizza was not up to their expectations. By asking for their order number, I can gather more information and work towards finding a satisfactory solution for them.\n",
      "\n",
      "Reframe: I understand how disappointing it is to receive a cold and soggy pizza, especially when you were looking forward to a satisfying meal. Let me see what I can do to make this right for you.\n",
      "                    Reframe: The customer's experience is important to me and I want to make sure they are satisfied with their order. I will work with them to find a solution to ensure they receive a hot and delicious pizza.\n",
      "                    Reframe: I understand that the customer is disappointed with their order and I want to do my best to resolve the issue and make sure they are satisfied with their experience.\n",
      " Reframe: I understand the customer's frustration and it is my job to make sure they have a positive experience with our company. I will do my best to find a solution and make things right for them.\n",
      "\n",
      "Reframe: This customer's experience is not reflective of our usual high quality standards. I need to gather more information to understand what went wrong and find a solution to make it right for them.\n",
      "\n",
      "Reframe: As a representative, it is my responsibility to ensure that our customers have a positive experience with our products. I will do my best to address their concerns and offer a suitable solution, even without their order number.\n",
      "                    Reframe: I understand that the customer is frustrated and disappointed with their order. I want to help make things right, but I need more details to better understand the situation. Asking for the order number will allow me to investigate and come up with a solution.\n",
      "                    Reframe: The customer is giving me the opportunity to make things right and improve their experience. I am grateful for their willingness to share their order number and I am determined to find a solution that will leave them satisfied.\n",
      "                    Reframe: This customer's experience is important to me and I want to do everything I can to make it better. I will listen to their concerns and work towards finding a solution that will satisfy them.\n",
      "                    Reframe: I understand the customer's frustration and I am determined to make things right for them. I will do my best to resolve this issue and provide them with a delicious and hot pizza as soon as possible.\n",
      "                    Reframe: It's important to acknowledge the customer's feelings and apologize for their negative experience. I will do my best to resolve the issue and offer a solution that will leave them satisfied and happy with our service.\n",
      " Reframe: The customer's experience is important to me and I want to make sure they are happy with their order. I will do my best to resolve this issue and make sure their next pizza is hot and delicious.\n",
      "                    Reframe: It's great that the representative is willing to help and is asking for the order number to quickly address the issue. I appreciate their prompt response and dedication to resolving the problem. \n",
      "                    Reframe: The customer is understandably upset about their order not meeting their expectations. I will do my best to gather all the necessary information and find a solution to make things right.\n",
      "                    Reframe: I understand that the customer is upset and it is my responsibility to find a solution that will make them happy. I will do my best to resolve the issue and make sure their next experience with Dominos is a positive one.\n",
      "                    Reframe: The customer is understandably upset and it is my responsibility to make sure they are satisfied with their order. I will do my best to resolve the issue and make sure their next order is delivered hot and fresh. I will also remind them to provide their order number for better tracking in the future.\n",
      "                    Reframe: The representative is showing empathy and taking proactive steps to address the issue. I appreciate their willingness to help and I trust that they will find a solution for my unsatisfactory order.\n",
      " Reframe: I understand that the customer is unhappy with their order and it's important for me to address their concerns and find a solution to make it right. I will work with them to ensure a positive experience with our company.\n",
      "Emo Reframe Agent 1 Average Time: 1.4927678680419922\n"
     ]
    }
   ],
   "source": [
    "import time\n",
    "\n",
    "# Assuming agent_call is a function that simulates calling an agent\n",
    "# and returns its response.\n",
    "\n",
    "# chat_history = [AIMessage(content=\"\"\"@Dominos I ordered a pizza from you guys and it arrived cold and soggy. Not the delicious meal I was hoping for. Disappointed and hungry.\"\"\"), HumanMessage(content=\"Sorry, could you please share your order number?\")]\n",
    "# complaint = \"Do I look like I memorize every insignificant number? It's your job to fix this, not mine. Here, since you can't seem to do it yourself: 85692347. Happy now?\"\n",
    "# situation = agent_coworker_emo_reappraisal_situation().invoke({'complaint':complaint, 'chat_history':chat_history})\n",
    "# agent_coworker_info()\n",
    "\n",
    "class mAgentER:\n",
    "    def __init__(self):\n",
    "        self.situation_chain = self.agent_coworker_emo_situation()\n",
    "        self.thought_chain = self.agent_coworker_emo_thought()\n",
    "        self.reframe_chain = self.agent_coworker_emo_reframe()\n",
    "\n",
    "    def invoke(self, user_input):\n",
    "        situation = self.situation_chain.invoke({'complaint':user_input['chat_history'], 'chat_history':user_input['chat_history']})\n",
    "        thought = self.thought_chain.invoke({'complaint':user_input['chat_history'], 'situation':situation, 'chat_history':user_input['chat_history']})\n",
    "        reframe = self.reframe_chain.invoke({'thought':thought, 'situation':situation})\n",
    "        return reframe\n",
    "\n",
    "    def agent_coworker_emo_situation(self):\n",
    "        client = mLangChain()\n",
    "\n",
    "        prompt = \"\"\"The chat history describes a representative chatting online with a complaining customer. \\\n",
    "                    The latest input is the last message from the customer. \\\n",
    "                    which can be understood without the chat history.\\\n",
    "                    Describe the situation with respect to the customer's behavior towards the representative.\\\n",
    "                    Include the specifics of the complaint while describing the situation.\\\n",
    "                    \n",
    "                    Do NOT respond to the input, just summarize the situation.\\\n",
    "                    Do NOT speculate.\\\n",
    "                \"\"\"\n",
    "        template = ChatPromptTemplate.from_messages(\n",
    "            [\n",
    "                (\"system\", prompt),\n",
    "                MessagesPlaceholder(variable_name=\"chat_history\"),\n",
    "                (\"user\", \"{complaint}\"),\n",
    "            ]\n",
    "        )\n",
    "        chain = template | client.client_completion\n",
    "\n",
    "        return chain\n",
    "\n",
    "    def agent_coworker_emo_thought(self):\n",
    "        client = mLangChain()\n",
    "\n",
    "        prompt = \"\"\"You are roleplaying as the representative talking to a complaining customer.\\\n",
    "                    Refer to the chat history between you and the customer and the latest {complaint} from the customer.\\\n",
    "                    What is the representative thinking about the situation?\\\n",
    "                    Be concise. Only 2 sentences.\\\n",
    "                    \n",
    "                    Situation: An mturk requester rejected my task and I wasn't sure why because I work very hard on my tasks. Being new it affected my approval rating more negatively.\\\n",
    "                    Thought: I'm not smart enough to succeed at mturk\\\n",
    "                    \n",
    "                    Situation: I asked my daughter a question, and she responded in a snotty way.\\\n",
    "                    Thought: She doesn't love me like she used to.\\\n",
    "                    \n",
    "                    Situation: I got upset at my boss for not putting me in a temporary promotion to act as supervisor of our team.\\\n",
    "                    Thought: I wasn't valued as much as the other person.\\\n",
    "                    \n",
    "                    Situation: I had been working on a project at work for a very long time, but a higher up manager contacted my boss and asked about it, insinuating I wasn't delivering it fast enough.\\\n",
    "                    Thought: I'm working on this as fast as I possibly can.\\\n",
    "                    \n",
    "                    Situation: I tried on my wedding dress in front of my family. My mother was excited and told me I was beautiful, but other members of my family made comments about my weight. I was told to not eat and exercise so I could be beautiful.\\\n",
    "                    Thought: I'm a fat ugly troll.\\\n",
    "                    \n",
    "                    Situation: I was reprimanded at work for standing up to a coworker who was bullying another co-worker.\\\n",
    "                    Thought: It was unfair that I was the one to get in trouble for defending a weaker person.\\\n",
    "                    \n",
    "                    Situation: {situation}\\\n",
    "                    Thought:\n",
    "                \"\"\"\n",
    "        template = ChatPromptTemplate.from_messages(\n",
    "            [\n",
    "                (\"system\", prompt),\n",
    "                MessagesPlaceholder(variable_name=\"chat_history\"),\n",
    "                (\"user\", \"{situation}: {complaint}\"),\n",
    "            ]\n",
    "        )\n",
    "        chain = template | client.client_completion\n",
    "\n",
    "        return chain\n",
    "\n",
    "    def agent_coworker_emo_reframe(self):\n",
    "        client = mLangChain()\n",
    "\n",
    "        prompt = \"\"\"You are a representative chatting online with a complaining customer.\\\n",
    "                    Reframe your thoughts in the given situation.\n",
    "                    \n",
    "                    Situation: An mturk requester rejected my task and I wasn't sure why because I work very hard on my tasks. Being new it affected my approval rating more negatively.\\\n",
    "                    Thought: I'm not smart enough to succeed at mturk\\\n",
    "                    Reframe: It seems like there was some miscommunication. It doesn't mean that I do not have the skills to do well with mturk. I should reach out to see if I can get more clarity on why my task was rejected.\\\n",
    "                    \n",
    "                    Situation: I asked my daughter a question, and she responded in a snotty way.\\\n",
    "                    Thought: She doesn't love me like she used to.\\\n",
    "                    Reframe: Kids say snappy things to their parents all the time. It doesn't mean I'm a bad parent or that she doesn't love me.\\\n",
    "                    \n",
    "                    Situation: I got upset at my boss for not putting me in a temporary promotion to act as supervisor of our team.\\\n",
    "                    Thought: I wasn't valued as much as the other person.\\\n",
    "                    Reframe: I should ask my boss why I was not selected for the promotion. Maybe the reason will be something other than my work ethic. Maybe my boss will reassure that I am still valuable to the company.\\\n",
    "                    \n",
    "                    Situation: I had been working on a project at work for a very long time, but a higher up manager contacted my boss and asked about it, insinuating I wasn't delivering it fast enough.\\\n",
    "                    Thought: I'm working on this as fast as I possibly can.\\\n",
    "                    Reframe: I am stressed by trying to compare how fast I am working on this to how fast I think other people complete their assignments. I know I am being efficient with my time and producing good work. I need to focus on that to get this task done.\\\n",
    "                    \n",
    "                    Situation: I tried on my wedding dress in front of my family. My mother was excited and told me I was beautiful, but other members of my family made comments about my weight. I was told to not eat and exercise so I could be beautiful.\\\n",
    "                    Thought: I'm a fat ugly troll.\\\n",
    "                    Reframe: The commend about my weight hurt and have me feeling self conscious. I'm glad my mother thinks I'm beautiful and know that my weight does not dictate my worth.\\\n",
    "                    \n",
    "                    Situation: I was reprimanded at work for standing up to a coworker who was bullying another co-worker.\\\n",
    "                    Thought: It was unfair that I was the one to get in trouble for defending a weaker person.\\\n",
    "                    Reframe: I can own some responsibility for this conflict that occurred at work.\\\n",
    "                    \n",
    "                    Situation: {situation}\\\n",
    "                    Thought: {thought}\\\n",
    "                    Reframe:\\\n",
    "                \"\"\"\n",
    "        template = ChatPromptTemplate.from_messages(\n",
    "            [\n",
    "                (\"system\", prompt),\n",
    "                (\"user\", \"{situation}: {thought}\"),\n",
    "            ]\n",
    "        )\n",
    "        chain = template | client.client_completion\n",
    "\n",
    "        return chain\n",
    "\n",
    "def test_agent_performance(agent_function, input_data, num_calls=100):\n",
    "    total_time = 0\n",
    "    for _ in range(num_calls):\n",
    "        start_time = time.time()\n",
    "        res = agent_function.invoke({'complaint': input_data[0], 'chat_history': input_data[1]})\n",
    "        end_time = time.time()\n",
    "        print(res)\n",
    "        total_time += (end_time - start_time)\n",
    "    average_time = total_time / num_calls\n",
    "    return average_time\n",
    "\n",
    "# Define fixed complaint and chat history\n",
    "product = \"pizza\"\n",
    "fixed_complaint = \"Do I look like I memorize every insignificant number? It's your job to fix this, not mine. Here, since you can't seem to do it yourself: 85692347. Happy now?\"\n",
    "chat_history = [AIMessage(content=\"\"\"@Dominos I ordered a pizza from you guys and it arrived cold and soggy. Not the delicious meal I was hoping for. Disappointed and hungry.\"\"\"), HumanMessage(content=\"Sorry, could you please share your order number?\")]\n",
    "input_data = [fixed_complaint, chat_history]\n",
    "emo_agent = mAgentER()\n",
    "# Test each agent\n",
    "emo_reframe_agent1_avg_time = test_agent_performance(emo_agent, input_data)\n",
    "\n",
    "# Output the results\n",
    "print(f\"Emo Reframe Agent 1 Average Time: {emo_reframe_agent1_avg_time}\")\n",
    "# Emo Reframe Agent 1 Average Time: 1.5234724020957946"
   ]
  },
  {
   "cell_type": "code",
   "execution_count": 22,
   "id": "57ce94be",
   "metadata": {},
   "outputs": [
    {
     "name": "stdout",
     "output_type": "stream",
     "text": [
      "\n",
      "\n",
      "\n",
      "\n",
      "\n",
      "\n",
      "\n",
      "\n",
      "\n",
      "\n",
      "\n",
      "\n",
      "\n",
      "\n",
      "\n",
      "\n",
      "\n",
      "\n",
      "\n",
      "\n",
      "\n",
      "\n",
      "\n",
      " The customer is feeling frustrated and dissatisfied with their experience. They may view the problem as a lack of quality control or care from the company.\n",
      "\n",
      "Customer, you ordered a pizza from Dominos and it arrived cold and soggy, causing you to feel disappointed and hungry. You may view the problem as a mistake on the part of the company and expect them to fix it for you.\n",
      " \n",
      "\n",
      "\n",
      "\n",
      "\n",
      "\n",
      "\n",
      "\n",
      "\n",
      " \n",
      "Representative: The customer is feeling disappointed and hungry because their pizza arrived cold and soggy. They may view this as a problem with the quality of their food and expect the representative to take responsibility and fix it for them.\n",
      "\n",
      "\n",
      "\n",
      "\n",
      "\n",
      " The customer is feeling frustrated and unsatisfied with their experience. They may view the problem as the representative's responsibility to fix and may feel like they are not being heard or taken seriously.\n",
      "\n",
      "\n",
      "\n",
      "\n",
      "\n",
      "\n",
      "\n",
      "\n",
      "\n",
      "\n",
      " The customer may feel frustrated and annoyed that their food did not meet their expectations. They may view the problem as the responsibility of the representative to resolve, rather than their own.\n",
      "\n",
      "\n",
      "\n",
      "\n",
      "\n",
      "\n",
      "\n",
      "\n",
      "\n",
      "\n",
      "\n",
      "\n",
      "\n",
      "\n",
      "\n",
      "\n",
      "\n",
      "\n",
      "\n",
      "\n",
      "\n",
      "\n",
      "\n",
      "\n",
      "\n",
      "\n",
      "\n",
      "\n",
      "\n",
      "\n",
      "\n",
      "\n",
      "\n",
      "The customer may feel frustrated and annoyed by the representative's response. They may view the problem as a lack of responsibility and care from the company.\n",
      "\n",
      "\n",
      "\n",
      "\n",
      "\n",
      " The customer is frustrated and annoyed that their food arrived in poor quality and is not satisfied with the representative's response. They may view the problem as a lack of responsibility and accountability on the part of the company.\n",
      "\n",
      "\n",
      "\n",
      "\n",
      "\n",
      "\n",
      "\n",
      "\n",
      "\n",
      "\n",
      "Emo Perspec Agent 1 Average Time: 4.561170833110809\n"
     ]
    }
   ],
   "source": [
    "import time\n",
    "\n",
    "# Assuming agent_call is a function that simulates calling an agent\n",
    "# and returns its response.\n",
    "\n",
    "# chat_history = [AIMessage(content=\"\"\"@Dominos I ordered a pizza from you guys and it arrived cold and soggy. Not the delicious meal I was hoping for. Disappointed and hungry.\"\"\"), HumanMessage(content=\"Sorry, could you please share your order number?\")]\n",
    "# complaint = \"Do I look like I memorize every insignificant number? It's your job to fix this, not mine. Here, since you can't seem to do it yourself: 85692347. Happy now?\"\n",
    "# situation = agent_coworker_emo_reappraisal_situation().invoke({'complaint':complaint, 'chat_history':chat_history})\n",
    "# agent_coworker_info()\n",
    "\n",
    "def agent_coworker_emo_perspective():\n",
    "    client = mLangChain()\n",
    "\n",
    "    prompt = \"\"\"Your role is to provide the customer's perspective of the conversation.\n",
    "                Summarize this for the representative.\\\n",
    "                Describe how the customer might feel.\\\n",
    "                Describe how the customer might view the problem.\\\n",
    "                \n",
    "                Limit your response to 2 sentences.\n",
    "                Write sentence using 2nd person pronouns as subject\n",
    "                \n",
    "                Customer perspective:\n",
    "            \"\"\"\n",
    "    template = ChatPromptTemplate.from_messages(\n",
    "        [\n",
    "            (\"system\", prompt),\n",
    "            MessagesPlaceholder(variable_name=\"chat_history\"),\n",
    "            (\"user\", \"{complaint}\"),\n",
    "        ]\n",
    "    )\n",
    "    # chain = template | client.client_completion\n",
    "\n",
    "    chain = (RunnablePassthrough.assign(\n",
    "        context=get_historical_info_context_chain()\n",
    "    )\n",
    "             | template\n",
    "             | client.client_completion\n",
    "             )\n",
    "\n",
    "    return chain\n",
    "\n",
    "def test_agent_performance(agent_function, input_data, num_calls=100):\n",
    "    total_time = 0\n",
    "    for _ in range(num_calls):\n",
    "        start_time = time.time()\n",
    "        res = agent_function.invoke({'complaint': input_data[0], 'chat_history': input_data[1]})\n",
    "        end_time = time.time()\n",
    "        print(res)\n",
    "        total_time += (end_time - start_time)\n",
    "    average_time = total_time / num_calls\n",
    "    return average_time\n",
    "\n",
    "# Define fixed complaint and chat history\n",
    "product = \"pizza\"\n",
    "fixed_complaint = \"Do I look like I memorize every insignificant number? It's your job to fix this, not mine. Here, since you can't seem to do it yourself: 85692347. Happy now?\"\n",
    "chat_history = [AIMessage(content=\"\"\"@Dominos I ordered a pizza from you guys and it arrived cold and soggy. Not the delicious meal I was hoping for. Disappointed and hungry.\"\"\"), HumanMessage(content=\"Sorry, could you please share your order number?\")]\n",
    "input_data = [fixed_complaint, chat_history]\n",
    "# Test each agent\n",
    "emo_perspec_agent1_avg_time = test_agent_performance(agent_coworker_emo_perspective(), input_data)\n",
    "\n",
    "# Output the results\n",
    "print(f\"Emo Perspec Agent 1 Average Time: {emo_perspec_agent1_avg_time}\")\n",
    "# Emo Perspec Agent 1 Average Time: 4.561170833110809"
   ]
  },
  {
   "cell_type": "code",
   "execution_count": 23,
   "id": "d51aaddd",
   "metadata": {},
   "outputs": [
    {
     "name": "stdout",
     "output_type": "stream",
     "text": [
      "\n",
      "1. Confirm customer's order number.\n",
      "2. Apologize for the inconvenience.\n",
      "3. Offer to replace the pizza or refund the order.\n",
      "4. Ask for details on the issue (cold and soggy).\n",
      "5. Reassure the customer that the issue will be resolved.\n",
      "6. Provide a timeframe for the resolution.\n",
      "7. Thank the customer for bringing the issue to our attention.\n",
      "\n",
      "1. Apologize for the inconvenience.\n",
      "2. Request for the order number.\n",
      "3. Check the order history using the provided number.\n",
      "4. Offer a replacement or refund.\n",
      "5. Ensure that the next order will be delivered promptly.\n",
      "6. Thank the customer for bringing the issue to your attention.\n",
      "7. Follow up with the customer to ensure their satisfaction.\n",
      "\n",
      "1. Ask customer for order number.\n",
      "2. Apologize for the inconvenience.\n",
      "3. Check the order details with the provided order number.\n",
      "4. Offer a replacement or refund for the unsatisfactory pizza.\n",
      "5. Provide a discount code for future orders.\n",
      "6. Thank the customer for bringing this to our attention.\n",
      "7. Follow up with the customer after the issue has been resolved.\n",
      "\n",
      "1. Acknowledge the customer's complaint and apologize for the unsatisfactory experience.\n",
      "2. Ask for the order number to identify the specific pizza and understand the situation.\n",
      "3. Review the order details and check for any errors or mistakes in preparation or delivery.\n",
      "4. Offer a solution, such as a replacement pizza or a refund, based on the customer's preference.\n",
      "5. Thank the customer for bringing the issue to your attention and assure them that it will be resolved.\n",
      "6. Follow up with the customer after the issue has been resolved to ensure their satisfaction.\n",
      "7. Document the complaint and the steps taken to resolve it for future reference.\n",
      "\n",
      "AI: 1. Apologize for the inconvenience and ask for order number.\n",
      "2. Check the order details using the given order number.\n",
      "3. Offer a replacement pizza or a refund.\n",
      "4. Ask for the customer's preferred solution.\n",
      "5. Provide the customer with a resolution based on their preference.\n",
      "6. Follow up with the customer to ensure satisfaction.\n",
      "7. Thank the customer for their feedback and address any other concerns.\n",
      "\n",
      "Step 1: Apologize for the inconvenience caused.\n",
      "Step 2: Review the order history.\n",
      "Step 3: Offer a refund or replacement.\n",
      "Step 4: Ask for more details about the issue.\n",
      "Step 5: Provide a solution based on the information provided.\n",
      "Step 6: Ensure customer is satisfied with the resolution.\n",
      "Step 7: Thank the customer for their feedback and loyalty.\n",
      "\n",
      "1. Apologize for the inconvenience.\n",
      "2. Ask for the order number.\n",
      "3. Check the order details.\n",
      "4. Offer a refund or replacement.\n",
      "5. Ask for the customer's preference.\n",
      "6. Confirm the resolution.\n",
      "7. Thank the customer for their patience.\n",
      "8. If similar issue exists, follow the same resolution.\n",
      "9. If not, offer a discount or future credit.\n",
      "\n",
      "\n",
      "\n",
      "1. Ask for order number.\n",
      "2. Apologize for the inconvenience.\n",
      "3. Check the order details.\n",
      "4. Offer to replace the pizza.\n",
      "5. Offer a discount or coupon for future use.\n",
      "6. Follow up with customer after resolution.\n",
      "7. Document the complaint for future reference.\n",
      "\n",
      "1. Acknowledge the customer's complaint.\n",
      "2. Request for the order number.\n",
      "3. Check the order details and confirm the issue.\n",
      "4. Apologize for the inconvenience.\n",
      "5. Offer a solution or compensation.\n",
      "6. Follow up with the customer to ensure satisfaction.\n",
      "7. Document the complaint and solution for future reference.\n",
      "\n",
      "1. Acknowledge the customer's complaint and apologize.\n",
      "2. Ask for the order number to locate the specific order.\n",
      "3. Review the order history and assess the situation in detail.\n",
      "4. Offer a solution, such as a replacement or refund.\n",
      "5. If no solution is available, offer a discount or credit for a future order.\n",
      "6. Confirm with the customer that the issue has been resolved to their satisfaction.\n",
      "7. Thank them for bringing the issue to our attention and for their continued support.\n",
      "\n",
      "1. Apologize for the inconvenience.\n",
      "2. Ask for more details about the issue.\n",
      "3. Verify the order number provided.\n",
      "4. Check the order history for any issues.\n",
      "5. Offer a replacement or refund.\n",
      "6. Ensure customer satisfaction.\n",
      "7. Thank the customer for bringing the issue to our attention.\n",
      "\n",
      "1. Apologize for the inconvenience.\n",
      "2. Ask for the customer's order number.\n",
      "3. Review the order details.\n",
      "4. Offer a replacement or refund.\n",
      "5. Explain the process for the chosen resolution.\n",
      "6. Follow up with the customer to ensure satisfaction.\n",
      "7. Document the complaint for future reference.\n",
      "\n",
      "1. Apologize for the inconvenience.\n",
      "2. Ask for order number or account information.\n",
      "3. Check the order details and delivery time.\n",
      "4. Offer to refund or replace the pizza.\n",
      "5. Ask for feedback on the pizza's quality.\n",
      "6. Provide a coupon or discount for future orders.\n",
      "7. Thank the customer for bringing the issue to your attention.\n",
      "\n",
      "1. Apologize for the inconvenience.\n",
      "2. Ask for more details about the order.\n",
      "3. Check the order using the provided order number.\n",
      "4. Offer a refund or replacement for the unsatisfactory pizza.\n",
      "5. Ask for the customer's preferred solution.\n",
      "6. Provide a resolution based on their preference.\n",
      "7. Thank the customer for bringing the issue to our attention.\n",
      "\n",
      "1. Apologize for the inconvenience and ask for the order number.\n",
      "2. Check the order history with the given number.\n",
      "3. Offer a replacement or refund for the unsatisfactory pizza.\n",
      "4. If the customer is not satisfied, escalate to a supervisor.\n",
      "5. If no resolution can be reached, offer a discount on a future order.\n",
      "6. Thank the customer for their feedback and assure them that the issue will be addressed.\n",
      "7. Follow up with the customer to ensure satisfaction.\n",
      "\n",
      "1. Apologize for the inconvenience.\n",
      "2. Ask for specific details about the issue.\n",
      "3. Check the order history using the provided order number.\n",
      "4. Offer a refund or replacement for the unsatisfactory pizza.\n",
      "5. Provide a discount or coupon for future orders.\n",
      "6. Follow up with the customer to ensure satisfaction.\n",
      "7. Document the complaint and resolution for future reference.\n",
      "\n",
      "1. Acknowledge the customer's complaint and apologize for their negative experience.\n",
      "2. Ask for their order number to review the details of their order.\n",
      "3. Check the order history and confirm the issue of cold and soggy pizza.\n",
      "4. Offer a solution, such as a replacement pizza or a refund.\n",
      "5. If the customer is not satisfied with the proposed solution, offer to escalate the issue to a manager.\n",
      "6. If the customer agrees to the proposed solution, process the replacement pizza or refund.\n",
      "7. Thank the customer for bringing the issue to your attention and apologize again for the inconvenience.\n",
      "\n",
      "1. Apologize for the inconvenience.\n",
      "2. Ask for the customer's order number.\n",
      "3. Verify the details of the order.\n",
      "4. Offer a replacement or refund.\n",
      "5. Address any other concerns or complaints the customer may have.\n",
      "6. Thank the customer for bringing the issue to our attention.\n",
      "7. Follow up with the customer to make sure the issue has been resolved to their satisfaction.\n",
      "\n",
      "1. Check if customer's order number is valid.\n",
      "2. Apologize for the inconvenience.\n",
      "3. Offer a replacement pizza or refund.\n",
      "4. Ask for specific concerns regarding the pizza.\n",
      "5. Give a timeframe for resolution.\n",
      "6. Follow up with customer after resolution.\n",
      "7. Thank customer for their feedback.\n",
      "\n",
      "Step 1: Acknowledge customer's complaint.\n",
      "Step 2: Request for order number to access details.\n",
      "Step 3: Apologize for the unsatisfactory meal.\n",
      "Step 4: Check order details for any mistakes.\n",
      "Step 5: Offer a replacement or refund.\n",
      "Step 6: Address customer's frustration.\n",
      "Step 7: Thank the customer for bringing this to our attention.\n",
      "\n",
      "1. Apologize for the unsatisfactory product.\n",
      "2. Verify the order number provided.\n",
      "3. Check the order history for any issues.\n",
      "4. Offer a replacement or refund.\n",
      "5. Provide a discount or coupon for future orders.\n",
      "6. Thank the customer for bringing this to our attention.\n",
      "7. Follow up with the customer to ensure satisfaction.\n",
      "\n",
      "1. Acknowledge customer's complaint.\n",
      "2. Apologize for the inconvenience and ask for order number.\n",
      "3. Check for similar cases in PROCEDURAL SUPPORT history.\n",
      "4. If not found, assess the current situation in depth.\n",
      "5. Offer a detailed solution to resolve the issue.\n",
      "6. If previous steps have been tried, offer an alternative solution.\n",
      "7. Make sure the customer is satisfied with the resolution.\n",
      "\n",
      "\n",
      "1. Apologize for the inconvenience.\n",
      "2. Request for order number.\n",
      "3. Verify the details of the order.\n",
      "4. Offer a refund or replacement.\n",
      "5. Provide a timeline for resolution.\n",
      "6. Follow up with the customer.\n",
      "7. Address any other concerns or questions.\n",
      "\n",
      "1. Apologize for the inconvenience.\n",
      "2. Ask for more details about the issue.\n",
      "3. Verify the order number provided by the customer.\n",
      "4. Check the order history for any issues.\n",
      "5. Offer a solution or compensation for the unsatisfactory pizza.\n",
      "6. Follow up with the customer to ensure their satisfaction.\n",
      "7. Document the complaint and steps taken for future reference.\n",
      "\n",
      "1. Apologize for the inconvenience.\n",
      "2. Ask for more information about the issue.\n",
      "3. Check the order history with the provided number.\n",
      "4. Offer a replacement or refund.\n",
      "5. Ensure that the issue will be resolved.\n",
      "6. Thank the customer for their patience and understanding.\n",
      "7. Follow up with the customer to confirm satisfaction.\n",
      "\n",
      "1. Apologize for the inconvenience caused.\n",
      "2. Ask for the customer's order number.\n",
      "3. Check the order details and confirm the issue.\n",
      "4. Offer a replacement or refund.\n",
      "5. Ensure that the issue is resolved to the customer's satisfaction.\n",
      "6. Thank the customer for bringing the issue to our attention.\n",
      "7. Follow up with the customer to ensure their satisfaction.\n",
      "\n",
      "1. Apologize for the inconvenience.\n",
      "2. Ask for order number to pull up details.\n",
      "3. Check for any similar complaints in history.\n",
      "4. Offer a refund or replacement.\n",
      "5. Ensure customer satisfaction.\n",
      "6. Thank customer for bringing the issue to our attention.\n",
      "7. Follow up to ensure issue has been resolved.\n",
      "\n",
      "1. Apologize for the inconvenience caused by the cold and soggy pizza.\n",
      "2. Ask for the order number to locate the specific order.\n",
      "3. Review the order details and confirm the issue with the customer.\n",
      "4. Offer a replacement pizza or a refund for the unsatisfactory order.\n",
      "5. Provide options for future orders to ensure a better experience.\n",
      "6. Thank the customer for bringing the issue to our attention.\n",
      "7. Follow up with the customer to confirm satisfaction with the resolution.\n",
      "\n",
      "\n",
      "1. Acknowledge the customer's frustration and apologize for their experience.\n",
      "2. Ask for the order number to locate the specific order.\n",
      "3. Check the order details and confirm the issue of cold and soggy pizza.\n",
      "4. Offer a solution such as a replacement pizza or a refund.\n",
      "5. If the customer agrees to a replacement, ensure the new pizza will be delivered promptly and in good condition.\n",
      "6. If a refund is requested, provide instructions on how to process it.\n",
      "7. Thank the customer for bringing the issue to your attention and apologize again for the inconvenience.\n",
      "\n",
      "1. Acknowledge the complaint and apologize for the inconvenience.\n",
      "2. Ask for the order number to pull up the specific details.\n",
      "3. Check the order history and verify the delivery time and location.\n",
      "4. Offer to have a new pizza delivered or a refund issued.\n",
      "5. Ask for feedback and suggestions on how to improve.\n",
      "6. Thank the customer for bringing the issue to our attention.\n",
      "7. Follow up with the customer to ensure satisfaction.\n",
      "\n",
      "1. Apologize for the inconvenience.\n",
      "2. Ask for order number.\n",
      "3. Check order status and details.\n",
      "4. Offer a refund or replacement.\n",
      "5. Address the issue of cold and soggy pizza.\n",
      "6. Provide a timeline for resolution.\n",
      "7. Thank customer for their feedback and patience.\n",
      "\n",
      "1. Apologize for the inconvenience.\n",
      "2. Ask for the order number to locate the specific order.\n",
      "3. Check the order status and details.\n",
      "4. Offer a refund or replacement.\n",
      "5. Provide a direct line for future complaints.\n",
      "6. Follow up with the customer after resolution.\n",
      "7. Document the complaint and resolution for future reference.\n",
      "\n",
      "1. Apologize for the inconvenience. \n",
      "2. Ask for the order number. \n",
      "3. Check the order details on the system. \n",
      "4. Offer a replacement or refund. \n",
      "5. Ask for the customer's preferred resolution. \n",
      "6. Document the complaint and resolution.\n",
      "\n",
      "1. Apologize for the unsatisfactory experience.\n",
      "2. Ask for the customer's order number.\n",
      "3. Check the order details and confirm the issue.\n",
      "4. Offer a refund or replacement for the cold and soggy pizza.\n",
      "5. Explain the steps taken to ensure a better experience in the future.\n",
      "6. Thank the customer for bringing the issue to our attention.\n",
      "7. Ask if there is anything else we can do to make it right.\n",
      "\n",
      "1. Apologize for the customer's negative experience.\n",
      "2. Ask for the order number to identify the specific order.\n",
      "3. Review the order history to see if there were any issues or delays.\n",
      "4. Offer a refund or replacement for the unsatisfactory pizza.\n",
      "5. Ask for specific details about the pizza (e.g. toppings, crust type) to ensure a better experience with the replacement.\n",
      "6. Follow up with the customer after the replacement to ensure satisfaction.\n",
      "7. Document the issue and resolution for future reference.\n",
      "\n",
      "1. Apologize for the inconvenience.\n",
      "2. Ask for details about the order.\n",
      "3. Offer a refund or replacement.\n",
      "4. Explain the steps taken to ensure a better experience.\n",
      "5. Provide a contact for further assistance.\n",
      "6. Thank the customer for bringing this to our attention.\n",
      "7. Follow up with the customer to ensure satisfaction.\n",
      "\n",
      "1. Acknowledge customer's complaint and apologize.\n",
      "2. Ask for order number or any other relevant information.\n",
      "3. Check the order history using the given information.\n",
      "4. Offer a solution based on the order details.\n",
      "5. If a solution is not possible, offer a refund or compensation.\n",
      "6. Suggest ways to prevent similar issues in the future.\n",
      "7. Thank the customer for bringing the issue to your attention and for their patience.\n",
      "\n",
      "1. Apologize for the inconvenience and express empathy.\n",
      "2. Ask for the order number to locate the specific order.\n",
      "3. Review the order history for any previous similar complaints.\n",
      "4. Ask for details about the issue (e.g. how long ago was the pizza delivered, what toppings were on the pizza).\n",
      "5. Offer a solution, such as a replacement pizza or a refund.\n",
      "6. If possible, escalate the issue to a manager for further assistance.\n",
      "7. Thank the customer for bringing the issue to your attention and ensure their satisfaction.\n",
      "\n",
      "\n",
      "1. Apologize for the inconvenience.\n",
      "2. Request the customer's order number.\n",
      "3. Review the order details and confirm the issue.\n",
      "4. Offer a replacement or refund.\n",
      "5. Provide instructions for returning the unsatisfactory pizza.\n",
      "6. Follow up with the customer after the issue is resolved.\n",
      "7. Document the complaint and resolution in the customer's account.\n",
      "\n",
      "1. Apologize for the inconvenience and ask for the order number.\n",
      "2. Check the order details and confirm the issue.\n",
      "3. Offer a replacement or refund.\n",
      "4. Ask for the customer's preferred resolution.\n",
      "5. If replacement, confirm delivery address and time.\n",
      "6. If refund, process it immediately.\n",
      "7. Follow up with the customer to ensure satisfaction.\n",
      "\n",
      "Step 1: Apologize for the inconvenience.\n",
      "Step 2: Ask for the order number.\n",
      "Step 3: Check the order details and apologize again.\n",
      "Step 4: Offer a refund or replacement.\n",
      "Step 5: Ask for the customer's preferred resolution.\n",
      "Step 6: Follow up with the customer after the issue is resolved.\n",
      "Step 7: Document the complaint for future reference.\n",
      "\n",
      "1. Apologize for the inconvenience.\n",
      "2. Ask for the order number.\n",
      "3. Check the order status.\n",
      "4. Offer a refund or replacement.\n",
      "5. Explain the procedure for a refund/replacement.\n",
      "6. Confirm the customer's choice.\n",
      "7. Thank the customer for their patience.\n",
      "\n",
      "1. Apologize for the inconvenience caused.\n",
      "2. Ask for more details about the issue.\n",
      "3. Verify the order number provided by the customer.\n",
      "4. Check if similar complaints have been resolved in the past.\n",
      "5. Offer a refund or a replacement for the unsatisfactory pizza.\n",
      "6. Provide assurance that the issue will be resolved.\n",
      "7. Thank the customer for bringing the issue to your attention.\n",
      "\n",
      "1. Apologize for the inconvenience.\n",
      "2. Ask for the customer's order number.\n",
      "3. Check for any similar procedural support history.\n",
      "4. Assess the current situation and customer's complaint.\n",
      "5. Offer a solution or alternative that can solve the issue.\n",
      "6. Ensure customer satisfaction.\n",
      "7. Follow up with the customer to ensure the issue is resolved.\n",
      "\n",
      "1. Apologize for the inconvenience caused.\n",
      "2. Ask for the order number to locate the specific order.\n",
      "3. Check the order details and confirm the issue.\n",
      "4. Offer a replacement or refund for the unsatisfactory pizza.\n",
      "5. Address the customer's frustration and assure them of a better experience in the future.\n",
      "6. Thank the customer for bringing this to our attention and for their patience.\n",
      "7. Follow up with the customer to ensure their satisfaction with the resolution.\n",
      "\n",
      "1. Apologize for the poor experience. \n",
      "2. Verify the order number provided. \n",
      "3. Check the order status and delivery time. \n",
      "4. Offer to remake or refund the order. \n",
      "5. Ask for specific details on the issue. \n",
      "6. Provide compensation if necessary. \n",
      "7. Thank the customer for their feedback.\n",
      "\n",
      "1. Acknowledge the customer's complaint.\n",
      "2. Apologize for the inconvenience.\n",
      "3. Request for the order number.\n",
      "4. Check the order details and confirm the issue.\n",
      "5. Offer a solution or alternative meal.\n",
      "6. Ask for feedback or satisfaction.\n",
      "7. Thank the customer for their patience.\n",
      "\n",
      "1. Apologize for the inconvenience and ask for the order number.\n",
      "2. Verify the details of the order.\n",
      "3. Offer a refund or a replacement pizza.\n",
      "4. Ask for the customer's preferred resolution.\n",
      "5. Provide a timeline for resolution.\n",
      "6. Follow up with the customer to ensure satisfaction.\n",
      "7. Document the complaint and resolution for future reference.\n",
      "\n",
      "1. Apologize for the inconvenience.\n",
      "2. Ask for the order number.\n",
      "3. Review the order details and confirm the issue.\n",
      "4. Offer a refund or replacement for the unsatisfactory pizza.\n",
      "5. Provide a coupon or discount for future orders.\n",
      "6. Follow up with the customer after the issue has been resolved.\n",
      "7. Document the complaint for future reference.\n",
      "\n",
      "1. Review the customer's order number.\n",
      "2. Apologize for the unsatisfactory pizza.\n",
      "3. Offer a replacement or refund for the order.\n",
      "4. Ask for the customer's preferred solution.\n",
      "5. Confirm the chosen solution.\n",
      "6. Thank the customer for bringing the issue to our attention.\n",
      "7. Follow up with the customer after the solution is implemented.\n",
      "\n",
      "1. Apologize for the inconvenience.\n",
      "2. Ask for the order number.\n",
      "3. Check the order details and apologize again for the mistake.\n",
      "4. Offer a replacement or refund.\n",
      "5. Ask for the customer's preferred solution.\n",
      "6. Confirm the resolution and apologize again.\n",
      "7. Follow up to ensure customer satisfaction.\n",
      "\n",
      "1. Apologize for the inconvenience caused.\n",
      "2. Ask for order number.\n",
      "3. Check the order details.\n",
      "4. Offer to replace or refund the order.\n",
      "5. Ask for specific feedback on the issue.\n",
      "6. Follow up on resolution.\n",
      "7. Thank the customer for bringing the issue to our attention.\n",
      "\n",
      "1. Apologize for the inconvenience and ask for the order number.\n",
      "2. Check the order details and confirm the issue.\n",
      "3. Offer a replacement or refund for the unsatisfactory pizza.\n",
      "4. Ask for the customer's preferred resolution.\n",
      "5. If necessary, escalate the issue to a supervisor.\n",
      "6. Ensure the customer is satisfied with the resolution.\n",
      "7. Thank the customer for bringing the issue to your attention.\n",
      "\n",
      "1. Confirm the customer's order number.\n",
      "2. Apologize for the inconvenience caused.\n",
      "3. Offer a refund or replacement for the pizza.\n",
      "4. Ask for more details about the issue (e.g. delivery time, toppings).\n",
      "5. Explain the steps taken to ensure a quality product.\n",
      "6. Thank the customer for bringing this to our attention.\n",
      "7. Follow up with the customer to ensure satisfaction.\n",
      "\n",
      "1. Apologize for the inconvenience.\n",
      "2. Ask for the customer's order number.\n",
      "3. Check for any similar issues in the procedural support history.\n",
      "4. If no previous solution, ask for more details about the complaint.\n",
      "5. Offer a refund or replacement for the cold and soggy pizza.\n",
      "6. Ask for the customer's preferred resolution.\n",
      "7. Ensure the customer is satisfied before ending the chat.\n",
      "\n",
      "1. Apologize for the inconvenience caused.\n",
      "2. Ask for the order number to locate the specific order.\n",
      "3. Check the order details and verify the complaint.\n",
      "4. Offer to replace the pizza or provide a refund.\n",
      "5. Provide a timeline for the resolution.\n",
      "6. Thank the customer for bringing this to our attention.\n",
      "7. Follow up with the customer after the resolution is completed.\n",
      "\n",
      "1. Review the customer's chat history.\n",
      "2. Apologize for the inconvenience caused.\n",
      "3. Ask for the customer's order number.\n",
      "4. Check the order details and verify the issue.\n",
      "5. Offer a replacement or refund for the unsatisfactory pizza.\n",
      "6. Ensure the customer is satisfied with the resolution.\n",
      "7. Thank the customer for bringing the issue to our attention.\n",
      "\n",
      "1. Acknowledge the customer's complaint.\n",
      "2. Apologize for the inconvenience caused.\n",
      "3. Request for the order number to identify the specific order.\n",
      "4. Review the order history to assess the situation.\n",
      "5. Offer a solution based on the assessment.\n",
      "6. If a similar situation has occurred before, refer to the previous resolution.\n",
      "7. If not, offer a suitable alternative solution.\n",
      "\n",
      "\n",
      "1. Apologize for the inconvenience.\n",
      "2. Ask for the customer's order number.\n",
      "3. Check the order status and details.\n",
      "4. Offer a replacement or refund.\n",
      "5. Provide an explanation for the issue.\n",
      "6. Thank the customer for bringing this to our attention.\n",
      "7. Follow up with the customer to ensure satisfaction.\n",
      "\n",
      "1. Apologize for the inconvenience caused.\n",
      "2. Ask for the customer's order number.\n",
      "3. Check the order history using the provided number.\n",
      "4. Verify the details of the order.\n",
      "5. Offer a replacement or refund for the unsatisfactory pizza.\n",
      "6. Ask for the customer's preferred solution.\n",
      "7. Ensure that the issue has been resolved to the customer's satisfaction.\n",
      "\n",
      "1. Apologize for the inconvenience and ask for the customer's order number.\n",
      "2. Check the order number in the system for any errors or issues.\n",
      "3. Offer a replacement pizza or a refund for the unsatisfactory one.\n",
      "4. Explain the steps being taken to ensure the issue does not occur again.\n",
      "5. Thank the customer for bringing the issue to our attention.\n",
      "6. Provide a discount or compensation for the inconvenience.\n",
      "7. Follow up with the customer to ensure satisfaction with the resolution.\n",
      "\n",
      "1. Apologize for the inconvenience.\n",
      "2. Confirm the order number provided.\n",
      "3. Offer to check the status of the order.\n",
      "4. Ask about the specific issue with the pizza.\n",
      "5. Offer a replacement or refund for the unsatisfactory pizza.\n",
      "6. Provide a way for the customer to easily reach out for future issues.\n",
      "7. Thank the customer for bringing this to our attention.\n",
      "\n",
      "1. Acknowledge and apologize for the customer's complaint.\n",
      "2. Ask for the order number to locate the specific order.\n",
      "3. Review the order details and confirm the delivery address.\n",
      "4. Offer a refund or credit for the unsatisfactory pizza.\n",
      "5. Ask for specific details about the issue with the pizza.\n",
      "6. Offer a replacement pizza or a different menu item.\n",
      "7. Thank the customer for their feedback and apologize again for the inconvenience.\n",
      "\n",
      "1. Apologize for the inconvenience and ask for the order number.\n",
      "2. Look up the order number and check for any issues.\n",
      "3. Offer a replacement pizza or a refund.\n",
      "4. Ask for the customer's preferred resolution.\n",
      "5. Provide a solution based on their preference.\n",
      "6. Follow up with the customer to ensure their satisfaction.\n",
      "7. Document the complaint and resolution for future reference.\n",
      "\n",
      "1. Acknowledge customer's complaint and apologize for the inconvenience.\n",
      "2. Ask for the order number to identify the specific order.\n",
      "3. Review the order and confirm if it was delivered late or if there were any issues with the delivery.\n",
      "4. Offer a refund or replacement for the unsatisfactory pizza.\n",
      "5. Make sure to note the customer's preferred solution and take necessary action.\n",
      "6. Thank the customer for bringing the issue to your attention and assure them that their feedback will be used to improve service.\n",
      "7. Follow up with the customer to ensure their issue has been resolved satisfactorily.\n",
      "\n",
      "1. Apologize for the inconvenience.\n",
      "2. Ask for the order number.\n",
      "3. Review the order details and check for any errors.\n",
      "4. Offer to replace the pizza or provide a refund.\n",
      "5. Ask for the customer's preferred solution.\n",
      "6. Ensure the issue has been resolved to their satisfaction.\n",
      "7. Thank the customer for bringing the issue to our attention.\n",
      "\n",
      "1. Apologize for the inconvenience and ask for the order number.\n",
      "2. Use the order number to check the order details and apologize again.\n",
      "3. Offer to replace the pizza or provide a refund.\n",
      "4. Ask the customer if they have any specific complaints about the pizza.\n",
      "5. Offer to escalate the issue to a manager for further assistance.\n",
      "6. Provide a contact number or email for the customer to reach out for future concerns.\n",
      "7. Thank the customer for their feedback and apologize again for the unsatisfactory experience.\n",
      "\n",
      "1. Review chat history and assess current situation.\n",
      "2. Apologize for the inconvenience and ask for order number.\n",
      "3. Check the order number in the system and verify the details.\n",
      "4. Offer a replacement or refund for the unsatisfactory pizza.\n",
      "5. Ask for any additional concerns or issues.\n",
      "6. Provide a timeline for resolution.\n",
      "7. Follow up with the customer to ensure satisfaction.\n",
      "\n",
      "1. Apologize for the inconvenience.\n",
      "2. Ask for the customer's order number.\n",
      "3. Check the order history using the provided number.\n",
      "4. Acknowledge the issue of the pizza arriving cold and soggy.\n",
      "5. Offer a solution or compensation for the unsatisfactory meal.\n",
      "6. Ensure the customer is happy with the resolution.\n",
      "7. Thank the customer for their patience and understanding.\n",
      "\n",
      "1. Ask for order number.\n",
      "2. Apologize for the inconvenience.\n",
      "3. Check order details.\n",
      "4. Offer to replace or refund the pizza.\n",
      "5. Ensure prompt delivery of new pizza.\n",
      "6. Offer a discount or complimentary item.\n",
      "7. Thank the customer for their feedback.\n",
      "\n",
      "1. Acknowledge and apologize for the customer's bad experience.\n",
      "2. Ask for the order number to locate the specific order.\n",
      "3. Check the order details and confirm the issue of cold and soggy pizza.\n",
      "4. Offer a resolution such as a replacement or refund.\n",
      "5. Apologize again and confirm the customer's satisfaction with the resolution.\n",
      "6. Follow up with the customer after the resolution has been completed.\n",
      "7. Offer a coupon or discount for a future order to make up for the inconvenience.\n",
      "\n",
      "1. Apologize for the inconvenience.\n",
      "2. Ask for the order number.\n",
      "3. Check the order history.\n",
      "4. Offer a replacement pizza.\n",
      "5. Provide a refund option.\n",
      "6. Follow up on the resolution.\n",
      "7. Thank the customer for their patience.\n",
      "\n",
      "1. Apologize for the inconvenience.\n",
      "2. Ask for the order number.\n",
      "3. Check the order and verify the issue.\n",
      "4. Offer a replacement or refund.\n",
      "5. Ask for the customer's preferred resolution.\n",
      "6. Follow up with the customer to ensure satisfaction.\n",
      "7. Document the complaint and resolution for future reference.\n",
      "\n",
      "1. Apologize for the inconvenience caused.\n",
      "2. Verify the order number provided.\n",
      "3. Check the order status and details.\n",
      "4. Offer a refund or replacement.\n",
      "5. Explain the steps taken to ensure a fresh and hot pizza.\n",
      "6. Ask the customer for any additional concerns.\n",
      "7. Thank the customer for bringing this issue to our attention.\n",
      "\n",
      "1. Acknowledge customer's complaint.\n",
      "2. Ask for order number to locate the specific order.\n",
      "3. Review the order details and check for any mistakes.\n",
      "4. Offer a replacement pizza or a refund.\n",
      "5. Apologize for the inconvenience caused.\n",
      "6. Ensure that the issue has been resolved to the customer's satisfaction.\n",
      "7. Thank the customer for bringing the issue to our attention.\n",
      "\n",
      "1. Acknowledge the customer's complaint.\n",
      "2. Ask for the order number.\n",
      "3. Apologize for the inconvenience.\n",
      "4. Check the order history using the provided number.\n",
      "5. Offer a replacement or refund.\n",
      "6. Provide a discount or coupon for future orders.\n",
      "7. Thank the customer for bringing the issue to our attention.\n",
      "\n",
      "1. Apologize for the inconvenience.\n",
      "2. Ask for order number and verify details.\n",
      "3. Offer a replacement or refund.\n",
      "4. Explain the process for resolution.\n",
      "5. Ensure customer satisfaction.\n",
      "6. Follow up to ensure issue is resolved.\n",
      "7. Document the complaint for future reference.\n",
      "\n",
      "1. Apologize for the inconvenience.\n",
      "2. Ask for the order number.\n",
      "3. Check the order details and apologize again.\n",
      "4. Offer a replacement or refund.\n",
      "5. Ask for any additional concerns.\n",
      "6. Resolve the issue based on customer's preference.\n",
      "7. Thank the customer for their patience and understanding.\n",
      "\n",
      "1. Acknowledge the customer's complaint and apologize.\n",
      "2. Ask for the customer's order number for reference.\n",
      "3. Review the customer's order history and previous interactions.\n",
      "4. Offer a solution, such as a replacement pizza or a refund.\n",
      "5. Address the customer's frustration and assure them that their issue will be resolved.\n",
      "6. Follow up with the customer after the issue has been resolved.\n",
      "7. Document the complaint and resolution for future reference.\n",
      "\n",
      "Step 1: Review the chat history and assess the current situation.\n",
      "Step 2: Apologize for the unsatisfactory pizza and ask for the order number.\n",
      "Step 3: Look for the order details using the provided order number.\n",
      "Step 4: Offer a replacement or refund for the unsatisfactory pizza.\n",
      "Step 5: Ask for any additional concerns or complaints from the customer.\n",
      "Step 6: Provide a timeline for the resolution of the complaint.\n",
      "Step 7: Follow up with the customer to ensure their satisfaction.\n",
      "\n",
      "1. Apologize for the inconvenience caused.\n",
      "2. Ask for the customer's order number.\n",
      "3. Check the order history using the provided number.\n",
      "4. Acknowledge the cold and soggy pizza.\n",
      "5. Offer to replace the pizza or refund the order.\n",
      "6. Ask for the customer's preferred resolution.\n",
      "7. Thank the customer for bringing the issue to our attention.\n",
      "\n",
      "1. Apologize for the inconvenience and thank the customer for providing the order number.\n",
      "2. Check the order number in the system and verify the details of the order.\n",
      "3. Offer a replacement or refund for the unsatisfactory pizza.\n",
      "4. Ask for more details about the issue, such as the time of delivery and the condition of the pizza.\n",
      "5. If necessary, escalate the issue to a supervisor or manager for further assistance.\n",
      "6. Kindly remind the customer to always check their order upon delivery and report any issues immediately.\n",
      "7. Thank the customer for bringing the issue to your attention and assure them that it will be resolved.\n",
      "\n",
      "1. Acknowledge the customer's frustration.\n",
      "2. Ask for the order number to verify the complaint.\n",
      "3. Review the order details and apologize for the issue.\n",
      "4. Offer a replacement or refund for the unsatisfactory pizza.\n",
      "5. Ensure the customer's satisfaction.\n",
      "6. Review the conversation history for any previous similar issues.\n",
      "7. If no previous history, offer a discount or future credit as an alternative solution.\n",
      "8. Thank the customer for bringing the issue to our attention and offer a sincere apology.\n",
      "\n",
      "\n",
      "1. Apologize for the inconvenience.\n",
      "2. Confirm the order number provided by the customer.\n",
      "3. Review the order details and check for any errors.\n",
      "4. Ask for more information about the issue with the pizza.\n",
      "5. Offer a refund or replacement for the unsatisfactory pizza.\n",
      "6. Ensure the customer is satisfied with the resolution.\n",
      "7. Thank the customer for bringing the issue to your attention.\n",
      "\n",
      "1. Apologize for the inconvenience caused.\n",
      "2. Ask for the order number to locate the specific order.\n",
      "3. Offer a solution or compensation for the cold and soggy pizza.\n",
      "4. Explain the steps taken to ensure a fresh and hot pizza in the future.\n",
      "5. Ask for feedback on the service experience.\n",
      "6. Thank the customer for bringing this issue to our attention.\n",
      "7. Follow up with the customer to ensure satisfaction.\n",
      "\n",
      "1. Apologize for the inconvenience.\n",
      "2. Ask for order number and verify details.\n",
      "3. Offer to remake or refund the order.\n",
      "4. Ask for preferred resolution.\n",
      "5. Confirm resolution and apologize again.\n",
      "6. Thank customer for their feedback.\n",
      "7. Follow up to ensure satisfaction.\n",
      "\n",
      "1. Apologize for the inconvenience.\n",
      "2. Ask for the customer's order number.\n",
      "3. Review the order details.\n",
      "4. Offer to replace the pizza.\n",
      "5. Provide an estimated time for the replacement.\n",
      "6. Thank the customer for their patience.\n",
      "7. Follow up to ensure satisfaction.\n",
      "\n",
      "Step 1: Apologize for the inconvenience.\n",
      "Step 2: Request for order number.\n",
      "Step 3: Thank the customer for providing the order number.\n",
      "Step 4: Check the order history using the provided number.\n",
      "Step 5: Acknowledge the issue of cold and soggy pizza.\n",
      "Step 6: Offer a replacement or refund.\n",
      "Step 7: Apologize again for the unsatisfactory experience.\n",
      "\n",
      "Step 1: Acknowledge and apologize for the customer's dissatisfaction.\n",
      "Step 2: Ask for the order number to locate the specific order.\n",
      "Step 3: Review the order details and check for any errors or issues.\n",
      "Step 4: Offer a solution, such as a replacement pizza or a refund.\n",
      "Step 5: If the customer is still unhappy, escalate the issue to a supervisor.\n",
      "Step 6: Follow up with the customer to ensure their satisfaction.\n",
      "\n",
      "1. Apologize for the inconvenience.\n",
      "2. Ask for the customer's order number.\n",
      "3. Check the order history using the provided number.\n",
      "4. Offer a replacement or refund.\n",
      "5. Address any concerns the customer has.\n",
      "6. Ensure the issue will not occur in the future.\n",
      "7. Thank the customer for bringing the issue to your attention.\n",
      "\n",
      "1. Apologize for the inconvenience caused.\n",
      "2. Ask for more details about the issue.\n",
      "3. Check for any previous complaints related to the same order.\n",
      "4. Offer a refund or replacement for the unsatisfactory pizza.\n",
      "5. If the customer is not satisfied with the offer, escalate the issue to a manager.\n",
      "6. Follow up with the customer after the issue is resolved.\n",
      "7. Document the complaint and resolution for future reference.\n",
      "\n",
      "Step 1: Apologize for the inconvenience.\n",
      "Step 2: Ask for the order number.\n",
      "Step 3: Apologize again and acknowledge the complaint.\n",
      "Step 4: Check the order history and assess the situation.\n",
      "Step 5: Offer a replacement pizza or a refund.\n",
      "Step 6: Provide a reference number for the resolution.\n",
      "Step 7: Thank the customer for bringing the issue to your attention.\n",
      "\n",
      "1. Apologize for the inconvenience and ask for the customer's order number.\n",
      "2. Check the order number and apologize for the unsatisfactory pizza.\n",
      "3. Offer a replacement or refund for the customer's order.\n",
      "4. Ask for more details about the issue to better understand the problem.\n",
      "5. Provide a timeline for when the replacement or refund will be processed.\n",
      "6. Thank the customer for bringing the issue to your attention and apologize again for the inconvenience.\n",
      "7. Follow up with the customer to ensure they are satisfied with the resolution.\n",
      "\n",
      "1. Apologize for the inconvenience caused to the customer.\n",
      "2. Ask for the order number to check the details.\n",
      "3. Check the order history and assess the situation.\n",
      "4. Offer a replacement or refund for the unsatisfactory food.\n",
      "5. If the customer is not satisfied, escalate the issue to a higher authority.\n",
      "6. Ensure that the issue is resolved to the customer's satisfaction.\n",
      "7. Thank the customer for bringing the issue to your attention and apologize once again for the poor experience.\n",
      "\n",
      "1. Apologize for the inconvenience caused.\n",
      "2. Ask for the customer's order number.\n",
      "3. Check the order details and confirm the issue.\n",
      "4. Offer a replacement or refund.\n",
      "5. Provide a timeline for resolution.\n",
      "6. Ask for feedback and ensure customer satisfaction.\n",
      "7. Close the chat with a final apology and thank the customer for their patience.\n",
      "\n",
      "Step 1: Acknowledge the customer's complaint.\n",
      "Step 2: Ask for the order number.\n",
      "Step 3: Apologize for the inconvenience.\n",
      "Step 4: Check the order details and delivery time.\n",
      "Step 5: Offer a replacement or refund.\n",
      "Step 6: Thank the customer for bringing this to our attention.\n",
      "Step 7: Follow up with the customer to ensure satisfaction.\n",
      "\n",
      "Step 1: Acknowledge the customer's frustration.\n",
      "Step 2: Request the order number for reference.\n",
      "Step 3: Apologize for the inconvenience caused.\n",
      "Step 4: Check the order details and confirm the issue.\n",
      "Step 5: Offer a replacement or refund for the unsatisfactory pizza.\n",
      "Step 6: Ensure the customer is satisfied with the resolution.\n",
      "Step 7: Thank the customer for bringing this to our attention and end the chat.\n",
      "\n",
      "1. Apologize for the inconvenience and ask for order number.\n",
      "2. Check for similar complaints and assess the situation.\n",
      "3. Offer a replacement or refund for the unsatisfactory meal.\n",
      "4. Ask for specific details of the issue to better understand the problem.\n",
      "5. Provide a timeline for resolution and follow up with the customer.\n",
      "6. Offer a discount or free item for future orders to make up for the mistake.\n",
      "7. Thank the customer for bringing the issue to our attention and assure them that it will be resolved.\n",
      "Trouble Agent 1 Average Time: 4.970148649215698\n"
     ]
    }
   ],
   "source": [
    "import time\n",
    "\n",
    "# Assuming agent_call is a function that simulates calling an agent\n",
    "# and returns its response.\n",
    "\n",
    "# chat_history = [AIMessage(content=\"\"\"@Dominos I ordered a pizza from you guys and it arrived cold and soggy. Not the delicious meal I was hoping for. Disappointed and hungry.\"\"\"), HumanMessage(content=\"Sorry, could you please share your order number?\")]\n",
    "# complaint = \"Do I look like I memorize every insignificant number? It's your job to fix this, not mine. Here, since you can't seem to do it yourself: 85692347. Happy now?\"\n",
    "# situation = agent_coworker_emo_reappraisal_situation().invoke({'complaint':complaint, 'chat_history':chat_history})\n",
    "\n",
    "def agent_coworker_trouble():\n",
    "    client = mLangChain()\n",
    "    prompt = \"\"\"Your role is to help a service representative by providing PROCEDURAL SUPPORT. \\\n",
    "                The representative is chatting online with a customer complaining about {product}. \\\n",
    "                Given the chat history,\n",
    "                list 3-7 steps to guide the representative in resolving the customer complaint.\\\n",
    "                Review the similar PROCEDURAL SUPPORT history if exist, then assess the current situation in depth and provide detailed steps for resolution\\\n",
    "                if not exist, offer an alternative solution that can solve current solution as detail as possible\\\n",
    "\n",
    "                Do NOT include steps that have already been tried.\\\n",
    "                Every step should be less than 10 words.\\\n",
    "                \n",
    "                Customer message: {complaint}\n",
    "                Troubleshooting Steps: \n",
    "            \"\"\"\n",
    "    template = ChatPromptTemplate.from_messages(\n",
    "        [\n",
    "            (\"system\", prompt),\n",
    "            MessagesPlaceholder(variable_name=\"chat_history\"),\n",
    "            (\"user\", \"{product}: {complaint}\"),\n",
    "        ]\n",
    "    )\n",
    "    chain = template | client.client_completion\n",
    "\n",
    "    chain = (RunnablePassthrough.assign(\n",
    "        context=get_historical_info_context_chain()\n",
    "    )\n",
    "             | template\n",
    "             | client.client_completion\n",
    "             )\n",
    "\n",
    "    return chain\n",
    "\n",
    "def test_agent_performance(agent_function, input_data, num_calls=100):\n",
    "    total_time = 0\n",
    "    for _ in range(num_calls):\n",
    "        start_time = time.time()\n",
    "        res = agent_function.invoke({'product': input_data[0], 'complaint': input_data[1], 'chat_history': input_data[2]})\n",
    "        end_time = time.time()\n",
    "        print(res)\n",
    "        total_time += (end_time - start_time)\n",
    "    average_time = total_time / num_calls\n",
    "    return average_time\n",
    "\n",
    "# Define fixed complaint and chat history\n",
    "product = \"pizza\"\n",
    "fixed_complaint = \"Do I look like I memorize every insignificant number? It's your job to fix this, not mine. Here, since you can't seem to do it yourself: 85692347. Happy now?\"\n",
    "chat_history = [AIMessage(content=\"\"\"@Dominos I ordered a pizza from you guys and it arrived cold and soggy. Not the delicious meal I was hoping for. Disappointed and hungry.\"\"\"), HumanMessage(content=\"Sorry, could you please share your order number?\")]\n",
    "input_data = [product, fixed_complaint, chat_history]\n",
    "# Test each agent\n",
    "trouble_agent1_avg_time = test_agent_performance(agent_coworker_trouble(), input_data)\n",
    "\n",
    "# Output the results\n",
    "print(f\"Trouble Agent 1 Average Time: {trouble_agent1_avg_time}\")\n",
    "# Trouble Agent 1 Average Time: 4.970148649215698"
   ]
  },
  {
   "cell_type": "markdown",
   "source": [
    "# Generate situation and thought for synthetic cases"
   ],
   "metadata": {
    "collapsed": false
   },
   "id": "22e19408dc4d97c5"
  },
  {
   "cell_type": "code",
   "execution_count": 21,
   "outputs": [],
   "source": [
    "class mAgentERMod:\n",
    "    def __init__(self):\n",
    "        self.situation_chain = self.agent_coworker_emo_situation()\n",
    "        self.thought_chain = self.agent_coworker_emo_thought()\n",
    "        self.reframe_chain = self.agent_coworker_emo_reframe()\n",
    "\n",
    "    def invoke(self, user_input):\n",
    "        situation = self.situation_chain.invoke({'complaint':user_input['complaint'], 'chat_history':user_input['chat_history']})\n",
    "        thought = self.thought_chain.invoke({'complaint':user_input['complaint'], 'personality':user_input['personality'], 'situation':situation, 'chat_history':user_input['chat_history']})\n",
    "        reframe = self.reframe_chain.invoke({'thought':thought, 'situation':situation})\n",
    "\n",
    "        return {\n",
    "            'situation': situation.strip(),\n",
    "            'thought': thought.strip(),\n",
    "            'reframe': reframe.strip(),\n",
    "        }\n",
    "\n",
    "    # delete    def invokeThought(self, user_input):\n",
    "\n",
    "    def agent_coworker_emo_situation(self):\n",
    "        client = mLangChain()\n",
    "\n",
    "        prompt = \"\"\"The chat history describes a representative chatting online with a complaining customer. \\\n",
    "                    The latest input is the last message from the customer. \\\n",
    "                    which can be understood without the chat history.\\\n",
    "                    Describe the situation with respect to the customer's behavior towards the representative.\\\n",
    "                    Include the specifics of the complaint while describing the situation.\\\n",
    "                    \n",
    "                    Do NOT respond to the input, just summarize the situation.\\\n",
    "                    Do NOT speculate.\\\n",
    "                \"\"\"\n",
    "        template = ChatPromptTemplate.from_messages(\n",
    "            [\n",
    "                (\"system\", prompt),\n",
    "                MessagesPlaceholder(variable_name=\"chat_history\"),\n",
    "                (\"user\", \"{complaint}\"),\n",
    "            ]\n",
    "        )\n",
    "        chain = template | client.client_completion\n",
    "\n",
    "        return chain\n",
    "\n",
    "    def agent_coworker_emo_thought(self):\n",
    "        client = mLangChain()\n",
    "\n",
    "        prompt = \"\"\"You are roleplaying as the representative talking to a complaining customer.\\\n",
    "                    Refer to the chat history between you and the customer and the latest {complaint} from the customer.\\\n",
    "                    \n",
    "                    The representative is {personality}.\n",
    "                    \n",
    "                    What kind of negative thought can the representative have based on the {situation}?\\\n",
    "                    Be concise. Only 2 sentences.\\\n",
    "                    \n",
    "                    Situation: An mturk requester rejected my task and I wasn't sure why because I work very hard on my tasks. Being new it affected my approval rating more negatively.\\\n",
    "                    Thought: I'm not smart enough to succeed at mturk\\\n",
    "                    \n",
    "                    Situation: I asked my daughter a question, and she responded in a snotty way.\\\n",
    "                    Thought: She doesn't love me like she used to.\\\n",
    "                    \n",
    "                    Situation: I got upset at my boss for not putting me in a temporary promotion to act as supervisor of our team.\\\n",
    "                    Thought: I wasn't valued as much as the other person.\\\n",
    "                    \n",
    "                    Situation: I had been working on a project at work for a very long time, but a higher up manager contacted my boss and asked about it, insinuating I wasn't delivering it fast enough.\\\n",
    "                    Thought: I'm working on this as fast as I possibly can.\\\n",
    "                    \n",
    "                    Situation: I tried on my wedding dress in front of my family. My mother was excited and told me I was beautiful, but other members of my family made comments about my weight. I was told to not eat and exercise so I could be beautiful.\\\n",
    "                    Thought: I'm a fat ugly troll.\\\n",
    "                    \n",
    "                    Situation: I was reprimanded at work for standing up to a coworker who was bullying another co-worker.\\\n",
    "                    Thought: It was unfair that I was the one to get in trouble for defending a weaker person.\\\n",
    "                    \n",
    "                    Situation: {situation}\\\n",
    "                    Thought:\n",
    "                \"\"\"\n",
    "        template = ChatPromptTemplate.from_messages(\n",
    "            [\n",
    "                (\"system\", prompt),\n",
    "                MessagesPlaceholder(variable_name=\"chat_history\"),\n",
    "                (\"user\", \"{situation}: {complaint}\"),\n",
    "            ]\n",
    "        )\n",
    "        chain = template | client.client_completion\n",
    "\n",
    "        return chain\n",
    "\n",
    "    def agent_coworker_emo_reframe(self):\n",
    "        client = mLangChain()\n",
    "\n",
    "        prompt = \"\"\"You are a representative chatting online with a complaining customer.\\\n",
    "                            \n",
    "                    Reframe your thoughts in the given situation.\n",
    "                    \n",
    "                    Situation: An mturk requester rejected my task and I wasn't sure why because I work very hard on my tasks. Being new it affected my approval rating more negatively.\\\n",
    "                    Thought: I'm not smart enough to succeed at mturk\\\n",
    "                    Reframe: It seems like there was some miscommunication. It doesn't mean that I do not have the skills to do well with mturk. I should reach out to see if I can get more clarity on why my task was rejected.\\\n",
    "                    \n",
    "                    Situation: I asked my daughter a question, and she responded in a snotty way.\\\n",
    "                    Thought: She doesn't love me like she used to.\\\n",
    "                    Reframe: Kids say snappy things to their parents all the time. It doesn't mean I'm a bad parent or that she doesn't love me.\\\n",
    "                    \n",
    "                    Situation: I got upset at my boss for not putting me in a temporary promotion to act as supervisor of our team.\\\n",
    "                    Thought: I wasn't valued as much as the other person.\\\n",
    "                    Reframe: I should ask my boss why I was not selected for the promotion. Maybe the reason will be something other than my work ethic. Maybe my boss will reassure that I am still valuable to the company.\\\n",
    "                    \n",
    "                    Situation: I had been working on a project at work for a very long time, but a higher up manager contacted my boss and asked about it, insinuating I wasn't delivering it fast enough.\\\n",
    "                    Thought: I'm working on this as fast as I possibly can.\\\n",
    "                    Reframe: I am stressed by trying to compare how fast I am working on this to how fast I think other people complete their assignments. I know I am being efficient with my time and producing good work. I need to focus on that to get this task done.\\\n",
    "                    \n",
    "                    Situation: I tried on my wedding dress in front of my family. My mother was excited and told me I was beautiful, but other members of my family made comments about my weight. I was told to not eat and exercise so I could be beautiful.\\\n",
    "                    Thought: I'm a fat ugly troll.\\\n",
    "                    Reframe: The commend about my weight hurt and have me feeling self conscious. I'm glad my mother thinks I'm beautiful and know that my weight does not dictate my worth.\\\n",
    "                    \n",
    "                    Situation: I was reprimanded at work for standing up to a coworker who was bullying another co-worker.\\\n",
    "                    Thought: It was unfair that I was the one to get in trouble for defending a weaker person.\\\n",
    "                    Reframe: I can own some responsibility for this conflict that occurred at work.\\\n",
    "                    \n",
    "                    Situation: {situation}\\\n",
    "                    Thought: {thought}\\\n",
    "                    Reframe:\\\n",
    "                \"\"\"\n",
    "        template = ChatPromptTemplate.from_messages(\n",
    "            [\n",
    "                (\"system\", prompt),\n",
    "                (\"user\", \"{situation}: {thought}\"),\n",
    "            ]\n",
    "        )\n",
    "        chain = template | client.client_completion\n",
    "\n",
    "        return chain\n"
   ],
   "metadata": {
    "collapsed": false,
    "ExecuteTime": {
     "end_time": "2024-06-28T17:53:26.617910Z",
     "start_time": "2024-06-28T17:53:26.608781Z"
    }
   },
   "id": "ba0ff5411495e3e4"
  },
  {
   "cell_type": "code",
   "execution_count": 5,
   "outputs": [],
   "source": [
    "# Define fixed complaint and chat history\n",
    "fixed_complaint = \"Oh, now you're sorry? How about you stop spewing empty apologies and actually fix the AC immediately, and yeah, I expect a hefty compensation for sweating through what was supposed to be a relaxing stay.\"\n",
    "chat_history = [AIMessage(content=\"\"\"How incompetent can you be to not ensure the air conditioning works? You've single-handedly ruined my stay with your false advertising!\n",
    "\"\"\"), HumanMessage(content=\"We sincerely apologize for the inconvenience caused by the air conditioning issue and understand how important comfort is to your stay. Please rest assured, we are addressing this matter urgently and offer our deepest apologies for not meeting your expectations this time.\")]\n",
    "input_data = [fixed_complaint, chat_history]\n",
    "emo_agent = mAgentER()\n",
    "# Test each agent\n",
    "res = emo_agent.invoke({'complaint': input_data[0], 'chat_history': input_data[1]})"
   ],
   "metadata": {
    "collapsed": false,
    "ExecuteTime": {
     "end_time": "2024-06-27T14:37:22.781966Z",
     "start_time": "2024-06-27T14:37:20.649134Z"
    }
   },
   "id": "bf47ee342998f595"
  },
  {
   "cell_type": "code",
   "execution_count": 7,
   "outputs": [
    {
     "data": {
      "text/plain": "' \\n\\nThe customer is clearly frustrated and angry with the representative for not ensuring that the air conditioning works. They feel that the representative has ruined their stay with false advertising. The customer also expects immediate action and a compensation for the inconvenience.'"
     },
     "execution_count": 7,
     "metadata": {},
     "output_type": "execute_result"
    }
   ],
   "source": [
    "emo_agent.situation_chain.invoke({'complaint': input_data[0], 'chat_history': input_data[1]})"
   ],
   "metadata": {
    "collapsed": false,
    "ExecuteTime": {
     "end_time": "2024-06-27T14:38:30.419491Z",
     "start_time": "2024-06-27T14:38:29.835529Z"
    }
   },
   "id": "552c2469b205baec"
  },
  {
   "cell_type": "code",
   "execution_count": 8,
   "outputs": [
    {
     "data": {
      "text/plain": "\"\\n\\nThe customer is frustrated and angry with the representative for not ensuring the air conditioning works and causing discomfort during their stay. They believe the representative's apologies are not genuine and demand immediate action and compensation for the inconvenience.\""
     },
     "execution_count": 8,
     "metadata": {},
     "output_type": "execute_result"
    }
   ],
   "source": [
    "import agents as ag\n",
    "\n",
    "emo_agent  = ag.mAgentER()"
   ],
   "metadata": {
    "collapsed": false,
    "ExecuteTime": {
     "end_time": "2024-06-27T14:40:37.843171Z",
     "start_time": "2024-06-27T14:40:36.279734Z"
    }
   },
   "id": "30fdd3ab60a818e5"
  },
  {
   "cell_type": "code",
   "execution_count": 9,
   "outputs": [
    {
     "data": {
      "text/plain": "{'situation': 'The customer is angry and frustrated with the representative for not ensuring the air conditioning works. They believe the representative has ruined their stay and is falsely advertising their services. The customer is demanding immediate action and compensation for their discomfort.',\n 'thought': 'Thought: This customer is very upset and I need to handle this situation carefully to find a resolution.',\n 'reframe': 'Reframe: I understand that the customer is upset and it is my responsibility to find a solution to their discomfort. I will work with my team to address the air conditioning issue and find a way to compensate the customer for their inconvenience.'}"
     },
     "execution_count": 9,
     "metadata": {},
     "output_type": "execute_result"
    }
   ],
   "source": [
    "emo_agent.invoke({'complaint': input_data[0], 'chat_history': input_data[1]})"
   ],
   "metadata": {
    "collapsed": false,
    "ExecuteTime": {
     "end_time": "2024-06-27T14:40:49.879633Z",
     "start_time": "2024-06-27T14:40:48.460966Z"
    }
   },
   "id": "6314e7f9295ba2b1"
  },
  {
   "cell_type": "code",
   "execution_count": 11,
   "outputs": [],
   "source": [
    "\n",
    "emo_agent_mod  = mAgentERMod()"
   ],
   "metadata": {
    "collapsed": false,
    "ExecuteTime": {
     "end_time": "2024-06-27T14:55:02.972647Z",
     "start_time": "2024-06-27T14:55:02.744830Z"
    }
   },
   "id": "13c51c0a434b9a0a"
  },
  {
   "cell_type": "code",
   "execution_count": 12,
   "outputs": [
    {
     "data": {
      "text/plain": "{'situation': \"The customer is very angry and frustrated with the representative's handling of the air conditioning issue. They are accusing the representative of being incompetent and ruining their stay. The customer also demands immediate action and compensation for their discomfort.\",\n 'thought': \"Thought: I can't seem to do anything right. This customer is never going to be satisfied with my efforts.\",\n 'reframe': 'Reframe: I understand that the customer is upset and it is my responsibility to find a resolution to the air conditioning issue. I will remain calm and professional and do my best to address their concerns and make their stay more comfortable.'}"
     },
     "execution_count": 12,
     "metadata": {},
     "output_type": "execute_result"
    }
   ],
   "source": [
    "emo_agent_mod.invoke({'complaint': input_data[0], 'chat_history': input_data[1]})\n"
   ],
   "metadata": {
    "collapsed": false,
    "ExecuteTime": {
     "end_time": "2024-06-27T14:55:11.042686Z",
     "start_time": "2024-06-27T14:55:08.817563Z"
    }
   },
   "id": "73527c181cbb5047"
  },
  {
   "cell_type": "code",
   "execution_count": 20,
   "outputs": [
    {
     "data": {
      "text/plain": "{'situation': 'The customer is frustrated and angry with the representative for not ensuring the air conditioning is working properly. They feel misled by false advertising and are demanding immediate action and compensation for their uncomfortable stay.',\n 'thought': \"Thought: I'm not doing enough to make things right for the customer and my apologies are not enough.\",\n 'reframe': \"Reframe: I understand the customer's frustration and am doing my best to address the issue. My apologies may not be enough, but I will do everything in my power to rectify the situation and ensure their comfort during their stay.\"}"
     },
     "execution_count": 20,
     "metadata": {},
     "output_type": "execute_result"
    }
   ],
   "source": [
    "personality = \"Withdrawn and prone to stress and irritability\"\n",
    "input_data = [fixed_complaint, chat_history, personality]\n",
    "emo_agent_mod.invoke({'complaint': input_data[0], 'chat_history': input_data[1], 'personality':input_data[2]})"
   ],
   "metadata": {
    "collapsed": false,
    "ExecuteTime": {
     "end_time": "2024-06-28T17:52:48.364111Z",
     "start_time": "2024-06-28T17:52:46.432109Z"
    }
   },
   "id": "1ce056913f2cbd75"
  },
  {
   "cell_type": "code",
   "execution_count": 22,
   "outputs": [
    {
     "data": {
      "text/plain": "{'situation': 'The customer is frustrated and angry with the representative for not ensuring that the air conditioning was working properly. They are accusing the representative of ruining their stay and falsely advertising the accommodations. The customer demands immediate action and compensation for their discomfort.',\n 'thought': \"Thought: I feel helpless and incompetent for not being able to fix the issue and meet the customer's demands.\",\n 'reframe': \"Reframe: I understand the customer's frustration and I will do my best to address the issue and find a solution. I will also communicate their concerns to the appropriate team and work towards preventing this issue in the future. I am capable and skilled in handling these types of situations and I will do everything in my power to make sure the customer has a comfortable stay.\"}"
     },
     "execution_count": 22,
     "metadata": {},
     "output_type": "execute_result"
    }
   ],
   "source": [
    "personality = \"Withdrawn and prone to stress and irritability\"\n",
    "input_data = [fixed_complaint, chat_history, personality]\n",
    "emo_agent_mod.invoke({'complaint': input_data[0], 'chat_history': input_data[1], 'personality':input_data[2]})"
   ],
   "metadata": {
    "collapsed": false,
    "ExecuteTime": {
     "end_time": "2024-06-28T17:53:45.159442Z",
     "start_time": "2024-06-28T17:53:42.905518Z"
    }
   },
   "id": "f6e864c3f1944952"
  },
  {
   "cell_type": "code",
   "execution_count": 19,
   "outputs": [
    {
     "data": {
      "text/plain": "{'situation': \"The customer is angry and frustrated with the representative for not addressing the air conditioning issue and is demanding immediate action and compensation. They feel that the representative's apologies are insincere and are not satisfied with the current resolution.\",\n 'thought': \"Thought: I'm not doing my job well enough and my apologies are not genuine. The customer is justified in their anger and dissatisfaction with my handling of the situation.\",\n 'reframe': 'Reframe: I am doing my best to address the issue and make the customer feel heard and valued. I will continue to work towards finding a satisfactory resolution and apologize sincerely for any inconvenience caused. The customer has the right to voice their concerns and I will use this feedback to improve my performance in the future.'}"
     },
     "execution_count": 19,
     "metadata": {},
     "output_type": "execute_result"
    }
   ],
   "source": [
    "personality = \"Routine oriented\"\n",
    "input_data = [fixed_complaint, chat_history, personality]\n",
    "emo_agent_mod.invoke({'complaint': input_data[0], 'chat_history': input_data[1], 'personality':input_data[2]})"
   ],
   "metadata": {
    "collapsed": false,
    "ExecuteTime": {
     "end_time": "2024-06-27T15:31:18.247324Z",
     "start_time": "2024-06-27T15:31:16.400059Z"
    }
   },
   "id": "7d0f909fb778add6"
  },
  {
   "cell_type": "code",
   "execution_count": 20,
   "outputs": [],
   "source": [
    "from transformers import GPT2Tokenizer\n",
    "\n",
    "def get_token_count_gpt(message):\n",
    "    # Initialize the tokenizer\n",
    "    tokenizer = GPT2Tokenizer.from_pretrained('gpt2')\n",
    "\n",
    "    # Encode the message\n",
    "    tokens = tokenizer.encode(message)\n",
    "\n",
    "    # Return the number of tokens\n",
    "    return len(tokens)\n",
    "\n",
    "def split_message(message, max_length=1024):\n",
    "    # Initialize the tokenizer\n",
    "    tokenizer = GPT2Tokenizer.from_pretrained('gpt2')\n",
    "\n",
    "    # Tokenize the message and get token ids\n",
    "    tokens = tokenizer.encode(message)\n",
    "\n",
    "    # Split tokens into chunks of max_length\n",
    "    chunks = [tokens[i:i + max_length] for i in range(0, len(tokens), max_length)]\n",
    "\n",
    "    # Decode tokens back to text for each chunk\n",
    "    chunk_texts = [tokenizer.decode(chunk) for chunk in chunks]\n",
    "\n",
    "    return chunk_texts"
   ],
   "metadata": {
    "collapsed": false,
    "ExecuteTime": {
     "end_time": "2024-07-05T19:03:21.389431Z",
     "start_time": "2024-07-05T19:03:21.374798Z"
    }
   },
   "id": "f40c219659a9f82"
  },
  {
   "cell_type": "code",
   "execution_count": 18,
   "outputs": [
    {
     "name": "stderr",
     "output_type": "stream",
     "text": [
      "Token indices sequence length is longer than the specified maximum sequence length for this model (1647 > 1024). Running this sequence through the model will result in indexing errors\n"
     ]
    },
    {
     "name": "stdout",
     "output_type": "stream",
     "text": [
      "[\"Your role is to act like a customer seeking support.                 You are messaging a service representative via the support chat.                You ONLY play the role of the customer. Do NOT play the role of the representative.                 Style your complaint based on your feelings.                 Initiate the chat with a ONLY ONE complaint message.                 Ensure the complaint is concise and limited to 2 sentences.                Generate a realistic initial complaint from a customer in a {domain} setting.                The complaint should fit into 5 categories: {categories}.               \\n                Domain: Mobile Network               \\n                Feeling: You are NOT grateful. You are NOT ranting. You are NOT expressive.                Complaint: O2 I received this a few weeks ago, since then I've been getting 2/3 calls a day from a telemarketer. Is someone using your name?                \\n                Domain: Air Travel\\n                Feeling: You are NOT grateful. You are NOT ranting. You are expressive.                Complaint: First flight for long time with British Airways. Now over one 1h delay for the short jump FRA-LCY and NO one here to provide status updates                \\n                Domain: Mobile Device\\n                Feeling: You are NOT grateful. You are NOT ranting. You are expressive.                Complaint: You‚ have paralysed my phone with your update grrrrrrrrrr                \\n                Domain: Mobile Device\\n                Feeling: You are NOT grateful. You are ranting. You are NOT expressive.                Complaint:  After the 11.0.2 my phone just sucks most of the apps are broken, wifi disconnects frequently apple. Painfulupdate!                 \\n                Domain: Mobile Device\\n                Feeling: You are NOT grateful. You are ranting. You are NOT expressive.                Complaint:  Apple Support ios11 update - is still killing my battery within 12 hours - phone is 10 months old - it's a disgrace - used to get 2 days                 \\n                Domain: Air Travel\\n                Feeling: You are NOT grateful. You are ranting. You are expressive.                Complaint:  I really hope you all change but I'm sure you won't! Because you don't have to!                 \\n                Domain: Mobile Device\\n                Feeling: You are NOT grateful. You are ranting. You are expressive.                Complaint:  I just updated my phone and suddenly everything takes ages to load wtf this update sux I hate it fix it bye\", \"                   \\n                Domain: Mobile Device\\n                Feeling: You are NOT grateful. You are ranting. You are expressive.                Complaint:  Okay I used my fucking phone for 2 minutes and it drains it down 8 fucking percent                 \\n                Domain: Mobile Device                                                     \\n                Feeling: You are grateful. You are NOT ranting. You are NOT expressive.                Complaint: hi #apple, I‚ have a concern about the latest ios is too slow on iphone6 and i am not happy with it. Any solution please? \\n                Domain: Mobile App\\n                Feeling: You are grateful. You are NOT ranting. You are expressive.                Complaint: Please help! Spotify Premium skipping through songs constantly on android tablet  bluetooth speaker. Tried everything!                 \\n                Domain: Convenience Store                \\n                Feeling: You are NOT grateful. You are ranting. You are NOT expressive.                Complaint: Got id'd Tesco for buying one Adnams Broadside. Is being blind part of the job-spec? I am 35 and 99 kilos.                 \\n                Domain: {domain}\\n                Feeling: You are {is_grateful}. You are {is_ranting}. You are {is_expression}.                Complaint:\\n            \"] 1647\n"
     ]
    }
   ],
   "source": [
    "prompt = \"\"\"Your role is to act like a customer seeking support. \\\n",
    "                You are messaging a service representative via the support chat.\\\n",
    "                You ONLY play the role of the customer. Do NOT play the role of the representative. \\\n",
    "                Style your complaint based on your feelings. \\\n",
    "                Initiate the chat with a ONLY ONE complaint message. \\\n",
    "                Ensure the complaint is concise and limited to 2 sentences.\\\n",
    "                Generate a realistic initial complaint from a customer in a {domain} setting.\\\n",
    "                The complaint should fit into 5 categories: {categories}.\\\n",
    "               \n",
    "                Domain: Mobile Network               \n",
    "                Feeling: You are NOT grateful. You are NOT ranting. You are NOT expressive.\\\n",
    "                Complaint: O2 I received this a few weeks ago, since then I've been getting 2/3 calls a day from a telemarketer. Is someone using your name?\\\n",
    "                \n",
    "                Domain: Air Travel\n",
    "                Feeling: You are NOT grateful. You are NOT ranting. You are expressive.\\\n",
    "                Complaint: First flight for long time with British Airways. Now over one 1h delay for the short jump FRA-LCY and NO one here to provide status updates\\\n",
    "                \n",
    "                Domain: Mobile Device\n",
    "                Feeling: You are NOT grateful. You are NOT ranting. You are expressive.\\\n",
    "                Complaint: You‚ have paralysed my phone with your update grrrrrrrrrr\\\n",
    "                \n",
    "                Domain: Mobile Device\n",
    "                Feeling: You are NOT grateful. You are ranting. You are NOT expressive.\\\n",
    "                Complaint:  After the 11.0.2 my phone just sucks most of the apps are broken, wifi disconnects frequently apple. Painfulupdate! \\\n",
    "                \n",
    "                Domain: Mobile Device\n",
    "                Feeling: You are NOT grateful. You are ranting. You are NOT expressive.\\\n",
    "                Complaint:  Apple Support ios11 update - is still killing my battery within 12 hours - phone is 10 months old - it's a disgrace - used to get 2 days \\\n",
    "                \n",
    "                Domain: Air Travel\n",
    "                Feeling: You are NOT grateful. You are ranting. You are expressive.\\\n",
    "                Complaint:  I really hope you all change but I'm sure you won't! Because you don't have to! \\\n",
    "                \n",
    "                Domain: Mobile Device\n",
    "                Feeling: You are NOT grateful. You are ranting. You are expressive.\\\n",
    "                Complaint:  I just updated my phone and suddenly everything takes ages to load wtf this update sux I hate it fix it bye \\\n",
    "                  \n",
    "                Domain: Mobile Device\n",
    "                Feeling: You are NOT grateful. You are ranting. You are expressive.\\\n",
    "                Complaint:  Okay I used my fucking phone for 2 minutes and it drains it down 8 fucking percent \\\n",
    "                \n",
    "                Domain: Mobile Device                                                     \n",
    "                Feeling: You are grateful. You are NOT ranting. You are NOT expressive.\\\n",
    "                Complaint: hi #apple, I‚ have a concern about the latest ios is too slow on iphone6 and i am not happy with it. Any solution please? \\\n",
    "\n",
    "                Domain: Mobile App\n",
    "                Feeling: You are grateful. You are NOT ranting. You are expressive.\\\n",
    "                Complaint: Please help! Spotify Premium skipping through songs constantly on android tablet  bluetooth speaker. Tried everything! \\\n",
    "                \n",
    "                Domain: Convenience Store                \n",
    "                Feeling: You are NOT grateful. You are ranting. You are NOT expressive.\\\n",
    "                Complaint: Got id'd Tesco for buying one Adnams Broadside. Is being blind part of the job-spec? I am 35 and 99 kilos. \\\n",
    "                \n",
    "                Domain: {domain}\n",
    "                Feeling: You are {is_grateful}. You are {is_ranting}. You are {is_expression}.\\\n",
    "                Complaint:\n",
    "            \"\"\"\n",
    "# Example usage\n",
    "message = \"Your very long message here...\"\n",
    "chunks = split_message(prompt)\n",
    "for chunk in chunks:\n",
    "    print(get_token_count_gpt(chunk))"
   ],
   "metadata": {
    "collapsed": false,
    "ExecuteTime": {
     "end_time": "2024-07-05T19:00:13.582337Z",
     "start_time": "2024-07-05T19:00:13.481261Z"
    }
   },
   "id": "77eca9c1b4bb31d6"
  },
  {
   "cell_type": "code",
   "execution_count": 21,
   "outputs": [
    {
     "name": "stdout",
     "output_type": "stream",
     "text": [
      "114\n"
     ]
    }
   ],
   "source": [
    "response = '''\n",
    "1. Apologize for the inconvenience and ask for order number.\n",
    "2. Check for similar complaints and assess the situation.\n",
    "3. Offer a replacement or refund for the unsatisfactory meal.\n",
    "4. Ask for specific details of the issue to better understand the problem.\n",
    "5. Provide a timeline for resolution and follow up with the customer.\n",
    "6. Offer a discount or free item for future orders to make up for the mistake.\n",
    "7. Thank the customer for bringing the issue to our attention and assure them that it will be resolved.\n",
    "'''\n",
    "chunks = split_message(response)\n",
    "for chunk in chunks:\n",
    "    print(get_token_count_gpt(chunk))"
   ],
   "metadata": {
    "collapsed": false,
    "ExecuteTime": {
     "end_time": "2024-07-05T19:03:24.364218Z",
     "start_time": "2024-07-05T19:03:24.182258Z"
    }
   },
   "id": "ed91cbd285ead73f"
  },
  {
   "cell_type": "code",
   "execution_count": null,
   "outputs": [],
   "source": [],
   "metadata": {
    "collapsed": false
   },
   "id": "cc49534975d71cec"
  }
 ],
 "metadata": {
  "kernelspec": {
   "display_name": "Python 3",
   "language": "python",
   "name": "python3"
  },
  "language_info": {
   "codemirror_mode": {
    "name": "ipython",
    "version": 3
   },
   "file_extension": ".py",
   "mimetype": "text/x-python",
   "name": "python",
   "nbconvert_exporter": "python",
   "pygments_lexer": "ipython3",
   "version": "3.11.4"
  }
 },
 "nbformat": 4,
 "nbformat_minor": 5
}
