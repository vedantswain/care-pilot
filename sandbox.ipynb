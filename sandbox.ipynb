{
 "cells": [
  {
   "cell_type": "code",
   "execution_count": 29,
   "id": "initial_id",
   "metadata": {
    "ExecuteTime": {
     "end_time": "2024-06-14T19:11:01.893527Z",
     "start_time": "2024-06-14T19:10:50.556578Z"
    },
    "collapsed": true
   },
   "outputs": [],
   "source": [
    "from sentiment import *"
   ]
  },
  {
   "cell_type": "code",
   "execution_count": 30,
   "id": "d2248c67245b7c50",
   "metadata": {
    "ExecuteTime": {
     "end_time": "2024-06-14T19:14:38.248688Z",
     "start_time": "2024-06-14T19:14:38.242780Z"
    },
    "collapsed": false
   },
   "outputs": [],
   "source": [
    "test_queries = [\n",
    "    \"Sorry? That's all you've got? A simple \\\"sorry\\\" won't fix the mess of a stay I had. What are you going to do about it?\",\n",
    "    \"Oh, you \\\"hear\\\" me? That's just great. Listening is one thing, but I want action, not just words! What are you going to do about it?.\",\n",
    "    \"Well, you better make it quick! And it better be the best room you have, or there will be even more complaints coming your way.\",\n",
    "    \"The room that I booked at your hotel was not what was advertised. It was dirty and had a musty smell. I am very disappointed and will not be staying here again.\",\n",
    "    \"I appreciate your apology. Could you please let me know what steps can be taken to address this issue?\",\n",
    "    \"Thank you for offering to switch me to a clean room. Can you ensure that the new room will be in a better condition than the first one?\",\n",
    "    \"That sounds great, thank you. Could you also let me know how long it will take to prepare the new room?\",\n",
    "    \"I understand it may take some time, but spending the entire day waiting for a new room is quite inconvenient. Is there any way to expedite this process, or perhaps offer some form of compensation for the inconvenience caused?\",\n",
    "    \"That would be appreciated. What form of compensation are you considering?\"\n",
    "]"
   ]
  },
  {
   "cell_type": "code",
   "execution_count": 33,
   "id": "d927bec40436b528",
   "metadata": {
    "ExecuteTime": {
     "end_time": "2024-06-14T19:14:39.164130Z",
     "start_time": "2024-06-14T19:14:39.057764Z"
    },
    "collapsed": false
   },
   "outputs": [
    {
     "name": "stdout",
     "output_type": "stream",
     "text": [
      "Sorry? That's all you've got? A simple \"sorry\" won't fix the mess of a stay I had. What are you going to do about it?\n",
      "NLTK: Slightly Positive\n",
      "TextBlob: Slightly Negative\n",
      "Transformers: Very Negative\n",
      "\n",
      "Oh, you \"hear\" me? That's just great. Listening is one thing, but I want action, not just words! What are you going to do about it?.\n",
      "NLTK: Positive\n",
      "TextBlob: Positive\n",
      "Transformers: Very Negative\n",
      "\n",
      "Well, you better make it quick! And it better be the best room you have, or there will be even more complaints coming your way.\n",
      "NLTK: Very Positive\n",
      "TextBlob: Positive\n",
      "Transformers: Very Negative\n",
      "\n",
      "The room that I booked at your hotel was not what was advertised. It was dirty and had a musty smell. I am very disappointed and will not be staying here again.\n",
      "NLTK: Very Negative\n",
      "TextBlob: Very Negative\n",
      "Transformers: Very Negative\n",
      "\n",
      "I appreciate your apology. Could you please let me know what steps can be taken to address this issue?\n",
      "NLTK: Positive\n",
      "TextBlob: Neutral\n",
      "Transformers: Very Negative\n",
      "\n",
      "Thank you for offering to switch me to a clean room. Can you ensure that the new room will be in a better condition than the first one?\n",
      "NLTK: Very Positive\n",
      "TextBlob: Slightly Positive\n",
      "Transformers: Very Negative\n",
      "\n",
      "That sounds great, thank you. Could you also let me know how long it will take to prepare the new room?\n",
      "NLTK: Very Positive\n",
      "TextBlob: Slightly Positive\n",
      "Transformers: Very Negative\n",
      "\n",
      "I understand it may take some time, but spending the entire day waiting for a new room is quite inconvenient. Is there any way to expedite this process, or perhaps offer some form of compensation for the inconvenience caused?\n",
      "NLTK: Very Negative\n",
      "TextBlob: Slightly Negative\n",
      "Transformers: Very Negative\n",
      "\n",
      "That would be appreciated. What form of compensation are you considering?\n",
      "NLTK: Positive\n",
      "TextBlob: Slightly Positive\n",
      "Transformers: Very Negative\n"
     ]
    }
   ],
   "source": [
    "for query in test_queries:\n",
    "    print(query)\n",
    "    print(\"NLTK:\", analyze_sentiment_nltk(query))\n",
    "    print(\"TextBlob:\", analyze_sentiment_textblob(query))\n",
    "    print(\"Transformers:\", analyze_sentiment_transformer(test_queries[0]))\n",
    "    print()"
   ]
  },
  {
   "cell_type": "markdown",
   "source": [
    "# Agent Testing\n",
    "\n",
    "## Updates:\n",
    "- Customer agent now uses GPT-4o to generate responses"
   ],
   "metadata": {
    "collapsed": false
   },
   "id": "21e1da895d94b384"
  },
  {
   "cell_type": "code",
   "execution_count": 1,
   "id": "b80094f12f760fa",
   "metadata": {
    "collapsed": false,
    "ExecuteTime": {
     "end_time": "2024-07-05T20:36:57.701664Z",
     "start_time": "2024-07-05T20:36:52.214532Z"
    }
   },
   "outputs": [],
   "source": [
    "from agents import *\n",
    "\n",
    "sender_agent = mAgentCustomer()"
   ]
  },
  {
   "cell_type": "code",
   "execution_count": 2,
   "outputs": [],
   "source": [
    "chat_history = [AIMessage(content=\"                AmericanAir I have been trying to get a refund for my canceled flight for over a month now. Every time I call, I am told that it will be processed soon but it has been weeks and I still haven't received anything. This is unacceptable and frustrating. \")]\n",
    "prompt = \"sorry for your bad experience, could you please provide your order ID?\""
   ],
   "metadata": {
    "collapsed": false,
    "ExecuteTime": {
     "end_time": "2024-07-05T20:36:57.705233Z",
     "start_time": "2024-07-05T20:36:57.702281Z"
    }
   },
   "id": "7804b3a4c7e37a98"
  },
  {
   "cell_type": "code",
   "execution_count": 7,
   "outputs": [],
   "source": [
    "result = sender_agent.invoke({\"input\": prompt, \"chat_history\": chat_history, \"civil\": 0})\n",
    "response = result"
   ],
   "metadata": {
    "collapsed": false,
    "ExecuteTime": {
     "end_time": "2024-07-06T22:48:08.266502Z",
     "start_time": "2024-07-06T22:48:06.930382Z"
    }
   },
   "id": "fce98ceca1bbc999"
  },
  {
   "cell_type": "markdown",
   "source": [
    "**Sample Response** : \"Are you serious? You should have all my information lready. It's 12345678. Do your job and fix this mess.\""
   ],
   "metadata": {
    "collapsed": false
   },
   "id": "12abedd4760124c8"
  },
  {
   "cell_type": "code",
   "execution_count": 9,
   "outputs": [],
   "source": [
    "chat_history.append(HumanMessage(content=prompt))\n",
    "info_agent = mAgentInfo()\n",
    "\n",
    "response_cw_info = info_agent.invoke({'domain': \"airlines\",'complaint':response, \"chat_history\": chat_history})"
   ],
   "metadata": {
    "collapsed": false,
    "ExecuteTime": {
     "end_time": "2024-07-06T23:01:24.539165Z",
     "start_time": "2024-07-06T23:01:22.584870Z"
    }
   },
   "id": "bd6439efe1a973a"
  },
  {
   "cell_type": "markdown",
   "source": [
    "**Sample Response:** \n",
    "['Apologize for the inconvenience caused.',\n",
    " 'Confirm receipt of the order ID provided.',\n",
    " 'Assure investigation and resolution.']"
   ],
   "metadata": {
    "collapsed": false
   },
   "id": "31bb7cbb0418f4b3"
  },
  {
   "cell_type": "code",
   "execution_count": null,
   "outputs": [],
   "source": [],
   "metadata": {
    "collapsed": false
   },
   "id": "2f83b789262d4dfc"
  }
 ],
 "metadata": {
  "kernelspec": {
   "display_name": "Python 3",
   "language": "python",
   "name": "python3"
  },
  "language_info": {
   "codemirror_mode": {
    "name": "ipython",
    "version": 3
   },
   "file_extension": ".py",
   "mimetype": "text/x-python",
   "name": "python",
   "nbconvert_exporter": "python",
   "pygments_lexer": "ipython3",
   "version": "3.11.4"
  }
 },
 "nbformat": 4,
 "nbformat_minor": 5
}
