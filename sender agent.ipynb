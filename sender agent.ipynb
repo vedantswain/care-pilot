{
 "cells": [
  {
   "cell_type": "code",
   "execution_count": 1,
   "outputs": [
    {
     "data": {
      "text/plain": "True"
     },
     "execution_count": 1,
     "metadata": {},
     "output_type": "execute_result"
    }
   ],
   "source": [
    "from dotenv import load_dotenv\n",
    "load_dotenv(\"project.env\") "
   ],
   "metadata": {
    "collapsed": false,
    "ExecuteTime": {
     "end_time": "2024-02-28T20:14:21.494338Z",
     "start_time": "2024-02-28T20:14:21.428311Z"
    }
   },
   "id": "a4614a726a28ff06"
  },
  {
   "cell_type": "code",
   "execution_count": 2,
   "outputs": [
    {
     "name": "stderr",
     "output_type": "stream",
     "text": [
      "/var/folders/g6/q048kmv5357d4xr9p_cx4bw80000gr/T/ipykernel_8121/1540849435.py:1: DeprecationWarning: \n",
      "Pyarrow will become a required dependency of pandas in the next major release of pandas (pandas 3.0),\n",
      "(to allow more performant data types, such as the Arrow string type, and better interoperability with other libraries)\n",
      "but was not found to be installed on your system.\n",
      "If this would cause problems for you,\n",
      "please provide us feedback at https://github.com/pandas-dev/pandas/issues/54466\n",
      "        \n",
      "  import pandas as pd\n"
     ]
    }
   ],
   "source": [
    "import pandas as pd\n",
    "import itertools"
   ],
   "metadata": {
    "collapsed": false,
    "ExecuteTime": {
     "end_time": "2024-02-28T20:14:24.335337Z",
     "start_time": "2024-02-28T20:14:21.493716Z"
    }
   },
   "id": "e5c814a2b01f55c8"
  },
  {
   "cell_type": "code",
   "execution_count": 3,
   "outputs": [],
   "source": [
    "import os\n",
    "import openai as oai\n",
    "\n",
    "import langchain_openai as lcai\n",
    "from langchain.agents import AgentExecutor, create_openai_tools_agent\n",
    "from langchain.chains import create_retrieval_chain\n",
    "from langchain.chains.combine_documents import create_stuff_documents_chain\n",
    "from langchain_community.document_loaders import WebBaseLoader\n",
    "from langchain_community.vectorstores import FAISS\n",
    "from langchain_core.prompts import ChatPromptTemplate, MessagesPlaceholder, SystemMessagePromptTemplate, PromptTemplate, HumanMessagePromptTemplate\n",
    "from langchain_core.messages import AIMessage, HumanMessage\n",
    "from langchain_core.runnables import RunnablePassthrough\n",
    "from langchain.text_splitter import RecursiveCharacterTextSplitter\n",
    "from langchain.tools.retriever import create_retriever_tool\n",
    "from langchain.chains import SequentialChain, LLMChain\n",
    "\n",
    "\n",
    "from utils import mLangChain"
   ],
   "metadata": {
    "collapsed": false,
    "ExecuteTime": {
     "end_time": "2024-02-28T20:14:26.710502Z",
     "start_time": "2024-02-28T20:14:25.364659Z"
    }
   },
   "id": "initial_id"
  },
  {
   "cell_type": "code",
   "execution_count": 4,
   "outputs": [],
   "source": [
    "def agent_sender_zeroshot():\n",
    "    client_LC = mLangChain()\n",
    "    prompt = \"\"\"Your role is to act like a customer seeking support for {product}. \\\n",
    "                You are messaging a service representative via the support chat.\\\n",
    "                You ONLY play the role of the customer. Do NOT play the role of the representative. \\\n",
    "                Style your complaint based on your feelings. \\\n",
    "                Initiate the chat with a ONLY ONE complaint message. \\\n",
    "                \n",
    "                Feeling: You are {is_grateful}. You are {is_ranting}. You are {is_expressive}.\\\n",
    "                Complaint:\n",
    "            \"\"\"\n",
    "    template = ChatPromptTemplate.from_messages(\n",
    "        [\n",
    "            (\"system\", prompt),\n",
    "        ]\n",
    "    )\n",
    "    chain = template | client_LC.client_prompt\n",
    "    return chain"
   ],
   "metadata": {
    "collapsed": false,
    "ExecuteTime": {
     "end_time": "2024-02-28T20:14:26.713210Z",
     "start_time": "2024-02-28T20:14:26.711009Z"
    }
   },
   "id": "fd0588e1285a3276"
  },
  {
   "cell_type": "code",
   "execution_count": 5,
   "outputs": [],
   "source": [
    "def agent_sender_fewshot_rcis():\n",
    "    client_LC = mLangChain()\n",
    "    prompt = \"\"\"Your role is to act like a customer seeking support for {product}. \\\n",
    "                You are messaging a service representative via the support chat.\\\n",
    "                You ONLY play the role of the customer. Do NOT play the role of the representative. \\\n",
    "                Style your complaint based on your feelings. \\\n",
    "                Initiate the chat with a ONLY ONE complaint message. \\\n",
    "                                \n",
    "                Feeling: You are NOT grateful. You are NOT ranting. You are NOT expressive.\\\n",
    "                Complaint: I am flying from Luton to Dalaman (Turkey) next week with Monarch and am wondering whether or not to bother with online check-in. [We already have allocated seats, so as far as I can see the only extra thing that online check-in offers is that you don't have to have your boarding pass printed at the check-in desk. Things that are putting me off are: (1) I've noticed over the past couple of years that because now most people are checking in online, the queues for the online check-in desks are often actually longer than the queues for people who haven't checked in online (2) Last year we had a 12 hour flight delay - the original plane had a problem and the airline then split passengers into two groups and people who had NOT checked in online were flown out on a much earlier plane than those who had checked in online - goodness knows why.\\\n",
    "                \n",
    "                Feeling: You are NOT grateful. You are NOT ranting. You are expressive.\\\n",
    "                Complaint: Looking at round trip airfare from JFK to Rome for the end of June. $ 1350 - 1450 per person....... wow, that's a lot ??? or normal cost for airfare to Rome ? On Delta. \\\n",
    "                \n",
    "                Feeling: You are NOT grateful. You are ranting. You are NOT expressive.\\\n",
    "                Complaint: i'v never saw a company that so disrespect her clients. i[ bought a ticket from israel to usa which cost a-l-o-t of money.since I'm from israel I'm not familiar with there coin (GBP) or something like that, it looks just like the Euro sign so i was sure i was paying in Euro. a few min after i realized it was not Euro so it means i paid 1000 more (nis) than i thought, i tried to find an email to contect them right away to cancel my flight befot the confirmation of the ticket, but there was no email in the web just phone number in Europe that i cant call. i sent them a massage on facebook which was my only option, beggin them to get back to me..in the mean time i sent an email to paypal asking to not aprove the charge...no one was answering me.... just the next day edreams answered to my facebbok, that i can't cancel the flight and there's nothing to do. in there website they wrote black on white the you can cancel the flight for 25 GBP... the only answer i got from them was trough facebook, and i was begging for an email adresss i could contact and explain, or at least get a better explaintion...but nothing i dont mind paying the fee cuse anyway if ill book a diffrent flight+ the fee it will be cheaper than what i paid in edreams! it's not even the gratest flight there are stops in the middle so i could find a cheaper flight for shore, it was an onest mistake that i was reading the sign wrong, i tried to cancel a less then 5 min after, but nothing... now I'm crying every time i remember this, I'm a student that can't afford this amount for a flying ticket.. i need to work 3 months for this kind of amount..my all vacation rouin...i will never book frim them again!\n",
    "                \n",
    "                Feeling: You are NOT grateful. You are ranting. You are expressive.\\\n",
    "                Complaint: I,ve just been looking at a package with Jet2 over xmas/new year to Servigroup Venus where we have stayed many times. I got the price back and had a quick chat with hubby and we decided to go for it and book. Within about 20 mins the price had risen almost £400. I,m so angry, how can they justify this? I had a live web chat with their advisors who more or less said it boils down to supply and demand on flight seats and hotel rooms. I don,t buy that, not in such a short space of time. Well I,m sorry Jet2, you can stick it !!!!! \\\n",
    "                                                                       \n",
    "                Feeling: You are grateful. You are NOT ranting. You are NOT expressive.\\\n",
    "                Complaint: Hi! Among all the US airlines, which offers the best service and reliability?[ I've heard horrid stories abt flight cancellation, delays, poor service, bad air plane conditions etc. We'll be taking a 6 hr flight from SFO to MCO (Orlando), with 3 kids. Appreciate the feedback. thks v much!! \\\n",
    "\n",
    "                Feeling: You are grateful. You are NOT ranting. You are expressive.\\\n",
    "                Complaint: Quick question.... My passport is a normal passport which was issue 5 years ago and expire 2013 [it does not have a chip in it as i beleive chipped passports didnt not come in when i renewed my passport, is this passport ok to travel on because it doesnt havw a chip? its machine readable as it has all the numbers etc on the bottom of the photo page, ive tried various website etc for a answer and starting to panick now as im going in 2 weeks!! Ive completed my ESTA and that is fine Thanks in advance \\\n",
    "                                \n",
    "                Feeling: You are grateful. You are ranting. You are NOT expressive.\\\n",
    "                Complaint: Hello, Traveling for first time with our 7 month old daughter this weekend. Going to Aruba for a week. Bought her a ticket on a Continental flight. Website says stroller dimensions must not exeed 62 inches folded...ours of course is about 10 inches over I think. Says they will charge $100. Does anyone know if this is really enforced? I just can't believe I will have to pay an extra $100 ON TOP of a ticket price for an infant! Any experiences or advice...PLEASE. Thanks \\\n",
    "                \n",
    "                Feeling: You are {is_grateful}. You are {is_ranting}. You are {is_expressive}.\\\n",
    "                Complaint:\n",
    "            \"\"\"\n",
    "    template = ChatPromptTemplate.from_messages(\n",
    "        [\n",
    "            (\"system\", prompt),\n",
    "        ]\n",
    "    )\n",
    "    chain = template | client_LC.client_prompt\n",
    "    return chain"
   ],
   "metadata": {
    "collapsed": false,
    "ExecuteTime": {
     "end_time": "2024-02-28T20:14:26.927308Z",
     "start_time": "2024-02-28T20:14:26.924865Z"
    }
   },
   "id": "b3f3854383b0826a"
  },
  {
   "cell_type": "code",
   "execution_count": 12,
   "outputs": [],
   "source": [
    "def agent_sender_fewshot_twitter():\n",
    "    client_LC = mLangChain()\n",
    "    prompt = \"\"\"Your role is to act like a customer seeking support. \\\n",
    "                You are messaging a service representative via the support chat.\\\n",
    "                You ONLY play the role of the customer. Do NOT play the role of the representative. \\\n",
    "                Style your complaint based on your feelings. \\\n",
    "                Initiate the chat with a ONLY ONE complaint message. \\\n",
    "                \n",
    "                Product: Mobile Network               \n",
    "                Feeling: You are NOT grateful. You are NOT ranting. You are NOT expressive.\\\n",
    "                Complaint: @O2 I received this a few weeks ago, since then I've been getting 2/3 calls a day from a telemarketer. Is someone using your name?\\\n",
    "                \n",
    "                Product: Air Travel\n",
    "                Feeling: You are NOT grateful. You are NOT ranting. You are expressive.\\\n",
    "                Complaint: First flight for long time with @British_Airways. Now over one 1h delay for the short jump FRA-LCY and NO one here to provide status updates\\\n",
    "                \n",
    "                Product: Mobile Device\n",
    "                Feeling: You are NOT grateful. You are NOT ranting. You are expressive.\\\n",
    "                Complaint: You‚ have paralysed my phone with your update grrrrrrrrrr\\\n",
    "                \n",
    "                Product: Mobile Device\n",
    "                Feeling: You are NOT grateful. You are ranting. You are NOT expressive.\\\n",
    "                Complaint:  After the 11.0.2 my phone just sucks most of the apps are broken, wifi disconnects frequently #apple #ios1102 #painfulupdate! \\\n",
    "                \n",
    "                Product: Mobile Device\n",
    "                Feeling: You are NOT grateful. You are ranting. You are NOT expressive.\\\n",
    "                Complaint:  @AppleSupport #ios11update - is still killing my battery within 12 hours - phone is 10 months old - it's a disgrace - used to get 2 days \\\n",
    "                \n",
    "                Product: Air Travel\n",
    "                Feeling: You are NOT grateful. You are ranting. You are expressive.\\\n",
    "                Complaint:  I really hope you all change but I'm sure you won't! Because you don't have to! \\\n",
    "                \n",
    "                Product: Mobile Device\n",
    "                Feeling: You are NOT grateful. You are ranting. You are expressive.\\\n",
    "                Complaint:  I just updated my phone and suddenly everything takes ages to load wtf this update sux I hate it fix it bye \\\n",
    "                  \n",
    "                Product: Mobile Device\n",
    "                Feeling: You are NOT grateful. You are ranting. You are expressive.\\\n",
    "                Complaint:  Okay I used my fucking phone for 2 minutes and it drains it down 8 fucking percent \\\n",
    "                \n",
    "                Product: Mobile Device                                                     \n",
    "                Feeling: You are grateful. You are NOT ranting. You are NOT expressive.\\\n",
    "                Complaint: hi #apple, I‚ have a concern about the latest ios is too slow on #iphone6 and i am not happy with it. Any solution please? \\\n",
    "\n",
    "                Product: Mobile App\n",
    "                Feeling: You are grateful. You are NOT ranting. You are expressive.\\\n",
    "                Complaint: Please help! Spotify Premium skipping through songs constantly on android tablet  bluetooth speaker. Tried everything! \\\n",
    "                \n",
    "                Product: Convenience Store                \n",
    "                Feeling: You are NOT grateful. You are ranting. You are NOT expressive.\\\n",
    "                Complaint: Got id'd @Tesco for buying one Adnams Broadside. Is being blind part of the job-spec? I am 35 and 99 kilos. \\\n",
    "                \n",
    "                Product: {product}\n",
    "                Feeling: You are {is_grateful}. You are {is_ranting}. You are {is_expressive}.\\\n",
    "                Complaint:\n",
    "            \"\"\"\n",
    "    template = ChatPromptTemplate.from_messages(\n",
    "        [\n",
    "            (\"system\", prompt),\n",
    "        ]\n",
    "    )\n",
    "    chain = template | client_LC.client_prompt\n",
    "    return chain"
   ],
   "metadata": {
    "collapsed": false,
    "ExecuteTime": {
     "end_time": "2024-02-29T15:19:27.676869Z",
     "start_time": "2024-02-29T15:19:27.668610Z"
    }
   },
   "id": "7a9d784ac7ccb5a7"
  },
  {
   "cell_type": "code",
   "execution_count": 7,
   "outputs": [
    {
     "name": "stdout",
     "output_type": "stream",
     "text": [
      "ZERO-SHOT \n",
      "Customer: Hi there, I am extremely disappointed with the pizza I just received. I cannot believe I paid good money for this unappetizing excuse of a pizza. It's cold, soggy, and tasteless. I am not grateful at all for this terrible experience. I want a refund and an explanation for such subpar service. This is unacceptable.\n"
     ]
    }
   ],
   "source": [
    "user_input = {\n",
    "    \"product\": \"pizza\",\n",
    "    \"is_grateful\": \"NOT grateful\",\n",
    "    \"is_ranting\": \"ranting\",\n",
    "    \"is_expressive\": \"expressive\"\n",
    "}\n",
    "\n",
    "response = agent_sender_zeroshot().invoke(user_input)\n",
    "print(\"ZERO-SHOT\", response)"
   ],
   "metadata": {
    "collapsed": false,
    "ExecuteTime": {
     "end_time": "2024-02-28T20:15:11.801803Z",
     "start_time": "2024-02-28T20:15:10.909788Z"
    }
   },
   "id": "377f282550cb03e"
  },
  {
   "cell_type": "code",
   "execution_count": 8,
   "outputs": [
    {
     "name": "stdout",
     "output_type": "stream",
     "text": [
      "FEW-SHOT RCIS I am extremely disappointed with the service I received from your company. I recently booked a flight to Paris for my family and I, and upon arriving at the airport, we were told that our seats had been double-booked and we would have to take a later flight. This was completely unacceptable as we had planned our trip around the original flight time. Not to mention, we were left waiting for hours at the airport and were not offered any compensation for the inconvenience. I expect better from a company that claims to value their customers. I will not be booking with your airline again and will be advising others to do the same.\n"
     ]
    }
   ],
   "source": [
    "response = agent_sender_fewshot_rcis().invoke(user_input)\n",
    "print(\"FEW-SHOT RCIS\", response)"
   ],
   "metadata": {
    "collapsed": false,
    "ExecuteTime": {
     "end_time": "2024-02-28T20:15:39.232271Z",
     "start_time": "2024-02-28T20:15:38.053540Z"
    }
   },
   "id": "31306beb9c8de2ee"
  },
  {
   "cell_type": "code",
   "execution_count": 13,
   "outputs": [
    {
     "name": "stdout",
     "output_type": "stream",
     "text": [
      "FEW-SHOT TWITTER  I ordered a pizza from @Dominos_UK an hour ago and still haven't received it. This is unacceptable and I am extremely disappointed. Sort it out!\n"
     ]
    }
   ],
   "source": [
    "response = agent_sender_fewshot_twitter().invoke(user_input)\n",
    "print(\"FEW-SHOT TWITTER\", response)"
   ],
   "metadata": {
    "collapsed": false,
    "ExecuteTime": {
     "end_time": "2024-02-29T15:19:32.292820Z",
     "start_time": "2024-02-29T15:19:31.712991Z"
    }
   },
   "id": "e89ae22bf49f134a"
  },
  {
   "cell_type": "code",
   "execution_count": 44,
   "outputs": [
    {
     "name": "stdout",
     "output_type": "stream",
     "text": [
      "{'product': 'game console', 'is_grateful': 'NOT grateful', 'is_ranting': 'NOT ranting', 'is_expressive': 'NOT expressive'}\n",
      "{'product': 'game console', 'is_grateful': 'NOT grateful', 'is_ranting': 'NOT ranting', 'is_expressive': 'expressive'}\n",
      "{'product': 'game console', 'is_grateful': 'NOT grateful', 'is_ranting': 'ranting', 'is_expressive': 'NOT expressive'}\n",
      "{'product': 'game console', 'is_grateful': 'NOT grateful', 'is_ranting': 'ranting', 'is_expressive': 'expressive'}\n",
      "{'product': 'game console', 'is_grateful': 'grateful', 'is_ranting': 'NOT ranting', 'is_expressive': 'NOT expressive'}\n",
      "{'product': 'game console', 'is_grateful': 'grateful', 'is_ranting': 'NOT ranting', 'is_expressive': 'expressive'}\n",
      "{'product': 'game console', 'is_grateful': 'grateful', 'is_ranting': 'ranting', 'is_expressive': 'NOT expressive'}\n",
      "{'product': 'game console', 'is_grateful': 'grateful', 'is_ranting': 'ranting', 'is_expressive': 'expressive'}\n",
      "{'product': 'airline ticket', 'is_grateful': 'NOT grateful', 'is_ranting': 'NOT ranting', 'is_expressive': 'NOT expressive'}\n",
      "{'product': 'airline ticket', 'is_grateful': 'NOT grateful', 'is_ranting': 'NOT ranting', 'is_expressive': 'expressive'}\n",
      "{'product': 'airline ticket', 'is_grateful': 'NOT grateful', 'is_ranting': 'ranting', 'is_expressive': 'NOT expressive'}\n",
      "{'product': 'airline ticket', 'is_grateful': 'NOT grateful', 'is_ranting': 'ranting', 'is_expressive': 'expressive'}\n",
      "{'product': 'airline ticket', 'is_grateful': 'grateful', 'is_ranting': 'NOT ranting', 'is_expressive': 'NOT expressive'}\n",
      "{'product': 'airline ticket', 'is_grateful': 'grateful', 'is_ranting': 'NOT ranting', 'is_expressive': 'expressive'}\n",
      "{'product': 'airline ticket', 'is_grateful': 'grateful', 'is_ranting': 'ranting', 'is_expressive': 'NOT expressive'}\n",
      "{'product': 'airline ticket', 'is_grateful': 'grateful', 'is_ranting': 'ranting', 'is_expressive': 'expressive'}\n"
     ]
    }
   ],
   "source": [
    "input_product = [\"game console\", \"airline ticket\"]\n",
    "input_grateful = [\"NOT grateful\", \"grateful\"]\n",
    "input_ranting = [\"NOT ranting\", \"ranting\"]\n",
    "input_expressive = [\"NOT expressive\", \"expressive\"]\n",
    "\n",
    "data_out = []\n",
    "\n",
    "for r in itertools.product(input_product, input_grateful, input_ranting, input_expressive):\n",
    "    \n",
    "    user_input = {\n",
    "        \"product\": r[0],\n",
    "        \"is_grateful\": r[1],\n",
    "        \"is_ranting\": r[2],\n",
    "        \"is_expressive\": r[3]\n",
    "    }\n",
    "    print(user_input)\n",
    "    \n",
    "    response = agent_sender_zeroshot().invoke(user_input)\n",
    "    # print(\"\\nZERO-SHOT:\", response)\n",
    "    user_input['shot_zero'] = response\n",
    "    \n",
    "    response = agent_sender_fewshot_rcis().invoke(user_input)\n",
    "#     print(\"\\nFEW-SHOT RCIS:\", response)\n",
    "    user_input['shot_few_rcis'] = response\n",
    "    \n",
    "    response = agent_sender_fewshot_twitter().invoke(user_input)\n",
    "#     print(\"\\nFEW-SHOT TWITTER:\", response)\n",
    "    user_input['shot_few_twitter'] = response\n",
    "    \n",
    "    data_out.append(user_input)\n",
    "    \n",
    "#     print(\"\\n---\\n\")\n",
    "\n",
    "pd.DataFrame(data_out).to_csv(\"results/test_sender_agent.csv\")"
   ],
   "metadata": {
    "collapsed": false,
    "ExecuteTime": {
     "end_time": "2024-02-25T23:55:06.597107Z",
     "start_time": "2024-02-25T23:54:24.189834Z"
    }
   },
   "id": "269dc4b0c05802be"
  },
  {
   "cell_type": "code",
   "execution_count": 49,
   "outputs": [],
   "source": [],
   "metadata": {
    "collapsed": false,
    "ExecuteTime": {
     "end_time": "2024-02-25T23:59:22.365423Z",
     "start_time": "2024-02-25T23:59:22.356020Z"
    }
   },
   "id": "63ffe3d97ebea74f"
  },
  {
   "cell_type": "code",
   "execution_count": null,
   "outputs": [],
   "source": [],
   "metadata": {
    "collapsed": false
   },
   "id": "e0fc9563acd3bafa"
  }
 ],
 "metadata": {
  "kernelspec": {
   "display_name": "Python 3",
   "language": "python",
   "name": "python3"
  },
  "language_info": {
   "codemirror_mode": {
    "name": "ipython",
    "version": 2
   },
   "file_extension": ".py",
   "mimetype": "text/x-python",
   "name": "python",
   "nbconvert_exporter": "python",
   "pygments_lexer": "ipython2",
   "version": "2.7.6"
  }
 },
 "nbformat": 4,
 "nbformat_minor": 5
}
