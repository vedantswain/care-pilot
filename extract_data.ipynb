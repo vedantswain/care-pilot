{
 "cells": [
  {
   "cell_type": "code",
   "execution_count": 3,
   "metadata": {},
   "outputs": [],
   "source": [
    "from pymongo import MongoClient\n",
    "import pandas as pd"
   ]
  },
  {
   "cell_type": "code",
   "execution_count": 4,
   "metadata": {},
   "outputs": [],
   "source": [
    "client = MongoClient('mongodb://localhost:27017/')\n",
    "db = client['flask_db']"
   ]
  },
  {
   "cell_type": "code",
   "execution_count": 11,
   "metadata": {},
   "outputs": [],
   "source": [
    "def extract_user_info():\n",
    "    collection = db['chat_client_info']\n",
    "    data = list(collection.find({}, {'_id': 0, \"session_id\": 1, \"client_id\": 1, \"product\": 1, \"grateful\": 1, \"ranting\": 1, \"expression\": 1, \"civil\": 1}))\n",
    "    df = pd.DataFrame(data)\n",
    "    df.to_csv('user_info.csv', index=False)\n",
    "    return df\n",
    "\n",
    "def extract_chat_history():\n",
    "    collection = db['chat_history_collection']\n",
    "    data = list(collection.find({}, {'_id': 0, \"session_id\": 1, \"client_id\": 1, \"turn_number\": 1, \"sender\": 1, \"receiver\": 1, \"message\": 1, \"timestamp\": 1}))\n",
    "    df = pd.DataFrame(data)\n",
    "    df.to_csv('chat_history.csv', index=False)\n",
    "    return df\n",
    "\n",
    "def extract_user_feedback():\n",
    "    collection = db['chat_emo_feedback']\n",
    "    data = list(collection.find({}, {'_id': 0, \"session_id\": 1, \"client_id\": 1, \"turn_number\": 1, \"support_type\": 1, \"support_content\": 1, \"timestamp_arrival\": 1, \"timestamp_feedback\": 1, \"user_feedback\": 1}))\n",
    "    df = pd.DataFrame(data)\n",
    "    df.to_csv('user_feedback.csv', index=False)\n",
    "    return df"
   ]
  },
  {
   "cell_type": "code",
   "execution_count": 13,
   "metadata": {},
   "outputs": [],
   "source": [
    "# export csv run functions\n",
    "\n",
    "if __name__ == \"__main__\":\n",
    "    user_info_df = extract_user_info()\n",
    "    chat_history_df = extract_chat_history()\n",
    "    user_feedback_df = extract_user_feedback()"
   ]
  },
  {
   "cell_type": "code",
   "execution_count": 14,
   "metadata": {},
   "outputs": [],
   "source": [
    "# Analyze the value from csv table\n",
    "\n",
    "user_info_df = pd.read_csv('user_info.csv')\n",
    "chat_history_df = pd.read_csv('chat_history.csv')\n",
    "user_feedback_df = pd.read_csv('user_feedback.csv')\n"
   ]
  },
  {
   "cell_type": "code",
   "execution_count": 16,
   "metadata": {},
   "outputs": [
    {
     "name": "stdout",
     "output_type": "stream",
     "text": [
      "          grateful      ranting   expression        civil\n",
      "count  1413.000000  1413.000000  1413.000000  1212.000000\n",
      "mean      0.002831     0.003539     0.002831     0.820132\n",
      "std       0.053149     0.059402     0.053149     0.384236\n",
      "min       0.000000     0.000000     0.000000     0.000000\n",
      "25%       0.000000     0.000000     0.000000     1.000000\n",
      "50%       0.000000     0.000000     0.000000     1.000000\n",
      "75%       0.000000     0.000000     0.000000     1.000000\n",
      "max       1.000000     1.000000     1.000000     1.000000\n",
      "product\n",
      "Pizza      1406\n",
      "Cup           3\n",
      "Speaker       2\n",
      "Book          2\n",
      "Name: count, dtype: int64\n",
      "0.0028308563340410475\n",
      "0.003538570417551309\n",
      "0.0028308563340410475\n"
     ]
    }
   ],
   "source": [
    "# User Info\n",
    "print(user_info_df.describe())  # Basic statistics\n",
    "print(user_info_df['product'].value_counts())\n",
    "print(user_info_df['grateful'].mean())\n",
    "print(user_info_df['ranting'].mean())\n",
    "print(user_info_df['expression'].mean())"
   ]
  },
  {
   "cell_type": "code",
   "execution_count": 21,
   "metadata": {},
   "outputs": [
    {
     "name": "stdout",
     "output_type": "stream",
     "text": [
      "Average Message Length (Client): 5.0\n",
      "Average Message Length (Rep): 163.23545516769337\n",
      "Average Response Time (Client): 27.285714285714285\n",
      "Average Response Time (Rep): 1.196927374301676\n",
      "Average Number of Turns per Session: 1.019539427773901\n"
     ]
    }
   ],
   "source": [
    "# Chat History\n",
    "chat_history_df['timestamp'] = pd.to_datetime(chat_history_df['timestamp'])\n",
    "\n",
    "# Report average message length for client and for rep\n",
    "average_msg_length_client = chat_history_df[chat_history_df['sender'] == 'client']['message'].apply(len).mean()\n",
    "average_msg_length_rep = chat_history_df[chat_history_df['sender'] == 'representative']['message'].apply(len).mean()\n",
    "print(\"Average Message Length (Client):\", average_msg_length_client)\n",
    "print(\"Average Message Length (Rep):\", average_msg_length_rep)\n",
    "\n",
    "# Report the average time of response for client and for rep\n",
    "response_times = chat_history_df.sort_values(by=['session_id', 'timestamp'])\n",
    "response_times['response_time'] = response_times.groupby('session_id')['timestamp'].diff().dt.seconds\n",
    "average_response_time_client = response_times[response_times['sender'] == 'client']['response_time'].mean()\n",
    "average_response_time_rep = response_times[response_times['sender'] == 'representative']['response_time'].mean()\n",
    "print(\"Average Response Time (Client):\", average_response_time_client)\n",
    "print(\"Average Response Time (Rep):\", average_response_time_rep)\n",
    "\n",
    "# Report the average number of turns\n",
    "chat_history_df['turn_number'] = pd.to_numeric(chat_history_df['turn_number'], errors='coerce')  # Ensure turn numbers are numeric\n",
    "max_turns_per_session = chat_history_df.groupby(['client_id', 'session_id'])['turn_number'].max().reset_index()\n",
    "average_turns = max_turns_per_session.groupby('client_id')['turn_number'].mean()\n",
    "print(\"Average Number of Turns per Session:\", average_turns.mean())"
   ]
  },
  {
   "cell_type": "code",
   "execution_count": 20,
   "metadata": {},
   "outputs": [
    {
     "name": "stdout",
     "output_type": "stream",
     "text": [
      "support_type\n",
      "Be Mindful of Your Emotions           4.866667\n",
      "Put Yourself in the Client's Shoes    4.812500\n",
      "You might be thinking                 4.687500\n",
      "Name: user_feedback, dtype: float64\n"
     ]
    }
   ],
   "source": [
    "# Analysis for User Feedback\n",
    "average_feedback_by_type = user_feedback_df.groupby('support_type')['user_feedback'].mean()\n",
    "print(average_feedback_by_type)"
   ]
  }
 ],
 "metadata": {
  "kernelspec": {
   "display_name": ".venv",
   "language": "python",
   "name": "python3"
  },
  "language_info": {
   "codemirror_mode": {
    "name": "ipython",
    "version": 3
   },
   "file_extension": ".py",
   "mimetype": "text/x-python",
   "name": "python",
   "nbconvert_exporter": "python",
   "pygments_lexer": "ipython3",
   "version": "3.11.9"
  }
 },
 "nbformat": 4,
 "nbformat_minor": 2
}
