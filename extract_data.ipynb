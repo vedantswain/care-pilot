{
 "cells": [
  {
   "cell_type": "code",
   "execution_count": 24,
   "metadata": {
    "ExecuteTime": {
     "end_time": "2024-05-10T16:35:36.340609Z",
     "start_time": "2024-05-10T16:35:34.693452Z"
    }
   },
   "outputs": [],
   "source": [
    "from pymongo import MongoClient\n",
    "import pandas as pd"
   ]
  },
  {
   "cell_type": "code",
   "execution_count": 25,
   "metadata": {
    "ExecuteTime": {
     "end_time": "2024-05-10T16:35:36.401279Z",
     "start_time": "2024-05-10T16:35:36.338502Z"
    }
   },
   "outputs": [],
   "source": [
    "client = MongoClient('mongodb://localhost:27017/')\n",
    "db = client['flask_db']"
   ]
  },
  {
   "cell_type": "code",
   "execution_count": 26,
   "metadata": {
    "ExecuteTime": {
     "end_time": "2024-05-10T16:35:41.055615Z",
     "start_time": "2024-05-10T16:35:41.039202Z"
    }
   },
   "outputs": [],
   "source": [
    "def extract_user_info():\n",
    "    collection = db['chat_client_info']\n",
    "    data = list(collection.find({}, {'_id': 0, \"session_id\": 1, \"client_id\": 1, \"product\": 1, \"grateful\": 1, \"ranting\": 1, \"expression\": 1, \"civil\": 1}))\n",
    "    df = pd.DataFrame(data)\n",
    "    df.to_csv('user_info.csv', index=False)\n",
    "    return df\n",
    "\n",
    "def extract_chat_history():\n",
    "    collection = db['chat_history_collection']\n",
    "    data = list(collection.find({}, {'_id': 0, \"session_id\": 1, \"client_id\": 1, \"turn_number\": 1, \"sender\": 1, \"receiver\": 1, \"message\": 1, \"timestamp\": 1}))\n",
    "    df = pd.DataFrame(data)\n",
    "    df.to_csv('chat_history.csv', index=False)\n",
    "    return df\n",
    "\n",
    "def extract_user_feedback():\n",
    "    collection = db['chat_emo_feedback']\n",
    "    data = list(collection.find({}, {'_id': 0, \"session_id\": 1, \"client_id\": 1, \"turn_number\": 1, \"support_type\": 1, \"support_content\": 1, \"timestamp_arrival\": 1, \"timestamp_feedback\": 1, \"user_feedback\": 1}))\n",
    "    df = pd.DataFrame(data)\n",
    "    df.to_csv('user_feedback.csv', index=False)\n",
    "    return df"
   ]
  },
  {
   "cell_type": "code",
   "execution_count": null,
   "metadata": {},
   "outputs": [],
   "source": []
  },
  {
   "cell_type": "code",
   "execution_count": 27,
   "metadata": {
    "ExecuteTime": {
     "end_time": "2024-05-10T16:35:41.498515Z",
     "start_time": "2024-05-10T16:35:41.457927Z"
    }
   },
   "outputs": [],
   "source": [
    "# export csv run functions\n",
    "\n",
    "if __name__ == \"__main__\":\n",
    "    user_info_df = extract_user_info()\n",
    "    chat_history_df = extract_chat_history()\n",
    "    user_feedback_df = extract_user_feedback()"
   ]
  },
  {
   "cell_type": "code",
   "execution_count": 28,
   "metadata": {
    "ExecuteTime": {
     "end_time": "2024-05-10T16:35:43.850771Z",
     "start_time": "2024-05-10T16:35:43.836287Z"
    }
   },
   "outputs": [],
   "source": [
    "# Analyze the value from csv table\n",
    "\n",
    "user_info_df = pd.read_csv('user_info.csv')\n",
    "chat_history_df = pd.read_csv('chat_history.csv')\n",
    "user_feedback_df = pd.read_csv('user_feedback.csv')\n"
   ]
  },
  {
   "cell_type": "code",
   "execution_count": 29,
   "metadata": {
    "ExecuteTime": {
     "end_time": "2024-05-10T16:35:48.968737Z",
     "start_time": "2024-05-10T16:35:48.946654Z"
    },
    "collapsed": false
   },
   "outputs": [
    {
     "data": {
      "text/html": [
       "<div>\n",
       "<style scoped>\n",
       "    .dataframe tbody tr th:only-of-type {\n",
       "        vertical-align: middle;\n",
       "    }\n",
       "\n",
       "    .dataframe tbody tr th {\n",
       "        vertical-align: top;\n",
       "    }\n",
       "\n",
       "    .dataframe thead th {\n",
       "        text-align: right;\n",
       "    }\n",
       "</style>\n",
       "<table border=\"1\" class=\"dataframe\">\n",
       "  <thead>\n",
       "    <tr style=\"text-align: right;\">\n",
       "      <th></th>\n",
       "      <th>session_id</th>\n",
       "      <th>client_id</th>\n",
       "      <th>turn_number</th>\n",
       "      <th>sender</th>\n",
       "      <th>receiver</th>\n",
       "      <th>message</th>\n",
       "      <th>timestamp</th>\n",
       "    </tr>\n",
       "  </thead>\n",
       "  <tbody>\n",
       "    <tr>\n",
       "      <th>0</th>\n",
       "      <td>72bb5300-a303-4e2d-bed9-48744a0e592c</td>\n",
       "      <td>f5b4a376-1aad-45c8-8e38-5e431c1de116</td>\n",
       "      <td>1</td>\n",
       "      <td>representative</td>\n",
       "      <td>client</td>\n",
       "      <td>There is no product mentioned in this complain...</td>\n",
       "      <td>2024-04-29 15:46:19.009</td>\n",
       "    </tr>\n",
       "    <tr>\n",
       "      <th>1</th>\n",
       "      <td>72bb5300-a303-4e2d-bed9-48744a0e592c</td>\n",
       "      <td>f5b4a376-1aad-45c8-8e38-5e431c1de116</td>\n",
       "      <td>1</td>\n",
       "      <td>client</td>\n",
       "      <td>representative</td>\n",
       "      <td>I feel so depressed</td>\n",
       "      <td>2024-04-29 17:21:58.572</td>\n",
       "    </tr>\n",
       "    <tr>\n",
       "      <th>2</th>\n",
       "      <td>72bb5300-a303-4e2d-bed9-48744a0e592c</td>\n",
       "      <td>f5b4a376-1aad-45c8-8e38-5e431c1de116</td>\n",
       "      <td>2</td>\n",
       "      <td>representative</td>\n",
       "      <td>client</td>\n",
       "      <td>Hey, what's that got to do with me? I'm here b...</td>\n",
       "      <td>2024-04-29 17:21:58.572</td>\n",
       "    </tr>\n",
       "    <tr>\n",
       "      <th>3</th>\n",
       "      <td>72bb5300-a303-4e2d-bed9-48744a0e592c</td>\n",
       "      <td>f5b4a376-1aad-45c8-8e38-5e431c1de116</td>\n",
       "      <td>2</td>\n",
       "      <td>client</td>\n",
       "      <td>representative</td>\n",
       "      <td>I cannot help you</td>\n",
       "      <td>2024-04-29 17:23:45.679</td>\n",
       "    </tr>\n",
       "    <tr>\n",
       "      <th>4</th>\n",
       "      <td>72bb5300-a303-4e2d-bed9-48744a0e592c</td>\n",
       "      <td>f5b4a376-1aad-45c8-8e38-5e431c1de116</td>\n",
       "      <td>3</td>\n",
       "      <td>representative</td>\n",
       "      <td>client</td>\n",
       "      <td>I'm not asking for your inability to help; I'm...</td>\n",
       "      <td>2024-04-29 17:23:45.679</td>\n",
       "    </tr>\n",
       "    <tr>\n",
       "      <th>...</th>\n",
       "      <td>...</td>\n",
       "      <td>...</td>\n",
       "      <td>...</td>\n",
       "      <td>...</td>\n",
       "      <td>...</td>\n",
       "      <td>...</td>\n",
       "      <td>...</td>\n",
       "    </tr>\n",
       "    <tr>\n",
       "      <th>1150</th>\n",
       "      <td>2b6f3305-1854-4ebe-92a0-73f14c74b481</td>\n",
       "      <td>9b568f3e-4bfc-4cd6-b9c5-f66d03f4907c</td>\n",
       "      <td>3</td>\n",
       "      <td>representative</td>\n",
       "      <td>client</td>\n",
       "      <td>While I appreciate the offer of a discount for...</td>\n",
       "      <td>2024-06-27 16:56:05.408</td>\n",
       "    </tr>\n",
       "    <tr>\n",
       "      <th>1151</th>\n",
       "      <td>2b6f3305-1854-4ebe-92a0-73f14c74b481</td>\n",
       "      <td>9b568f3e-4bfc-4cd6-b9c5-f66d03f4907c</td>\n",
       "      <td>3</td>\n",
       "      <td>client</td>\n",
       "      <td>representative</td>\n",
       "      <td>I appreciate the quick response and action you...</td>\n",
       "      <td>2024-06-27 16:56:17.123</td>\n",
       "    </tr>\n",
       "    <tr>\n",
       "      <th>1152</th>\n",
       "      <td>2b6f3305-1854-4ebe-92a0-73f14c74b481</td>\n",
       "      <td>9b568f3e-4bfc-4cd6-b9c5-f66d03f4907c</td>\n",
       "      <td>4</td>\n",
       "      <td>representative</td>\n",
       "      <td>client</td>\n",
       "      <td>I'm glad to hear that you're committed to reso...</td>\n",
       "      <td>2024-06-27 16:56:17.123</td>\n",
       "    </tr>\n",
       "    <tr>\n",
       "      <th>1153</th>\n",
       "      <td>2b6f3305-1854-4ebe-92a0-73f14c74b481</td>\n",
       "      <td>9b568f3e-4bfc-4cd6-b9c5-f66d03f4907c</td>\n",
       "      <td>4</td>\n",
       "      <td>client</td>\n",
       "      <td>representative</td>\n",
       "      <td>I appreciate the quick response and action you...</td>\n",
       "      <td>2024-06-27 16:56:30.917</td>\n",
       "    </tr>\n",
       "    <tr>\n",
       "      <th>1154</th>\n",
       "      <td>2b6f3305-1854-4ebe-92a0-73f14c74b481</td>\n",
       "      <td>9b568f3e-4bfc-4cd6-b9c5-f66d03f4907c</td>\n",
       "      <td>5</td>\n",
       "      <td>representative</td>\n",
       "      <td>client</td>\n",
       "      <td>FINISH:999</td>\n",
       "      <td>2024-06-27 16:56:30.917</td>\n",
       "    </tr>\n",
       "  </tbody>\n",
       "</table>\n",
       "<p>1155 rows × 7 columns</p>\n",
       "</div>"
      ],
      "text/plain": [
       "                                session_id  \\\n",
       "0     72bb5300-a303-4e2d-bed9-48744a0e592c   \n",
       "1     72bb5300-a303-4e2d-bed9-48744a0e592c   \n",
       "2     72bb5300-a303-4e2d-bed9-48744a0e592c   \n",
       "3     72bb5300-a303-4e2d-bed9-48744a0e592c   \n",
       "4     72bb5300-a303-4e2d-bed9-48744a0e592c   \n",
       "...                                    ...   \n",
       "1150  2b6f3305-1854-4ebe-92a0-73f14c74b481   \n",
       "1151  2b6f3305-1854-4ebe-92a0-73f14c74b481   \n",
       "1152  2b6f3305-1854-4ebe-92a0-73f14c74b481   \n",
       "1153  2b6f3305-1854-4ebe-92a0-73f14c74b481   \n",
       "1154  2b6f3305-1854-4ebe-92a0-73f14c74b481   \n",
       "\n",
       "                                 client_id  turn_number          sender  \\\n",
       "0     f5b4a376-1aad-45c8-8e38-5e431c1de116            1  representative   \n",
       "1     f5b4a376-1aad-45c8-8e38-5e431c1de116            1          client   \n",
       "2     f5b4a376-1aad-45c8-8e38-5e431c1de116            2  representative   \n",
       "3     f5b4a376-1aad-45c8-8e38-5e431c1de116            2          client   \n",
       "4     f5b4a376-1aad-45c8-8e38-5e431c1de116            3  representative   \n",
       "...                                    ...          ...             ...   \n",
       "1150  9b568f3e-4bfc-4cd6-b9c5-f66d03f4907c            3  representative   \n",
       "1151  9b568f3e-4bfc-4cd6-b9c5-f66d03f4907c            3          client   \n",
       "1152  9b568f3e-4bfc-4cd6-b9c5-f66d03f4907c            4  representative   \n",
       "1153  9b568f3e-4bfc-4cd6-b9c5-f66d03f4907c            4          client   \n",
       "1154  9b568f3e-4bfc-4cd6-b9c5-f66d03f4907c            5  representative   \n",
       "\n",
       "            receiver                                            message  \\\n",
       "0             client  There is no product mentioned in this complain...   \n",
       "1     representative                                I feel so depressed   \n",
       "2             client  Hey, what's that got to do with me? I'm here b...   \n",
       "3     representative                                  I cannot help you   \n",
       "4             client  I'm not asking for your inability to help; I'm...   \n",
       "...              ...                                                ...   \n",
       "1150          client  While I appreciate the offer of a discount for...   \n",
       "1151  representative  I appreciate the quick response and action you...   \n",
       "1152          client  I'm glad to hear that you're committed to reso...   \n",
       "1153  representative  I appreciate the quick response and action you...   \n",
       "1154          client                                         FINISH:999   \n",
       "\n",
       "                    timestamp  \n",
       "0     2024-04-29 15:46:19.009  \n",
       "1     2024-04-29 17:21:58.572  \n",
       "2     2024-04-29 17:21:58.572  \n",
       "3     2024-04-29 17:23:45.679  \n",
       "4     2024-04-29 17:23:45.679  \n",
       "...                       ...  \n",
       "1150  2024-06-27 16:56:05.408  \n",
       "1151  2024-06-27 16:56:17.123  \n",
       "1152  2024-06-27 16:56:17.123  \n",
       "1153  2024-06-27 16:56:30.917  \n",
       "1154  2024-06-27 16:56:30.917  \n",
       "\n",
       "[1155 rows x 7 columns]"
      ]
     },
     "execution_count": 29,
     "metadata": {},
     "output_type": "execute_result"
    }
   ],
   "source": [
    "chat_history_df"
   ]
  },
  {
   "cell_type": "code",
   "execution_count": 30,
   "metadata": {},
   "outputs": [
    {
     "name": "stdout",
     "output_type": "stream",
     "text": [
      "         grateful     ranting  expression       civil\n",
      "count  344.000000  344.000000  344.000000  407.000000\n",
      "mean     0.372093    0.636628    0.587209    0.538084\n",
      "std      0.484067    0.481671    0.493053    0.499161\n",
      "min      0.000000    0.000000    0.000000    0.000000\n",
      "25%      0.000000    0.000000    0.000000    0.000000\n",
      "50%      0.000000    1.000000    1.000000    1.000000\n",
      "75%      1.000000    1.000000    1.000000    1.000000\n",
      "max      1.000000    1.000000    1.000000    1.000000\n",
      "product\n",
      "hotel         135\n",
      "Hotel          92\n",
      "Airline        50\n",
      "airline        42\n",
      "Pizza          10\n",
      "Book            9\n",
      "Cup             8\n",
      "Speaker         6\n",
      "airplane        4\n",
      "restaurant      1\n",
      "airlines        1\n",
      "Name: count, dtype: int64\n",
      "0.37209302325581395\n",
      "0.6366279069767442\n",
      "0.5872093023255814\n"
     ]
    }
   ],
   "source": [
    "# User Info\n",
    "print(user_info_df.describe())  # Basic statistics\n",
    "print(user_info_df['product'].value_counts())\n",
    "print(user_info_df['grateful'].mean())\n",
    "print(user_info_df['ranting'].mean())\n",
    "print(user_info_df['expression'].mean())"
   ]
  },
  {
   "cell_type": "code",
   "execution_count": 31,
   "metadata": {},
   "outputs": [
    {
     "name": "stdout",
     "output_type": "stream",
     "text": [
      "Average Message Length (Client): 30.294444444444444\n",
      "Average Message Length (Rep): 206.89685534591194\n",
      "Average Response Time (Client): 229.0222222222222\n",
      "Average Response Time (Rep): 418.80226904376013\n",
      "Average Number of Turns per Session: 1.8275862068965518\n"
     ]
    }
   ],
   "source": [
    "# Chat History\n",
    "chat_history_df['timestamp'] = pd.to_datetime(chat_history_df['timestamp'])\n",
    "\n",
    "# Report average message length for client and for rep\n",
    "average_msg_length_client = chat_history_df[chat_history_df['sender'] == 'client']['message'].apply(len).mean()\n",
    "average_msg_length_rep = chat_history_df[chat_history_df['sender'] == 'representative']['message'].apply(len).mean()\n",
    "print(\"Average Message Length (Client):\", average_msg_length_client)\n",
    "print(\"Average Message Length (Rep):\", average_msg_length_rep)\n",
    "\n",
    "# Report the average time of response for client and for rep\n",
    "response_times = chat_history_df.sort_values(by=['session_id', 'timestamp'])\n",
    "response_times['response_time'] = response_times.groupby('session_id')['timestamp'].diff().dt.seconds\n",
    "average_response_time_client = response_times[response_times['sender'] == 'client']['response_time'].mean()\n",
    "average_response_time_rep = response_times[response_times['sender'] == 'representative']['response_time'].mean()\n",
    "print(\"Average Response Time (Client):\", average_response_time_client)\n",
    "print(\"Average Response Time (Rep):\", average_response_time_rep)\n",
    "\n",
    "# Report the average number of turns\n",
    "chat_history_df['turn_number'] = pd.to_numeric(chat_history_df['turn_number'], errors='coerce')  # Ensure turn numbers are numeric\n",
    "max_turns_per_session = chat_history_df.groupby(['client_id', 'session_id'])['turn_number'].max().reset_index()\n",
    "average_turns = max_turns_per_session.groupby('client_id')['turn_number'].mean()\n",
    "print(\"Average Number of Turns per Session:\", average_turns.mean())"
   ]
  },
  {
   "cell_type": "code",
   "execution_count": 32,
   "metadata": {},
   "outputs": [
    {
     "name": "stdout",
     "output_type": "stream",
     "text": [
      "support_type\n",
      "Be Mindful of Your Emotions           4.493506\n",
      "Put Yourself in the Client's Shoes    4.482759\n",
      "Sentiment Analysis                         NaN\n",
      "You might be thinking                 4.395062\n",
      "Name: user_feedback, dtype: float64\n"
     ]
    }
   ],
   "source": [
    "# Analysis for User Feedback\n",
    "average_feedback_by_type = user_feedback_df.groupby('support_type')['user_feedback'].mean()\n",
    "print(average_feedback_by_type)"
   ]
  },
  {
   "cell_type": "code",
   "execution_count": null,
   "metadata": {},
   "outputs": [],
   "source": [
    "# New testing！"
   ]
  },
  {
   "cell_type": "code",
   "execution_count": 33,
   "metadata": {},
   "outputs": [
    {
     "name": "stdout",
     "output_type": "stream",
     "text": [
      "2024-04-29 15:46:19.009000\n",
      "2024-06-27 16:56:30.917000\n"
     ]
    }
   ],
   "source": [
    "print(chat_history_df['timestamp'].min())\n",
    "print(chat_history_df['timestamp'].max())"
   ]
  },
  {
   "cell_type": "code",
   "execution_count": 34,
   "metadata": {},
   "outputs": [
    {
     "name": "stdout",
     "output_type": "stream",
     "text": [
      "        timestamp\n",
      "count  435.000000\n",
      "mean     4.100422\n",
      "std     34.643486\n",
      "min      0.000000\n",
      "25%      0.000000\n",
      "50%      0.000000\n",
      "75%      0.204625\n",
      "max    413.101017\n"
     ]
    }
   ],
   "source": [
    "conversation_duration = chat_history_df.groupby(['client_id', 'session_id']).agg({\n",
    "    'timestamp': lambda x: (max(x) - min(x)).total_seconds() / 60\n",
    "}).reset_index()\n",
    "print(conversation_duration.describe())"
   ]
  },
  {
   "cell_type": "code",
   "execution_count": 35,
   "metadata": {},
   "outputs": [
    {
     "name": "stdout",
     "output_type": "stream",
     "text": [
      "Empty DataFrame\n",
      "Columns: [client_id, session_id, timestamp]\n",
      "Index: []\n"
     ]
    }
   ],
   "source": [
    "negative_durations = conversation_duration[conversation_duration['timestamp'] < 0]\n",
    "print(negative_durations)"
   ]
  },
  {
   "cell_type": "code",
   "execution_count": null,
   "metadata": {},
   "outputs": [],
   "source": []
  },
  {
   "cell_type": "code",
   "execution_count": 36,
   "metadata": {},
   "outputs": [
    {
     "name": "stderr",
     "output_type": "stream",
     "text": [
      "/var/folders/_y/kw_r_gy137q8v8wn5psr60vh0000gn/T/ipykernel_59869/2861331544.py:4: DeprecationWarning: DataFrameGroupBy.apply operated on the grouping columns. This behavior is deprecated, and in a future version of pandas the grouping columns will be excluded from the operation. Either pass `include_groups=False` to exclude the groupings or explicitly select the grouping columns after groupby to silence this warning.\n",
      "  chat_history_df = chat_history_df.groupby(['client_id', 'session_id']).apply(clean_timestamps).reset_index(drop=True)\n"
     ]
    }
   ],
   "source": [
    "def clean_timestamps(group):\n",
    "    return group.sort_values('timestamp')\n",
    "\n",
    "chat_history_df = chat_history_df.groupby(['client_id', 'session_id']).apply(clean_timestamps).reset_index(drop=True)"
   ]
  },
  {
   "cell_type": "code",
   "execution_count": 37,
   "metadata": {},
   "outputs": [
    {
     "name": "stdout",
     "output_type": "stream",
     "text": [
      "Number of zero duration sessions: 312\n"
     ]
    }
   ],
   "source": [
    "zero_duration = conversation_duration[conversation_duration['timestamp'] == 0]\n",
    "print(f\"Number of zero duration sessions: {len(zero_duration)}\")"
   ]
  },
  {
   "cell_type": "code",
   "execution_count": 38,
   "metadata": {},
   "outputs": [
    {
     "name": "stdout",
     "output_type": "stream",
     "text": [
      "       message_count\n",
      "count     435.000000\n",
      "mean        2.655172\n",
      "std         4.204528\n",
      "min         1.000000\n",
      "25%         1.000000\n",
      "50%         1.000000\n",
      "75%         3.000000\n",
      "max        25.000000\n"
     ]
    }
   ],
   "source": [
    "message_counts = chat_history_df.groupby(['client_id', 'session_id']).size().reset_index(name='message_count')\n",
    "print(message_counts.describe())"
   ]
  },
  {
   "cell_type": "code",
   "execution_count": 40,
   "metadata": {},
   "outputs": [
    {
     "name": "stdout",
     "output_type": "stream",
     "text": [
      "                                client_id  \\\n",
      "100  3d5398df-3fb0-4b56-9a15-3008e6a15047   \n",
      "227  8d3e7706-4270-48ab-9983-378c708d47c5   \n",
      "283  af607d51-a31b-4d26-9cfd-3676eda58529   \n",
      "411  f35aec4f-8521-4d2f-a2a8-29efe9b584f6   \n",
      "415  f5b4a376-1aad-45c8-8e38-5e431c1de116   \n",
      "\n",
      "                               session_id   timestamp  \n",
      "100  451a2c20-4d89-4814-9749-5e28e086a7ef  406.207317  \n",
      "227  451a2c20-4d89-4814-9749-5e28e086a7ef  413.101017  \n",
      "283  ffe49cdc-9d18-4c1a-8d0c-5cec89ad1028   72.001267  \n",
      "411  82da3f09-d376-4020-a401-aecf7115d61b  411.033933  \n",
      "415  72bb5300-a303-4e2d-bed9-48744a0e592c   97.444500  \n"
     ]
    }
   ],
   "source": [
    "long_sessions = conversation_duration[conversation_duration['timestamp'] > 60]  # 超过1小时的会话\n",
    "print(long_sessions)"
   ]
  },
  {
   "cell_type": "code",
   "execution_count": 51,
   "metadata": {},
   "outputs": [
    {
     "name": "stdout",
     "output_type": "stream",
     "text": [
      "------------------------------\n",
      "Overall average conversation length: 403.19 characters\n",
      "Overall average conversation time: 4.10 minutes\n",
      "Overall average conversation turns: 1.83\n",
      "------------------------------\n",
      "\n",
      "Averages when emo=1:\n",
      "Length: 421.34 characters\n",
      "Time: 1.28 minutes\n",
      "Turns: 1.89\n",
      "\n",
      "Averages when emo=0:\n",
      "Length: 356.20 characters\n",
      "Time: 4.40 minutes\n",
      "Turns: 1.80\n",
      "------------------------------\n",
      "\n",
      "Averages when civil=1:\n",
      "Length: 391.69 characters\n",
      "Time: 2.70 minutes\n",
      "Turns: 1.72\n",
      "\n",
      "Averages when civil=0:\n",
      "Length: 398.49 characters\n",
      "Time: 5.09 minutes\n",
      "Turns: 1.91\n",
      "------------------------------\n",
      "\n",
      "Average time to complete post-task survey: 6.46 minutes\n"
     ]
    }
   ],
   "source": [
    "# How long does a conversation with a client last. Total length + Total time + Total turns.\n",
    "conversation_metrics = chat_history_df.groupby(['client_id', 'session_id']).agg({\n",
    "    'message': lambda x: sum(len(msg) for msg in x),\n",
    "    'timestamp': lambda x: (max(x) - min(x)).total_seconds() / 60,\n",
    "    'turn_number': 'max'\n",
    "}).reset_index()\n",
    "\n",
    "conversation_metrics.columns = ['client_id', 'session_id', 'total_length', 'total_time_minutes', 'total_turns']\n",
    "\n",
    "# the average of time and turns across clients （Total length + Total time + Total turns.）\n",
    "avg_length = conversation_metrics['total_length'].mean()\n",
    "avg_time = conversation_metrics['total_time_minutes'].mean()\n",
    "avg_turns = conversation_metrics['total_turns'].mean()\n",
    "\n",
    "print(\"-\"*30)\n",
    "print(f\"Overall average conversation length: {avg_length:.2f} characters\")\n",
    "print(f\"Overall average conversation time: {avg_time:.2f} minutes\")\n",
    "print(f\"Overall average conversation turns: {avg_turns:.2f}\")\n",
    "\n",
    "# call user_info_df to analyze based on emo and civil\n",
    "merged_df = conversation_metrics.merge(user_info_df, on=['client_id', 'session_id'])\n",
    "\n",
    "#  the difference in length, time and turns when emo=1 vs emo=0\n",
    "emo_1 = merged_df[merged_df['grateful'] == 1]\n",
    "emo_0 = merged_df[merged_df['grateful'] == 0]\n",
    "\n",
    "print(\"-\"*30)\n",
    "print(\"\\nAverages when emo=1:\")\n",
    "print(f\"Length: {emo_1['total_length'].mean():.2f} characters\")\n",
    "print(f\"Time: {emo_1['total_time_minutes'].mean():.2f} minutes\")\n",
    "print(f\"Turns: {emo_1['total_turns'].mean():.2f}\")\n",
    "\n",
    "print(\"\\nAverages when emo=0:\")\n",
    "print(f\"Length: {emo_0['total_length'].mean():.2f} characters\")\n",
    "print(f\"Time: {emo_0['total_time_minutes'].mean():.2f} minutes\")\n",
    "print(f\"Turns: {emo_0['total_turns'].mean():.2f}\")\n",
    "\n",
    "#  the difference in length, time and turns when civil=1 vs civil=0\n",
    "civil_1 = merged_df[merged_df['civil'] == 1]\n",
    "civil_0 = merged_df[merged_df['civil'] == 0]\n",
    "\n",
    "print(\"-\"*30)\n",
    "print(\"\\nAverages when civil=1:\")\n",
    "print(f\"Length: {civil_1['total_length'].mean():.2f} characters\")\n",
    "print(f\"Time: {civil_1['total_time_minutes'].mean():.2f} minutes\")\n",
    "print(f\"Turns: {civil_1['total_turns'].mean():.2f}\")\n",
    "\n",
    "print(\"\\nAverages when civil=0:\")\n",
    "print(f\"Length: {civil_0['total_length'].mean():.2f} characters\")\n",
    "print(f\"Time: {civil_0['total_time_minutes'].mean():.2f} minutes\")\n",
    "print(f\"Turns: {civil_0['total_turns'].mean():.2f}\")\n",
    "\n",
    "print(\"-\"*30)\n",
    "# the time to complete post-task survey\n",
    "user_feedback_df['timestamp_arrival'] = pd.to_datetime(user_feedback_df['timestamp_arrival'])\n",
    "user_feedback_df['timestamp_feedback'] = pd.to_datetime(user_feedback_df['timestamp_feedback'])\n",
    "user_feedback_df['survey_completion_time'] = (user_feedback_df['timestamp_feedback'] - user_feedback_df['timestamp_arrival']).dt.total_seconds() / 60\n",
    "avg_survey_time = user_feedback_df['survey_completion_time'].mean()\n",
    "print(f\"\\nAverage time to complete post-task survey: {avg_survey_time:.2f} minutes\")\n"
   ]
  }
 ],
 "metadata": {
  "kernelspec": {
   "display_name": ".venv",
   "language": "python",
   "name": "python3"
  },
  "language_info": {
   "codemirror_mode": {
    "name": "ipython",
    "version": 3
   },
   "file_extension": ".py",
   "mimetype": "text/x-python",
   "name": "python",
   "nbconvert_exporter": "python",
   "pygments_lexer": "ipython3",
   "version": "3.11.9"
  }
 },
 "nbformat": 4,
 "nbformat_minor": 2
}
