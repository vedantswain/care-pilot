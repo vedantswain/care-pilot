{
 "cells": [
  {
   "cell_type": "code",
   "execution_count": 1,
   "metadata": {
    "ExecuteTime": {
     "end_time": "2024-05-10T16:35:36.340609Z",
     "start_time": "2024-05-10T16:35:34.693452Z"
    }
   },
   "outputs": [],
   "source": [
    "from pymongo import MongoClient\n",
    "import pandas as pd"
   ]
  },
  {
   "cell_type": "code",
   "execution_count": 2,
   "metadata": {
    "ExecuteTime": {
     "end_time": "2024-05-10T16:35:36.401279Z",
     "start_time": "2024-05-10T16:35:36.338502Z"
    }
   },
   "outputs": [],
   "source": [
    "client = MongoClient('mongodb://localhost:27017/')\n",
    "db = client['flask_db']"
   ]
  },
  {
   "cell_type": "code",
   "execution_count": 3,
   "metadata": {
    "ExecuteTime": {
     "end_time": "2024-05-10T16:35:41.055615Z",
     "start_time": "2024-05-10T16:35:41.039202Z"
    }
   },
   "outputs": [],
   "source": [
    "def extract_user_info():\n",
    "    collection = db['chat_client_info']\n",
    "    data = list(collection.find({}, {'_id': 0, \"session_id\": 1, \"client_id\": 1, \"product\": 1, \"grateful\": 1, \"ranting\": 1, \"expression\": 1, \"civil\": 1}))\n",
    "    df = pd.DataFrame(data)\n",
    "    df.to_csv('user_info.csv', index=False)\n",
    "    return df\n",
    "\n",
    "def extract_chat_history():\n",
    "    collection = db['chat_history_collection']\n",
    "    data = list(collection.find({}, {'_id': 0, \"session_id\": 1, \"client_id\": 1, \"turn_number\": 1, \"sender\": 1, \"receiver\": 1, \"message\": 1, \"timestamp\": 1}))\n",
    "    df = pd.DataFrame(data)\n",
    "    df.to_csv('chat_history.csv', index=False)\n",
    "    return df\n",
    "\n",
    "def extract_user_feedback():\n",
    "    collection = db['chat_emo_feedback']\n",
    "    data = list(collection.find({}, {'_id': 0, \"session_id\": 1, \"client_id\": 1, \"turn_number\": 1, \"support_type\": 1, \"support_content\": 1, \"timestamp_arrival\": 1, \"timestamp_feedback\": 1, \"user_feedback\": 1}))\n",
    "    df = pd.DataFrame(data)\n",
    "    df.to_csv('user_feedback.csv', index=False)\n",
    "    return df"
   ]
  },
  {
   "cell_type": "code",
   "execution_count": 4,
   "metadata": {
    "ExecuteTime": {
     "end_time": "2024-05-10T16:35:41.498515Z",
     "start_time": "2024-05-10T16:35:41.457927Z"
    }
   },
   "outputs": [],
   "source": [
    "# export csv run functions\n",
    "\n",
    "if __name__ == \"__main__\":\n",
    "    user_info_df = extract_user_info()\n",
    "    chat_history_df = extract_chat_history()\n",
    "    user_feedback_df = extract_user_feedback()"
   ]
  },
  {
   "cell_type": "code",
   "execution_count": 5,
   "metadata": {
    "ExecuteTime": {
     "end_time": "2024-05-10T16:35:43.850771Z",
     "start_time": "2024-05-10T16:35:43.836287Z"
    }
   },
   "outputs": [],
   "source": [
    "# Analyze the value from csv table\n",
    "\n",
    "user_info_df = pd.read_csv('user_info.csv')\n",
    "chat_history_df = pd.read_csv('chat_history.csv')\n",
    "user_feedback_df = pd.read_csv('user_feedback.csv')\n"
   ]
  },
  {
   "cell_type": "code",
   "execution_count": 6,
   "outputs": [
    {
     "data": {
      "text/plain": "                              session_id  turn_number          sender  \\\n0   e7810d46-f838-4a35-9654-87ea23b80bee            1  representative   \n1   e7810d46-f838-4a35-9654-87ea23b80bee            1  representative   \n2   e7810d46-f838-4a35-9654-87ea23b80bee            1  representative   \n3   e7810d46-f838-4a35-9654-87ea23b80bee            1          client   \n4   e7810d46-f838-4a35-9654-87ea23b80bee            2  representative   \n5   e7810d46-f838-4a35-9654-87ea23b80bee            1  representative   \n6   e7810d46-f838-4a35-9654-87ea23b80bee            1          client   \n7   e7810d46-f838-4a35-9654-87ea23b80bee            2  representative   \n8   17017ce9-cf9d-492a-b2f5-d97aced0579f            1  representative   \n9   17017ce9-cf9d-492a-b2f5-d97aced0579f            1  representative   \n10  e7810d46-f838-4a35-9654-87ea23b80bee            1  representative   \n11  17017ce9-cf9d-492a-b2f5-d97aced0579f            1  representative   \n12  43fd3ba9-6537-4ca7-8fc7-b0bb3662bc99            1  representative   \n13  43fd3ba9-6537-4ca7-8fc7-b0bb3662bc99            1  representative   \n14  43fd3ba9-6537-4ca7-8fc7-b0bb3662bc99            2          client   \n15  43fd3ba9-6537-4ca7-8fc7-b0bb3662bc99            3  representative   \n16  43fd3ba9-6537-4ca7-8fc7-b0bb3662bc99            1  representative   \n17  43fd3ba9-6537-4ca7-8fc7-b0bb3662bc99            2          client   \n18  43fd3ba9-6537-4ca7-8fc7-b0bb3662bc99            3  representative   \n19  43fd3ba9-6537-4ca7-8fc7-b0bb3662bc99            1  representative   \n20  43fd3ba9-6537-4ca7-8fc7-b0bb3662bc99            2          client   \n21  43fd3ba9-6537-4ca7-8fc7-b0bb3662bc99            3  representative   \n22  43fd3ba9-6537-4ca7-8fc7-b0bb3662bc99            1  representative   \n23  43fd3ba9-6537-4ca7-8fc7-b0bb3662bc99            2          client   \n24  43fd3ba9-6537-4ca7-8fc7-b0bb3662bc99            3  representative   \n25  43fd3ba9-6537-4ca7-8fc7-b0bb3662bc99            1  representative   \n26  43fd3ba9-6537-4ca7-8fc7-b0bb3662bc99            1  representative   \n27  43fd3ba9-6537-4ca7-8fc7-b0bb3662bc99            1  representative   \n28  43fd3ba9-6537-4ca7-8fc7-b0bb3662bc99            1  representative   \n29  43fd3ba9-6537-4ca7-8fc7-b0bb3662bc99            1  representative   \n30  43fd3ba9-6537-4ca7-8fc7-b0bb3662bc99            2          client   \n31  43fd3ba9-6537-4ca7-8fc7-b0bb3662bc99            3  representative   \n32  43fd3ba9-6537-4ca7-8fc7-b0bb3662bc99            4          client   \n33  43fd3ba9-6537-4ca7-8fc7-b0bb3662bc99            5  representative   \n34  4d76ce39-5429-4f32-aaf6-328f14cbd149            1  representative   \n35  4d76ce39-5429-4f32-aaf6-328f14cbd149            1          client   \n36  4d76ce39-5429-4f32-aaf6-328f14cbd149            2  representative   \n37  ac9bf7c9-082c-4bed-85ca-64081dfb94a7            1  representative   \n38  ac9bf7c9-082c-4bed-85ca-64081dfb94a7            1  representative   \n39  ac9bf7c9-082c-4bed-85ca-64081dfb94a7            1          client   \n40  ac9bf7c9-082c-4bed-85ca-64081dfb94a7            2  representative   \n41  ac9bf7c9-082c-4bed-85ca-64081dfb94a7            1  representative   \n42  ac9bf7c9-082c-4bed-85ca-64081dfb94a7            1  representative   \n43  a19de80a-a993-42a3-b406-754d7d2e495f            1  representative   \n44  ac9bf7c9-082c-4bed-85ca-64081dfb94a7            1          client   \n45  ac9bf7c9-082c-4bed-85ca-64081dfb94a7            2  representative   \n46  5771f592-bbc5-4f93-b235-08117ed96513            1  representative   \n47  5771f592-bbc5-4f93-b235-08117ed96513            1  representative   \n48  5771f592-bbc5-4f93-b235-08117ed96513            1  representative   \n49  3ad08338-b4e4-4927-8e8b-b7c1e1453a15            1  representative   \n50  3ad08338-b4e4-4927-8e8b-b7c1e1453a15            1  representative   \n51  3ad08338-b4e4-4927-8e8b-b7c1e1453a15            1  representative   \n52  3ad08338-b4e4-4927-8e8b-b7c1e1453a15            1  representative   \n\n                                              message  \\\n0   Excuse me, I have been waiting in line for ove...   \n1   Could you please check the status of my librar...   \n2   Hi, I recently booked a flight with your airli...   \n3       Ask for the customer's full name and address.   \n4   I'm sorry, but you need to provide a response ...   \n5   Hi, I have been a loyal library member for yea...   \n6                      What book are you looking for?   \n7                      What book are you looking for?   \n8             Please provide a product and a feeling.   \n9   Hey there, I just wanted to express my frustra...   \n10  Hello, I am experiencing a major issue with my...   \n11  Hello, I have a complaint about my recent flig...   \n12  Complaint: Hi, I'm having trouble finding the ...   \n13  Excuse me, but I've been waiting in line for a...   \n14                                              sorry   \n15  Sorry? That's it? I've been sitting here for a...   \n16  Just ordered a pizza and it arrived cold and s...   \n17                                              sorry   \n18  Sorry? That's all you've got? Look, I'm not he...   \n19  Hi there, I have been trying to access the onl...   \n20                                              sorry   \n21  Sorry? That's it? You think a \"sorry\" is gonna...   \n22  Pizza Hut I ordered a large pepperoni pizza an...   \n23                                              sorry   \n24  Oh, \"sorry\"? Is that all you've got? I'm sick ...   \n25  I ordered a pepperoni pizza and it arrived wit...   \n26  I am extremely disappointed in the library's n...   \n27  Hey, I just ordered a pepperoni pizza from you...   \n28  Hi, I was really disappointed to find out that...   \n29  Hello, I am extremely disappointed with the pi...   \n30                                              sorry   \n31  Sorry? That's all you've got? A \"sorry\"? Look,...   \n32                                repeat your problem   \n33  I already told you! The problem is your librar...   \n34  I have not received any response from the supp...   \n35     Could you describe what your problem is about?   \n36                                         FINISH:999   \n37  Hi there, I have a question regarding your ser...   \n38  What kind of library is this? There's not enou...   \n39  I am sorry for the inconvenience. Are there an...   \n40  How about you start by listing what you actual...   \n41  Hi, I recently stayed at your hotel and was di...   \n42  Hi, I recently stayed at your hotel and I was ...   \n43  Sorry, I am not able to complete this prompt a...   \n44                                         I am sorry   \n45  Oh, you're sorry? That's all you've got? A sim...   \n46  I have an issue with my order, it has been ove...   \n47  This hotel stay has been a nightmare. The room...   \n48  Hi, I'm trying to access the online resources ...   \n49  I just bought this book and the cover was comp...   \n50  I recently purchased a book from your store, b...   \n51  I pre-ordered this book months ago and it stil...   \n52  Hey there, I recently purchased this book from...   \n\n                  timestamp                             client_id  \\\n0   2024-04-17 18:38:43.717                                   NaN   \n1   2024-04-17 18:39:38.058                                   NaN   \n2   2024-04-17 18:39:59.279                                   NaN   \n3   2024-04-17 18:43:02.786                                   NaN   \n4   2024-04-17 18:43:02.786                                   NaN   \n5   2024-04-17 18:43:25.555                                   NaN   \n6   2024-04-17 18:44:11.488                                   NaN   \n7   2024-04-17 18:44:11.488                                   NaN   \n8   2024-04-17 18:55:06.919                                   NaN   \n9   2024-04-17 18:57:33.610                                   NaN   \n10  2024-04-17 19:02:16.340                                   NaN   \n11  2024-04-17 19:02:27.630                                   NaN   \n12  2024-04-19 17:28:15.172                                   NaN   \n13  2024-04-19 17:28:43.676                                   NaN   \n14  2024-04-19 17:29:07.034                                   NaN   \n15  2024-04-19 17:29:07.034                                   NaN   \n16  2024-04-19 17:29:12.561                                   NaN   \n17  2024-04-19 17:29:35.399                                   NaN   \n18  2024-04-19 17:29:35.399                                   NaN   \n19  2024-04-19 17:33:36.124                                   NaN   \n20  2024-04-19 17:36:19.874                                   NaN   \n21  2024-04-19 17:36:19.874                                   NaN   \n22  2024-04-19 17:36:55.944                                   NaN   \n23  2024-04-19 17:37:57.820                                   NaN   \n24  2024-04-19 17:37:57.820                                   NaN   \n25  2024-04-19 17:47:24.815                                   NaN   \n26  2024-04-19 17:47:27.060                                   NaN   \n27  2024-04-19 17:49:00.890                                   NaN   \n28  2024-04-19 17:57:58.344                                   NaN   \n29  2024-04-19 17:58:01.158                                   NaN   \n30  2024-04-19 17:58:39.687                                   NaN   \n31  2024-04-19 17:58:39.687                                   NaN   \n32  2024-04-19 17:59:18.957                                   NaN   \n33  2024-04-19 17:59:18.957                                   NaN   \n34  2024-04-25 15:28:47.418  d1fafae8-b472-4d77-b3d7-73407ee9ade1   \n35  2024-04-25 15:29:30.755  d1fafae8-b472-4d77-b3d7-73407ee9ade1   \n36  2024-04-25 15:29:30.755  d1fafae8-b472-4d77-b3d7-73407ee9ade1   \n37  2024-04-26 19:44:36.972  b7fbadbe-7ddc-468e-ba60-2fe616108459   \n38  2024-04-26 19:44:55.777  0fae7b51-dc4c-4a5c-acc3-acfb7209b739   \n39  2024-04-26 19:46:35.360  0fae7b51-dc4c-4a5c-acc3-acfb7209b739   \n40  2024-04-26 19:46:35.360  0fae7b51-dc4c-4a5c-acc3-acfb7209b739   \n41  2024-04-26 20:02:27.541  e0bbf977-225e-4905-9506-c3bb1d59d6dc   \n42  2024-04-29 16:54:45.275  64c6e326-d976-420c-8bd7-ff8698f2a998   \n43  2024-04-29 16:59:27.784  2775dde3-9b70-4948-b7b8-8784646bd39e   \n44  2024-04-29 17:00:42.296  64c6e326-d976-420c-8bd7-ff8698f2a998   \n45  2024-04-29 17:00:42.296  64c6e326-d976-420c-8bd7-ff8698f2a998   \n46  2024-04-29 17:29:07.908  a7ab4879-ed56-42f7-86ba-1ab910e7458a   \n47  2024-04-29 17:29:24.672  d04040e8-2c9c-4165-af08-2cd1acdd6b55   \n48  2024-04-29 17:29:32.819  b84d79ee-3f67-4af1-bf6c-f4ce5ab9bbb8   \n49  2024-05-10 16:29:14.219  d14fc333-6eef-48e8-8d16-da960b68c69a   \n50  2024-05-10 16:30:04.836  335bae68-8865-40b0-bfa4-2c29bf75cf7b   \n51  2024-05-10 16:30:17.701  4e01f931-6268-45a2-a287-111213b575d2   \n52  2024-05-10 16:30:35.654  717b8bb7-3eb6-4535-9414-d74a9cf00e1c   \n\n          receiver  \n0              NaN  \n1              NaN  \n2              NaN  \n3              NaN  \n4              NaN  \n5              NaN  \n6              NaN  \n7              NaN  \n8              NaN  \n9              NaN  \n10             NaN  \n11             NaN  \n12             NaN  \n13             NaN  \n14             NaN  \n15             NaN  \n16             NaN  \n17             NaN  \n18             NaN  \n19             NaN  \n20             NaN  \n21             NaN  \n22             NaN  \n23             NaN  \n24             NaN  \n25             NaN  \n26             NaN  \n27             NaN  \n28             NaN  \n29             NaN  \n30             NaN  \n31             NaN  \n32             NaN  \n33             NaN  \n34          client  \n35  representative  \n36          client  \n37          client  \n38          client  \n39  representative  \n40          client  \n41          client  \n42          client  \n43          client  \n44  representative  \n45          client  \n46          client  \n47          client  \n48          client  \n49          client  \n50          client  \n51          client  \n52          client  ",
      "text/html": "<div>\n<style scoped>\n    .dataframe tbody tr th:only-of-type {\n        vertical-align: middle;\n    }\n\n    .dataframe tbody tr th {\n        vertical-align: top;\n    }\n\n    .dataframe thead th {\n        text-align: right;\n    }\n</style>\n<table border=\"1\" class=\"dataframe\">\n  <thead>\n    <tr style=\"text-align: right;\">\n      <th></th>\n      <th>session_id</th>\n      <th>turn_number</th>\n      <th>sender</th>\n      <th>message</th>\n      <th>timestamp</th>\n      <th>client_id</th>\n      <th>receiver</th>\n    </tr>\n  </thead>\n  <tbody>\n    <tr>\n      <th>0</th>\n      <td>e7810d46-f838-4a35-9654-87ea23b80bee</td>\n      <td>1</td>\n      <td>representative</td>\n      <td>Excuse me, I have been waiting in line for ove...</td>\n      <td>2024-04-17 18:38:43.717</td>\n      <td>NaN</td>\n      <td>NaN</td>\n    </tr>\n    <tr>\n      <th>1</th>\n      <td>e7810d46-f838-4a35-9654-87ea23b80bee</td>\n      <td>1</td>\n      <td>representative</td>\n      <td>Could you please check the status of my librar...</td>\n      <td>2024-04-17 18:39:38.058</td>\n      <td>NaN</td>\n      <td>NaN</td>\n    </tr>\n    <tr>\n      <th>2</th>\n      <td>e7810d46-f838-4a35-9654-87ea23b80bee</td>\n      <td>1</td>\n      <td>representative</td>\n      <td>Hi, I recently booked a flight with your airli...</td>\n      <td>2024-04-17 18:39:59.279</td>\n      <td>NaN</td>\n      <td>NaN</td>\n    </tr>\n    <tr>\n      <th>3</th>\n      <td>e7810d46-f838-4a35-9654-87ea23b80bee</td>\n      <td>1</td>\n      <td>client</td>\n      <td>Ask for the customer's full name and address.</td>\n      <td>2024-04-17 18:43:02.786</td>\n      <td>NaN</td>\n      <td>NaN</td>\n    </tr>\n    <tr>\n      <th>4</th>\n      <td>e7810d46-f838-4a35-9654-87ea23b80bee</td>\n      <td>2</td>\n      <td>representative</td>\n      <td>I'm sorry, but you need to provide a response ...</td>\n      <td>2024-04-17 18:43:02.786</td>\n      <td>NaN</td>\n      <td>NaN</td>\n    </tr>\n    <tr>\n      <th>5</th>\n      <td>e7810d46-f838-4a35-9654-87ea23b80bee</td>\n      <td>1</td>\n      <td>representative</td>\n      <td>Hi, I have been a loyal library member for yea...</td>\n      <td>2024-04-17 18:43:25.555</td>\n      <td>NaN</td>\n      <td>NaN</td>\n    </tr>\n    <tr>\n      <th>6</th>\n      <td>e7810d46-f838-4a35-9654-87ea23b80bee</td>\n      <td>1</td>\n      <td>client</td>\n      <td>What book are you looking for?</td>\n      <td>2024-04-17 18:44:11.488</td>\n      <td>NaN</td>\n      <td>NaN</td>\n    </tr>\n    <tr>\n      <th>7</th>\n      <td>e7810d46-f838-4a35-9654-87ea23b80bee</td>\n      <td>2</td>\n      <td>representative</td>\n      <td>What book are you looking for?</td>\n      <td>2024-04-17 18:44:11.488</td>\n      <td>NaN</td>\n      <td>NaN</td>\n    </tr>\n    <tr>\n      <th>8</th>\n      <td>17017ce9-cf9d-492a-b2f5-d97aced0579f</td>\n      <td>1</td>\n      <td>representative</td>\n      <td>Please provide a product and a feeling.</td>\n      <td>2024-04-17 18:55:06.919</td>\n      <td>NaN</td>\n      <td>NaN</td>\n    </tr>\n    <tr>\n      <th>9</th>\n      <td>17017ce9-cf9d-492a-b2f5-d97aced0579f</td>\n      <td>1</td>\n      <td>representative</td>\n      <td>Hey there, I just wanted to express my frustra...</td>\n      <td>2024-04-17 18:57:33.610</td>\n      <td>NaN</td>\n      <td>NaN</td>\n    </tr>\n    <tr>\n      <th>10</th>\n      <td>e7810d46-f838-4a35-9654-87ea23b80bee</td>\n      <td>1</td>\n      <td>representative</td>\n      <td>Hello, I am experiencing a major issue with my...</td>\n      <td>2024-04-17 19:02:16.340</td>\n      <td>NaN</td>\n      <td>NaN</td>\n    </tr>\n    <tr>\n      <th>11</th>\n      <td>17017ce9-cf9d-492a-b2f5-d97aced0579f</td>\n      <td>1</td>\n      <td>representative</td>\n      <td>Hello, I have a complaint about my recent flig...</td>\n      <td>2024-04-17 19:02:27.630</td>\n      <td>NaN</td>\n      <td>NaN</td>\n    </tr>\n    <tr>\n      <th>12</th>\n      <td>43fd3ba9-6537-4ca7-8fc7-b0bb3662bc99</td>\n      <td>1</td>\n      <td>representative</td>\n      <td>Complaint: Hi, I'm having trouble finding the ...</td>\n      <td>2024-04-19 17:28:15.172</td>\n      <td>NaN</td>\n      <td>NaN</td>\n    </tr>\n    <tr>\n      <th>13</th>\n      <td>43fd3ba9-6537-4ca7-8fc7-b0bb3662bc99</td>\n      <td>1</td>\n      <td>representative</td>\n      <td>Excuse me, but I've been waiting in line for a...</td>\n      <td>2024-04-19 17:28:43.676</td>\n      <td>NaN</td>\n      <td>NaN</td>\n    </tr>\n    <tr>\n      <th>14</th>\n      <td>43fd3ba9-6537-4ca7-8fc7-b0bb3662bc99</td>\n      <td>2</td>\n      <td>client</td>\n      <td>sorry</td>\n      <td>2024-04-19 17:29:07.034</td>\n      <td>NaN</td>\n      <td>NaN</td>\n    </tr>\n    <tr>\n      <th>15</th>\n      <td>43fd3ba9-6537-4ca7-8fc7-b0bb3662bc99</td>\n      <td>3</td>\n      <td>representative</td>\n      <td>Sorry? That's it? I've been sitting here for a...</td>\n      <td>2024-04-19 17:29:07.034</td>\n      <td>NaN</td>\n      <td>NaN</td>\n    </tr>\n    <tr>\n      <th>16</th>\n      <td>43fd3ba9-6537-4ca7-8fc7-b0bb3662bc99</td>\n      <td>1</td>\n      <td>representative</td>\n      <td>Just ordered a pizza and it arrived cold and s...</td>\n      <td>2024-04-19 17:29:12.561</td>\n      <td>NaN</td>\n      <td>NaN</td>\n    </tr>\n    <tr>\n      <th>17</th>\n      <td>43fd3ba9-6537-4ca7-8fc7-b0bb3662bc99</td>\n      <td>2</td>\n      <td>client</td>\n      <td>sorry</td>\n      <td>2024-04-19 17:29:35.399</td>\n      <td>NaN</td>\n      <td>NaN</td>\n    </tr>\n    <tr>\n      <th>18</th>\n      <td>43fd3ba9-6537-4ca7-8fc7-b0bb3662bc99</td>\n      <td>3</td>\n      <td>representative</td>\n      <td>Sorry? That's all you've got? Look, I'm not he...</td>\n      <td>2024-04-19 17:29:35.399</td>\n      <td>NaN</td>\n      <td>NaN</td>\n    </tr>\n    <tr>\n      <th>19</th>\n      <td>43fd3ba9-6537-4ca7-8fc7-b0bb3662bc99</td>\n      <td>1</td>\n      <td>representative</td>\n      <td>Hi there, I have been trying to access the onl...</td>\n      <td>2024-04-19 17:33:36.124</td>\n      <td>NaN</td>\n      <td>NaN</td>\n    </tr>\n    <tr>\n      <th>20</th>\n      <td>43fd3ba9-6537-4ca7-8fc7-b0bb3662bc99</td>\n      <td>2</td>\n      <td>client</td>\n      <td>sorry</td>\n      <td>2024-04-19 17:36:19.874</td>\n      <td>NaN</td>\n      <td>NaN</td>\n    </tr>\n    <tr>\n      <th>21</th>\n      <td>43fd3ba9-6537-4ca7-8fc7-b0bb3662bc99</td>\n      <td>3</td>\n      <td>representative</td>\n      <td>Sorry? That's it? You think a \"sorry\" is gonna...</td>\n      <td>2024-04-19 17:36:19.874</td>\n      <td>NaN</td>\n      <td>NaN</td>\n    </tr>\n    <tr>\n      <th>22</th>\n      <td>43fd3ba9-6537-4ca7-8fc7-b0bb3662bc99</td>\n      <td>1</td>\n      <td>representative</td>\n      <td>Pizza Hut I ordered a large pepperoni pizza an...</td>\n      <td>2024-04-19 17:36:55.944</td>\n      <td>NaN</td>\n      <td>NaN</td>\n    </tr>\n    <tr>\n      <th>23</th>\n      <td>43fd3ba9-6537-4ca7-8fc7-b0bb3662bc99</td>\n      <td>2</td>\n      <td>client</td>\n      <td>sorry</td>\n      <td>2024-04-19 17:37:57.820</td>\n      <td>NaN</td>\n      <td>NaN</td>\n    </tr>\n    <tr>\n      <th>24</th>\n      <td>43fd3ba9-6537-4ca7-8fc7-b0bb3662bc99</td>\n      <td>3</td>\n      <td>representative</td>\n      <td>Oh, \"sorry\"? Is that all you've got? I'm sick ...</td>\n      <td>2024-04-19 17:37:57.820</td>\n      <td>NaN</td>\n      <td>NaN</td>\n    </tr>\n    <tr>\n      <th>25</th>\n      <td>43fd3ba9-6537-4ca7-8fc7-b0bb3662bc99</td>\n      <td>1</td>\n      <td>representative</td>\n      <td>I ordered a pepperoni pizza and it arrived wit...</td>\n      <td>2024-04-19 17:47:24.815</td>\n      <td>NaN</td>\n      <td>NaN</td>\n    </tr>\n    <tr>\n      <th>26</th>\n      <td>43fd3ba9-6537-4ca7-8fc7-b0bb3662bc99</td>\n      <td>1</td>\n      <td>representative</td>\n      <td>I am extremely disappointed in the library's n...</td>\n      <td>2024-04-19 17:47:27.060</td>\n      <td>NaN</td>\n      <td>NaN</td>\n    </tr>\n    <tr>\n      <th>27</th>\n      <td>43fd3ba9-6537-4ca7-8fc7-b0bb3662bc99</td>\n      <td>1</td>\n      <td>representative</td>\n      <td>Hey, I just ordered a pepperoni pizza from you...</td>\n      <td>2024-04-19 17:49:00.890</td>\n      <td>NaN</td>\n      <td>NaN</td>\n    </tr>\n    <tr>\n      <th>28</th>\n      <td>43fd3ba9-6537-4ca7-8fc7-b0bb3662bc99</td>\n      <td>1</td>\n      <td>representative</td>\n      <td>Hi, I was really disappointed to find out that...</td>\n      <td>2024-04-19 17:57:58.344</td>\n      <td>NaN</td>\n      <td>NaN</td>\n    </tr>\n    <tr>\n      <th>29</th>\n      <td>43fd3ba9-6537-4ca7-8fc7-b0bb3662bc99</td>\n      <td>1</td>\n      <td>representative</td>\n      <td>Hello, I am extremely disappointed with the pi...</td>\n      <td>2024-04-19 17:58:01.158</td>\n      <td>NaN</td>\n      <td>NaN</td>\n    </tr>\n    <tr>\n      <th>30</th>\n      <td>43fd3ba9-6537-4ca7-8fc7-b0bb3662bc99</td>\n      <td>2</td>\n      <td>client</td>\n      <td>sorry</td>\n      <td>2024-04-19 17:58:39.687</td>\n      <td>NaN</td>\n      <td>NaN</td>\n    </tr>\n    <tr>\n      <th>31</th>\n      <td>43fd3ba9-6537-4ca7-8fc7-b0bb3662bc99</td>\n      <td>3</td>\n      <td>representative</td>\n      <td>Sorry? That's all you've got? A \"sorry\"? Look,...</td>\n      <td>2024-04-19 17:58:39.687</td>\n      <td>NaN</td>\n      <td>NaN</td>\n    </tr>\n    <tr>\n      <th>32</th>\n      <td>43fd3ba9-6537-4ca7-8fc7-b0bb3662bc99</td>\n      <td>4</td>\n      <td>client</td>\n      <td>repeat your problem</td>\n      <td>2024-04-19 17:59:18.957</td>\n      <td>NaN</td>\n      <td>NaN</td>\n    </tr>\n    <tr>\n      <th>33</th>\n      <td>43fd3ba9-6537-4ca7-8fc7-b0bb3662bc99</td>\n      <td>5</td>\n      <td>representative</td>\n      <td>I already told you! The problem is your librar...</td>\n      <td>2024-04-19 17:59:18.957</td>\n      <td>NaN</td>\n      <td>NaN</td>\n    </tr>\n    <tr>\n      <th>34</th>\n      <td>4d76ce39-5429-4f32-aaf6-328f14cbd149</td>\n      <td>1</td>\n      <td>representative</td>\n      <td>I have not received any response from the supp...</td>\n      <td>2024-04-25 15:28:47.418</td>\n      <td>d1fafae8-b472-4d77-b3d7-73407ee9ade1</td>\n      <td>client</td>\n    </tr>\n    <tr>\n      <th>35</th>\n      <td>4d76ce39-5429-4f32-aaf6-328f14cbd149</td>\n      <td>1</td>\n      <td>client</td>\n      <td>Could you describe what your problem is about?</td>\n      <td>2024-04-25 15:29:30.755</td>\n      <td>d1fafae8-b472-4d77-b3d7-73407ee9ade1</td>\n      <td>representative</td>\n    </tr>\n    <tr>\n      <th>36</th>\n      <td>4d76ce39-5429-4f32-aaf6-328f14cbd149</td>\n      <td>2</td>\n      <td>representative</td>\n      <td>FINISH:999</td>\n      <td>2024-04-25 15:29:30.755</td>\n      <td>d1fafae8-b472-4d77-b3d7-73407ee9ade1</td>\n      <td>client</td>\n    </tr>\n    <tr>\n      <th>37</th>\n      <td>ac9bf7c9-082c-4bed-85ca-64081dfb94a7</td>\n      <td>1</td>\n      <td>representative</td>\n      <td>Hi there, I have a question regarding your ser...</td>\n      <td>2024-04-26 19:44:36.972</td>\n      <td>b7fbadbe-7ddc-468e-ba60-2fe616108459</td>\n      <td>client</td>\n    </tr>\n    <tr>\n      <th>38</th>\n      <td>ac9bf7c9-082c-4bed-85ca-64081dfb94a7</td>\n      <td>1</td>\n      <td>representative</td>\n      <td>What kind of library is this? There's not enou...</td>\n      <td>2024-04-26 19:44:55.777</td>\n      <td>0fae7b51-dc4c-4a5c-acc3-acfb7209b739</td>\n      <td>client</td>\n    </tr>\n    <tr>\n      <th>39</th>\n      <td>ac9bf7c9-082c-4bed-85ca-64081dfb94a7</td>\n      <td>1</td>\n      <td>client</td>\n      <td>I am sorry for the inconvenience. Are there an...</td>\n      <td>2024-04-26 19:46:35.360</td>\n      <td>0fae7b51-dc4c-4a5c-acc3-acfb7209b739</td>\n      <td>representative</td>\n    </tr>\n    <tr>\n      <th>40</th>\n      <td>ac9bf7c9-082c-4bed-85ca-64081dfb94a7</td>\n      <td>2</td>\n      <td>representative</td>\n      <td>How about you start by listing what you actual...</td>\n      <td>2024-04-26 19:46:35.360</td>\n      <td>0fae7b51-dc4c-4a5c-acc3-acfb7209b739</td>\n      <td>client</td>\n    </tr>\n    <tr>\n      <th>41</th>\n      <td>ac9bf7c9-082c-4bed-85ca-64081dfb94a7</td>\n      <td>1</td>\n      <td>representative</td>\n      <td>Hi, I recently stayed at your hotel and was di...</td>\n      <td>2024-04-26 20:02:27.541</td>\n      <td>e0bbf977-225e-4905-9506-c3bb1d59d6dc</td>\n      <td>client</td>\n    </tr>\n    <tr>\n      <th>42</th>\n      <td>ac9bf7c9-082c-4bed-85ca-64081dfb94a7</td>\n      <td>1</td>\n      <td>representative</td>\n      <td>Hi, I recently stayed at your hotel and I was ...</td>\n      <td>2024-04-29 16:54:45.275</td>\n      <td>64c6e326-d976-420c-8bd7-ff8698f2a998</td>\n      <td>client</td>\n    </tr>\n    <tr>\n      <th>43</th>\n      <td>a19de80a-a993-42a3-b406-754d7d2e495f</td>\n      <td>1</td>\n      <td>representative</td>\n      <td>Sorry, I am not able to complete this prompt a...</td>\n      <td>2024-04-29 16:59:27.784</td>\n      <td>2775dde3-9b70-4948-b7b8-8784646bd39e</td>\n      <td>client</td>\n    </tr>\n    <tr>\n      <th>44</th>\n      <td>ac9bf7c9-082c-4bed-85ca-64081dfb94a7</td>\n      <td>1</td>\n      <td>client</td>\n      <td>I am sorry</td>\n      <td>2024-04-29 17:00:42.296</td>\n      <td>64c6e326-d976-420c-8bd7-ff8698f2a998</td>\n      <td>representative</td>\n    </tr>\n    <tr>\n      <th>45</th>\n      <td>ac9bf7c9-082c-4bed-85ca-64081dfb94a7</td>\n      <td>2</td>\n      <td>representative</td>\n      <td>Oh, you're sorry? That's all you've got? A sim...</td>\n      <td>2024-04-29 17:00:42.296</td>\n      <td>64c6e326-d976-420c-8bd7-ff8698f2a998</td>\n      <td>client</td>\n    </tr>\n    <tr>\n      <th>46</th>\n      <td>5771f592-bbc5-4f93-b235-08117ed96513</td>\n      <td>1</td>\n      <td>representative</td>\n      <td>I have an issue with my order, it has been ove...</td>\n      <td>2024-04-29 17:29:07.908</td>\n      <td>a7ab4879-ed56-42f7-86ba-1ab910e7458a</td>\n      <td>client</td>\n    </tr>\n    <tr>\n      <th>47</th>\n      <td>5771f592-bbc5-4f93-b235-08117ed96513</td>\n      <td>1</td>\n      <td>representative</td>\n      <td>This hotel stay has been a nightmare. The room...</td>\n      <td>2024-04-29 17:29:24.672</td>\n      <td>d04040e8-2c9c-4165-af08-2cd1acdd6b55</td>\n      <td>client</td>\n    </tr>\n    <tr>\n      <th>48</th>\n      <td>5771f592-bbc5-4f93-b235-08117ed96513</td>\n      <td>1</td>\n      <td>representative</td>\n      <td>Hi, I'm trying to access the online resources ...</td>\n      <td>2024-04-29 17:29:32.819</td>\n      <td>b84d79ee-3f67-4af1-bf6c-f4ce5ab9bbb8</td>\n      <td>client</td>\n    </tr>\n    <tr>\n      <th>49</th>\n      <td>3ad08338-b4e4-4927-8e8b-b7c1e1453a15</td>\n      <td>1</td>\n      <td>representative</td>\n      <td>I just bought this book and the cover was comp...</td>\n      <td>2024-05-10 16:29:14.219</td>\n      <td>d14fc333-6eef-48e8-8d16-da960b68c69a</td>\n      <td>client</td>\n    </tr>\n    <tr>\n      <th>50</th>\n      <td>3ad08338-b4e4-4927-8e8b-b7c1e1453a15</td>\n      <td>1</td>\n      <td>representative</td>\n      <td>I recently purchased a book from your store, b...</td>\n      <td>2024-05-10 16:30:04.836</td>\n      <td>335bae68-8865-40b0-bfa4-2c29bf75cf7b</td>\n      <td>client</td>\n    </tr>\n    <tr>\n      <th>51</th>\n      <td>3ad08338-b4e4-4927-8e8b-b7c1e1453a15</td>\n      <td>1</td>\n      <td>representative</td>\n      <td>I pre-ordered this book months ago and it stil...</td>\n      <td>2024-05-10 16:30:17.701</td>\n      <td>4e01f931-6268-45a2-a287-111213b575d2</td>\n      <td>client</td>\n    </tr>\n    <tr>\n      <th>52</th>\n      <td>3ad08338-b4e4-4927-8e8b-b7c1e1453a15</td>\n      <td>1</td>\n      <td>representative</td>\n      <td>Hey there, I recently purchased this book from...</td>\n      <td>2024-05-10 16:30:35.654</td>\n      <td>717b8bb7-3eb6-4535-9414-d74a9cf00e1c</td>\n      <td>client</td>\n    </tr>\n  </tbody>\n</table>\n</div>"
     },
     "execution_count": 6,
     "metadata": {},
     "output_type": "execute_result"
    }
   ],
   "source": [
    "chat_history_df"
   ],
   "metadata": {
    "collapsed": false,
    "ExecuteTime": {
     "end_time": "2024-05-10T16:35:48.968737Z",
     "start_time": "2024-05-10T16:35:48.946654Z"
    }
   }
  },
  {
   "cell_type": "code",
   "execution_count": 16,
   "metadata": {},
   "outputs": [
    {
     "name": "stdout",
     "output_type": "stream",
     "text": [
      "          grateful      ranting   expression        civil\n",
      "count  1413.000000  1413.000000  1413.000000  1212.000000\n",
      "mean      0.002831     0.003539     0.002831     0.820132\n",
      "std       0.053149     0.059402     0.053149     0.384236\n",
      "min       0.000000     0.000000     0.000000     0.000000\n",
      "25%       0.000000     0.000000     0.000000     1.000000\n",
      "50%       0.000000     0.000000     0.000000     1.000000\n",
      "75%       0.000000     0.000000     0.000000     1.000000\n",
      "max       1.000000     1.000000     1.000000     1.000000\n",
      "product\n",
      "Pizza      1406\n",
      "Cup           3\n",
      "Speaker       2\n",
      "Book          2\n",
      "Name: count, dtype: int64\n",
      "0.0028308563340410475\n",
      "0.003538570417551309\n",
      "0.0028308563340410475\n"
     ]
    }
   ],
   "source": [
    "# User Info\n",
    "print(user_info_df.describe())  # Basic statistics\n",
    "print(user_info_df['product'].value_counts())\n",
    "print(user_info_df['grateful'].mean())\n",
    "print(user_info_df['ranting'].mean())\n",
    "print(user_info_df['expression'].mean())"
   ]
  },
  {
   "cell_type": "code",
   "execution_count": 21,
   "metadata": {},
   "outputs": [
    {
     "name": "stdout",
     "output_type": "stream",
     "text": [
      "Average Message Length (Client): 5.0\n",
      "Average Message Length (Rep): 163.23545516769337\n",
      "Average Response Time (Client): 27.285714285714285\n",
      "Average Response Time (Rep): 1.196927374301676\n",
      "Average Number of Turns per Session: 1.019539427773901\n"
     ]
    }
   ],
   "source": [
    "# Chat History\n",
    "chat_history_df['timestamp'] = pd.to_datetime(chat_history_df['timestamp'])\n",
    "\n",
    "# Report average message length for client and for rep\n",
    "average_msg_length_client = chat_history_df[chat_history_df['sender'] == 'client']['message'].apply(len).mean()\n",
    "average_msg_length_rep = chat_history_df[chat_history_df['sender'] == 'representative']['message'].apply(len).mean()\n",
    "print(\"Average Message Length (Client):\", average_msg_length_client)\n",
    "print(\"Average Message Length (Rep):\", average_msg_length_rep)\n",
    "\n",
    "# Report the average time of response for client and for rep\n",
    "response_times = chat_history_df.sort_values(by=['session_id', 'timestamp'])\n",
    "response_times['response_time'] = response_times.groupby('session_id')['timestamp'].diff().dt.seconds\n",
    "average_response_time_client = response_times[response_times['sender'] == 'client']['response_time'].mean()\n",
    "average_response_time_rep = response_times[response_times['sender'] == 'representative']['response_time'].mean()\n",
    "print(\"Average Response Time (Client):\", average_response_time_client)\n",
    "print(\"Average Response Time (Rep):\", average_response_time_rep)\n",
    "\n",
    "# Report the average number of turns\n",
    "chat_history_df['turn_number'] = pd.to_numeric(chat_history_df['turn_number'], errors='coerce')  # Ensure turn numbers are numeric\n",
    "max_turns_per_session = chat_history_df.groupby(['client_id', 'session_id'])['turn_number'].max().reset_index()\n",
    "average_turns = max_turns_per_session.groupby('client_id')['turn_number'].mean()\n",
    "print(\"Average Number of Turns per Session:\", average_turns.mean())"
   ]
  },
  {
   "cell_type": "code",
   "execution_count": 20,
   "metadata": {},
   "outputs": [
    {
     "name": "stdout",
     "output_type": "stream",
     "text": [
      "support_type\n",
      "Be Mindful of Your Emotions           4.866667\n",
      "Put Yourself in the Client's Shoes    4.812500\n",
      "You might be thinking                 4.687500\n",
      "Name: user_feedback, dtype: float64\n"
     ]
    }
   ],
   "source": [
    "# Analysis for User Feedback\n",
    "average_feedback_by_type = user_feedback_df.groupby('support_type')['user_feedback'].mean()\n",
    "print(average_feedback_by_type)"
   ]
  }
 ],
 "metadata": {
  "kernelspec": {
   "display_name": ".venv",
   "language": "python",
   "name": "python3"
  },
  "language_info": {
   "codemirror_mode": {
    "name": "ipython",
    "version": 3
   },
   "file_extension": ".py",
   "mimetype": "text/x-python",
   "name": "python",
   "nbconvert_exporter": "python",
   "pygments_lexer": "ipython3",
   "version": "3.11.9"
  }
 },
 "nbformat": 4,
 "nbformat_minor": 2
}
