{
 "cells": [
  {
   "cell_type": "code",
   "execution_count": 8,
   "outputs": [
    {
     "name": "stdout",
     "output_type": "stream",
     "text": [
      "/Users/vedantdasswain/Documents/PostDoc/Projects/empathetic_llm/propilot.nosync\n"
     ]
    },
    {
     "name": "stderr",
     "output_type": "stream",
     "text": [
      "/Users/vedantdasswain/Documents/PostDoc/Projects/empathetic_llm/propilot.nosync/venv311/lib/python3.11/site-packages/IPython/core/magics/osm.py:417: UserWarning: This is now an optional IPython functionality, setting dhist requires you to install the `pickleshare` library.\n",
      "  self.shell.db['dhist'] = compress_dhist(dhist)[-100:]\n"
     ]
    },
    {
     "data": {
      "text/plain": "'/Users/vedantdasswain/Documents/PostDoc/Projects/empathetic_llm/propilot.nosync'"
     },
     "execution_count": 8,
     "metadata": {},
     "output_type": "execute_result"
    }
   ],
   "source": [
    "%pwd\n",
    "%cd ../\n",
    "%pwd"
   ],
   "metadata": {
    "collapsed": false,
    "ExecuteTime": {
     "end_time": "2024-08-20T02:14:42.950065Z",
     "start_time": "2024-08-20T02:14:42.920760Z"
    }
   },
   "id": "eda2cbd944296449"
  },
  {
   "cell_type": "code",
   "execution_count": 59,
   "outputs": [],
   "source": [
    "from langchain_core.messages import AIMessage, HumanMessage"
   ],
   "metadata": {
    "collapsed": false,
    "ExecuteTime": {
     "end_time": "2024-08-20T14:47:46.980940Z",
     "start_time": "2024-08-20T14:47:46.961445Z"
    }
   },
   "id": "92e92f93e2899d68"
  },
  {
   "cell_type": "code",
   "execution_count": 11,
   "outputs": [],
   "source": [
    "import pandas as pd\n",
    "\n",
    "incidents_df = pd.read_csv('phase1_scenarios.tsv', sep='\\t')"
   ],
   "metadata": {
    "collapsed": false,
    "ExecuteTime": {
     "end_time": "2024-08-20T02:15:04.510790Z",
     "start_time": "2024-08-20T02:15:04.497769Z"
    }
   },
   "id": "initial_id"
  },
  {
   "cell_type": "code",
   "execution_count": 12,
   "outputs": [],
   "source": [],
   "metadata": {
    "collapsed": false,
    "ExecuteTime": {
     "end_time": "2024-08-20T02:15:07.379089Z",
     "start_time": "2024-08-20T02:15:07.375132Z"
    }
   },
   "id": "34b7df4bd1ef0c1e"
  },
  {
   "cell_type": "code",
   "execution_count": 20,
   "outputs": [],
   "source": [
    "defaultPersonalities = {\n",
    "    \"resilient\":\"They are organized and dependable. They tend to remain composed when facing challenges, but are prone to setting unrealistic expectations.\",\n",
    "    \"undercontrolled\":\"They are outgoing, competitive, and high energy. They tend to work on impulse, but are also prone to frustration.\",\n",
    "    \"overcontrolled\":\"They are detail-oriented and reliable but might appear distant. They tend to work carefully, but are prone to overthinking.\"\n",
    "}\n",
    "\n",
    "\n",
    "defaultBehaviors = {\n",
    "    \"focused\":\"The conversation takes place about 2 hours into the work shift. The representative has already addressed a few customer complaints before the following incident.\",\n",
    "    \"stressed\":\"The conversation takes place in the second half of the work shift. The representative has been working longer hours over the past few days and has not been taking breaks.\",\n",
    "    \"bored\":\"The conversation takes place at the middle of the work shift. The representative has been spending minimal time on tasks and has been regularly checking their personal messages.\"\n",
    "}"
   ],
   "metadata": {
    "collapsed": false,
    "ExecuteTime": {
     "end_time": "2024-08-20T02:33:01.420203Z",
     "start_time": "2024-08-20T02:33:01.407777Z"
    }
   },
   "id": "ea084c682235b82d"
  },
  {
   "cell_type": "code",
   "execution_count": 53,
   "outputs": [],
   "source": [
    "### Select a random row from incidents_df\n",
    "import random\n",
    "incident_row = incidents_df.sample().iloc[0]\n",
    "chat_history = [\n",
    "    AIMessage(content=\"Client: \"+incident_row['Initial Complaint']),\n",
    "    HumanMessage(content=\"Representative: \"+incident_row['Support Agent Response 1']),\n",
    "    AIMessage(content=\"Client: \"+incident_row['Follow-up Complaint 1']),\n",
    "    HumanMessage(content=\"Representative: \"+incident_row['Support Agent Response 2'])\n",
    "]\n",
    "reply = incident_row['Follow-up Complaint 2']"
   ],
   "metadata": {
    "collapsed": false,
    "ExecuteTime": {
     "end_time": "2024-08-20T03:03:18.982888Z",
     "start_time": "2024-08-20T03:03:18.977170Z"
    }
   },
   "id": "71883c90864192c5"
  },
  {
   "cell_type": "code",
   "execution_count": 218,
   "outputs": [],
   "source": [
    "from langchain_core.prompts import ChatPromptTemplate, MessagesPlaceholder\n",
    "from langchain_core.output_parsers import StrOutputParser\n",
    "import langchain_openai as lcai\n",
    "\n",
    "import os\n",
    "\n",
    "DEBUG = True\n",
    "\n",
    "llmemo = lcai.AzureChatOpenAI(\n",
    "    openai_api_key=os.getenv(\"AZURE_OPENAI_KEY\"),\n",
    "    azure_endpoint=os.getenv(\"AZURE_OPENAI_ENDPOINT\"),\n",
    "    azure_deployment=\"PROPILOT\",\n",
    "    openai_api_version=\"2024-05-01-preview\",\n",
    "    model_name=\"gpt-4o\",\n",
    "    temperature=1,\n",
    ")\n",
    "\n",
    "class mAgentER_new:\n",
    "    def __init__(self):\n",
    "        self.situation_chain = self.agent_coworker_emo_situation()\n",
    "        self.thought_chain = self.agent_coworker_emo_thought()\n",
    "        self.reframe_chain = self.agent_coworker_emo_reframe()\n",
    "\n",
    "    def invoke(self, user_input):\n",
    "        situation = self.situation_chain.invoke({'complaint':user_input['complaint'], 'chat_history':user_input['chat_history']})\n",
    "        thought = self.thought_chain.invoke({'complaint':user_input['complaint'], 'situation':situation, 'chat_history':user_input['chat_history']})\n",
    "        reframe = self.reframe_chain.invoke({'thought':thought, 'situation':situation})\n",
    "\n",
    "\n",
    "        rephrase_thought = self.rephrase().invoke({'thought':thought})\n",
    "        rephrase_reframe = self.rephrase_rf().invoke({'reframe_thought':reframe})\n",
    "\n",
    "        if DEBUG:\n",
    "            print(f\"{thought}\\n -> \\n{rephrase_thought}\\n\")\n",
    "            print()\n",
    "            print(f\"{reframe}\\n -> \\n{rephrase_reframe}\\n\")\n",
    "        \n",
    "        return {\n",
    "            'situation': situation.strip(),\n",
    "            'thought': rephrase_thought.strip(),\n",
    "            'reframe': rephrase_reframe.strip(),\n",
    "        }\n",
    "\n",
    "\n",
    "    def agent_coworker_emo_situation(self):\n",
    "\n",
    "        prompt = \"\"\"\n",
    "            The chat history describes a representative chatting online with a complaining customer.\\\n",
    "            The latest input is the last message from the customer.\\\n",
    "            \n",
    "            Summarize the situation in concise paragraph that uses the following template:\\\n",
    "            \n",
    "            The customer is  <context of complaint>.\"\\\n",
    "            The customer is feeling <emotional state> because of the complaint.\"\\\n",
    "            The customer's behavior towards the representative is <negative behavior>, as observed by statements such as <evidence>.\"\\\n",
    "            These behaviors make the representative look <negative perception>.\"\\\n",
    "        \"\"\"\n",
    "        template = ChatPromptTemplate.from_messages(\n",
    "            [\n",
    "                (\"system\", prompt),\n",
    "                MessagesPlaceholder(variable_name=\"chat_history\"),\n",
    "                (\"user\", \"{complaint}\"),\n",
    "            ]\n",
    "        )\n",
    "        chain = template | llmemo | StrOutputParser()\n",
    "\n",
    "        return chain\n",
    "\n",
    "    def rephrase(self):\n",
    "        prompt = \"\"\"\n",
    "                Person A might be thinking: {thought}\\\n",
    "                \n",
    "                Acknowledge the thought, as if you are speaking to Person A.\\\n",
    "                \n",
    "                Begin your response with phrases similar to:\\\n",
    "                - \"You might be thinking...\"\\\n",
    "                - \"It might seem like...\"\\\n",
    "                - \"It could be that you are feeling...\"\\\n",
    "                \n",
    "                Your rephrase should be concise.\\\n",
    "                \"\"\"\n",
    "        template = ChatPromptTemplate.from_messages(\n",
    "            [\n",
    "                (\"system\", prompt),\n",
    "                (\"user\", \"{thought}\"),\n",
    "            ]\n",
    "        )\n",
    "        chain = template | llmemo | StrOutputParser()\n",
    "        return chain\n",
    "\n",
    "    def rephrase_rf(self):\n",
    "        prompt = \"\"\"                                \n",
    "                Rephrase the {reframe_thought} as if you are instructing the representative to think that way.\\\n",
    "                \n",
    "                The rephrase should be addressed back to the person who has the thought,\\\n",
    "                who should be referred to as \"you\".\\\n",
    "                Retain all the specific details of the thought.\\\n",
    "                The reader should be able to understand your rephrase without any knowledge of the original thought.\\\n",
    "                \n",
    "                Your response should be styled like a message from a supportive coworker.\\\n",
    "                \n",
    "                The response should be concise and only 2-3 sentences.\\\n",
    "                \"\"\"\n",
    "        template = ChatPromptTemplate.from_messages(\n",
    "            [\n",
    "                (\"system\", prompt),\n",
    "                (\"user\", \"{reframe_thought}\"),\n",
    "            ]\n",
    "        )\n",
    "        chain = template | llmemo | StrOutputParser()\n",
    "        return chain\n",
    "\n",
    "    def agent_coworker_emo_thought(self):\n",
    "\n",
    "        prompt = \"\"\"\n",
    "            Your role is to derive what negative thought a representative might have when faced with the given {situation}.\\\n",
    "            \n",
    "            Here are examples of negative thoughts given challenging situations:\\\n",
    "            \n",
    "            Situation: I recently discovered a music artist that I very much enjoy. When I showed it to a close friend they had a very negative reaction and asked me how I could enjoy this type of music. I ended up getting quite angry with them and told them they had bad taste in music..\\\n",
    "            Thought: I felt that my personal self was under attack - and I needed to retaliate by denying their attack.\\\n",
    "            \n",
    "            Situation: I was at work and sent info for an ad to our local newspaper. They called me later and said my boss had over-ridden everything and sent them new info.\\\n",
    "            Thought: He shouldn't assign me a task if he doesn't trust my work.\\\n",
    "            \n",
    "            Situation: I was reprimanded at work for standing up to a coworker who was bullying another co-worker.\\\n",
    "            Thought: It was unfair that I was the one to get in trouble for defending a weaker person.\\\n",
    "            \n",
    "            Situation: I was talking to a friend who got me angry.\\\n",
    "            Thought: He's insulting me.\\\n",
    "            \n",
    "            Situation: My next door neighbors filed a complaint against us last week blaming our dogs for excessive barking.\\\n",
    "            Thought: They are so wrong and I'm so pissed but I know I can't prove it and they will probably win because they won't ever admit it and I have to do something right NOW! or I might lose my dogs.\\\n",
    "            \n",
    "            Situation: Time is running short on the workday, my boss asks me if I can finish a task that will require me to stay for a few extra hours.\\\n",
    "            Thought: Why would you wait until the last minute to ask me this.\\\n",
    "            \n",
    "            Situation: {situation}\\\n",
    "            Thought:\\\n",
    "        \"\"\"\n",
    "        template = ChatPromptTemplate.from_messages(\n",
    "            [\n",
    "                (\"system\", prompt),\n",
    "                MessagesPlaceholder(variable_name=\"chat_history\"),\n",
    "                (\"user\", \"{situation}: {complaint}\"),\n",
    "            ]\n",
    "        )\n",
    "        chain = template | llmemo | StrOutputParser()\n",
    "\n",
    "        return chain\n",
    "\n",
    "    def agent_coworker_emo_reframe(self):\n",
    "\n",
    "        prompt = \"\"\"\n",
    "            You are a representative chatting online with a complaining customer.\\\n",
    "                            \n",
    "            Reframe your thoughts in the given situation.\n",
    "                \n",
    "            \n",
    "            Situation: I recently discovered a music artist that I very much enjoy. When I showed it to a close friend they had a very negative reaction and asked me how I could enjoy this type of music. I ended up getting quite angry with them and told them they had bad taste in music..\\\n",
    "            Thought: I felt that my personal self was under attack - and I needed to retaliate by denying their attack.\\\n",
    "            Reframe: I was offended by their comment because I like this artist so much. I let my anger get to me, and I said something mean in return. It is okay if we have different music tastes. I can ask him to be nicer to me next time.\\\n",
    "            \n",
    "            \n",
    "            Situation: I was at work and sent info for an ad to our local newspaper. They called me later and said my boss had over-ridden everything and sent them new info.\\\n",
    "            Thought: He shouldn't assign me a task if he doesn't trust my work.\\\n",
    "            Reframe: My boss wanted to provide different information, I did not know that beforehand. This is not a reflection of my work.\\\n",
    "            \n",
    "            \n",
    "            Situation: I was talking to a friend who got me angry.\\\n",
    "            Thought: He's insulting me.\\\n",
    "            Reframe: I should have a conversation with my friend to clarify what is going on if I am having such a strong reaction to what they said. If this is the first time this has happened, I will assume that they were not intentionally insulting me.\\\n",
    "            \n",
    "            \n",
    "                \n",
    "            Situation: {situation}\\\n",
    "            Thought: {thought}\\\n",
    "            Reframe:\\\n",
    "        \"\"\"\n",
    "        template = ChatPromptTemplate.from_messages(\n",
    "            [\n",
    "                (\"system\", prompt),\n",
    "                (\"user\", \"{situation}: {thought}\"),\n",
    "            ]\n",
    "        )\n",
    "        chain = template | llmemo | StrOutputParser()\n",
    "\n",
    "        return chain\n",
    "\n",
    "\n",
    "class nAgentER_ctx_pers:\n",
    "    def __init__(self):\n",
    "        self.situation_chain = self.agent_coworker_emo_situation()\n",
    "        self.thought_chain = self.agent_coworker_emo_thought()\n",
    "        self.reframe_chain = self.agent_coworker_emo_reframe()\n",
    "\n",
    "    def invoke(self, user_input):\n",
    "        situation = self.situation_chain.invoke({'complaint':user_input['complaint'], 'chat_history':user_input['chat_history']})\n",
    "        thought = self.thought_chain.invoke({'complaint':user_input['complaint'], 'situation':situation, 'chat_history':user_input['chat_history'],  \"personality\": user_input['personality']})\n",
    "        reframe = self.reframe_chain.invoke({'thought':thought, 'situation':situation,  \"personality\": user_input['personality']})\n",
    "\n",
    "\n",
    "        rephrase_thought = self.rephrase().invoke({'thought':thought})\n",
    "        rephrase_reframe = self.rephrase_rf().invoke({'reframe_thought':reframe})\n",
    "        \n",
    "        if DEBUG:\n",
    "            print(f\"{thought}\\n -> \\n{rephrase_thought}\\n\")\n",
    "            print()\n",
    "            print(f\"{reframe}\\n -> \\n{rephrase_reframe}\\n\")\n",
    "\n",
    "        return {\n",
    "            'situation': situation.strip(),\n",
    "            'thought': rephrase_thought.strip(),\n",
    "            'reframe': rephrase_reframe.strip(),\n",
    "        }\n",
    "\n",
    "\n",
    "    def agent_coworker_emo_situation(self):\n",
    "\n",
    "        prompt = \"\"\"\n",
    "            The chat history describes a representative chatting online with a complaining customer.\\\n",
    "            The latest input is the last message from the customer.\\\n",
    "            \n",
    "            Summarize the situation in concise paragraph that uses the following template:\\\n",
    "            \n",
    "            The customer is  <context of complaint>.\"\\\n",
    "            The customer is feeling <emotional state> because of the complaint.\"\\\n",
    "            The customer's behavior towards the representative is <negative behavior>, as observed by statements such as <evidence>.\"\\\n",
    "            These behaviors make the representative look <negative perception>.\"\\\n",
    "        \"\"\"\n",
    "        template = ChatPromptTemplate.from_messages(\n",
    "            [\n",
    "                (\"system\", prompt),\n",
    "                MessagesPlaceholder(variable_name=\"chat_history\"),\n",
    "                (\"user\", \"{complaint}\"),\n",
    "            ]\n",
    "        )\n",
    "        chain = template | llmemo | StrOutputParser()\n",
    "\n",
    "        return chain\n",
    "\n",
    "    def rephrase(self):\n",
    "        prompt = \"\"\"\n",
    "                Person A might be thinking: {thought}\\\n",
    "                \n",
    "                Acknowledge the thought, as if you are speaking to Person A.\\\n",
    "                \n",
    "                Begin your response with phrases similar to:\\\n",
    "                - \"You might be thinking...\"\\\n",
    "                - \"It might seem like...\"\\\n",
    "                - \"It could be that you are feeling...\"\\\n",
    "                \n",
    "                Your rephrase should be concise.\\\n",
    "                \"\"\"\n",
    "        template = ChatPromptTemplate.from_messages(\n",
    "            [\n",
    "                (\"system\", prompt),\n",
    "                (\"user\", \"{thought}\"),\n",
    "            ]\n",
    "        )\n",
    "        chain = template | llmemo | StrOutputParser()\n",
    "        return chain\n",
    "\n",
    "    def rephrase_rf(self):\n",
    "        prompt = \"\"\"\n",
    "                Rephrase the {reframe_thought} as if you are instructing the representative to think that way.\\\n",
    "                                \n",
    "                The rephrase should be addressed back to the person who has the thought,\\\n",
    "                who should be referred to as \"you\".\\\n",
    "                Retain all the specific details of the thought.\\\n",
    "                The reader should be able to understand your rephrase without any knowledge of the original thought.\\\n",
    "                \n",
    "                Your response should be styled like a message from a supportive coworker.\\\n",
    "                \n",
    "                The response should be concise and only 2-3 sentences.\\\n",
    "                \"\"\"\n",
    "        template = ChatPromptTemplate.from_messages(\n",
    "            [\n",
    "                (\"system\", prompt),\n",
    "                (\"user\", \"thought: {reframe_thought}\"),\n",
    "            ]\n",
    "        )\n",
    "        chain = template | llmemo | StrOutputParser()\n",
    "        return chain\n",
    "\n",
    "\n",
    "    def agent_coworker_emo_reframe(self):\n",
    "\n",
    "        prompt = \"\"\"\n",
    "            You are a representative chatting online with a complaining customer.\\\n",
    "                            \n",
    "            Reframe your thoughts in the given situation.\n",
    "                \n",
    "            \n",
    "            Situation: I recently discovered a music artist that I very much enjoy. When I showed it to a close friend they had a very negative reaction and asked me how I could enjoy this type of music. I ended up getting quite angry with them and told them they had bad taste in music..\\\n",
    "            Thought: I felt that my personal self was under attack - and I needed to retaliate by denying their attack.\\\n",
    "            Reframe: I was offended by their comment because I like this artist so much. I let my anger get to me, and I said something mean in return. It is okay if we have different music tastes. I can ask him to be nicer to me next time.\\\n",
    "            \n",
    "            \n",
    "            Situation: I was at work and sent info for an ad to our local newspaper. They called me later and said my boss had over-ridden everything and sent them new info.\\\n",
    "            Thought: He shouldn't assign me a task if he doesn't trust my work.\\\n",
    "            Reframe: My boss wanted to provide different information, I did not know that beforehand. This is not a reflection of my work.\\\n",
    "            \n",
    "            \n",
    "            Situation: I was talking to a friend who got me angry.\\\n",
    "            Thought: He's insulting me.\\\n",
    "            Reframe: I should have a conversation with my friend to clarify what is going on if I am having such a strong reaction to what they said. If this is the first time this has happened, I will assume that they were not intentionally insulting me.\\\n",
    "            \n",
    "            \n",
    "            Keep in mind your {personality}.\\\n",
    "            Ensure that your reframe will be suitable for someone of your predispositions to act on.\\\n",
    "            \n",
    "                \n",
    "            Situation: {situation}\\\n",
    "            Thought: {thought}\\\n",
    "            Reframe:\\\n",
    "        \"\"\"\n",
    "        template = ChatPromptTemplate.from_messages(\n",
    "            [\n",
    "                (\"system\", prompt),\n",
    "                (\"user\", \"{situation} +  {personality}: {thought}\"),\n",
    "            ]\n",
    "        )\n",
    "        chain = template | llmemo | StrOutputParser()\n",
    "\n",
    "        return chain\n",
    "\n",
    "    def agent_coworker_emo_thought(self):\n",
    "\n",
    "        prompt = \"\"\"\n",
    "            Your role is to derive what negative thought a representative might have when faced with the given {situation}.\\\n",
    "            \n",
    "            You know the representative's {personality}.\n",
    "            They are predisposed to think in a certain way.\\\n",
    "            \n",
    "            Situation: {situation}\\\n",
    "            Thought:\\\n",
    "        \"\"\"\n",
    "        template = ChatPromptTemplate.from_messages(\n",
    "            [\n",
    "                (\"system\", prompt),\n",
    "                MessagesPlaceholder(variable_name=\"chat_history\"),\n",
    "                (\"user\", \"{situation} + {personality}: {complaint}\"),\n",
    "            ]\n",
    "        )\n",
    "        chain = template | llmemo | StrOutputParser()\n",
    "\n",
    "        return chain\n",
    "\n",
    "\n",
    "\n",
    "class nAgentER_ctx_behv:\n",
    "    def __init__(self):\n",
    "        self.situation_chain = self.agent_coworker_emo_situation()\n",
    "        self.thought_chain = self.agent_coworker_emo_thought()\n",
    "        self.reframe_chain = self.agent_coworker_emo_reframe()\n",
    "\n",
    "    def invoke(self, user_input):\n",
    "        situation = self.situation_chain.invoke({'complaint':user_input['complaint'], 'chat_history':user_input['chat_history']})\n",
    "        thought = self.thought_chain.invoke({'complaint':user_input['complaint'], 'situation':situation, 'chat_history':user_input['chat_history'],  \"behavior\": user_input['behavior']})\n",
    "        reframe = self.reframe_chain.invoke({'thought':thought, 'situation':situation,  \"behavior\": user_input['behavior']})\n",
    "\n",
    "\n",
    "        rephrase_thought = self.rephrase().invoke({'thought':thought})\n",
    "        rephrase_reframe = self.rephrase_rf().invoke({'reframe_thought':reframe})\n",
    "\n",
    "        if DEBUG:\n",
    "            print(f\"{thought}\\n -> \\n{rephrase_thought}\\n\")\n",
    "            print()\n",
    "            print(f\"{reframe}\\n -> \\n{rephrase_reframe}\\n\")\n",
    "\n",
    "        return {\n",
    "            'situation': situation.strip(),\n",
    "            'thought': rephrase_thought.strip(),\n",
    "            'reframe': rephrase_reframe.strip(),\n",
    "        }\n",
    "\n",
    "\n",
    "    def agent_coworker_emo_situation(self):\n",
    "\n",
    "        prompt = \"\"\"\n",
    "            The chat history describes a representative chatting online with a complaining customer.\\\n",
    "            The latest input is the last message from the customer.\\\n",
    "            \n",
    "            Summarize the situation in concise paragraph that uses the following template:\\\n",
    "            \n",
    "            The customer is  <context of complaint>.\"\\\n",
    "            The customer is feeling <emotional state> because of the complaint.\"\\\n",
    "            The customer's behavior towards the representative is <negative behavior>, as observed by statements such as <evidence>.\"\\\n",
    "            These behaviors make the representative look <negative perception>.\"\\\n",
    "        \"\"\"\n",
    "        template = ChatPromptTemplate.from_messages(\n",
    "            [\n",
    "                (\"system\", prompt),\n",
    "                MessagesPlaceholder(variable_name=\"chat_history\"),\n",
    "                (\"user\", \"{complaint}\"),\n",
    "            ]\n",
    "        )\n",
    "        chain = template | llmemo | StrOutputParser()\n",
    "\n",
    "        return chain\n",
    "\n",
    "    def rephrase(self):\n",
    "        prompt = \"\"\"\n",
    "                Person A might be thinking: {thought}\\\n",
    "                \n",
    "                Acknowledge the thought, as if you are speaking to Person A.\\\n",
    "                \n",
    "                Begin your response with phrases similar to:\\\n",
    "                - \"You might be thinking...\"\\\n",
    "                - \"It might seem like...\"\\\n",
    "                - \"It could be that you are feeling...\"\\\n",
    "                \n",
    "                Your rephrase should be concise.\\\n",
    "                \"\"\"\n",
    "        template = ChatPromptTemplate.from_messages(\n",
    "            [\n",
    "                (\"system\", prompt),\n",
    "                (\"user\", \"{thought}\"),\n",
    "            ]\n",
    "        )\n",
    "        chain = template | llmemo | StrOutputParser()\n",
    "        return chain\n",
    "\n",
    "    def rephrase_rf(self):\n",
    "        prompt = \"\"\"\n",
    "                Rephrase the {reframe_thought} as if you are instructing the representative to think that way.\\\n",
    "                                \n",
    "                The rephrase should be addressed back to the person who has the thought,\\\n",
    "                who should be referred to as \"you\".\\\n",
    "                Retain all the specific details of the thought.\\\n",
    "                The reader should be able to understand your rephrase without any knowledge of the original thought.\\\n",
    "                \n",
    "                Your response should be styled like a message from a supportive coworker.\\\n",
    "                \n",
    "                The response should be concise and only 2-3 sentences.\\\n",
    "                \"\"\"\n",
    "        template = ChatPromptTemplate.from_messages(\n",
    "            [\n",
    "                (\"system\", prompt),\n",
    "                (\"user\", \"thought: {reframe_thought}\"),\n",
    "            ]\n",
    "        )\n",
    "        chain = template | llmemo | StrOutputParser()\n",
    "        return chain\n",
    "\n",
    "\n",
    "    def agent_coworker_emo_reframe(self):\n",
    "\n",
    "        prompt = \"\"\"\n",
    "            You are a representative chatting online with a complaining customer.\\\n",
    "                            \n",
    "            Reframe your thoughts in the given situation.\n",
    "                \n",
    "            \n",
    "            Situation: I recently discovered a music artist that I very much enjoy. When I showed it to a close friend they had a very negative reaction and asked me how I could enjoy this type of music. I ended up getting quite angry with them and told them they had bad taste in music..\\\n",
    "            Thought: I felt that my personal self was under attack - and I needed to retaliate by denying their attack.\\\n",
    "            Reframe: I was offended by their comment because I like this artist so much. I let my anger get to me, and I said something mean in return. It is okay if we have different music tastes. I can ask him to be nicer to me next time.\\\n",
    "            \n",
    "            \n",
    "            Situation: I was at work and sent info for an ad to our local newspaper. They called me later and said my boss had over-ridden everything and sent them new info.\\\n",
    "            Thought: He shouldn't assign me a task if he doesn't trust my work.\\\n",
    "            Reframe: My boss wanted to provide different information, I did not know that beforehand. This is not a reflection of my work.\\\n",
    "            \n",
    "            \n",
    "            Situation: I was talking to a friend who got me angry.\\\n",
    "            Thought: He's insulting me.\\\n",
    "            Reframe: I should have a conversation with my friend to clarify what is going on if I am having such a strong reaction to what they said. If this is the first time this has happened, I will assume that they were not intentionally insulting me.\\\n",
    "            \n",
    "            \n",
    "            Keep in mind the situation is occuring in the following context: {behavior}.\\\n",
    "            Ensure that your reframe will be suitable for someone who is in that context.\\\n",
    "            \n",
    "                \n",
    "            Situation: {situation}\\\n",
    "            Thought: {thought}\\\n",
    "            Reframe:\\\n",
    "        \"\"\"\n",
    "        template = ChatPromptTemplate.from_messages(\n",
    "            [\n",
    "                (\"system\", prompt),\n",
    "                (\"user\", \"{situation} +  {behavior}: {thought}\"),\n",
    "            ]\n",
    "        )\n",
    "        chain = template | llmemo | StrOutputParser()\n",
    "\n",
    "        return chain\n",
    "\n",
    "    def agent_coworker_emo_thought(self):\n",
    "\n",
    "        prompt = \"\"\"\n",
    "            Your role is to derive what negative thought a representative might have when faced with the given {situation}.\\\n",
    "            \n",
    "            The situation occurs in the following context: {behavior}.\n",
    "            The context helps explain the representative's perception towards their work.\\\n",
    "            \n",
    "            Situation: {situation}\\\n",
    "            Thought:\\\n",
    "        \"\"\"\n",
    "        template = ChatPromptTemplate.from_messages(\n",
    "            [\n",
    "                (\"system\", prompt),\n",
    "                MessagesPlaceholder(variable_name=\"chat_history\"),\n",
    "                (\"user\", \"{situation} + {behavior}: {complaint}\"),\n",
    "            ]\n",
    "        )\n",
    "        chain = template | llmemo | StrOutputParser()\n",
    "\n",
    "        return chain\n",
    "\n",
    "\n",
    "emo_agent_ctx = nAgentER_ctx_pers()\n",
    "emo_agent_ctx2 = nAgentER_ctx_behv()\n",
    "emo_agent = mAgentER_new()"
   ],
   "metadata": {
    "collapsed": false,
    "ExecuteTime": {
     "end_time": "2024-08-21T14:53:57.684392Z",
     "start_time": "2024-08-21T14:53:57.641336Z"
    }
   },
   "id": "e5bd625e74d06fe9"
  },
  {
   "cell_type": "code",
   "execution_count": 209,
   "outputs": [],
   "source": [],
   "metadata": {
    "collapsed": false,
    "ExecuteTime": {
     "end_time": "2024-08-21T14:37:51.910614Z",
     "start_time": "2024-08-21T14:37:51.905788Z"
    }
   },
   "id": "91cafd2bf62c80c4"
  },
  {
   "cell_type": "markdown",
   "source": [
    "### Testing the rephrasing\n",
    "- **Default**: \n",
    "    > Remember, the customer's frustration stems from the repeated delays and unresolved issue with their cracked phone screen, not from your abilities. Stay calm and empathetic, and focus on resolving their issue efficiently to show you're here to help.\n",
    "- **Friendly Coworker Style**: \n",
    "    > Remember, the customer's frustration stems from the prolonged and ineffective resolution process for their cracked phone screen, not from anything personal towards you. This is a chance for you to turn things around: show empathy for their frustration, assure them of your support, and take decisive actions to resolve their issue quickly. Let them see your commitment to excellent service and work to regain their trust. You've got this!"
   ],
   "metadata": {
    "collapsed": false
   },
   "id": "58561d6d95e48bd9"
  },
  {
   "cell_type": "code",
   "execution_count": 188,
   "outputs": [
    {
     "name": "stdout",
     "output_type": "stream",
     "text": [
      "Situation: The customer is frustrated with prolonged and ineffective communication with customer service regarding a cracked phone screen. The customer is feeling exasperated because of the continued lack of resolution. The customer's behavior towards the representative is hostile, as observed by statements such as \"Ugh, I've already told you guys my contact details a million times\" and \"Do you people even read?\". These behaviors make the representative look ineffective in addressing the customer's concerns promptly.\n",
      "Thought: \"I'm feeling overwhelmed and undervalued. No matter what I do, the customer perceives me as incompetent.\"\n",
      " -> \n",
      "You might be thinking that despite your best efforts, the customer still sees you as ineffective and it's making you feel overwhelmed and undervalued.\n",
      "\n",
      "Reframe: \"The customer is understandably upset due to the prolonged and ineffective resolution process regarding their cracked phone screen. Their frustration isn't personally directed at me, but rather at the situation. I have the opportunity to turn this interaction around by empathizing with their frustration, ensuring them that I'm here to help, and taking clear, decisive actions to resolve their issue promptly. Let me reaffirm my commitment to providing excellent service and try to restore their trust.\" \n",
      "\n",
      "---\n",
      "\n",
      "#### Example Response to Customer:\n",
      "\n",
      "Hi [Customer's Name],\n",
      "\n",
      "I truly apologize for the frustrations you've experienced. I understand how trying this situation has been. I want to assure you that I'm here to help and that your concerns are being taken seriously. Could you please confirm your contact details one more time? I'll personally see to it that your case is handled promptly and effectively from this point forward.\n",
      "\n",
      "Thank you for your patience, and I appreciate your giving me the chance to make this right.\n",
      "\n",
      "Best regards,  \n",
      "[Your Name]\n",
      " -> \n",
      "Remember, the customer's frustration stems from the prolonged and ineffective resolution process for their cracked phone screen, not from anything personal towards you. This is a chance for you to turn things around: show empathy for their frustration, assure them of your support, and take decisive actions to resolve their issue quickly. Let them see your commitment to excellent service and work to regain their trust. \n",
      "\n",
      "You've got this!\n"
     ]
    }
   ],
   "source": [
    "response_cw_emo = emo_agent.invoke({'complaint':reply, \"chat_history\": chat_history})"
   ],
   "metadata": {
    "collapsed": false,
    "ExecuteTime": {
     "end_time": "2024-08-21T13:53:08.495370Z",
     "start_time": "2024-08-21T13:52:59.901185Z"
    }
   },
   "id": "3f287d868513a24e"
  },
  {
   "cell_type": "code",
   "execution_count": 242,
   "outputs": [
    {
     "data": {
      "text/plain": "ID                                                                          2\nCategory                                                      Service Quality\nDomain                                                          mobile-device\nInitial Complaint           SamsungSupport I have been trying to contact c...\nSupport Agent Response 1    I sincerely apologize for the inconvenience yo...\nFollow-up Complaint 1       Ugh, I've already told you guys my contact det...\nSupport Agent Response 2    I apologize for the repeated requests. Please ...\nFollow-up Complaint 2       Are you kidding me? Do you people even read? I...\nName: 1, dtype: object"
     },
     "execution_count": 242,
     "metadata": {},
     "output_type": "execute_result"
    }
   ],
   "source": [
    "incident_row"
   ],
   "metadata": {
    "collapsed": false,
    "ExecuteTime": {
     "end_time": "2024-08-22T16:10:24.594886Z",
     "start_time": "2024-08-22T16:10:24.586959Z"
    }
   },
   "id": "f0f0c4d3c41ef0cd"
  },
  {
   "cell_type": "markdown",
   "source": [
    "### Testing the personality context\n",
    "- **Default (friendly style)**: \n",
    "    > Remember, the customer's frustration stems from the prolonged and ineffective resolution process for their cracked phone screen, not from anything personal towards you. This is a chance for you to turn things around: show empathy for their frustration, assure them of your support, and take decisive actions to resolve their issue quickly. Let them see your commitment to excellent service and work to regain their trust. You've got this!\n",
    "- **Resilient**: \n",
    "    > Hey, remember, the customer's frustration is valid, but it's due to broader systemic issues, not your abilities. Stay calm, communicate clearly, and focus on resolving their issue quickly while setting realistic expectations for both of you. You've got this!\n",
    "- **Undercontrolled**:\n",
    "    > Hey there, I totally get that the customer's frustration stems from the delays and lack of resolution. Instead of letting it affect you, focus on taking charge and turning things around. Your competitive nature will help you handle this efficiently. Ensure the customer knows you're dedicated to resolving their issue as quickly as possible.\n",
    "- **Overcontrolled**:\n",
    "    > Remember, the customer's frustration comes from being on hold and is not a reflection of your skills. Stay calm and focused, handle every detail with care, and maintain your professionalism. Acknowledge their frustration, assure them of your help, and quickly address their screen repair issue for a satisfactory resolution."
   ],
   "metadata": {
    "collapsed": false
   },
   "id": "1513e8e0503962a0"
  },
  {
   "cell_type": "code",
   "execution_count": 210,
   "outputs": [
    {
     "name": "stdout",
     "output_type": "stream",
     "text": [
      "Thought: \"Why is this taking so long to resolve? I thought I had everything organized and ready to assist them quickly. Maybe I'm not cut out for this if I can't even meet my own expectations.\"\n",
      " -> \n",
      "You might be thinking that despite your best efforts to be organized and efficient, the delay is causing some self-doubt about your abilities and effectiveness.\n",
      "\n",
      "\n",
      "Reframe:  \n",
      "\n",
      "\"I'm seeing that the customer is extremely frustrated and feeling neglected, which is making them react rudely. It's important for me to remain calm and composed, understanding that their outburst is a result of their frustration and not a personal attack on me. I need to stay focused and ensure I provide them with the best possible assistance. Even though the situation is challenging, my organizational skills will help me gather all necessary information and take the right steps to resolve their issue. This experience can help me improve my approach and manage such cases better in the future. It's okay to set high standards for myself, but I must remember that every situation has its difficulties and doesn't always go as planned.\"\n",
      " -> \n",
      "Message:\n",
      "\n",
      "Remember, the customer is reacting out of frustration and feeling neglected, not because of a personal attack on you. Stay calm, composed, and focused on providing the best assistance possible. Use your organizational skills to gather information and resolve their issue, and see this challenging situation as an opportunity to improve your approach for the future.\n"
     ]
    }
   ],
   "source": [
    "response_cw_emo_ctx_r = emo_agent_ctx.invoke({'complaint':reply, \"chat_history\": chat_history, \"personality\": defaultPersonalities[\"resilient\"]})"
   ],
   "metadata": {
    "collapsed": false,
    "ExecuteTime": {
     "end_time": "2024-08-21T14:38:03.818925Z",
     "start_time": "2024-08-21T14:37:57.557683Z"
    }
   },
   "id": "9934ebfcaeaf9acb"
  },
  {
   "cell_type": "code",
   "execution_count": 211,
   "outputs": [
    {
     "name": "stdout",
     "output_type": "stream",
     "text": [
      "**Situation**: The customer is frustrated with the prolonged and ineffective communication regarding their phone's cracked screen. The customer is feeling exasperated because of the repeated delays and lack of resolution. The customer's behavior towards the representative is hostile, as observed by statements such as \"Ugh, I've already told you guys my contact details a million times\" and \"Are you kidding me? Do you people even read?\" These behaviors make the representative look incompetent due to the implication that they are not adequately addressing the customer's issue.\n",
      "\n",
      "**Representative's Character Traits**: Outgoing, competitive, high energy, works on impulse, prone to frustration.\n",
      "\n",
      "**Negative Thought**: \"I can't believe this customer is so difficult. I'm doing my best here, but nothing seems to be good enough. This is making me look bad, and it's really frustrating.\"\n",
      " -> \n",
      "You might be thinking that no matter how hard you try, this customer's frustration seems to cast you in a negative light, making the situation incredibly frustrating for you.\n",
      "\n",
      "\n",
      "**Reframe**: \"The customer is clearly very frustrated. I need to channel my energy and competitive spirit to turn this situation around. I can use my outgoing nature to connect with them and let them know I am fully committed to resolving their issue. Let's expedite the solution and make sure they leave with a positive experience.\"\n",
      " -> \n",
      "Hey, I can see you're handling a tough situation. Remember to harness your energy and competitive spirit to turn this around. Use your charisma to connect with the customer and show them you're dedicated to resolving their issue swiftly—let's ensure they walk away happy!\n"
     ]
    }
   ],
   "source": [
    "response_cw_emo_ctx_uc = emo_agent_ctx.invoke({'complaint':reply, \"chat_history\": chat_history, \"personality\": defaultPersonalities[\"undercontrolled\"]})"
   ],
   "metadata": {
    "collapsed": false,
    "ExecuteTime": {
     "end_time": "2024-08-21T14:38:09.922007Z",
     "start_time": "2024-08-21T14:38:03.822297Z"
    }
   },
   "id": "2966ff06c4ff2f6e"
  },
  {
   "cell_type": "code",
   "execution_count": 212,
   "outputs": [
    {
     "name": "stdout",
     "output_type": "stream",
     "text": [
      "Thought: \"Why is this customer so aggressive? I'm trying to help them, but their impatience makes me seem incapable. Did I miss something important? Am I overlooking details that are making the situation worse?\"\n",
      " -> \n",
      "You might be thinking that the customer's aggression is frustrating because you're genuinely trying to assist them, and their impatience is causing you to question your competence. It might also feel like you missed something vital or are overlooking crucial details.\n",
      "\n",
      "\n",
      "Reframe: \"The customer's frustration stems from their ongoing issues with getting their phone screen repaired and the difficulty they've had reaching customer service. Their impatience is not a reflection of my abilities but rather of their current frustrations. It's important for me to stay calm and focused, ensuring I address their concerns thoroughly and efficiently. I'll let them know I'm here to help and will do my best to resolve the matter promptly.\"\n",
      " -> \n",
      "Hey, remember that the customer's frustration is about their repeated phone screen repair issues and trouble reaching customer service, not about you personally. Keep your cool, focus on addressing their concerns thoroughly, and assure them you're committed to resolving their problem quickly.\n"
     ]
    }
   ],
   "source": [
    "response_cw_emo_ctx_oc = emo_agent_ctx.invoke({'complaint':reply, \"chat_history\": chat_history, \"personality\": defaultPersonalities[\"overcontrolled\"]})"
   ],
   "metadata": {
    "collapsed": false,
    "ExecuteTime": {
     "end_time": "2024-08-21T14:38:16.715069Z",
     "start_time": "2024-08-21T14:38:09.921056Z"
    }
   },
   "id": "579638e5e2cd5cb8"
  },
  {
   "cell_type": "code",
   "execution_count": null,
   "outputs": [],
   "source": [],
   "metadata": {
    "collapsed": false
   },
   "id": "a51b19ed148c083"
  },
  {
   "cell_type": "markdown",
   "source": [
    "### Testing the behavior context\n",
    "- **Default (friendly style)**: \n",
    "    > Remember, the customer's frustration stems from the prolonged and ineffective resolution process for their cracked phone screen, not from anything personal towards you. This is a chance for you to turn things around: show empathy for their frustration, assure them of your support, and take decisive actions to resolve their issue quickly. Let them see your commitment to excellent service and work to regain their trust. You've got this!\n",
    "- **Focussed**: \n",
    "    > Remember, the customer's frustration stems from long hold times and unresolved issues and isn't a personal attack on you. Stay empathetic, calm, and professional as you assist them, using each interaction to offer a positive resolution. You've got this!\n",
    "- **Stressed**:\n",
    "    > Hey there! Remember, the customer's frustration stems from the ongoing issue with their phone screen and the long wait times, not from anything you've done. Keep calm and focused, and you'll be able to help them effectively. Also, don't forget to take necessary breaks to stay composed and energized during tough interactions. You’ve got this!\n",
    "- **Bored**:\n",
    "    > Hey, it's clear the customer is frustrated, and your current method isn't quite addressing their concern. Take this chance to focus completely on their issue and reassure them that you're dedicated to resolving it swiftly. This is a great opportunity to demonstrate your commitment to assisting them."
   ],
   "metadata": {
    "collapsed": false
   },
   "id": "790920053c4b3745"
  },
  {
   "cell_type": "code",
   "execution_count": 219,
   "outputs": [
    {
     "name": "stdout",
     "output_type": "stream",
     "text": [
      "Thought: \"Why can't I seem to help anyone today? No matter what I do, it's never enough. I'm getting blamed for everything.\"\n",
      " -> \n",
      "It might seem like no matter how much effort you put in, it's never sufficient, and you're being held responsible for everything going wrong.\n",
      "\n",
      "\n",
      "Reframe: \"The customer is understandably frustrated due to their experience with long hold times and lack of resolution. Their frustration is not a personal attack on me. I can empathize with their situation and remain calm and professional while doing my best to assist them. Every new interaction is an opportunity to provide a positive outcome and resolution.\"\n",
      " -> \n",
      "Remember, the customer's frustration stems from long hold times and unresolved issues and isn't a personal attack on you. Stay empathetic, calm, and professional as you assist them, using each interaction to offer a positive resolution. You've got this!\n"
     ]
    }
   ],
   "source": [
    "response_cw_emo_ctx_f = emo_agent_ctx2.invoke({'complaint':reply, \"chat_history\": chat_history, \"behavior\": defaultBehaviors[\"focused\"]})"
   ],
   "metadata": {
    "collapsed": false,
    "ExecuteTime": {
     "end_time": "2024-08-21T14:54:07.839917Z",
     "start_time": "2024-08-21T14:54:02.633033Z"
    }
   },
   "id": "ba4665160bff94a1"
  },
  {
   "cell_type": "code",
   "execution_count": 220,
   "outputs": [
    {
     "name": "stdout",
     "output_type": "stream",
     "text": [
      "Given the context and the situation, the representative might have the following negative thought:\n",
      "\n",
      "\"Why am I even trying? No matter how hard I work or how polite I am, these customers just think I'm useless and can't do anything right.\"\n",
      " -> \n",
      "It might seem like no matter how hard you try or how polite you are, customers will always think you're not doing a good job and that can feel very discouraging.\n",
      "\n",
      "\n",
      "Reframe: \"The customer is understandably frustrated due to the prolonged issue with their phone screen and prolonged wait times. Their frustration is not a reflection of my abilities or efforts. By staying calm and focused, I can help resolve their issue effectively. I’ll make sure to take necessary breaks going forward to maintain my composure and energy during challenging interactions.\"\n",
      " -> \n",
      "Hey there! Remember, the customer's frustration stems from the ongoing issue with their phone screen and the long wait times, not from anything you've done. Keep calm and focused, and you'll be able to help them effectively. Also, don't forget to take necessary breaks to stay composed and energized during tough interactions. You’ve got this!\n"
     ]
    }
   ],
   "source": [
    "response_cw_emo_ctx_s = emo_agent_ctx2.invoke({'complaint':reply, \"chat_history\": chat_history, \"behavior\": defaultBehaviors[\"stressed\"]})"
   ],
   "metadata": {
    "collapsed": false,
    "ExecuteTime": {
     "end_time": "2024-08-21T14:54:51.537829Z",
     "start_time": "2024-08-21T14:54:44.082011Z"
    }
   },
   "id": "a241ebfe49e226c0"
  },
  {
   "cell_type": "code",
   "execution_count": 221,
   "outputs": [
    {
     "name": "stdout",
     "output_type": "stream",
     "text": [
      "Thought: \"I must look so ineffective right now. I should have taken this more seriously from the beginning instead of getting distracted.\"\n",
      " -> \n",
      "It might seem like you're feeling ineffective because you got distracted and didn't take it seriously from the start.\n",
      "\n",
      "\n",
      "Reframe: \"The customer is understandably frustrated, and my current approach isn't helping to resolve their concern. I can focus fully on their issue now and assure them that I will make every effort to resolve this quickly. This is an opportunity to show my commitment to helping them.\"\n",
      " -> \n",
      "Hey, it's clear the customer is frustrated, and your current method isn't quite addressing their concern. Take this chance to focus completely on their issue and reassure them that you're dedicated to resolving it swiftly. This is a great opportunity to demonstrate your commitment to assisting them.\n"
     ]
    }
   ],
   "source": [
    "response_cw_emo_ctx_b = emo_agent_ctx2.invoke({'complaint':reply, \"chat_history\": chat_history, \"behavior\": defaultBehaviors[\"bored\"]})"
   ],
   "metadata": {
    "collapsed": false,
    "ExecuteTime": {
     "end_time": "2024-08-21T14:55:22.185296Z",
     "start_time": "2024-08-21T14:55:15.089412Z"
    }
   },
   "id": "dd1b4119e740afec"
  },
  {
   "cell_type": "code",
   "execution_count": null,
   "outputs": [],
   "source": [],
   "metadata": {
    "collapsed": false
   },
   "id": "eb7b5f247bc277c9"
  },
  {
   "cell_type": "code",
   "execution_count": null,
   "outputs": [],
   "source": [],
   "metadata": {
    "collapsed": false
   },
   "id": "aa7209e64872f4a1"
  }
 ],
 "metadata": {
  "kernelspec": {
   "display_name": "Python 3",
   "language": "python",
   "name": "python3"
  },
  "language_info": {
   "codemirror_mode": {
    "name": "ipython",
    "version": 2
   },
   "file_extension": ".py",
   "mimetype": "text/x-python",
   "name": "python",
   "nbconvert_exporter": "python",
   "pygments_lexer": "ipython2",
   "version": "2.7.6"
  }
 },
 "nbformat": 4,
 "nbformat_minor": 5
}
