{
 "cells": [
  {
   "cell_type": "code",
   "execution_count": 91,
   "outputs": [],
   "source": [
    "import pandas as pd\n",
    "from scipy.stats import mannwhitneyu, kruskal, wilcoxon"
   ],
   "metadata": {
    "collapsed": false,
    "ExecuteTime": {
     "end_time": "2024-09-04T19:26:46.032108Z",
     "start_time": "2024-09-04T19:26:46.021799Z"
    }
   },
   "id": "cfe504fc65fff3a6"
  },
  {
   "cell_type": "code",
   "execution_count": 85,
   "outputs": [],
   "source": [
    "# Load the data\n",
    "DATA_DIR = '../data/server_data/sanitized_data/'"
   ],
   "metadata": {
    "collapsed": false,
    "ExecuteTime": {
     "end_time": "2024-09-04T19:24:52.344553Z",
     "start_time": "2024-09-04T19:24:52.341131Z"
    }
   },
   "id": "ae44a9e8957ecf7d"
  },
  {
   "cell_type": "code",
   "execution_count": 86,
   "outputs": [],
   "source": [
    "chat_client_info = pd.read_csv(DATA_DIR + 'chat_client_info.tsv', sep='\\t')\n",
    "chat_history = pd.read_csv(DATA_DIR + 'chat_history.tsv', sep='\\t')\n",
    "chat_in_task = pd.read_csv(DATA_DIR + 'chat_in_task.tsv', sep='\\t')\n",
    "chat_post_task = pd.read_csv(DATA_DIR + 'chat_post_task.tsv', sep='\\t')\n",
    "chat_pre_task = pd.read_csv(DATA_DIR + 'chat_pre_task.tsv', sep='\\t')"
   ],
   "metadata": {
    "collapsed": false,
    "ExecuteTime": {
     "end_time": "2024-09-04T19:24:52.741161Z",
     "start_time": "2024-09-04T19:24:52.662165Z"
    }
   },
   "id": "ad1730d2ae35bfe"
  },
  {
   "cell_type": "markdown",
   "source": [
    "## Compare Post-Task and Pre-Task"
   ],
   "metadata": {
    "collapsed": false
   },
   "id": "b76609ce40f6f8bf"
  },
  {
   "cell_type": "code",
   "execution_count": 87,
   "outputs": [],
   "source": [
    "chat_pre_task['interaction_total'] = chat_pre_task.interaction_dignity + chat_pre_task.interaction_dignity + chat_pre_task.interaction_respect\n",
    "\n",
    "chat_post_task['interaction_total'] = chat_post_task.interaction_dignity + chat_post_task.interaction_dignity + chat_post_task.interaction_respect\n",
    "chat_post_task['support_support'] = chat_post_task.support_understanding + chat_post_task.support_caring + chat_post_task.support_supportive + chat_post_task.support_sensitive\n",
    "chat_post_task['support_effective'] = chat_post_task.support_effective + chat_post_task.support_helpful + chat_post_task.support_beneficial + chat_post_task.support_adequate\n"
   ],
   "metadata": {
    "collapsed": false,
    "ExecuteTime": {
     "end_time": "2024-09-04T19:24:53.664900Z",
     "start_time": "2024-09-04T19:24:53.658399Z"
    }
   },
   "id": "5bd9a86bff40f08d"
  },
  {
   "cell_type": "code",
   "execution_count": 99,
   "outputs": [],
   "source": [
    "## Join post_task with chat_client_info\n",
    "chat_post_task_m = chat_post_task.merge(chat_client_info, on=['client_id','pid'], how='left')\n",
    "\n",
    "## Join pre_task with post_task_m on pid. Common columns for pre_task should have '_pre' suffix and for post_task should have '_post' suffix\n",
    "chat_post_task_m = chat_post_task_m.merge(chat_pre_task, on='pid', how='left', suffixes=('_post', '_pre'))\n",
    "\n",
    "## Remove rows with missing values in the columns being compared\n",
    "chat_post_task_m = chat_post_task_m.dropna(subset=['interaction_total_pre', 'interaction_total_post', 'cognitive_demands_pre', 'cognitive_demands_post', 'cognitive_resources_pre', 'cognitive_resources_post', 'affect_arousal_pre', 'affect_arousal_post', 'affect_valence_pre', 'affect_valence_post'])"
   ],
   "metadata": {
    "collapsed": false,
    "ExecuteTime": {
     "end_time": "2024-09-08T19:30:53.635492Z",
     "start_time": "2024-09-08T19:30:53.615723Z"
    }
   },
   "id": "46d4b3f5559deb65"
  },
  {
   "cell_type": "code",
   "execution_count": 107,
   "outputs": [],
   "source": [
    "## Calculate the difference % between post and pre task\n",
    "chat_post_task_m['interaction_total_diff'] =  chat_post_task_m['interaction_total_post'] - chat_post_task_m['interaction_total_pre']\n",
    "chat_post_task_m['cognitive_demands_diff'] =  chat_post_task_m['cognitive_demands_post'] - chat_post_task_m['cognitive_demands_pre']\n",
    "chat_post_task_m['cognitive_resources_diff'] =  chat_post_task_m['cognitive_resources_post'] - chat_post_task_m['cognitive_resources_pre']\n",
    "chat_post_task_m['affect_arousal_diff'] =  chat_post_task_m['affect_arousal_post'] - chat_post_task_m['affect_arousal_pre']\n",
    "chat_post_task_m['affect_valence_diff'] =  chat_post_task_m['affect_valence_post'] - chat_post_task_m['affect_valence_pre']"
   ],
   "metadata": {
    "collapsed": false,
    "ExecuteTime": {
     "end_time": "2024-09-08T19:32:53.085471Z",
     "start_time": "2024-09-08T19:32:53.080487Z"
    }
   },
   "id": "1edd65ab7552f6e3"
  },
  {
   "cell_type": "code",
   "execution_count": 108,
   "outputs": [],
   "source": [
    "'''\n",
    "Create a new df from chat_post_task_m by grouping data by PID\n",
    "Only 1 row per PID should be present in the new df\n",
    "Columns should have ['interaction_total_diff', 'cognitive_demands_diff', 'cognitive_resources_diff', 'affect_arousal_diff', 'affect_valence_diff'] for 3 different combinations of `civil` and `emo`\n",
    "First set of columns should be have suffix `_civil` for client where `civil = 1` and `emo = 0`\n",
    "Second set of columns should be have suffix `_uncivil` for client where `civil = 0` and `emo = 0`\n",
    "Third set of columns should be have suffix `_uncivil_emo` for client where `civil = 0` and `emo = 1`\n",
    "'''\n",
    "\n",
    "# Create DataFrames for each combination of civil and emo\n",
    "df_civil = chat_post_task_m[(chat_post_task_m['civil'] == 1) & (chat_post_task_m['emo'] == 0)]\n",
    "df_uncivil = chat_post_task_m[(chat_post_task_m['civil'] == 0) & (chat_post_task_m['emo'] == 0)]\n",
    "df_uncivil_emo = chat_post_task_m[(chat_post_task_m['civil'] == 0) & (chat_post_task_m['emo'] == 1)]\n",
    "\n",
    "# Select and rename columns\n",
    "columns = ['interaction_total_diff', 'cognitive_demands_diff', 'cognitive_resources_diff', 'affect_arousal_diff', 'affect_valence_diff', 'support_support', 'support_effective']\n",
    "df_civil = df_civil[['pid'] + columns].rename(columns={col: col + '_civil' for col in columns})\n",
    "df_uncivil = df_uncivil[['pid'] + columns].rename(columns={col: col + '_uncivil' for col in columns})\n",
    "df_uncivil_emo = df_uncivil_emo[['pid'] + columns].rename(columns={col: col + '_uncivil_emo' for col in columns})\n",
    "\n",
    "# Merge DataFrames on PID\n",
    "df_combined = df_civil.merge(df_uncivil, on='pid', how='outer').merge(df_uncivil_emo, on='pid', how='outer')"
   ],
   "metadata": {
    "collapsed": false,
    "ExecuteTime": {
     "end_time": "2024-09-08T19:32:53.421610Z",
     "start_time": "2024-09-08T19:32:53.404340Z"
    }
   },
   "id": "4a1b35cd5090e321"
  },
  {
   "cell_type": "code",
   "execution_count": 109,
   "outputs": [
    {
     "name": "stdout",
     "output_type": "stream",
     "text": [
      "Interaction | Civil: 3.55, Uncivil: -9.15, Uncivil Emo: -8.285714285714286\n",
      "Cognitive Demands | Civil: -1.3, Uncivil: 0.15, Uncivil Emo: -0.23809523809523808\n",
      "Cognitive Resources | Civil: 0.8, Uncivil: 0.05, Uncivil Emo: 0.38095238095238093\n",
      "Affect Arousal | Civil: -0.1, Uncivil: -0.45, Uncivil Emo: -0.3333333333333333\n",
      "Affect Valence | Civil: 1.15, Uncivil: -1.65, Uncivil Emo: -1.5714285714285714\n"
     ]
    }
   ],
   "source": [
    "print(f\"Interaction | Civil: {df_combined['interaction_total_diff_civil'].mean()}, Uncivil: {df_combined['interaction_total_diff_uncivil'].mean()}, Uncivil Emo: {df_combined['interaction_total_diff_uncivil_emo'].mean()}\")\n",
    "print(f\"Cognitive Demands | Civil: {df_combined['cognitive_demands_diff_civil'].mean()}, Uncivil: {df_combined['cognitive_demands_diff_uncivil'].mean()}, Uncivil Emo: {df_combined['cognitive_demands_diff_uncivil_emo'].mean()}\")\n",
    "print(f\"Cognitive Resources | Civil: {df_combined['cognitive_resources_diff_civil'].mean()}, Uncivil: {df_combined['cognitive_resources_diff_uncivil'].mean()}, Uncivil Emo: {df_combined['cognitive_resources_diff_uncivil_emo'].mean()}\")\n",
    "print(f\"Affect Arousal | Civil: {df_combined['affect_arousal_diff_civil'].mean()}, Uncivil: {df_combined['affect_arousal_diff_uncivil'].mean()}, Uncivil Emo: {df_combined['affect_arousal_diff_uncivil_emo'].mean()}\")\n",
    "print(f\"Affect Valence | Civil: {df_combined['affect_valence_diff_civil'].mean()}, Uncivil: {df_combined['affect_valence_diff_uncivil'].mean()}, Uncivil Emo: {df_combined['affect_valence_diff_uncivil_emo'].mean()}\")"
   ],
   "metadata": {
    "collapsed": false,
    "ExecuteTime": {
     "end_time": "2024-09-08T19:32:53.792339Z",
     "start_time": "2024-09-08T19:32:53.788218Z"
    }
   },
   "id": "9bdce4d62cbd996"
  },
  {
   "cell_type": "code",
   "execution_count": 57,
   "outputs": [
    {
     "name": "stdout",
     "output_type": "stream",
     "text": [
      "Supportiveness | Civil: 5.65, Uncivil: 3.95, Uncivil Emo: 4.333333333333333\n",
      "Effectiveness | Civil: 6.85, Uncivil: 4.45, Uncivil Emo: 5.0476190476190474\n"
     ]
    }
   ],
   "source": [
    "print(f\"Supportiveness | Civil: {df_combined.support_support_civil.mean()}, Uncivil: {df_combined.support_support_uncivil.mean()}, Uncivil Emo: {df_combined.support_support_uncivil_emo.mean()}\")\n",
    "print(f\"Effectiveness | Civil: {df_combined.support_effective_civil.mean()}, Uncivil: {df_combined.support_effective_uncivil.mean()}, Uncivil Emo: {df_combined.support_effective_uncivil_emo.mean()}\")"
   ],
   "metadata": {
    "collapsed": false,
    "ExecuteTime": {
     "end_time": "2024-09-04T18:55:36.392758Z",
     "start_time": "2024-09-04T18:55:36.388801Z"
    }
   },
   "id": "1e5949f25bbce718"
  },
  {
   "cell_type": "code",
   "execution_count": 81,
   "outputs": [],
   "source": [
    "# Define the pairs of columns to test\n",
    "column_pairs = [\n",
    "    ('interaction_total_diff_uncivil', 'interaction_total_diff_uncivil_emo'),\n",
    "    ('cognitive_demands_diff_uncivil', 'cognitive_demands_diff_uncivil_emo'),\n",
    "    ('cognitive_resources_diff_uncivil', 'cognitive_resources_diff_uncivil_emo'),\n",
    "    ('affect_arousal_diff_uncivil', 'affect_arousal_diff_uncivil_emo'),\n",
    "    ('affect_valence_diff_uncivil', 'affect_valence_diff_uncivil_emo'),\n",
    "    ('support_support_uncivil', 'support_support_uncivil_emo'),\n",
    "    ('support_effective_uncivil', 'support_effective_uncivil_emo')\n",
    "]"
   ],
   "metadata": {
    "collapsed": false,
    "ExecuteTime": {
     "end_time": "2024-09-04T19:21:51.621686Z",
     "start_time": "2024-09-04T19:21:51.604156Z"
    }
   },
   "id": "dcae1b78798fc168"
  },
  {
   "cell_type": "code",
   "execution_count": 78,
   "outputs": [
    {
     "name": "stdout",
     "output_type": "stream",
     "text": [
      "Missing values in interaction_total_diff_uncivil: 1\n",
      "Missing values in interaction_total_diff_uncivil_emo: 0\n",
      "Missing values in cognitive_demands_diff_uncivil: 1\n",
      "Missing values in cognitive_demands_diff_uncivil_emo: 0\n",
      "Missing values in cognitive_resources_diff_uncivil: 1\n",
      "Missing values in cognitive_resources_diff_uncivil_emo: 0\n",
      "Missing values in affect_arousal_diff_uncivil: 1\n",
      "Missing values in affect_arousal_diff_uncivil_emo: 0\n",
      "Missing values in affect_valence_diff_uncivil: 1\n",
      "Missing values in affect_valence_diff_uncivil_emo: 0\n",
      "Missing values in support_support_uncivil: 1\n",
      "Missing values in support_support_uncivil_emo: 0\n",
      "Missing values in support_effective_uncivil: 1\n",
      "Missing values in support_effective_uncivil_emo: 0\n",
      "Number of data points in interaction_total_diff_uncivil: 20\n",
      "Number of data points in interaction_total_diff_uncivil_emo: 21\n",
      "Number of data points in cognitive_demands_diff_uncivil: 20\n",
      "Number of data points in cognitive_demands_diff_uncivil_emo: 21\n",
      "Number of data points in cognitive_resources_diff_uncivil: 20\n",
      "Number of data points in cognitive_resources_diff_uncivil_emo: 21\n",
      "Number of data points in affect_arousal_diff_uncivil: 20\n",
      "Number of data points in affect_arousal_diff_uncivil_emo: 21\n",
      "Number of data points in affect_valence_diff_uncivil: 20\n",
      "Number of data points in affect_valence_diff_uncivil_emo: 21\n",
      "Number of data points in support_support_uncivil: 20\n",
      "Number of data points in support_support_uncivil_emo: 21\n",
      "Number of data points in support_effective_uncivil: 20\n",
      "Number of data points in support_effective_uncivil_emo: 21\n",
      "Data type of interaction_total_diff_uncivil: float64\n",
      "Data type of interaction_total_diff_uncivil_emo: int64\n",
      "Data type of cognitive_demands_diff_uncivil: float64\n",
      "Data type of cognitive_demands_diff_uncivil_emo: int64\n",
      "Data type of cognitive_resources_diff_uncivil: float64\n",
      "Data type of cognitive_resources_diff_uncivil_emo: int64\n",
      "Data type of affect_arousal_diff_uncivil: float64\n",
      "Data type of affect_arousal_diff_uncivil_emo: int64\n",
      "Data type of affect_valence_diff_uncivil: float64\n",
      "Data type of affect_valence_diff_uncivil_emo: int64\n",
      "Data type of support_support_uncivil: float64\n",
      "Data type of support_support_uncivil_emo: int64\n",
      "Data type of support_effective_uncivil: float64\n",
      "Data type of support_effective_uncivil_emo: int64\n"
     ]
    }
   ],
   "source": [
    "# Check for missing values in the columns being tested\n",
    "for col1, col2 in column_pairs:\n",
    "    print(f\"Missing values in {col1}: {df_combined[col1].isnull().sum()}\")\n",
    "    print(f\"Missing values in {col2}: {df_combined[col2].isnull().sum()}\")\n",
    "\n",
    "# Ensure that the columns being tested have sufficient data points\n",
    "for col1, col2 in column_pairs:\n",
    "    print(f\"Number of data points in {col1}: {df_combined[col1].dropna().shape[0]}\")\n",
    "    print(f\"Number of data points in {col2}: {df_combined[col2].dropna().shape[0]}\")\n",
    "\n",
    "# Verify that the data types of the columns are numeric\n",
    "for col1, col2 in column_pairs:\n",
    "    print(f\"Data type of {col1}: {df_combined[col1].dtype}\")\n",
    "    print(f\"Data type of {col2}: {df_combined[col2].dtype}\")"
   ],
   "metadata": {
    "collapsed": false,
    "ExecuteTime": {
     "start_time": "2024-09-04T19:19:55.931352Z"
    }
   },
   "id": "fba5c4dd1fba5646"
  },
  {
   "cell_type": "code",
   "execution_count": 80,
   "outputs": [],
   "source": [
    "# Identify the columns to check for missing values\n",
    "columns_to_check = [\n",
    "    'interaction_total_diff_uncivil', 'interaction_total_diff_uncivil_emo',\n",
    "    'cognitive_demands_diff_uncivil', 'cognitive_demands_diff_uncivil_emo',\n",
    "    'cognitive_resources_diff_uncivil', 'cognitive_resources_diff_uncivil_emo',\n",
    "    'affect_arousal_diff_uncivil', 'affect_arousal_diff_uncivil_emo',\n",
    "    'affect_valence_diff_uncivil', 'affect_valence_diff_uncivil_emo',\n",
    "    'support_support_uncivil', 'support_support_uncivil_emo',\n",
    "    'support_effective_uncivil', 'support_effective_uncivil_emo'\n",
    "]\n",
    "\n",
    "# Remove rows with missing values in the specified columns\n",
    "df_combined_cleaned = df_combined.dropna(subset=columns_to_check)"
   ],
   "metadata": {
    "collapsed": false,
    "ExecuteTime": {
     "end_time": "2024-09-04T19:21:35.343741Z",
     "start_time": "2024-09-04T19:21:35.340142Z"
    }
   },
   "id": "5fb54e8179c19157"
  },
  {
   "cell_type": "code",
   "execution_count": 82,
   "outputs": [
    {
     "name": "stdout",
     "output_type": "stream",
     "text": [
      "                                                pair   stat   p_value\n",
      "0  interaction_total_diff_uncivil_vs_interaction_...  180.5  0.606372\n",
      "1  cognitive_demands_diff_uncivil_vs_cognitive_de...  259.0  0.096656\n",
      "2  cognitive_resources_diff_uncivil_vs_cognitive_...  171.0  0.416940\n",
      "3  affect_arousal_diff_uncivil_vs_affect_arousal_...  193.0  0.856026\n",
      "4  affect_valence_diff_uncivil_vs_affect_valence_...  188.0  0.745204\n",
      "5  support_support_uncivil_vs_support_support_unc...  184.5  0.682492\n",
      "6  support_effective_uncivil_vs_support_effective...  180.5  0.600117\n"
     ]
    }
   ],
   "source": [
    "# Initialize a list to store the results\n",
    "results = []\n",
    "\n",
    "# Perform the Mann-Whitney U test for each pair of columns\n",
    "for col1, col2 in column_pairs:\n",
    "    stat, p_value = mannwhitneyu(df_combined_cleaned[col1], df_combined_cleaned[col2])\n",
    "    results.append({'pair': f'{col1}_vs_{col2}', 'stat': stat, 'p_value': p_value})\n",
    "\n",
    "# Convert the results to a DataFrame\n",
    "df_results = pd.DataFrame(results)\n",
    "\n",
    "# Display the results\n",
    "print(df_results)"
   ],
   "metadata": {
    "collapsed": false,
    "ExecuteTime": {
     "end_time": "2024-09-04T19:22:04.844720Z",
     "start_time": "2024-09-04T19:22:04.818862Z"
    }
   },
   "id": "d5beec3d084ffe09"
  },
  {
   "cell_type": "markdown",
   "source": [
    "### Plotting"
   ],
   "metadata": {
    "collapsed": false
   },
   "id": "255a5695f257286a"
  },
  {
   "cell_type": "code",
   "execution_count": 226,
   "outputs": [],
   "source": [
    "import pandas as pd\n",
    "import seaborn as sns\n",
    "import matplotlib.pyplot as plt\n",
    "\n",
    "def distribution_plot(data, comparison_columns, custom_labels, palette='Set1'):\n",
    "    # Create a DataFrame with the required columns\n",
    "    df_plot = data[comparison_columns]\n",
    "\n",
    "    # Plot the distribution of the columns\n",
    "    plt.figure(figsize=(12, 9))\n",
    "    colors = sns.color_palette(palette, len(comparison_columns))\n",
    "    for column, label, color in zip(df_plot.columns, custom_labels, colors):\n",
    "        sns.kdeplot(data=df_plot[column], fill=True, label=label, color=color)\n",
    "\n",
    "    # plt.title('Distribution of Interaction Total Differences')\n",
    "    plt.xlabel('Difference from Pre-Task')\n",
    "    plt.ylabel('Density')\n",
    "    plt.legend()\n",
    "    # Save the plot to DATA_DIR/figures\n",
    "    plt.savefig(DATA_DIR + 'figures/distribution_plot.pdf')\n",
    "    plt.show()"
   ],
   "metadata": {
    "collapsed": false,
    "ExecuteTime": {
     "end_time": "2024-09-08T21:06:30.881100Z",
     "start_time": "2024-09-08T21:06:30.859046Z"
    }
   },
   "id": "c8c12574b93fd425"
  },
  {
   "cell_type": "code",
   "execution_count": 227,
   "outputs": [],
   "source": [
    "# distribution_plot(df_combined_cleaned, ['interaction_total_diff_civil', 'interaction_total_diff_uncivil', 'interaction_total_diff_uncivil_emo'])"
   ],
   "metadata": {
    "collapsed": false,
    "ExecuteTime": {
     "end_time": "2024-09-08T21:06:31.503478Z",
     "start_time": "2024-09-08T21:06:31.499710Z"
    }
   },
   "id": "c35fd64af5453803"
  },
  {
   "cell_type": "code",
   "execution_count": 228,
   "outputs": [
    {
     "data": {
      "text/plain": "<Figure size 1200x900 with 1 Axes>",
      "image/png": "[encoded data removed]"
     },
     "metadata": {},
     "output_type": "display_data"
    }
   ],
   "source": [
    "distribution_plot(df_combined_cleaned, ['cognitive_demands_diff_civil', 'cognitive_demands_diff_uncivil', 'cognitive_demands_diff_uncivil_emo'], custom_labels=['Civil Interaction', 'Uncivil Interaction', 'Uncivil Interaction w/ Pro-Pilot Reframing'], palette='colorblind')"
   ],
   "metadata": {
    "collapsed": false,
    "ExecuteTime": {
     "end_time": "2024-09-08T21:06:32.294601Z",
     "start_time": "2024-09-08T21:06:32.139607Z"
    }
   },
   "id": "db28c23dc5e46398"
  },
  {
   "cell_type": "code",
   "execution_count": 199,
   "outputs": [],
   "source": [
    "# distribution_plot(df_combined_cleaned, ['cognitive_resources_diff_civil', 'cognitive_resources_diff_uncivil', 'cognitive_resources_diff_uncivil_emo'])"
   ],
   "metadata": {
    "collapsed": false,
    "ExecuteTime": {
     "end_time": "2024-09-08T20:33:29.607835Z",
     "start_time": "2024-09-08T20:33:29.601348Z"
    }
   },
   "id": "615a88add9ede8f0"
  },
  {
   "cell_type": "code",
   "execution_count": 146,
   "outputs": [],
   "source": [
    "# distribution_plot(df_combined_cleaned, ['affect_arousal_diff_civil', 'affect_arousal_diff_uncivil', 'affect_arousal_diff_uncivil_emo'])"
   ],
   "metadata": {
    "collapsed": false,
    "ExecuteTime": {
     "end_time": "2024-09-08T20:01:35.834960Z",
     "start_time": "2024-09-08T20:01:35.809758Z"
    }
   },
   "id": "f1ad62ea427abca1"
  },
  {
   "cell_type": "code",
   "execution_count": 147,
   "outputs": [],
   "source": [
    "# distribution_plot(df_combined_cleaned, ['affect_valence_diff_civil', 'affect_valence_diff_uncivil', 'affect_valence_diff_uncivil_emo'])"
   ],
   "metadata": {
    "collapsed": false,
    "ExecuteTime": {
     "end_time": "2024-09-08T20:01:37.641891Z",
     "start_time": "2024-09-08T20:01:37.573158Z"
    }
   },
   "id": "e94463dec0bead47"
  },
  {
   "cell_type": "code",
   "execution_count": 148,
   "outputs": [],
   "source": [
    "# distribution_plot(df_combined_cleaned, ['support_support_civil', 'support_support_uncivil', 'support_support_uncivil_emo'])"
   ],
   "metadata": {
    "collapsed": false,
    "ExecuteTime": {
     "end_time": "2024-09-08T20:01:38.992291Z",
     "start_time": "2024-09-08T20:01:38.974443Z"
    }
   },
   "id": "a5bfd29461784940"
  },
  {
   "cell_type": "code",
   "execution_count": 149,
   "outputs": [],
   "source": [
    "# distribution_plot(df_combined_cleaned, ['support_effective_civil', 'support_effective_uncivil', 'support_effective_uncivil_emo'])"
   ],
   "metadata": {
    "collapsed": false,
    "ExecuteTime": {
     "end_time": "2024-09-08T20:01:41.389879Z",
     "start_time": "2024-09-08T20:01:41.371527Z"
    }
   },
   "id": "3f3a1bde88cd2b5"
  },
  {
   "cell_type": "markdown",
   "source": [
    "## Compare In-Task"
   ],
   "metadata": {
    "collapsed": false
   },
   "id": "6613324709b864e"
  },
  {
   "cell_type": "code",
   "execution_count": 73,
   "outputs": [],
   "source": [
    "columns_keep = ['pid', 'session_id', 'client_id', 'turn_number']\n",
    "columns_rename = ['user_feedback']\n",
    "chat_in_task_emo = chat_in_task[chat_in_task.support_type == 'TYPE_EMO_REFRAME']\n",
    "chat_in_task_info = chat_in_task[chat_in_task.support_type == 'TYPE_INFO_GUIDE']\n",
    "chat_in_task_senti = chat_in_task[chat_in_task.support_type == 'TYPE_SENTIMENT']\n",
    "\n",
    "chat_in_task_emo = chat_in_task_emo[columns_keep + columns_rename].rename(columns={col: col + '_emo' for col in columns_rename})\n",
    "chat_in_task_info = chat_in_task_info[columns_keep + columns_rename].rename(columns={col: col + '_info' for col in columns_rename})\n",
    "chat_in_task_senti = chat_in_task_senti[columns_keep + columns_rename].rename(columns={col: col + '_senti' for col in columns_rename})"
   ],
   "metadata": {
    "collapsed": false,
    "ExecuteTime": {
     "end_time": "2024-09-04T19:09:25.976482Z",
     "start_time": "2024-09-04T19:09:25.962847Z"
    }
   },
   "id": "f77beba229c26722"
  },
  {
   "cell_type": "code",
   "execution_count": 74,
   "outputs": [],
   "source": [
    "merge_cols = ['client_id','pid','turn_number']\n",
    "chat_in_task_combined = chat_in_task_emo.merge(chat_in_task_info, on=merge_cols, how='left').merge(chat_in_task_senti, on=merge_cols, how='left')"
   ],
   "metadata": {
    "collapsed": false,
    "ExecuteTime": {
     "end_time": "2024-09-04T19:09:26.138986Z",
     "start_time": "2024-09-04T19:09:26.127649Z"
    }
   },
   "id": "b5e9e42cbbbd1be8"
  },
  {
   "cell_type": "code",
   "execution_count": 75,
   "outputs": [
    {
     "name": "stdout",
     "output_type": "stream",
     "text": [
      "Helpfulness | Info: 1.423913043478261, Senti: 0.9565217391304348, Emo: 1.4673913043478262\n"
     ]
    }
   ],
   "source": [
    "print(f\"Helpfulness | Info: {chat_in_task_combined.user_feedback_info.mean()}, Senti: {chat_in_task_combined.user_feedback_senti.mean()}, Emo: {chat_in_task_combined.user_feedback_emo.mean()}\")"
   ],
   "metadata": {
    "collapsed": false,
    "ExecuteTime": {
     "end_time": "2024-09-04T19:09:26.319253Z",
     "start_time": "2024-09-04T19:09:26.317079Z"
    }
   },
   "id": "cf5bc91df68d0254"
  },
  {
   "cell_type": "code",
   "execution_count": 90,
   "outputs": [
    {
     "name": "stdout",
     "output_type": "stream",
     "text": [
      "Missing values in user_feedback_info: 12\n",
      "Missing values in user_feedback_senti: 12\n",
      "Missing values in user_feedback_emo: 12\n"
     ]
    }
   ],
   "source": [
    "### Check for missing values in user_feedback columns\n",
    "print(f\"Missing values in user_feedback_info: {chat_in_task_combined.user_feedback_info.isnull().sum()}\")\n",
    "print(f\"Missing values in user_feedback_senti: {chat_in_task_combined.user_feedback_senti.isnull().sum()}\")\n",
    "print(f\"Missing values in user_feedback_emo: {chat_in_task_combined.user_feedback_emo.isnull().sum()}\")\n",
    "\n",
    "### Remove rows with missing values for user_feedback columns\n",
    "chat_in_task_combined_cleaned = chat_in_task_combined.dropna(subset=['user_feedback_info', 'user_feedback_senti', 'user_feedback_emo'])"
   ],
   "metadata": {
    "collapsed": false,
    "ExecuteTime": {
     "end_time": "2024-09-04T19:26:30.148129Z",
     "start_time": "2024-09-04T19:26:30.132235Z"
    }
   },
   "id": "8edcd3d5b8c7e551"
  },
  {
   "cell_type": "code",
   "execution_count": 92,
   "outputs": [
    {
     "name": "stdout",
     "output_type": "stream",
     "text": [
      "Mann-Whitney | Info vs Emo: 4012.5, 0.4807557320436229\n",
      "Wilcoxon | Info vs Emo: 244.0, 0.6909454955854546\n",
      "Kruskal-Wallis | Info vs Emo: 0.49942117858484575, 0.4797545617436699\n"
     ]
    }
   ],
   "source": [
    "### Perform Mann-Whitney U test for user_feedback info and emo\n",
    "stat, p_value = mannwhitneyu(chat_in_task_combined_cleaned['user_feedback_info'], chat_in_task_combined_cleaned['user_feedback_emo'])\n",
    "print(f\"Mann-Whitney | Info vs Emo: {stat}, {p_value}\")\n",
    "\n",
    "### Perform Wilcoxon signed-rank test for user_feedback info and emo\n",
    "stat, p_value = wilcoxon(chat_in_task_combined_cleaned['user_feedback_info'], chat_in_task_combined_cleaned['user_feedback_emo'])\n",
    "print(f\"Wilcoxon | Info vs Emo: {stat}, {p_value}\")\n",
    "\n",
    "### Perform Kruskal-Wallis H test for user_feedback info and emo\n",
    "stat, p_value = kruskal(chat_in_task_combined_cleaned['user_feedback_info'], chat_in_task_combined_cleaned['user_feedback_emo'])\n",
    "print(f\"Kruskal-Wallis | Info vs Emo: {stat}, {p_value}\")"
   ],
   "metadata": {
    "collapsed": false,
    "ExecuteTime": {
     "end_time": "2024-09-04T19:27:00.704410Z",
     "start_time": "2024-09-04T19:27:00.698843Z"
    }
   },
   "id": "80d7bd7844408e7f"
  },
  {
   "cell_type": "code",
   "execution_count": 93,
   "outputs": [
    {
     "name": "stdout",
     "output_type": "stream",
     "text": [
      "Mann-Whitney | Senti vs Emo: 3178.0, 0.0012624506351178555\n",
      "Wilcoxon | Senti vs Emo: 77.0, 5.944986480497342e-05\n",
      "Kruskal-Wallis | Senti vs Emo: 10.406507495920929, 0.0012557200964876598\n"
     ]
    }
   ],
   "source": [
    "### Perform same tests as above for user_feedback senti and emo\n",
    "stat, p_value = mannwhitneyu(chat_in_task_combined_cleaned['user_feedback_senti'], chat_in_task_combined_cleaned['user_feedback_emo'])\n",
    "print(f\"Mann-Whitney | Senti vs Emo: {stat}, {p_value}\")\n",
    "\n",
    "stat, p_value = wilcoxon(chat_in_task_combined_cleaned['user_feedback_senti'], chat_in_task_combined_cleaned['user_feedback_emo'])\n",
    "print(f\"Wilcoxon | Senti vs Emo: {stat}, {p_value}\")\n",
    "\n",
    "stat, p_value = kruskal(chat_in_task_combined_cleaned['user_feedback_senti'], chat_in_task_combined_cleaned['user_feedback_emo'])\n",
    "print(f\"Kruskal-Wallis | Senti vs Emo: {stat}, {p_value}\")"
   ],
   "metadata": {
    "collapsed": false,
    "ExecuteTime": {
     "end_time": "2024-09-04T19:28:12.928014Z",
     "start_time": "2024-09-04T19:28:12.903225Z"
    }
   },
   "id": "b1b1b89f227d881e"
  },
  {
   "cell_type": "code",
   "execution_count": 203,
   "outputs": [
    {
     "name": "stdout",
     "output_type": "stream",
     "text": [
      "Kruskal-Wallis | Senti vs Emo: 12.436374661656165, 0.0019928543308220994\n"
     ]
    }
   ],
   "source": [
    "### 3-way Kruskal-Wallis H test\n",
    "stat, p_value = kruskal(chat_in_task_combined_cleaned['user_feedback_info'], chat_in_task_combined_cleaned['user_feedback_senti'], chat_in_task_combined_cleaned['user_feedback_emo'])\n",
    "print(f\"Kruskal-Wallis | Senti vs Emo: {stat}, {p_value}\")"
   ],
   "metadata": {
    "collapsed": false,
    "ExecuteTime": {
     "end_time": "2024-09-08T20:35:26.963225Z",
     "start_time": "2024-09-08T20:35:26.939677Z"
    }
   },
   "id": "556c1810a2544e0b"
  },
  {
   "cell_type": "code",
   "execution_count": 204,
   "outputs": [],
   "source": [
    "### Plot pair-wise comparisons as a post-hoc analysis\n",
    "from statsmodels.stats.multicomp import pairwise_tukeyhsd\n",
    "\n",
    "# Create a DataFrame with the required columns\n",
    "df_plot = chat_in_task_combined_cleaned[['user_feedback_info', 'user_feedback_senti', 'user_feedback_emo']].melt(var_name='support_type', value_name='user_feedback')\n",
    "\n",
    "# Perform Tukey's HSD test\n",
    "tukey = pairwise_tukeyhsd(endog=df_plot['user_feedback'], groups=df_plot['support_type'], alpha=0.05)\n"
   ],
   "metadata": {
    "collapsed": false,
    "ExecuteTime": {
     "end_time": "2024-09-08T20:37:20.580322Z",
     "start_time": "2024-09-08T20:37:19.395761Z"
    }
   },
   "id": "390501a371df887"
  },
  {
   "cell_type": "code",
   "execution_count": 239,
   "outputs": [
    {
     "data": {
      "text/plain": "<Figure size 1200x900 with 1 Axes>",
      "image/png": "[encoded data removed]"
     },
     "metadata": {},
     "output_type": "display_data"
    }
   ],
   "source": [
    "import seaborn as sns\n",
    "import matplotlib.pyplot as plt\n",
    "import numpy as np\n",
    "\n",
    "# Data from Tukey HSD result\n",
    "groups = ['Reframe vs\\n Info Guide',\n",
    "          'Reframe vs\\n Label',\n",
    "          'Info Guide vs\\n Label']\n",
    "# Extracting the desired attributes\n",
    "meandiffs = tukey.meandiffs\n",
    "lower_bounds = tukey.confint[:, 0]\n",
    "upper_bounds = tukey.confint[:, 1]\n",
    "rejects = tukey.reject\n",
    "\n",
    "# Creating a DataFrame for Seaborn\n",
    "import pandas as pd\n",
    "data = pd.DataFrame({\n",
    "    'Group': groups,\n",
    "    'Mean Difference': meandiffs,\n",
    "    'Lower Bound': lower_bounds,\n",
    "    'Upper Bound': upper_bounds,\n",
    "    'Reject': rejects\n",
    "})\n",
    "\n",
    "# Plotting\n",
    "plt.figure(figsize=(12, 9))\n",
    "colors = sns.color_palette('colorblind', 3)\n",
    "\n",
    "ax = sns.pointplot(x='Mean Difference', y='Group', data=data, linestyle='none', capsize=0.2, err_kws={'linewidth': 4, 'alpha': 0.5}, color=colors[1])\n",
    "ax.errorbar(data['Mean Difference'], data.index, xerr=[data['Mean Difference'] - data['Lower Bound'], data['Upper Bound'] - data['Mean Difference']], fmt='o', markerfacecolor=colors[1], markeredgecolor=colors[1], ecolor=colors[0], capsize=5, alpha=0.5)\n",
    "ax.axvline(x=0, color=colors[2], linestyle='--',alpha=0.5)\n",
    "\n",
    "# Adding labels\n",
    "ax.set_xlabel('Mean Pairwise Difference')\n",
    "# Remove the y-axis label\n",
    "ax.set_ylabel('')\n",
    "\n",
    "# Save the figure to DATA_DIR/figures as PDF\n",
    "plt.savefig(DATA_DIR + 'figures/tukey_hsd_plot.pdf')\n",
    "\n",
    "plt.show()\n"
   ],
   "metadata": {
    "collapsed": false,
    "ExecuteTime": {
     "end_time": "2024-09-08T23:17:20.555823Z",
     "start_time": "2024-09-08T23:17:20.464470Z"
    }
   },
   "id": "13c24f63980df2b8"
  },
  {
   "cell_type": "code",
   "execution_count": null,
   "outputs": [],
   "source": [],
   "metadata": {
    "collapsed": false
   },
   "id": "5325449b1b651ea0"
  }
 ],
 "metadata": {
  "kernelspec": {
   "display_name": "Python 3",
   "language": "python",
   "name": "python3"
  },
  "language_info": {
   "codemirror_mode": {
    "name": "ipython",
    "version": 2
   },
   "file_extension": ".py",
   "mimetype": "text/x-python",
   "name": "python",
   "nbconvert_exporter": "python",
   "pygments_lexer": "ipython2",
   "version": "2.7.6"
  }
 },
 "nbformat": 4,
 "nbformat_minor": 5
}
