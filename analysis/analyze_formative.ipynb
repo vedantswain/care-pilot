{
 "cells": [
  {
   "cell_type": "code",
   "execution_count": 13,
   "outputs": [],
   "source": [
    "import pandas as pd"
   ],
   "metadata": {
    "collapsed": false,
    "ExecuteTime": {
     "end_time": "2024-09-04T03:13:25.162917Z",
     "start_time": "2024-09-04T03:13:25.154139Z"
    }
   },
   "id": "cfe504fc65fff3a6"
  },
  {
   "cell_type": "code",
   "execution_count": 14,
   "outputs": [],
   "source": [
    "# Load the data\n",
    "DATA_DIR = '../data/server_data/sanitized_data/'"
   ],
   "metadata": {
    "collapsed": false,
    "ExecuteTime": {
     "end_time": "2024-09-04T03:13:25.371684Z",
     "start_time": "2024-09-04T03:13:25.368620Z"
    }
   },
   "id": "ae44a9e8957ecf7d"
  },
  {
   "cell_type": "code",
   "execution_count": 15,
   "outputs": [],
   "source": [
    "chat_client_info = pd.read_csv(DATA_DIR + 'chat_client_info.tsv', sep='\\t')\n",
    "chat_history = pd.read_csv(DATA_DIR + 'chat_history.tsv', sep='\\t')\n",
    "chat_in_task = pd.read_csv(DATA_DIR + 'chat_in_task.tsv', sep='\\t')\n",
    "chat_post_task = pd.read_csv(DATA_DIR + 'chat_post_task.tsv', sep='\\t')\n",
    "chat_pre_task = pd.read_csv(DATA_DIR + 'chat_pre_task.tsv', sep='\\t')"
   ],
   "metadata": {
    "collapsed": false,
    "ExecuteTime": {
     "end_time": "2024-09-04T03:13:25.864703Z",
     "start_time": "2024-09-04T03:13:25.839763Z"
    }
   },
   "id": "ad1730d2ae35bfe"
  },
  {
   "cell_type": "markdown",
   "source": [
    "## Compare Post-Task and Pre-Task"
   ],
   "metadata": {
    "collapsed": false
   },
   "id": "b76609ce40f6f8bf"
  },
  {
   "cell_type": "code",
   "execution_count": 27,
   "outputs": [],
   "source": [
    "chat_pre_task['interaction_total'] = chat_pre_task.interaction_dignity + chat_pre_task.interaction_dignity + chat_pre_task.interaction_respect\n",
    "chat_post_task['interaction_total'] = chat_post_task.interaction_dignity + chat_post_task.interaction_dignity + chat_post_task.interaction_respect"
   ],
   "metadata": {
    "collapsed": false,
    "ExecuteTime": {
     "end_time": "2024-09-04T03:21:41.696113Z",
     "start_time": "2024-09-04T03:21:41.681213Z"
    }
   },
   "id": "5bd9a86bff40f08d"
  },
  {
   "cell_type": "code",
   "execution_count": 28,
   "outputs": [],
   "source": [
    "## Join post_task with chat_client_info\n",
    "chat_post_task_m = chat_post_task.merge(chat_client_info, on=['client_id','pid'], how='left')\n",
    "\n",
    "## Join pre_task with post_task_m on pid. Common columns for pre_task should have '_pre' suffix and for post_task should have '_post' suffix\n",
    "chat_post_task_m = chat_post_task_m.merge(chat_pre_task, on='pid', how='left', suffixes=('_post', '_pre'))"
   ],
   "metadata": {
    "collapsed": false,
    "ExecuteTime": {
     "end_time": "2024-09-04T03:21:42.812664Z",
     "start_time": "2024-09-04T03:21:42.806329Z"
    }
   },
   "id": "46d4b3f5559deb65"
  },
  {
   "cell_type": "code",
   "execution_count": 31,
   "outputs": [],
   "source": [
    "## Calculate the difference between post and pre task\n",
    "chat_post_task_m['interaction_total_diff'] = chat_post_task_m['interaction_total_post'] - chat_post_task_m['interaction_total_pre']\n",
    "chat_post_task_m['cognitive_demands_diff'] = chat_post_task_m['cognitive_demands_post'] - chat_post_task_m['cognitive_demands_pre']\n",
    "chat_post_task_m['cognitive_resources_diff'] = chat_post_task_m['cognitive_resources_post'] - chat_post_task_m['cognitive_resources_pre']\n",
    "chat_post_task_m['affect_arousal_diff'] = chat_post_task_m['affect_arousal_post'] - chat_post_task_m['affect_arousal_pre']\n",
    "chat_post_task_m['affect_valence_diff'] = chat_post_task_m['affect_valence_post'] - chat_post_task_m['affect_valence_pre']"
   ],
   "metadata": {
    "collapsed": false,
    "ExecuteTime": {
     "end_time": "2024-09-04T03:24:54.156242Z",
     "start_time": "2024-09-04T03:24:54.149889Z"
    }
   },
   "id": "1edd65ab7552f6e3"
  },
  {
   "cell_type": "code",
   "execution_count": 35,
   "outputs": [],
   "source": [
    "'''\n",
    "Create a new df from chat_post_task_m by grouping data by PID\n",
    "Only 1 row per PID should be present in the new df\n",
    "Columns should have ['interaction_total_diff', 'cognitive_demands_diff', 'cognitive_resources_diff', 'affect_arousal_diff', 'affect_valence_diff'] for 3 different combinations of `civil` and `emo`\n",
    "First set of columns should be have suffix `_civil` for client where `civil = 1` and `emo = 0`\n",
    "Second set of columns should be have suffix `_uncivil` for client where `civil = 0` and `emo = 0`\n",
    "Third set of columns should be have suffix `_uncivil_emo` for client where `civil = 0` and `emo = 1`\n",
    "'''\n",
    "\n",
    "# Create DataFrames for each combination of civil and emo\n",
    "df_civil = chat_post_task_m[(chat_post_task_m['civil'] == 1) & (chat_post_task_m['emo'] == 0)]\n",
    "df_uncivil = chat_post_task_m[(chat_post_task_m['civil'] == 0) & (chat_post_task_m['emo'] == 0)]\n",
    "df_uncivil_emo = chat_post_task_m[(chat_post_task_m['civil'] == 0) & (chat_post_task_m['emo'] == 1)]\n",
    "\n",
    "# Select and rename columns\n",
    "columns = ['interaction_total_diff', 'cognitive_demands_diff', 'cognitive_resources_diff', 'affect_arousal_diff', 'affect_valence_diff']\n",
    "df_civil = df_civil[['pid'] + columns].rename(columns={col: col + '_civil' for col in columns})\n",
    "df_uncivil = df_uncivil[['pid'] + columns].rename(columns={col: col + '_uncivil' for col in columns})\n",
    "df_uncivil_emo = df_uncivil_emo[['pid'] + columns].rename(columns={col: col + '_uncivil_emo' for col in columns})\n",
    "\n",
    "# Merge DataFrames on PID\n",
    "df_combined = df_civil.merge(df_uncivil, on='pid', how='outer').merge(df_uncivil_emo, on='pid', how='outer')"
   ],
   "metadata": {
    "collapsed": false,
    "ExecuteTime": {
     "end_time": "2024-09-04T03:35:23.649682Z",
     "start_time": "2024-09-04T03:35:23.589685Z"
    }
   },
   "id": "4a1b35cd5090e321"
  },
  {
   "cell_type": "code",
   "execution_count": 36,
   "outputs": [
    {
     "name": "stdout",
     "output_type": "stream",
     "text": [
      "Interaction | Civil: 3.55, Uncivil: -9.15, Uncivil Emo: -8.285714285714286\n",
      "Cognitive Demands | Civil: -1.3, Uncivil: 0.15, Uncivil Emo: -0.23809523809523808\n",
      "Cognitive Resources | Civil: 0.8, Uncivil: 0.05, Uncivil Emo: 0.38095238095238093\n",
      "Affect Arousal | Civil: -0.1, Uncivil: -0.45, Uncivil Emo: -0.3333333333333333\n",
      "Affect Valence | Civil: 1.15, Uncivil: -1.65, Uncivil Emo: -1.5714285714285714\n"
     ]
    }
   ],
   "source": [
    "print(f\"Interaction | Civil: {df_combined['interaction_total_diff_civil'].mean()}, Uncivil: {df_combined['interaction_total_diff_uncivil'].mean()}, Uncivil Emo: {df_combined['interaction_total_diff_uncivil_emo'].mean()}\")\n",
    "print(f\"Cognitive Demands | Civil: {df_combined['cognitive_demands_diff_civil'].mean()}, Uncivil: {df_combined['cognitive_demands_diff_uncivil'].mean()}, Uncivil Emo: {df_combined['cognitive_demands_diff_uncivil_emo'].mean()}\")\n",
    "print(f\"Cognitive Resources | Civil: {df_combined['cognitive_resources_diff_civil'].mean()}, Uncivil: {df_combined['cognitive_resources_diff_uncivil'].mean()}, Uncivil Emo: {df_combined['cognitive_resources_diff_uncivil_emo'].mean()}\")\n",
    "print(f\"Affect Arousal | Civil: {df_combined['affect_arousal_diff_civil'].mean()}, Uncivil: {df_combined['affect_arousal_diff_uncivil'].mean()}, Uncivil Emo: {df_combined['affect_arousal_diff_uncivil_emo'].mean()}\")\n",
    "print(f\"Affect Valence | Civil: {df_combined['affect_valence_diff_civil'].mean()}, Uncivil: {df_combined['affect_valence_diff_uncivil'].mean()}, Uncivil Emo: {df_combined['affect_valence_diff_uncivil_emo'].mean()}\")"
   ],
   "metadata": {
    "collapsed": false,
    "ExecuteTime": {
     "end_time": "2024-09-04T03:36:40.414269Z",
     "start_time": "2024-09-04T03:36:40.407027Z"
    }
   },
   "id": "9bdce4d62cbd996"
  },
  {
   "cell_type": "code",
   "execution_count": null,
   "outputs": [],
   "source": [],
   "metadata": {
    "collapsed": false
   },
   "id": "1e5949f25bbce718"
  }
 ],
 "metadata": {
  "kernelspec": {
   "display_name": "Python 3",
   "language": "python",
   "name": "python3"
  },
  "language_info": {
   "codemirror_mode": {
    "name": "ipython",
    "version": 2
   },
   "file_extension": ".py",
   "mimetype": "text/x-python",
   "name": "python",
   "nbconvert_exporter": "python",
   "pygments_lexer": "ipython2",
   "version": "2.7.6"
  }
 },
 "nbformat": 4,
 "nbformat_minor": 5
}
