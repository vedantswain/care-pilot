{
 "cells": [
  {
   "cell_type": "code",
   "execution_count": 37,
   "id": "initial_id",
   "metadata": {
    "collapsed": true,
    "ExecuteTime": {
     "end_time": "2024-08-12T15:16:21.078776Z",
     "start_time": "2024-08-12T15:16:21.075666Z"
    }
   },
   "outputs": [],
   "source": [
    "import pandas as pd\n",
    "# Load the data\n",
    "DATA_DIR = '../data/server_data/'\n",
    "OUT_DIR = DATA_DIR+'sanitized_data/'"
   ]
  },
  {
   "cell_type": "code",
   "execution_count": 28,
   "outputs": [],
   "source": [
    "summative_data = pd.read_csv(DATA_DIR + 'summative_writing.tsv', sep='\\t')\n",
    "participant_data = pd.read_csv(DATA_DIR + 'prolific_demographic_phase1.csv')"
   ],
   "metadata": {
    "collapsed": false,
    "ExecuteTime": {
     "end_time": "2024-08-12T14:54:36.576161Z",
     "start_time": "2024-08-12T14:54:36.486810Z"
    }
   },
   "id": "3a9de8c33655e632"
  },
  {
   "cell_type": "code",
   "execution_count": 32,
   "outputs": [],
   "source": [
    "### Only valid IDs\n",
    "prolific_ids = participant_data[participant_data.Status==\"AWAITING REVIEW\"][\"Participant id\"]"
   ],
   "metadata": {
    "collapsed": false,
    "ExecuteTime": {
     "end_time": "2024-08-12T14:55:45.786374Z",
     "start_time": "2024-08-12T14:55:45.774449Z"
    }
   },
   "id": "2ca88df66f4c7ffa"
  },
  {
   "cell_type": "code",
   "execution_count": 33,
   "outputs": [
    {
     "name": "stdout",
     "output_type": "stream",
     "text": [
      "Number of prolific ids: 116\n"
     ]
    }
   ],
   "source": [
    "print(f\"Number of prolific ids: {len(prolific_ids)}\")"
   ],
   "metadata": {
    "collapsed": false,
    "ExecuteTime": {
     "end_time": "2024-08-12T14:55:47.223738Z",
     "start_time": "2024-08-12T14:55:47.219962Z"
    }
   },
   "id": "f3b03eb423d6694e"
  },
  {
   "cell_type": "code",
   "execution_count": 34,
   "outputs": [
    {
     "data": {
      "text/plain": "prolific_id\n572d05c688902e00091e4a2c    6\n589f4b4b4d580c0001e0a155    6\n58b20110c2cfc500016b11c7    6\n59c1a06c95bc620001575b53    6\n5bcc26ba4f22df00010f166d    6\n                           ..\n66a79572e8487718ad4f4f8d    6\n66a948d79703d361dab7075b    6\n66acd248c28deb9104288edb    6\n66ace12c42d9a67100360274    6\n66af7e7a640964091ad3ec4f    6\nName: scenario_num, Length: 116, dtype: int64"
     },
     "execution_count": 34,
     "metadata": {},
     "output_type": "execute_result"
    }
   ],
   "source": [
    "scene_count = summative_data[summative_data.prolific_id.isin(prolific_ids)].groupby(['prolific_id']).scenario_num.nunique()\n",
    "scene_count[scene_count>1]"
   ],
   "metadata": {
    "collapsed": false,
    "ExecuteTime": {
     "end_time": "2024-08-12T14:55:55.899800Z",
     "start_time": "2024-08-12T14:55:55.872155Z"
    }
   },
   "id": "8637ce69ba6fd59a"
  },
  {
   "cell_type": "code",
   "execution_count": 35,
   "outputs": [
    {
     "data": {
      "text/plain": "                          _id      dat1   dat2  \\\n104  66b3edff880b311d8ad2da48  Sympathy  Anger   \n\n                                                  dat3  \\\n104  They would have put themselves in the customer...   \n\n                                                  dat4  scenario_num  \\\n104  Hang in their. We deal with these kind of cust...             0   \n\n     incident_id               prolific_id                timestamp  \\\n104         33.0  5dee44454d7bea4e3f4b44a6  2024-08-07 21:58:23.752   \n\n    context_behav context_pers  \n104           NaN          NaN  ",
      "text/html": "<div>\n<style scoped>\n    .dataframe tbody tr th:only-of-type {\n        vertical-align: middle;\n    }\n\n    .dataframe tbody tr th {\n        vertical-align: top;\n    }\n\n    .dataframe thead th {\n        text-align: right;\n    }\n</style>\n<table border=\"1\" class=\"dataframe\">\n  <thead>\n    <tr style=\"text-align: right;\">\n      <th></th>\n      <th>_id</th>\n      <th>dat1</th>\n      <th>dat2</th>\n      <th>dat3</th>\n      <th>dat4</th>\n      <th>scenario_num</th>\n      <th>incident_id</th>\n      <th>prolific_id</th>\n      <th>timestamp</th>\n      <th>context_behav</th>\n      <th>context_pers</th>\n    </tr>\n  </thead>\n  <tbody>\n    <tr>\n      <th>104</th>\n      <td>66b3edff880b311d8ad2da48</td>\n      <td>Sympathy</td>\n      <td>Anger</td>\n      <td>They would have put themselves in the customer...</td>\n      <td>Hang in their. We deal with these kind of cust...</td>\n      <td>0</td>\n      <td>33.0</td>\n      <td>5dee44454d7bea4e3f4b44a6</td>\n      <td>2024-08-07 21:58:23.752</td>\n      <td>NaN</td>\n      <td>NaN</td>\n    </tr>\n  </tbody>\n</table>\n</div>"
     },
     "execution_count": 35,
     "metadata": {},
     "output_type": "execute_result"
    }
   ],
   "source": [
    "summative_data[summative_data.prolific_id==\"5dee44454d7bea4e3f4b44a6\"]"
   ],
   "metadata": {
    "collapsed": false,
    "ExecuteTime": {
     "end_time": "2024-08-12T14:56:02.896088Z",
     "start_time": "2024-08-12T14:56:02.877806Z"
    }
   },
   "id": "2a366490213575a9"
  },
  {
   "cell_type": "code",
   "execution_count": 38,
   "outputs": [],
   "source": [
    "### Only store data for valid IDs\n",
    "clean_data = summative_data[summative_data.prolific_id.isin(prolific_ids)]\n",
    "clean_data.to_csv(OUT_DIR+'summative_writing.tsv', sep='\\t', index=False)"
   ],
   "metadata": {
    "collapsed": false,
    "ExecuteTime": {
     "end_time": "2024-08-12T15:18:22.896345Z",
     "start_time": "2024-08-12T15:18:22.866215Z"
    }
   },
   "id": "3a7989e6a6781f8"
  }
 ],
 "metadata": {
  "kernelspec": {
   "display_name": "Python 3",
   "language": "python",
   "name": "python3"
  },
  "language_info": {
   "codemirror_mode": {
    "name": "ipython",
    "version": 2
   },
   "file_extension": ".py",
   "mimetype": "text/x-python",
   "name": "python",
   "nbconvert_exporter": "python",
   "pygments_lexer": "ipython2",
   "version": "2.7.6"
  }
 },
 "nbformat": 4,
 "nbformat_minor": 5
}
