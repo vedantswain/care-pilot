{
 "cells": [
  {
   "cell_type": "code",
   "execution_count": 23,
   "id": "initial_id",
   "metadata": {
    "collapsed": true,
    "ExecuteTime": {
     "end_time": "2024-08-08T23:47:56.861840Z",
     "start_time": "2024-08-08T23:47:56.853271Z"
    }
   },
   "outputs": [],
   "source": [
    "import pandas as pd\n",
    "# Load the data\n",
    "DATA_DIR = '../data/server_data/'"
   ]
  },
  {
   "cell_type": "code",
   "execution_count": 24,
   "outputs": [],
   "source": [
    "summative_data = pd.read_csv(DATA_DIR + 'summative_writing.tsv', sep='\\t')"
   ],
   "metadata": {
    "collapsed": false,
    "ExecuteTime": {
     "end_time": "2024-08-08T23:47:57.050132Z",
     "start_time": "2024-08-08T23:47:57.037955Z"
    }
   },
   "id": "3a9de8c33655e632"
  },
  {
   "cell_type": "code",
   "execution_count": 25,
   "outputs": [],
   "source": [
    "participant_ids = summative_data.prolific_id.unique()\n",
    "prolific_ids = [id for id in participant_ids if len(id) == 24]"
   ],
   "metadata": {
    "collapsed": false,
    "ExecuteTime": {
     "end_time": "2024-08-08T23:47:57.252857Z",
     "start_time": "2024-08-08T23:47:57.246032Z"
    }
   },
   "id": "2ca88df66f4c7ffa"
  },
  {
   "cell_type": "code",
   "execution_count": 26,
   "outputs": [
    {
     "name": "stdout",
     "output_type": "stream",
     "text": [
      "Number of prolific ids: 59\n"
     ]
    }
   ],
   "source": [
    "print(f\"Number of prolific ids: {len(prolific_ids)}\")"
   ],
   "metadata": {
    "collapsed": false,
    "ExecuteTime": {
     "end_time": "2024-08-08T23:47:57.876045Z",
     "start_time": "2024-08-08T23:47:57.871981Z"
    }
   },
   "id": "f3b03eb423d6694e"
  },
  {
   "cell_type": "code",
   "execution_count": 27,
   "outputs": [
    {
     "data": {
      "text/plain": "prolific_id\n572d05c688902e00091e4a2c    6\n589f4b4b4d580c0001e0a155    6\n5c560b6fccb08c0001e134a8    6\n5c91ab9b47fad40011be8306    6\n5c9623dd35599200175642e4    6\n5dd95e3c2274978e775f2aff    6\n5ea4c1cb7a313648ab349f3d    6\n5edbedb8957a4d8833c8df3c    6\n6101f85d117c1a39ed7f9044    6\n63bf40687b33e43442effb9b    6\n63d7f2153299e6f52ede9916    6\n65086caba53bdecde5763448    6\n6537e43c008bb605430a302f    6\n655f8b6cb4482d62ae248259    6\n65cd9a4cfdc5825241e05fec    6\n65cf6bcf11dca2196c5f9156    6\n65d2232726db5a1be73e4e35    6\n65d708ad21814f9ceb730f6b    6\n65d754b51c2c43aa8c7c62a0    6\n65d808aea9d7f89ca768529f    6\n65dd820cf40fd5cad9b7e2bb    6\n6601a1251731342a7891c4f1    6\n6615a12e1e26787cd3c070ed    6\n66196025cdd89ad566b0bf55    6\n661cdc4b515c2b21fe82b9d1    6\n661e76d52e1b7df0495e562d    6\n6630daa019b7932ca293ab34    6\n66311d21b1c2808160ab1708    6\n663a6156433866816e758329    6\n663e3d37f44e641795d482c9    6\n6644ee477ad90c49eff2425b    6\n6650a9ed115b3903e40e8943    6\n66533024e61763d354bec627    6\n66608e80ff5b25b337f4ed96    6\n6664f2a4df585dff20e4c1a1    6\n6667452b68fa3dad06a4a926    6\n66731cad72e0b143a7f93f8b    6\n6678c2520372297b01748f7b    6\n667ab64e047d4032dcc8be52    6\n667fd5d81cff2f14c165053a    6\n667fe43cef0f5f1be3b11c4b    6\n667ff3711e30726d16f919c7    6\n667ffd422a98aea152156014    6\n66801385d64e84c5a11a4b29    6\n6683de3f321a9b595c54fbb8    6\n6686c111466e0d7d2c743262    6\n6687fe2cb3a57f699aeefef0    6\n66941d8c6f5ad5b184ec64cf    6\n669568cd1a4b4330eef514f9    6\n669c6db314022f35e47d7fd9    6\n66a24cf8852b83f942d2dde3    6\n66a27616ecfdc649f92d3707    6\n66a7889840563f1d6184487c    6\n66a79572e8487718ad4f4f8d    6\n66a948d79703d361dab7075b    6\n66acd248c28deb9104288edb    6\n66af7e7a640964091ad3ec4f    6\n66af98cd1f0612b1dea8ead6    6\nName: scenario_num, dtype: int64"
     },
     "execution_count": 27,
     "metadata": {},
     "output_type": "execute_result"
    }
   ],
   "source": [
    "scene_count = summative_data[summative_data.prolific_id.isin(prolific_ids)].groupby(['prolific_id']).scenario_num.nunique()\n",
    "scene_count[scene_count>1]"
   ],
   "metadata": {
    "collapsed": false,
    "ExecuteTime": {
     "end_time": "2024-08-08T23:47:58.225869Z",
     "start_time": "2024-08-08T23:47:58.221830Z"
    }
   },
   "id": "8637ce69ba6fd59a"
  },
  {
   "cell_type": "code",
   "execution_count": 9,
   "outputs": [
    {
     "data": {
      "text/plain": "                          _id      dat1   dat2  \\\n104  66b3edff880b311d8ad2da48  Sympathy  Anger   \n\n                                                  dat3  \\\n104  They would have put themselves in the customer...   \n\n                                                  dat4  scenario_num  \\\n104  Hang in their. We deal with these kind of cust...             0   \n\n     incident_id               prolific_id                timestamp  \\\n104         33.0  5dee44454d7bea4e3f4b44a6  2024-08-07 21:58:23.752   \n\n    context_behav context_pers  \n104           NaN          NaN  ",
      "text/html": "<div>\n<style scoped>\n    .dataframe tbody tr th:only-of-type {\n        vertical-align: middle;\n    }\n\n    .dataframe tbody tr th {\n        vertical-align: top;\n    }\n\n    .dataframe thead th {\n        text-align: right;\n    }\n</style>\n<table border=\"1\" class=\"dataframe\">\n  <thead>\n    <tr style=\"text-align: right;\">\n      <th></th>\n      <th>_id</th>\n      <th>dat1</th>\n      <th>dat2</th>\n      <th>dat3</th>\n      <th>dat4</th>\n      <th>scenario_num</th>\n      <th>incident_id</th>\n      <th>prolific_id</th>\n      <th>timestamp</th>\n      <th>context_behav</th>\n      <th>context_pers</th>\n    </tr>\n  </thead>\n  <tbody>\n    <tr>\n      <th>104</th>\n      <td>66b3edff880b311d8ad2da48</td>\n      <td>Sympathy</td>\n      <td>Anger</td>\n      <td>They would have put themselves in the customer...</td>\n      <td>Hang in their. We deal with these kind of cust...</td>\n      <td>0</td>\n      <td>33.0</td>\n      <td>5dee44454d7bea4e3f4b44a6</td>\n      <td>2024-08-07 21:58:23.752</td>\n      <td>NaN</td>\n      <td>NaN</td>\n    </tr>\n  </tbody>\n</table>\n</div>"
     },
     "execution_count": 9,
     "metadata": {},
     "output_type": "execute_result"
    }
   ],
   "source": [
    "summative_data[summative_data.prolific_id==\"5dee44454d7bea4e3f4b44a6\"]"
   ],
   "metadata": {
    "collapsed": false,
    "ExecuteTime": {
     "end_time": "2024-08-08T02:06:54.523851Z",
     "start_time": "2024-08-08T02:06:54.520037Z"
    }
   },
   "id": "2a366490213575a9"
  },
  {
   "cell_type": "code",
   "execution_count": null,
   "outputs": [],
   "source": [],
   "metadata": {
    "collapsed": false
   },
   "id": "8abd275a6e1859ce"
  }
 ],
 "metadata": {
  "kernelspec": {
   "display_name": "Python 3",
   "language": "python",
   "name": "python3"
  },
  "language_info": {
   "codemirror_mode": {
    "name": "ipython",
    "version": 2
   },
   "file_extension": ".py",
   "mimetype": "text/x-python",
   "name": "python",
   "nbconvert_exporter": "python",
   "pygments_lexer": "ipython2",
   "version": "2.7.6"
  }
 },
 "nbformat": 4,
 "nbformat_minor": 5
}
