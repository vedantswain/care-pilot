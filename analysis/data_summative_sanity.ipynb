{
 "cells": [
  {
   "cell_type": "code",
   "execution_count": 37,
   "id": "initial_id",
   "metadata": {
    "collapsed": true,
    "ExecuteTime": {
     "end_time": "2024-08-12T15:16:21.078776Z",
     "start_time": "2024-08-12T15:16:21.075666Z"
    }
   },
   "outputs": [],
   "source": [
    "import pandas as pd\n",
    "# Load the data\n",
    "DATA_DIR = '../data/server_data/'\n",
    "OUT_DIR = DATA_DIR+'sanitized_data/'"
   ]
  },
  {
   "cell_type": "markdown",
   "source": [
    "### Part 1"
   ],
   "metadata": {
    "collapsed": false
   },
   "id": "2c69ab38ea474c13"
  },
  {
   "cell_type": "code",
   "execution_count": 28,
   "outputs": [],
   "source": [
    "summative_data = pd.read_csv(DATA_DIR + 'summative_writing.tsv', sep='\\t')\n",
    "participant_data = pd.read_csv(DATA_DIR + 'prolific_demographic_phase1.csv')"
   ],
   "metadata": {
    "collapsed": false,
    "ExecuteTime": {
     "end_time": "2024-08-12T14:54:36.576161Z",
     "start_time": "2024-08-12T14:54:36.486810Z"
    }
   },
   "id": "3a9de8c33655e632"
  },
  {
   "cell_type": "code",
   "execution_count": 32,
   "outputs": [],
   "source": [
    "### Only valid IDs\n",
    "prolific_ids = participant_data[participant_data.Status==\"AWAITING REVIEW\"][\"Participant id\"]"
   ],
   "metadata": {
    "collapsed": false,
    "ExecuteTime": {
     "end_time": "2024-08-12T14:55:45.786374Z",
     "start_time": "2024-08-12T14:55:45.774449Z"
    }
   },
   "id": "2ca88df66f4c7ffa"
  },
  {
   "cell_type": "code",
   "execution_count": 33,
   "outputs": [
    {
     "name": "stdout",
     "output_type": "stream",
     "text": [
      "Number of prolific ids: 116\n"
     ]
    }
   ],
   "source": [
    "print(f\"Number of prolific ids: {len(prolific_ids)}\")"
   ],
   "metadata": {
    "collapsed": false,
    "ExecuteTime": {
     "end_time": "2024-08-12T14:55:47.223738Z",
     "start_time": "2024-08-12T14:55:47.219962Z"
    }
   },
   "id": "f3b03eb423d6694e"
  },
  {
   "cell_type": "code",
   "execution_count": 34,
   "outputs": [
    {
     "data": {
      "text/plain": "prolific_id\n572d05c688902e00091e4a2c    6\n589f4b4b4d580c0001e0a155    6\n58b20110c2cfc500016b11c7    6\n59c1a06c95bc620001575b53    6\n5bcc26ba4f22df00010f166d    6\n                           ..\n66a79572e8487718ad4f4f8d    6\n66a948d79703d361dab7075b    6\n66acd248c28deb9104288edb    6\n66ace12c42d9a67100360274    6\n66af7e7a640964091ad3ec4f    6\nName: scenario_num, Length: 116, dtype: int64"
     },
     "execution_count": 34,
     "metadata": {},
     "output_type": "execute_result"
    }
   ],
   "source": [
    "scene_count = summative_data[summative_data.prolific_id.isin(prolific_ids)].groupby(['prolific_id']).scenario_num.nunique()\n",
    "scene_count[scene_count>1]"
   ],
   "metadata": {
    "collapsed": false,
    "ExecuteTime": {
     "end_time": "2024-08-12T14:55:55.899800Z",
     "start_time": "2024-08-12T14:55:55.872155Z"
    }
   },
   "id": "8637ce69ba6fd59a"
  },
  {
   "cell_type": "code",
   "execution_count": 35,
   "outputs": [
    {
     "data": {
      "text/plain": "                          _id      dat1   dat2  \\\n104  66b3edff880b311d8ad2da48  Sympathy  Anger   \n\n                                                  dat3  \\\n104  They would have put themselves in the customer...   \n\n                                                  dat4  scenario_num  \\\n104  Hang in their. We deal with these kind of cust...             0   \n\n     incident_id               prolific_id                timestamp  \\\n104         33.0  5dee44454d7bea4e3f4b44a6  2024-08-07 21:58:23.752   \n\n    context_behav context_pers  \n104           NaN          NaN  ",
      "text/html": "<div>\n<style scoped>\n    .dataframe tbody tr th:only-of-type {\n        vertical-align: middle;\n    }\n\n    .dataframe tbody tr th {\n        vertical-align: top;\n    }\n\n    .dataframe thead th {\n        text-align: right;\n    }\n</style>\n<table border=\"1\" class=\"dataframe\">\n  <thead>\n    <tr style=\"text-align: right;\">\n      <th></th>\n      <th>_id</th>\n      <th>dat1</th>\n      <th>dat2</th>\n      <th>dat3</th>\n      <th>dat4</th>\n      <th>scenario_num</th>\n      <th>incident_id</th>\n      <th>prolific_id</th>\n      <th>timestamp</th>\n      <th>context_behav</th>\n      <th>context_pers</th>\n    </tr>\n  </thead>\n  <tbody>\n    <tr>\n      <th>104</th>\n      <td>66b3edff880b311d8ad2da48</td>\n      <td>Sympathy</td>\n      <td>Anger</td>\n      <td>They would have put themselves in the customer...</td>\n      <td>Hang in their. We deal with these kind of cust...</td>\n      <td>0</td>\n      <td>33.0</td>\n      <td>5dee44454d7bea4e3f4b44a6</td>\n      <td>2024-08-07 21:58:23.752</td>\n      <td>NaN</td>\n      <td>NaN</td>\n    </tr>\n  </tbody>\n</table>\n</div>"
     },
     "execution_count": 35,
     "metadata": {},
     "output_type": "execute_result"
    }
   ],
   "source": [
    "summative_data[summative_data.prolific_id==\"5dee44454d7bea4e3f4b44a6\"]"
   ],
   "metadata": {
    "collapsed": false,
    "ExecuteTime": {
     "end_time": "2024-08-12T14:56:02.896088Z",
     "start_time": "2024-08-12T14:56:02.877806Z"
    }
   },
   "id": "2a366490213575a9"
  },
  {
   "cell_type": "code",
   "execution_count": 38,
   "outputs": [],
   "source": [
    "### Only store data for valid IDs\n",
    "clean_data = summative_data[summative_data.prolific_id.isin(prolific_ids)]\n",
    "clean_data.to_csv(OUT_DIR+'summative_writing.tsv', sep='\\t', index=False)"
   ],
   "metadata": {
    "collapsed": false,
    "ExecuteTime": {
     "end_time": "2024-08-12T15:18:22.896345Z",
     "start_time": "2024-08-12T15:18:22.866215Z"
    }
   },
   "id": "3a7989e6a6781f8"
  },
  {
   "cell_type": "markdown",
   "source": [
    "### Part 2"
   ],
   "metadata": {
    "collapsed": false
   },
   "id": "58e39743ac1b4d45"
  },
  {
   "cell_type": "code",
   "execution_count": 87,
   "outputs": [
    {
     "name": "stdout",
     "output_type": "stream",
     "text": [
      "Number of prolific ids: 143\n"
     ]
    }
   ],
   "source": [
    "summative_data = pd.read_csv(DATA_DIR + 'summative_scoring.tsv', sep='\\t')\n",
    "participant_data = pd.read_csv(DATA_DIR + 'prolific_demographic_phase2.csv')\n",
    "### Only valid IDs\n",
    "prolific_ids = participant_data[(participant_data.Status == \"AWAITING REVIEW\") & (~participant_data['Completion code'].isna())][\"Participant id\"]\n",
    "print(f\"Number of prolific ids: {len(prolific_ids)}\")"
   ],
   "metadata": {
    "collapsed": false,
    "ExecuteTime": {
     "end_time": "2024-09-04T01:28:20.099892Z",
     "start_time": "2024-09-04T01:28:20.085277Z"
    }
   },
   "id": "a8486ecb37147ec8"
  },
  {
   "cell_type": "code",
   "execution_count": 88,
   "outputs": [],
   "source": [
    "columns_reorder = [\n",
    "    '_id', 'prolific_id', 'timestamp','dat1',\n",
    "    'scenario_num', 'incident_id',\n",
    "    'msg_0', 'msg_0_src', 'msg_1', 'msg_1_src', 'msg_2', 'msg_2_src', 'sincerity_0', 'sincerity_1', 'sincerity_2',\n",
    "    'compassion_0', 'compassion_1', 'compassion_2', \n",
    "    'warmth_0', 'warmth_1','warmth_2',\n",
    "    'actionable_2', 'actionable_1', 'actionable_0',\n",
    "    'relatability_0', 'relatability_1', 'relatability_2', \n",
    "]"
   ],
   "metadata": {
    "collapsed": false,
    "ExecuteTime": {
     "end_time": "2024-09-04T01:28:21.421399Z",
     "start_time": "2024-09-04T01:28:21.408676Z"
    }
   },
   "id": "848611de70a321f1"
  },
  {
   "cell_type": "code",
   "execution_count": 89,
   "outputs": [],
   "source": [
    "### Only store data for valid IDs\n",
    "clean_data = summative_data[summative_data.prolific_id.isin(prolific_ids)]\n",
    "clean_data = clean_data[columns_reorder]"
   ],
   "metadata": {
    "collapsed": false,
    "ExecuteTime": {
     "end_time": "2024-09-04T01:28:21.826371Z",
     "start_time": "2024-09-04T01:28:21.814836Z"
    }
   },
   "id": "9f1d5d12788cf26a"
  },
  {
   "cell_type": "code",
   "execution_count": 90,
   "outputs": [],
   "source": [
    "clean_data_vanilla = clean_data[clean_data.msg_2.isna()]\n",
    "clean_data_vanilla = clean_data_vanilla.dropna(axis=1, how='all')\n",
    "clean_data_vanilla.to_csv(OUT_DIR+'summative_scoring_vanilla.tsv', sep='\\t', index=False)\n",
    "\n",
    "clean_data_context = clean_data[~clean_data.msg_2.isna()]\n",
    "clean_data_context = clean_data_context.dropna(axis=1, how='all')\n",
    "clean_data_context.to_csv(OUT_DIR+'summative_scoring_contextual.tsv', sep='\\t', index=False)"
   ],
   "metadata": {
    "collapsed": false,
    "ExecuteTime": {
     "end_time": "2024-09-04T01:28:31.596744Z",
     "start_time": "2024-09-04T01:28:31.553529Z"
    }
   },
   "id": "b33f508c8866efc5"
  },
  {
   "cell_type": "code",
   "execution_count": 91,
   "outputs": [],
   "source": [
    "columns_scoring_ctx = [\n",
    "    'sincerity_0', 'sincerity_1', 'sincerity_2',\n",
    "    'compassion_0', 'compassion_1', 'compassion_2',\n",
    "    'warmth_0', 'warmth_1','warmth_2',\n",
    "    'actionable_2', 'actionable_1', 'actionable_0',\n",
    "    'relatability_0', 'relatability_1', 'relatability_2',\n",
    "]"
   ],
   "metadata": {
    "collapsed": false,
    "ExecuteTime": {
     "end_time": "2024-09-04T01:28:32.006630Z",
     "start_time": "2024-09-04T01:28:32.004177Z"
    }
   },
   "id": "9609c6e63cd0ef3"
  },
  {
   "cell_type": "code",
   "execution_count": 92,
   "outputs": [],
   "source": [
    "clean_data_context['total_0'] = clean_data_context['sincerity_0']+clean_data_context['compassion_0']+clean_data_context['warmth_0']+clean_data_context['actionable_0']+clean_data_context['relatability_0']\n",
    "clean_data_context['total_1'] = clean_data_context['sincerity_1']+clean_data_context['compassion_1']+clean_data_context['warmth_1']+clean_data_context['actionable_1']+clean_data_context['relatability_1']\n",
    "clean_data_context['total_2'] = clean_data_context['sincerity_2']+clean_data_context['compassion_2']+clean_data_context['warmth_2']+clean_data_context['actionable_2']+clean_data_context['relatability_2']"
   ],
   "metadata": {
    "collapsed": false,
    "ExecuteTime": {
     "end_time": "2024-09-04T01:28:33.654830Z",
     "start_time": "2024-09-04T01:28:33.647426Z"
    }
   },
   "id": "b8955d3717fcfa17"
  },
  {
   "cell_type": "code",
   "execution_count": 93,
   "outputs": [
    {
     "name": "stdout",
     "output_type": "stream",
     "text": [
      "Sincerity | Human_ctx: 0.894927536231884; AI_ctx: 1.4275362318840579; AI: 1.4329710144927537\n",
      "Compassion | Human_ctx: 0.7681159420289855; AI_ctx: 1.3224637681159421; AI: 1.309782608695652\n",
      "Warmth | Human_ctx: 0.7663043478260869; AI_ctx: 1.2626811594202898; AI: 1.2735507246376812\n",
      "Actionable | Human_ctx: 0.5670289855072463; AI_ctx: 1.4202898550724639; AI: 1.4818840579710144\n",
      "Relatability | Human_ctx: 0.9637681159420289; AI_ctx: 1.2934782608695652; AI: 1.3278985507246377\n",
      "Total | Human_ctx: 3.960144927536232; AI_ctx: 6.726449275362318; AI: 6.826086956521739\n"
     ]
    }
   ],
   "source": [
    "print(f\"Sincerity | Human_ctx: {clean_data_context.sincerity_0.mean()}; AI_ctx: {clean_data_context.sincerity_1.mean()}; AI: {clean_data_context.sincerity_2.mean()}\")\n",
    "print(f\"Compassion | Human_ctx: {clean_data_context.compassion_0.mean()}; AI_ctx: {clean_data_context.compassion_1.mean()}; AI: {clean_data_context.compassion_2.mean()}\")\n",
    "print(f\"Warmth | Human_ctx: {clean_data_context.warmth_0.mean()}; AI_ctx: {clean_data_context.warmth_1.mean()}; AI: {clean_data_context.warmth_2.mean()}\")\n",
    "print(f\"Actionable | Human_ctx: {clean_data_context.actionable_0.mean()}; AI_ctx: {clean_data_context.actionable_1.mean()}; AI: {clean_data_context.actionable_2.mean()}\")\n",
    "print(f\"Relatability | Human_ctx: {clean_data_context.relatability_0.mean()}; AI_ctx: {clean_data_context.relatability_1.mean()}; AI: {clean_data_context.relatability_2.mean()}\")\n",
    "print(f\"Total | Human_ctx: {clean_data_context.total_0.mean()}; AI_ctx: {clean_data_context.total_1.mean()}; AI: {clean_data_context.total_2.mean()}\")"
   ],
   "metadata": {
    "collapsed": false,
    "ExecuteTime": {
     "end_time": "2024-09-04T01:28:34.023293Z",
     "start_time": "2024-09-04T01:28:34.019685Z"
    }
   },
   "id": "6653ebb7a53c4acf"
  },
  {
   "cell_type": "code",
   "execution_count": 95,
   "outputs": [
    {
     "name": "stdout",
     "output_type": "stream",
     "text": [
      "                               pair       stat       p_value\n",
      "0        sincerity_0_vs_sincerity_1  -7.363124  6.583300e-13\n",
      "1      compassion_0_vs_compassion_1  -7.111043  3.591197e-12\n",
      "2              warmth_0_vs_warmth_1  -6.463183  2.259015e-10\n",
      "3      actionable_0_vs_actionable_1 -10.266026  9.621561e-23\n",
      "4  relatability_0_vs_relatability_1  -4.428430  1.145120e-05\n",
      "5                total_0_vs_total_1  -8.692603  4.062043e-17\n"
     ]
    }
   ],
   "source": [
    "from scipy.stats import mannwhitneyu, kruskal, wilcoxon, ttest_rel\n",
    "\n",
    "# Identify the columns to check for missing values\n",
    "column_pairs = [\n",
    "    ('sincerity_0','sincerity_1'),\n",
    "    ('compassion_0','compassion_1'),\n",
    "    ('warmth_0','warmth_1'),\n",
    "    ('actionable_0','actionable_1'),\n",
    "    ('relatability_0','relatability_1'),\n",
    "    ('total_0','total_1')\n",
    "]\n",
    "\n",
    "# Initialize a list to store the results\n",
    "results = []\n",
    "\n",
    "# Perform the Mann-Whitney U test for each pair of columns\n",
    "for col1, col2 in column_pairs:\n",
    "    stat, p_value = ttest_rel(clean_data_context[col1], clean_data_context[col2])\n",
    "    results.append({'pair': f'{col1}_vs_{col2}', 'stat': stat, 'p_value': p_value})\n",
    "\n",
    "# Convert the results to a DataFrame\n",
    "df_results = pd.DataFrame(results)\n",
    "\n",
    "# Display the results\n",
    "print(df_results)"
   ],
   "metadata": {
    "collapsed": false,
    "ExecuteTime": {
     "end_time": "2024-09-05T17:31:18.253485Z",
     "start_time": "2024-09-05T17:31:18.200991Z"
    }
   },
   "id": "d7f5bad9a7db22a"
  },
  {
   "cell_type": "code",
   "execution_count": null,
   "outputs": [],
   "source": [],
   "metadata": {
    "collapsed": false
   },
   "id": "86435c72d838862e"
  }
 ],
 "metadata": {
  "kernelspec": {
   "display_name": "Python 3",
   "language": "python",
   "name": "python3"
  },
  "language_info": {
   "codemirror_mode": {
    "name": "ipython",
    "version": 2
   },
   "file_extension": ".py",
   "mimetype": "text/x-python",
   "name": "python",
   "nbconvert_exporter": "python",
   "pygments_lexer": "ipython2",
   "version": "2.7.6"
  }
 },
 "nbformat": 4,
 "nbformat_minor": 5
}
