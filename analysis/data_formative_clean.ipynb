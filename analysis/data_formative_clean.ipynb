{
 "cells": [
  {
   "cell_type": "code",
   "execution_count": 160,
   "id": "initial_id",
   "metadata": {
    "collapsed": true,
    "ExecuteTime": {
     "end_time": "2024-08-11T02:23:02.204509Z",
     "start_time": "2024-08-11T02:23:02.012366Z"
    }
   },
   "outputs": [],
   "source": [
    "import pandas as pd"
   ]
  },
  {
   "cell_type": "code",
   "execution_count": 161,
   "outputs": [],
   "source": [
    "# Load the data\n",
    "DATA_DIR = '../data/server_data/'"
   ],
   "metadata": {
    "collapsed": false,
    "ExecuteTime": {
     "end_time": "2024-08-11T02:23:02.229738Z",
     "start_time": "2024-08-11T02:23:02.026556Z"
    }
   },
   "id": "2a0a833b3dcddb1e"
  },
  {
   "cell_type": "markdown",
   "source": [
    "## Participant data"
   ],
   "metadata": {
    "collapsed": false
   },
   "id": "96cf209770785ee8"
  },
  {
   "cell_type": "code",
   "execution_count": 208,
   "outputs": [],
   "source": [
    "participant_log = pd.read_csv(DATA_DIR + 'participant_log.csv')\n",
    "\n",
    "# rename columns to lowercase and replace spaces with underscores\n",
    "participant_log.columns = participant_log.columns.str.lower().str.replace(' ', '_')\n",
    "\n",
    "## keep only columns pid, session_id, scenario\n",
    "participant_log = participant_log[['pid', 'session_id', 'scenario']]\n",
    "\n",
    "## if pid is NaN, then replace it with the value of the previous row\n",
    "participant_log['pid'] = participant_log['pid'].ffill()"
   ],
   "metadata": {
    "collapsed": false,
    "ExecuteTime": {
     "end_time": "2024-08-11T02:36:17.948476Z",
     "start_time": "2024-08-11T02:36:17.747002Z"
    }
   },
   "id": "217736db733d625b"
  },
  {
   "cell_type": "code",
   "execution_count": 209,
   "outputs": [],
   "source": [
    "participant_session_ids = participant_log['session_id'].unique()"
   ],
   "metadata": {
    "collapsed": false,
    "ExecuteTime": {
     "end_time": "2024-08-11T02:36:17.951058Z",
     "start_time": "2024-08-11T02:36:17.759705Z"
    }
   },
   "id": "a57ad20b9b9b74c3"
  },
  {
   "cell_type": "code",
   "execution_count": 210,
   "outputs": [
    {
     "data": {
      "text/plain": "     pid                            session_id  scenario\n0    1.0  58665f7d-5484-4769-aef6-741a40c581c8     Hotel\n1    2.0  86a7af6a-cf1f-4afa-b2d8-48fb7394892f     Hotel\n2    2.0  750943b6-a490-4ee2-9582-ebc75ec103df       NaN\n3    3.0  5cf80c68-af61-4ea9-b7ea-0f88ecf0c932     Hotel\n4    3.0  f0a679ee-d321-417c-8504-8ccacd284aaf       NaN\n5    4.0  873af403-ed6c-4d77-b037-ebb30f1a596e  Airlines\n6    5.0  e0bbf5be-a122-419d-994d-a273f4a37fde  Airlines\n7    6.0  55238f70-fc6f-457b-8d3f-8a1679dc77e3  Airlines\n8    6.0  4b8bb159-88fd-4a12-b72b-966981d385ef       NaN\n9    7.0  af1f7c73-82fb-402e-b5af-6657aba0f647     Hotel\n10   8.0  ccb0ca32-c440-49c7-88b1-11c07e18f22f  Airlines\n11   9.0  bfaeb7bc-9b94-42d1-bf2f-f50596993dff     Hotel\n12  10.0  aba882f4-e9f7-4399-9141-ef6255a38228  Airlines\n13  11.0  e145f97f-0d04-47a7-8d0a-9e8281c1d4ae     Hotel\n14  12.0  2f7dbcd7-670f-49f9-978e-5d019c228ec0  Airlines\n15  13.0  6b3f25b4-c3da-4b01-9684-0e6ce4b61f88     Hotel\n16  14.0  28e03835-f9a4-4c91-b49c-e0705cee775a  Airlines\n17  15.0  687d5071-d7e2-40ee-9197-3b5713d2f1d8     Hotel",
      "text/html": "<div>\n<style scoped>\n    .dataframe tbody tr th:only-of-type {\n        vertical-align: middle;\n    }\n\n    .dataframe tbody tr th {\n        vertical-align: top;\n    }\n\n    .dataframe thead th {\n        text-align: right;\n    }\n</style>\n<table border=\"1\" class=\"dataframe\">\n  <thead>\n    <tr style=\"text-align: right;\">\n      <th></th>\n      <th>pid</th>\n      <th>session_id</th>\n      <th>scenario</th>\n    </tr>\n  </thead>\n  <tbody>\n    <tr>\n      <th>0</th>\n      <td>1.0</td>\n      <td>58665f7d-5484-4769-aef6-741a40c581c8</td>\n      <td>Hotel</td>\n    </tr>\n    <tr>\n      <th>1</th>\n      <td>2.0</td>\n      <td>86a7af6a-cf1f-4afa-b2d8-48fb7394892f</td>\n      <td>Hotel</td>\n    </tr>\n    <tr>\n      <th>2</th>\n      <td>2.0</td>\n      <td>750943b6-a490-4ee2-9582-ebc75ec103df</td>\n      <td>NaN</td>\n    </tr>\n    <tr>\n      <th>3</th>\n      <td>3.0</td>\n      <td>5cf80c68-af61-4ea9-b7ea-0f88ecf0c932</td>\n      <td>Hotel</td>\n    </tr>\n    <tr>\n      <th>4</th>\n      <td>3.0</td>\n      <td>f0a679ee-d321-417c-8504-8ccacd284aaf</td>\n      <td>NaN</td>\n    </tr>\n    <tr>\n      <th>5</th>\n      <td>4.0</td>\n      <td>873af403-ed6c-4d77-b037-ebb30f1a596e</td>\n      <td>Airlines</td>\n    </tr>\n    <tr>\n      <th>6</th>\n      <td>5.0</td>\n      <td>e0bbf5be-a122-419d-994d-a273f4a37fde</td>\n      <td>Airlines</td>\n    </tr>\n    <tr>\n      <th>7</th>\n      <td>6.0</td>\n      <td>55238f70-fc6f-457b-8d3f-8a1679dc77e3</td>\n      <td>Airlines</td>\n    </tr>\n    <tr>\n      <th>8</th>\n      <td>6.0</td>\n      <td>4b8bb159-88fd-4a12-b72b-966981d385ef</td>\n      <td>NaN</td>\n    </tr>\n    <tr>\n      <th>9</th>\n      <td>7.0</td>\n      <td>af1f7c73-82fb-402e-b5af-6657aba0f647</td>\n      <td>Hotel</td>\n    </tr>\n    <tr>\n      <th>10</th>\n      <td>8.0</td>\n      <td>ccb0ca32-c440-49c7-88b1-11c07e18f22f</td>\n      <td>Airlines</td>\n    </tr>\n    <tr>\n      <th>11</th>\n      <td>9.0</td>\n      <td>bfaeb7bc-9b94-42d1-bf2f-f50596993dff</td>\n      <td>Hotel</td>\n    </tr>\n    <tr>\n      <th>12</th>\n      <td>10.0</td>\n      <td>aba882f4-e9f7-4399-9141-ef6255a38228</td>\n      <td>Airlines</td>\n    </tr>\n    <tr>\n      <th>13</th>\n      <td>11.0</td>\n      <td>e145f97f-0d04-47a7-8d0a-9e8281c1d4ae</td>\n      <td>Hotel</td>\n    </tr>\n    <tr>\n      <th>14</th>\n      <td>12.0</td>\n      <td>2f7dbcd7-670f-49f9-978e-5d019c228ec0</td>\n      <td>Airlines</td>\n    </tr>\n    <tr>\n      <th>15</th>\n      <td>13.0</td>\n      <td>6b3f25b4-c3da-4b01-9684-0e6ce4b61f88</td>\n      <td>Hotel</td>\n    </tr>\n    <tr>\n      <th>16</th>\n      <td>14.0</td>\n      <td>28e03835-f9a4-4c91-b49c-e0705cee775a</td>\n      <td>Airlines</td>\n    </tr>\n    <tr>\n      <th>17</th>\n      <td>15.0</td>\n      <td>687d5071-d7e2-40ee-9197-3b5713d2f1d8</td>\n      <td>Hotel</td>\n    </tr>\n  </tbody>\n</table>\n</div>"
     },
     "execution_count": 210,
     "metadata": {},
     "output_type": "execute_result"
    }
   ],
   "source": [
    "participant_log"
   ],
   "metadata": {
    "collapsed": false,
    "ExecuteTime": {
     "end_time": "2024-08-11T02:36:17.951353Z",
     "start_time": "2024-08-11T02:36:17.764120Z"
    }
   },
   "id": "cfa7856b019c3056"
  },
  {
   "cell_type": "markdown",
   "source": [
    "## Simulation data"
   ],
   "metadata": {
    "collapsed": false
   },
   "id": "91ed2f6a0a002e6c"
  },
  {
   "cell_type": "code",
   "execution_count": 211,
   "outputs": [],
   "source": [
    "def load_simulation_data(filename):\n",
    "    simulation_data = pd.read_csv(DATA_DIR + filename, sep='\\t')\n",
    "    simulation_data = simulation_data[simulation_data['session_id'].isin(participant_session_ids)]\n",
    "    return simulation_data\n",
    "\n",
    "chat_client_info = load_simulation_data('chat_client_info.tsv')\n",
    "chat_history = load_simulation_data('chat_history.tsv')\n",
    "chat_in_task = load_simulation_data('chat_in_task.tsv')\n",
    "chat_post_task = load_simulation_data('chat_post_task.tsv')\n",
    "chat_pre_task = load_simulation_data('chat_pre_task.tsv')"
   ],
   "metadata": {
    "collapsed": false,
    "ExecuteTime": {
     "end_time": "2024-08-11T02:36:17.952434Z",
     "start_time": "2024-08-11T02:36:17.767699Z"
    }
   },
   "id": "122f3db15d47d75"
  },
  {
   "cell_type": "code",
   "execution_count": 212,
   "outputs": [],
   "source": [
    "## Get client information for session_id in participant_log where pid==2\n",
    "def get_data_by_pid(df, pid):\n",
    "    session_ids_by_pid = participant_log[participant_log['pid']==pid]['session_id']\n",
    "    return df[df['session_id'].isin(session_ids_by_pid)]\n",
    "\n",
    "## Get data given PID and client number\n",
    "def get_data_by_pid_client(df, pid, client_num):\n",
    "    client_list = get_data_by_pid(chat_client_info, pid)['client_id'].unique()\n",
    "    sub_df = get_data_by_pid(df, pid)\n",
    "    keep_client = client_list[client_num]\n",
    "    return sub_df[sub_df['client_id']==keep_client]\n",
    "\n",
    "## Get client turn count\n",
    "def get_client_turn_count(pid):\n",
    "    turn_count = {}\n",
    "    for x in range(0,client_list.size):\n",
    "        max_turn = get_data_by_pid_client(chat_in_task,pid,x).turn_number.max()\n",
    "        turn_count[client_list[x]]=max_turn\n",
    "    return  turn_count\n",
    "\n",
    "## replace client_id A with client_id B in chat_post_task\n",
    "def replace_client_id(df, old_client_id, new_client_id):\n",
    "    df.loc[df['client_id']==old_client_id, 'client_id'] = new_client_id\n",
    "    return df\n",
    "\n",
    "## Join participant_log with all data by session_id\n",
    "def join_to_participant_data(participant_log, data):\n",
    "    participant_log = participant_log[['pid', 'session_id']]\n",
    "    return participant_log.merge(data, on='session_id', how='inner')"
   ],
   "metadata": {
    "collapsed": false,
    "ExecuteTime": {
     "end_time": "2024-08-11T02:36:17.952477Z",
     "start_time": "2024-08-11T02:36:17.849283Z"
    }
   },
   "id": "ee0dbe55598831f0"
  },
  {
   "cell_type": "markdown",
   "source": [
    "### Special cases\n",
    "\n",
    "Due to technical difficulties or other reasons, some participants have multiple session_ids or other issues. We will address these cases below."
   ],
   "metadata": {
    "collapsed": false
   },
   "id": "b41822754c97a447"
  },
  {
   "cell_type": "markdown",
   "source": [
    "**Anne T. is a special case, as she has two different session_ids**\n",
    "- Pre-task should only keep the session_id: 86a7af6a-cf1f-4afa-b2d8-48fb7394892f\n",
    "    - Skip:  750943b6-a490-4ee2-9582-ebc75ec103df\n",
    "- Only 3 clients are in the task\n",
    "- Post-task only contains one response\n",
    "\n",
    "Can use data for in-task comparisons but not for pre/post-task because they have not completed a post-task survey for the civil=0, emo=0"
   ],
   "metadata": {
    "collapsed": false
   },
   "id": "b2bc119b2031e45b"
  },
  {
   "cell_type": "code",
   "execution_count": 213,
   "outputs": [
    {
     "name": "stdout",
     "output_type": "stream",
     "text": [
      "['e4c843d6-e047-4f71-b842-a86de1b1f4bd'\n",
      " 'a5982689-193e-4045-93d8-4a5ffae21d10'\n",
      " '604b7169-251b-49d5-a848-7401ef63bce8'\n",
      " '05d35294-87cd-4434-9f59-c4df07201290'\n",
      " 'a7b0770b-84cc-4b0f-a5e0-d52db0011d33']\n"
     ]
    }
   ],
   "source": [
    "client_info = get_data_by_pid(chat_client_info,2)\n",
    "client_list = client_info['client_id'].unique()\n",
    "print(client_list)"
   ],
   "metadata": {
    "collapsed": false,
    "ExecuteTime": {
     "end_time": "2024-08-11T02:36:17.952550Z",
     "start_time": "2024-08-11T02:36:17.851723Z"
    }
   },
   "id": "5799fa7e0e8f06c6"
  },
  {
   "cell_type": "code",
   "execution_count": 214,
   "outputs": [
    {
     "data": {
      "text/plain": "                               client_id  client_name  civil  emo\n45  e4c843d6-e047-4f71-b842-a86de1b1f4bd    Elijah P.    1.0  0.0\n46  a5982689-193e-4045-93d8-4a5ffae21d10     Jamal K.    0.0  0.0\n47  604b7169-251b-49d5-a848-7401ef63bce8      Anna Z.    0.0  1.0\n48  05d35294-87cd-4434-9f59-c4df07201290      Luis H.    0.0  1.0\n49  a7b0770b-84cc-4b0f-a5e0-d52db0011d33  Samantha K.    0.0  1.0",
      "text/html": "<div>\n<style scoped>\n    .dataframe tbody tr th:only-of-type {\n        vertical-align: middle;\n    }\n\n    .dataframe tbody tr th {\n        vertical-align: top;\n    }\n\n    .dataframe thead th {\n        text-align: right;\n    }\n</style>\n<table border=\"1\" class=\"dataframe\">\n  <thead>\n    <tr style=\"text-align: right;\">\n      <th></th>\n      <th>client_id</th>\n      <th>client_name</th>\n      <th>civil</th>\n      <th>emo</th>\n    </tr>\n  </thead>\n  <tbody>\n    <tr>\n      <th>45</th>\n      <td>e4c843d6-e047-4f71-b842-a86de1b1f4bd</td>\n      <td>Elijah P.</td>\n      <td>1.0</td>\n      <td>0.0</td>\n    </tr>\n    <tr>\n      <th>46</th>\n      <td>a5982689-193e-4045-93d8-4a5ffae21d10</td>\n      <td>Jamal K.</td>\n      <td>0.0</td>\n      <td>0.0</td>\n    </tr>\n    <tr>\n      <th>47</th>\n      <td>604b7169-251b-49d5-a848-7401ef63bce8</td>\n      <td>Anna Z.</td>\n      <td>0.0</td>\n      <td>1.0</td>\n    </tr>\n    <tr>\n      <th>48</th>\n      <td>05d35294-87cd-4434-9f59-c4df07201290</td>\n      <td>Luis H.</td>\n      <td>0.0</td>\n      <td>1.0</td>\n    </tr>\n    <tr>\n      <th>49</th>\n      <td>a7b0770b-84cc-4b0f-a5e0-d52db0011d33</td>\n      <td>Samantha K.</td>\n      <td>0.0</td>\n      <td>1.0</td>\n    </tr>\n  </tbody>\n</table>\n</div>"
     },
     "execution_count": 214,
     "metadata": {},
     "output_type": "execute_result"
    }
   ],
   "source": [
    "client_info[['client_id','client_name','civil','emo']]"
   ],
   "metadata": {
    "collapsed": false,
    "ExecuteTime": {
     "end_time": "2024-08-11T02:36:17.952714Z",
     "start_time": "2024-08-11T02:36:17.855518Z"
    }
   },
   "id": "3b912aab5af60d67"
  },
  {
   "cell_type": "code",
   "execution_count": 215,
   "outputs": [
    {
     "data": {
      "text/plain": "                         _id  interaction_polite  interaction_dignity  \\\n11  66a93d46069ba571d342548f                   1                    1   \n12  66a941203e2a64e72bcda6e1                   2                    2   \n\n    interaction_respect  cognitive_demands  cognitive_resources  \\\n11                    1                  4                    4   \n12                    1                  4                    4   \n\n    affect_valence  affect_arousal  \\\n11               1               1   \n12               1               1   \n\n                                         client_param  \\\n11  name=Elijah%20P.&domain=hotel&category=Service...   \n12  name=Jamal%20K.&domain=hotel&category=Policy&g...   \n\n                              session_id                timestamp  \n11  86a7af6a-cf1f-4afa-b2d8-48fb7394892f  2024-07-30 19:21:42.195  \n12  750943b6-a490-4ee2-9582-ebc75ec103df  2024-07-30 19:38:08.761  ",
      "text/html": "<div>\n<style scoped>\n    .dataframe tbody tr th:only-of-type {\n        vertical-align: middle;\n    }\n\n    .dataframe tbody tr th {\n        vertical-align: top;\n    }\n\n    .dataframe thead th {\n        text-align: right;\n    }\n</style>\n<table border=\"1\" class=\"dataframe\">\n  <thead>\n    <tr style=\"text-align: right;\">\n      <th></th>\n      <th>_id</th>\n      <th>interaction_polite</th>\n      <th>interaction_dignity</th>\n      <th>interaction_respect</th>\n      <th>cognitive_demands</th>\n      <th>cognitive_resources</th>\n      <th>affect_valence</th>\n      <th>affect_arousal</th>\n      <th>client_param</th>\n      <th>session_id</th>\n      <th>timestamp</th>\n    </tr>\n  </thead>\n  <tbody>\n    <tr>\n      <th>11</th>\n      <td>66a93d46069ba571d342548f</td>\n      <td>1</td>\n      <td>1</td>\n      <td>1</td>\n      <td>4</td>\n      <td>4</td>\n      <td>1</td>\n      <td>1</td>\n      <td>name=Elijah%20P.&amp;domain=hotel&amp;category=Service...</td>\n      <td>86a7af6a-cf1f-4afa-b2d8-48fb7394892f</td>\n      <td>2024-07-30 19:21:42.195</td>\n    </tr>\n    <tr>\n      <th>12</th>\n      <td>66a941203e2a64e72bcda6e1</td>\n      <td>2</td>\n      <td>2</td>\n      <td>1</td>\n      <td>4</td>\n      <td>4</td>\n      <td>1</td>\n      <td>1</td>\n      <td>name=Jamal%20K.&amp;domain=hotel&amp;category=Policy&amp;g...</td>\n      <td>750943b6-a490-4ee2-9582-ebc75ec103df</td>\n      <td>2024-07-30 19:38:08.761</td>\n    </tr>\n  </tbody>\n</table>\n</div>"
     },
     "execution_count": 215,
     "metadata": {},
     "output_type": "execute_result"
    }
   ],
   "source": [
    "get_data_by_pid(chat_pre_task,2)"
   ],
   "metadata": {
    "collapsed": false,
    "ExecuteTime": {
     "end_time": "2024-08-11T02:36:17.952847Z",
     "start_time": "2024-08-11T02:36:17.859406Z"
    }
   },
   "id": "d00221017d24d2ec"
  },
  {
   "cell_type": "code",
   "execution_count": 216,
   "outputs": [],
   "source": [
    "### Remove row where session_id is '750943b6-a490-4ee2-9582-ebc75ec103df'\n",
    "chat_pre_task = chat_pre_task[chat_pre_task['session_id']!='750943b6-a490-4ee2-9582-ebc75ec103df']"
   ],
   "metadata": {
    "collapsed": false,
    "ExecuteTime": {
     "end_time": "2024-08-11T02:36:17.952890Z",
     "start_time": "2024-08-11T02:36:17.861644Z"
    }
   },
   "id": "703044a2e6b121c0"
  },
  {
   "cell_type": "code",
   "execution_count": 217,
   "outputs": [],
   "source": [
    "turn_count = get_client_turn_count(2)\n",
    "keep_clients = [x for x in client_list if turn_count[x]>2]"
   ],
   "metadata": {
    "collapsed": false,
    "ExecuteTime": {
     "end_time": "2024-08-11T02:36:17.953187Z",
     "start_time": "2024-08-11T02:36:17.866056Z"
    }
   },
   "id": "94b36aed44071adf"
  },
  {
   "cell_type": "code",
   "execution_count": 218,
   "outputs": [
    {
     "data": {
      "text/plain": "['e4c843d6-e047-4f71-b842-a86de1b1f4bd',\n '604b7169-251b-49d5-a848-7401ef63bce8',\n '05d35294-87cd-4434-9f59-c4df07201290']"
     },
     "execution_count": 218,
     "metadata": {},
     "output_type": "execute_result"
    }
   ],
   "source": [
    "keep_clients"
   ],
   "metadata": {
    "collapsed": false,
    "ExecuteTime": {
     "end_time": "2024-08-11T02:36:17.953281Z",
     "start_time": "2024-08-11T02:36:17.867832Z"
    }
   },
   "id": "d14271268e720944"
  },
  {
   "cell_type": "code",
   "execution_count": 219,
   "outputs": [
    {
     "data": {
      "text/plain": "1"
     },
     "execution_count": 219,
     "metadata": {},
     "output_type": "execute_result"
    }
   ],
   "source": [
    "get_data_by_pid_client(chat_in_task,2,1).turn_number.max()"
   ],
   "metadata": {
    "collapsed": false,
    "ExecuteTime": {
     "end_time": "2024-08-11T02:36:17.953352Z",
     "start_time": "2024-08-11T02:36:17.870440Z"
    }
   },
   "id": "7c0918c00c02bf72"
  },
  {
   "cell_type": "code",
   "execution_count": 220,
   "outputs": [
    {
     "data": {
      "text/plain": "                         _id  interaction_polite  interaction_dignity  \\\n30  66a944b83e2a64e72bcda6f0                   0                    1   \n\n    interaction_respect  cognitive_demands  cognitive_resources  \\\n30                    0                  5                    5   \n\n    affect_valence  affect_arousal  support_effective  support_helpful  \\\n30              -1               1                  2                2   \n\n    support_beneficial  support_adequate  support_sensitive  support_caring  \\\n30                   2                 2                  2               2   \n\n    support_understanding  support_supportive  \\\n30                      2                   2   \n\n                               client_id  \\\n30  604b7169-251b-49d5-a848-7401ef63bce8   \n\n                              session_id                timestamp  \n30  750943b6-a490-4ee2-9582-ebc75ec103df  2024-07-30 19:53:28.353  ",
      "text/html": "<div>\n<style scoped>\n    .dataframe tbody tr th:only-of-type {\n        vertical-align: middle;\n    }\n\n    .dataframe tbody tr th {\n        vertical-align: top;\n    }\n\n    .dataframe thead th {\n        text-align: right;\n    }\n</style>\n<table border=\"1\" class=\"dataframe\">\n  <thead>\n    <tr style=\"text-align: right;\">\n      <th></th>\n      <th>_id</th>\n      <th>interaction_polite</th>\n      <th>interaction_dignity</th>\n      <th>interaction_respect</th>\n      <th>cognitive_demands</th>\n      <th>cognitive_resources</th>\n      <th>affect_valence</th>\n      <th>affect_arousal</th>\n      <th>support_effective</th>\n      <th>support_helpful</th>\n      <th>support_beneficial</th>\n      <th>support_adequate</th>\n      <th>support_sensitive</th>\n      <th>support_caring</th>\n      <th>support_understanding</th>\n      <th>support_supportive</th>\n      <th>client_id</th>\n      <th>session_id</th>\n      <th>timestamp</th>\n    </tr>\n  </thead>\n  <tbody>\n    <tr>\n      <th>30</th>\n      <td>66a944b83e2a64e72bcda6f0</td>\n      <td>0</td>\n      <td>1</td>\n      <td>0</td>\n      <td>5</td>\n      <td>5</td>\n      <td>-1</td>\n      <td>1</td>\n      <td>2</td>\n      <td>2</td>\n      <td>2</td>\n      <td>2</td>\n      <td>2</td>\n      <td>2</td>\n      <td>2</td>\n      <td>2</td>\n      <td>604b7169-251b-49d5-a848-7401ef63bce8</td>\n      <td>750943b6-a490-4ee2-9582-ebc75ec103df</td>\n      <td>2024-07-30 19:53:28.353</td>\n    </tr>\n  </tbody>\n</table>\n</div>"
     },
     "execution_count": 220,
     "metadata": {},
     "output_type": "execute_result"
    }
   ],
   "source": [
    "get_data_by_pid(chat_post_task,2)"
   ],
   "metadata": {
    "collapsed": false,
    "ExecuteTime": {
     "end_time": "2024-08-11T02:36:17.953479Z",
     "start_time": "2024-08-11T02:36:17.874643Z"
    }
   },
   "id": "e415eff1269af882"
  },
  {
   "cell_type": "markdown",
   "source": [
    "**Joey J. is a special case, as he has two different session_ids**\n",
    "- Pre-task should only keep the session_id: 5cf80c68-af61-4ea9-b7ea-0f88ecf0c932 \n",
    "    - Skip:  f0a679ee-d321-417c-8504-8ccacd284aaf\n",
    "\n",
    "Can use data for all comparisons"
   ],
   "metadata": {
    "collapsed": false
   },
   "id": "274daad05ae6acec"
  },
  {
   "cell_type": "code",
   "execution_count": 221,
   "outputs": [
    {
     "name": "stdout",
     "output_type": "stream",
     "text": [
      "['d02e2e69-cab5-4f8a-a4b5-9412506211a2'\n",
      " '2b0cfa37-6abd-41cc-8476-dd07742d613a'\n",
      " '88499c85-af2a-4bb6-80d2-f6bc6dc7d8d1'\n",
      " '543af661-e1c5-453e-8cab-61aada59798a'\n",
      " '2ed7e44f-4e28-40be-9fae-b086004ffc4d'\n",
      " '917450bb-a7a2-4d2d-b466-9df647ace933'\n",
      " '06eca6b1-25da-41f9-8e51-524e8f9ebe76'\n",
      " '594bb532-7154-4f2b-ac68-2c0bb9601f7d']\n"
     ]
    }
   ],
   "source": [
    "client_info = get_data_by_pid(chat_client_info, 3)\n",
    "client_list = client_info['client_id'].unique()\n",
    "print(client_list)"
   ],
   "metadata": {
    "collapsed": false,
    "ExecuteTime": {
     "end_time": "2024-08-11T02:36:17.953549Z",
     "start_time": "2024-08-11T02:36:17.878525Z"
    }
   },
   "id": "a97761aeb95d9fe0"
  },
  {
   "cell_type": "code",
   "execution_count": 222,
   "outputs": [],
   "source": [
    "turn_count = get_client_turn_count(3)\n",
    "keep_clients = [x for x in client_list if turn_count[x]>2]"
   ],
   "metadata": {
    "collapsed": false,
    "ExecuteTime": {
     "end_time": "2024-08-11T02:36:17.953582Z",
     "start_time": "2024-08-11T02:36:17.880382Z"
    }
   },
   "id": "88aec608336ddeae"
  },
  {
   "cell_type": "code",
   "execution_count": 223,
   "outputs": [
    {
     "data": {
      "text/plain": "['2b0cfa37-6abd-41cc-8476-dd07742d613a',\n '543af661-e1c5-453e-8cab-61aada59798a',\n '06eca6b1-25da-41f9-8e51-524e8f9ebe76',\n '594bb532-7154-4f2b-ac68-2c0bb9601f7d']"
     },
     "execution_count": 223,
     "metadata": {},
     "output_type": "execute_result"
    }
   ],
   "source": [
    "keep_clients"
   ],
   "metadata": {
    "collapsed": false,
    "ExecuteTime": {
     "end_time": "2024-08-11T02:36:17.953650Z",
     "start_time": "2024-08-11T02:36:17.886712Z"
    }
   },
   "id": "98ffab8050bdd789"
  },
  {
   "cell_type": "code",
   "execution_count": 224,
   "outputs": [
    {
     "data": {
      "text/plain": "                              session_id  \\\n51  5cf80c68-af61-4ea9-b7ea-0f88ecf0c932   \n53  5cf80c68-af61-4ea9-b7ea-0f88ecf0c932   \n56  f0a679ee-d321-417c-8504-8ccacd284aaf   \n57  f0a679ee-d321-417c-8504-8ccacd284aaf   \n\n                               client_id client_name  civil  emo  \n51  2b0cfa37-6abd-41cc-8476-dd07742d613a     Anna Z.    1.0  0.0  \n53  543af661-e1c5-453e-8cab-61aada59798a     Luis H.    1.0  0.0  \n56  06eca6b1-25da-41f9-8e51-524e8f9ebe76     Luis H.    0.0  0.0  \n57  594bb532-7154-4f2b-ac68-2c0bb9601f7d    Jamal K.    0.0  1.0  ",
      "text/html": "<div>\n<style scoped>\n    .dataframe tbody tr th:only-of-type {\n        vertical-align: middle;\n    }\n\n    .dataframe tbody tr th {\n        vertical-align: top;\n    }\n\n    .dataframe thead th {\n        text-align: right;\n    }\n</style>\n<table border=\"1\" class=\"dataframe\">\n  <thead>\n    <tr style=\"text-align: right;\">\n      <th></th>\n      <th>session_id</th>\n      <th>client_id</th>\n      <th>client_name</th>\n      <th>civil</th>\n      <th>emo</th>\n    </tr>\n  </thead>\n  <tbody>\n    <tr>\n      <th>51</th>\n      <td>5cf80c68-af61-4ea9-b7ea-0f88ecf0c932</td>\n      <td>2b0cfa37-6abd-41cc-8476-dd07742d613a</td>\n      <td>Anna Z.</td>\n      <td>1.0</td>\n      <td>0.0</td>\n    </tr>\n    <tr>\n      <th>53</th>\n      <td>5cf80c68-af61-4ea9-b7ea-0f88ecf0c932</td>\n      <td>543af661-e1c5-453e-8cab-61aada59798a</td>\n      <td>Luis H.</td>\n      <td>1.0</td>\n      <td>0.0</td>\n    </tr>\n    <tr>\n      <th>56</th>\n      <td>f0a679ee-d321-417c-8504-8ccacd284aaf</td>\n      <td>06eca6b1-25da-41f9-8e51-524e8f9ebe76</td>\n      <td>Luis H.</td>\n      <td>0.0</td>\n      <td>0.0</td>\n    </tr>\n    <tr>\n      <th>57</th>\n      <td>f0a679ee-d321-417c-8504-8ccacd284aaf</td>\n      <td>594bb532-7154-4f2b-ac68-2c0bb9601f7d</td>\n      <td>Jamal K.</td>\n      <td>0.0</td>\n      <td>1.0</td>\n    </tr>\n  </tbody>\n</table>\n</div>"
     },
     "execution_count": 224,
     "metadata": {},
     "output_type": "execute_result"
    }
   ],
   "source": [
    "client_info[client_info['client_id'].isin(keep_clients)][['session_id','client_id','client_name','civil','emo']]"
   ],
   "metadata": {
    "collapsed": false,
    "ExecuteTime": {
     "end_time": "2024-08-11T02:36:17.953780Z",
     "start_time": "2024-08-11T02:36:17.888681Z"
    }
   },
   "id": "f896536fe7e88d78"
  },
  {
   "cell_type": "code",
   "execution_count": 225,
   "outputs": [
    {
     "data": {
      "text/plain": "                         _id  interaction_polite  interaction_dignity  \\\n13  66a974363e2a64e72bcda6fd                   1                    1   \n14  66a97c45069ba571d34254ca                   2                    2   \n\n    interaction_respect  cognitive_demands  cognitive_resources  \\\n13                    1                  4                    3   \n14                    1                  4                    3   \n\n    affect_valence  affect_arousal  \\\n13               1               1   \n14               2               2   \n\n                                         client_param  \\\n13  name=Anna%20Z.&domain=hotel&category=Product%2...   \n14  name=Samantha%20K.&domain=airlines&category=Pr...   \n\n                              session_id                timestamp  \n13  5cf80c68-af61-4ea9-b7ea-0f88ecf0c932  2024-07-30 23:16:06.115  \n14  f0a679ee-d321-417c-8504-8ccacd284aaf  2024-07-30 23:50:29.107  ",
      "text/html": "<div>\n<style scoped>\n    .dataframe tbody tr th:only-of-type {\n        vertical-align: middle;\n    }\n\n    .dataframe tbody tr th {\n        vertical-align: top;\n    }\n\n    .dataframe thead th {\n        text-align: right;\n    }\n</style>\n<table border=\"1\" class=\"dataframe\">\n  <thead>\n    <tr style=\"text-align: right;\">\n      <th></th>\n      <th>_id</th>\n      <th>interaction_polite</th>\n      <th>interaction_dignity</th>\n      <th>interaction_respect</th>\n      <th>cognitive_demands</th>\n      <th>cognitive_resources</th>\n      <th>affect_valence</th>\n      <th>affect_arousal</th>\n      <th>client_param</th>\n      <th>session_id</th>\n      <th>timestamp</th>\n    </tr>\n  </thead>\n  <tbody>\n    <tr>\n      <th>13</th>\n      <td>66a974363e2a64e72bcda6fd</td>\n      <td>1</td>\n      <td>1</td>\n      <td>1</td>\n      <td>4</td>\n      <td>3</td>\n      <td>1</td>\n      <td>1</td>\n      <td>name=Anna%20Z.&amp;domain=hotel&amp;category=Product%2...</td>\n      <td>5cf80c68-af61-4ea9-b7ea-0f88ecf0c932</td>\n      <td>2024-07-30 23:16:06.115</td>\n    </tr>\n    <tr>\n      <th>14</th>\n      <td>66a97c45069ba571d34254ca</td>\n      <td>2</td>\n      <td>2</td>\n      <td>1</td>\n      <td>4</td>\n      <td>3</td>\n      <td>2</td>\n      <td>2</td>\n      <td>name=Samantha%20K.&amp;domain=airlines&amp;category=Pr...</td>\n      <td>f0a679ee-d321-417c-8504-8ccacd284aaf</td>\n      <td>2024-07-30 23:50:29.107</td>\n    </tr>\n  </tbody>\n</table>\n</div>"
     },
     "execution_count": 225,
     "metadata": {},
     "output_type": "execute_result"
    }
   ],
   "source": [
    "get_data_by_pid(chat_pre_task,3)"
   ],
   "metadata": {
    "collapsed": false,
    "ExecuteTime": {
     "end_time": "2024-08-11T02:36:17.953896Z",
     "start_time": "2024-08-11T02:36:17.899508Z"
    }
   },
   "id": "430ac60bd961ebd3"
  },
  {
   "cell_type": "code",
   "execution_count": 226,
   "outputs": [],
   "source": [
    "### Remove row where session_id is 'f0a679ee-d321-417c-8504-8ccacd284aaf'\n",
    "chat_pre_task = chat_pre_task[chat_pre_task['session_id']!='f0a679ee-d321-417c-8504-8ccacd284aaf']"
   ],
   "metadata": {
    "collapsed": false,
    "ExecuteTime": {
     "end_time": "2024-08-11T02:36:17.953928Z",
     "start_time": "2024-08-11T02:36:17.901137Z"
    }
   },
   "id": "2a1c3294dd13ed54"
  },
  {
   "cell_type": "code",
   "execution_count": 227,
   "outputs": [
    {
     "data": {
      "text/plain": "                         _id  interaction_polite  interaction_dignity  \\\n31  66a97b73069ba571d34254c9                   2                    3   \n32  66a97b9d3e2a64e72bcda704                   2                    3   \n33  66a98013069ba571d34254e1                  -1                   -2   \n34  66a983eb3e2ed7be7c7e789a                  -1                   -1   \n\n    interaction_respect  cognitive_demands  cognitive_resources  \\\n31                    2                  3                    4   \n32                    2                  3                    4   \n33                   -2                  4                    2   \n34                   -1                  5                    2   \n\n    affect_valence  affect_arousal  support_effective  support_helpful  \\\n31               2               1                  2                2   \n32               2               1                  2                2   \n33              -1              -1                  2                2   \n34              -1              -1                  2                2   \n\n    support_beneficial  support_adequate  support_sensitive  support_caring  \\\n31                   2                 2                  1               1   \n32                   2                 2                  1               1   \n33                   2                 1                  1               1   \n34                   1                 1                  1               1   \n\n    support_understanding  support_supportive  \\\n31                      2                   2   \n32                      2                   2   \n33                      2                   1   \n34                      1                   1   \n\n                               client_id  \\\n31  543af661-e1c5-453e-8cab-61aada59798a   \n32  543af661-e1c5-453e-8cab-61aada59798a   \n33  06eca6b1-25da-41f9-8e51-524e8f9ebe76   \n34  594bb532-7154-4f2b-ac68-2c0bb9601f7d   \n\n                              session_id                timestamp  \n31  5cf80c68-af61-4ea9-b7ea-0f88ecf0c932  2024-07-30 23:46:59.919  \n32  5cf80c68-af61-4ea9-b7ea-0f88ecf0c932  2024-07-30 23:47:41.709  \n33  f0a679ee-d321-417c-8504-8ccacd284aaf  2024-07-31 00:06:43.276  \n34  f0a679ee-d321-417c-8504-8ccacd284aaf  2024-07-31 00:23:07.348  ",
      "text/html": "<div>\n<style scoped>\n    .dataframe tbody tr th:only-of-type {\n        vertical-align: middle;\n    }\n\n    .dataframe tbody tr th {\n        vertical-align: top;\n    }\n\n    .dataframe thead th {\n        text-align: right;\n    }\n</style>\n<table border=\"1\" class=\"dataframe\">\n  <thead>\n    <tr style=\"text-align: right;\">\n      <th></th>\n      <th>_id</th>\n      <th>interaction_polite</th>\n      <th>interaction_dignity</th>\n      <th>interaction_respect</th>\n      <th>cognitive_demands</th>\n      <th>cognitive_resources</th>\n      <th>affect_valence</th>\n      <th>affect_arousal</th>\n      <th>support_effective</th>\n      <th>support_helpful</th>\n      <th>support_beneficial</th>\n      <th>support_adequate</th>\n      <th>support_sensitive</th>\n      <th>support_caring</th>\n      <th>support_understanding</th>\n      <th>support_supportive</th>\n      <th>client_id</th>\n      <th>session_id</th>\n      <th>timestamp</th>\n    </tr>\n  </thead>\n  <tbody>\n    <tr>\n      <th>31</th>\n      <td>66a97b73069ba571d34254c9</td>\n      <td>2</td>\n      <td>3</td>\n      <td>2</td>\n      <td>3</td>\n      <td>4</td>\n      <td>2</td>\n      <td>1</td>\n      <td>2</td>\n      <td>2</td>\n      <td>2</td>\n      <td>2</td>\n      <td>1</td>\n      <td>1</td>\n      <td>2</td>\n      <td>2</td>\n      <td>543af661-e1c5-453e-8cab-61aada59798a</td>\n      <td>5cf80c68-af61-4ea9-b7ea-0f88ecf0c932</td>\n      <td>2024-07-30 23:46:59.919</td>\n    </tr>\n    <tr>\n      <th>32</th>\n      <td>66a97b9d3e2a64e72bcda704</td>\n      <td>2</td>\n      <td>3</td>\n      <td>2</td>\n      <td>3</td>\n      <td>4</td>\n      <td>2</td>\n      <td>1</td>\n      <td>2</td>\n      <td>2</td>\n      <td>2</td>\n      <td>2</td>\n      <td>1</td>\n      <td>1</td>\n      <td>2</td>\n      <td>2</td>\n      <td>543af661-e1c5-453e-8cab-61aada59798a</td>\n      <td>5cf80c68-af61-4ea9-b7ea-0f88ecf0c932</td>\n      <td>2024-07-30 23:47:41.709</td>\n    </tr>\n    <tr>\n      <th>33</th>\n      <td>66a98013069ba571d34254e1</td>\n      <td>-1</td>\n      <td>-2</td>\n      <td>-2</td>\n      <td>4</td>\n      <td>2</td>\n      <td>-1</td>\n      <td>-1</td>\n      <td>2</td>\n      <td>2</td>\n      <td>2</td>\n      <td>1</td>\n      <td>1</td>\n      <td>1</td>\n      <td>2</td>\n      <td>1</td>\n      <td>06eca6b1-25da-41f9-8e51-524e8f9ebe76</td>\n      <td>f0a679ee-d321-417c-8504-8ccacd284aaf</td>\n      <td>2024-07-31 00:06:43.276</td>\n    </tr>\n    <tr>\n      <th>34</th>\n      <td>66a983eb3e2ed7be7c7e789a</td>\n      <td>-1</td>\n      <td>-1</td>\n      <td>-1</td>\n      <td>5</td>\n      <td>2</td>\n      <td>-1</td>\n      <td>-1</td>\n      <td>2</td>\n      <td>2</td>\n      <td>1</td>\n      <td>1</td>\n      <td>1</td>\n      <td>1</td>\n      <td>1</td>\n      <td>1</td>\n      <td>594bb532-7154-4f2b-ac68-2c0bb9601f7d</td>\n      <td>f0a679ee-d321-417c-8504-8ccacd284aaf</td>\n      <td>2024-07-31 00:23:07.348</td>\n    </tr>\n  </tbody>\n</table>\n</div>"
     },
     "execution_count": 227,
     "metadata": {},
     "output_type": "execute_result"
    }
   ],
   "source": [
    "get_data_by_pid(chat_post_task,3)"
   ],
   "metadata": {
    "collapsed": false,
    "ExecuteTime": {
     "end_time": "2024-08-11T02:36:17.954090Z",
     "start_time": "2024-08-11T02:36:17.903107Z"
    }
   },
   "id": "de579e312b912b0a"
  },
  {
   "cell_type": "markdown",
   "source": [
    "**Brittany is a special case, as she has two different session_ids**\n",
    "- Pre-task should only keep the session_id: 55238f70-fc6f-457b-8d3f-8a1679dc77e3\n",
    "    - Skip:  4b8bb159-88fd-4a12-b72b-966981d385ef\n",
    "- Post-task for the client_id: 0571ce3a-d4b7-430d-8c70-f2ac6c6f42da\n",
    "    - Is in  31633a46-f92e-4ecb-be08-580fb09eb876"
   ],
   "metadata": {
    "collapsed": false
   },
   "id": "a04d13d96447862a"
  },
  {
   "cell_type": "code",
   "execution_count": 228,
   "outputs": [
    {
     "name": "stdout",
     "output_type": "stream",
     "text": [
      "['c8862574-9c18-4d38-adfc-00b04ace045c'\n",
      " '3e1f2059-4407-494c-be55-6eac76299913'\n",
      " '7d1e680e-7a9f-4f9e-a3cf-295cd4f9cfa8'\n",
      " '5ff55094-5811-4d9d-99db-58e1091cced6'\n",
      " 'dd4c4e5e-9afc-4461-9187-7f5a2274aff1'\n",
      " 'b46d9268-9197-4779-bee8-485462440462'\n",
      " '54cd52c1-bbe3-41c8-9a30-6c58801a2b0d'\n",
      " 'ddb7b6c3-f8d8-471d-b60c-60500075f592'\n",
      " '0571ce3a-d4b7-430d-8c70-f2ac6c6f42da'\n",
      " '31633a46-f92e-4ecb-be08-580fb09eb876']\n"
     ]
    }
   ],
   "source": [
    "client_info = get_data_by_pid(chat_client_info, 6)\n",
    "client_list = client_info['client_id'].unique()\n",
    "print(client_list)"
   ],
   "metadata": {
    "collapsed": false,
    "ExecuteTime": {
     "end_time": "2024-08-11T02:36:17.954170Z",
     "start_time": "2024-08-11T02:36:17.908338Z"
    }
   },
   "id": "e7e1695633a2ca3"
  },
  {
   "cell_type": "code",
   "execution_count": 229,
   "outputs": [],
   "source": [
    "turn_count = get_client_turn_count(6)\n",
    "keep_clients = [x for x in client_list if turn_count[x]>2]"
   ],
   "metadata": {
    "collapsed": false,
    "ExecuteTime": {
     "end_time": "2024-08-11T02:36:17.954245Z",
     "start_time": "2024-08-11T02:36:17.913170Z"
    }
   },
   "id": "da83d0d3e7ae7b82"
  },
  {
   "cell_type": "code",
   "execution_count": 230,
   "outputs": [
    {
     "data": {
      "text/plain": "['c8862574-9c18-4d38-adfc-00b04ace045c',\n '3e1f2059-4407-494c-be55-6eac76299913',\n '7d1e680e-7a9f-4f9e-a3cf-295cd4f9cfa8',\n '5ff55094-5811-4d9d-99db-58e1091cced6',\n '0571ce3a-d4b7-430d-8c70-f2ac6c6f42da']"
     },
     "execution_count": 230,
     "metadata": {},
     "output_type": "execute_result"
    }
   ],
   "source": [
    "keep_clients"
   ],
   "metadata": {
    "collapsed": false,
    "ExecuteTime": {
     "end_time": "2024-08-11T02:36:17.954327Z",
     "start_time": "2024-08-11T02:36:17.917139Z"
    }
   },
   "id": "2cbf2cf442451998"
  },
  {
   "cell_type": "code",
   "execution_count": 231,
   "outputs": [
    {
     "data": {
      "text/plain": "                              session_id  \\\n76  55238f70-fc6f-457b-8d3f-8a1679dc77e3   \n77  55238f70-fc6f-457b-8d3f-8a1679dc77e3   \n78  55238f70-fc6f-457b-8d3f-8a1679dc77e3   \n79  55238f70-fc6f-457b-8d3f-8a1679dc77e3   \n84  4b8bb159-88fd-4a12-b72b-966981d385ef   \n\n                               client_id client_name  civil  emo  \n76  c8862574-9c18-4d38-adfc-00b04ace045c  Samantha K    1.0  0.0  \n77  3e1f2059-4407-494c-be55-6eac76299913     Jamal K    1.0  0.0  \n78  7d1e680e-7a9f-4f9e-a3cf-295cd4f9cfa8    Elijah P    0.0  0.0  \n79  5ff55094-5811-4d9d-99db-58e1091cced6      Anna Z    0.0  1.0  \n84  0571ce3a-d4b7-430d-8c70-f2ac6c6f42da  Samantha K    0.0  1.0  ",
      "text/html": "<div>\n<style scoped>\n    .dataframe tbody tr th:only-of-type {\n        vertical-align: middle;\n    }\n\n    .dataframe tbody tr th {\n        vertical-align: top;\n    }\n\n    .dataframe thead th {\n        text-align: right;\n    }\n</style>\n<table border=\"1\" class=\"dataframe\">\n  <thead>\n    <tr style=\"text-align: right;\">\n      <th></th>\n      <th>session_id</th>\n      <th>client_id</th>\n      <th>client_name</th>\n      <th>civil</th>\n      <th>emo</th>\n    </tr>\n  </thead>\n  <tbody>\n    <tr>\n      <th>76</th>\n      <td>55238f70-fc6f-457b-8d3f-8a1679dc77e3</td>\n      <td>c8862574-9c18-4d38-adfc-00b04ace045c</td>\n      <td>Samantha K</td>\n      <td>1.0</td>\n      <td>0.0</td>\n    </tr>\n    <tr>\n      <th>77</th>\n      <td>55238f70-fc6f-457b-8d3f-8a1679dc77e3</td>\n      <td>3e1f2059-4407-494c-be55-6eac76299913</td>\n      <td>Jamal K</td>\n      <td>1.0</td>\n      <td>0.0</td>\n    </tr>\n    <tr>\n      <th>78</th>\n      <td>55238f70-fc6f-457b-8d3f-8a1679dc77e3</td>\n      <td>7d1e680e-7a9f-4f9e-a3cf-295cd4f9cfa8</td>\n      <td>Elijah P</td>\n      <td>0.0</td>\n      <td>0.0</td>\n    </tr>\n    <tr>\n      <th>79</th>\n      <td>55238f70-fc6f-457b-8d3f-8a1679dc77e3</td>\n      <td>5ff55094-5811-4d9d-99db-58e1091cced6</td>\n      <td>Anna Z</td>\n      <td>0.0</td>\n      <td>1.0</td>\n    </tr>\n    <tr>\n      <th>84</th>\n      <td>4b8bb159-88fd-4a12-b72b-966981d385ef</td>\n      <td>0571ce3a-d4b7-430d-8c70-f2ac6c6f42da</td>\n      <td>Samantha K</td>\n      <td>0.0</td>\n      <td>1.0</td>\n    </tr>\n  </tbody>\n</table>\n</div>"
     },
     "execution_count": 231,
     "metadata": {},
     "output_type": "execute_result"
    }
   ],
   "source": [
    "client_info[client_info['client_id'].isin(keep_clients)][['session_id','client_id','client_name','civil','emo']]"
   ],
   "metadata": {
    "collapsed": false,
    "ExecuteTime": {
     "end_time": "2024-08-11T02:36:17.954452Z",
     "start_time": "2024-08-11T02:36:17.920720Z"
    }
   },
   "id": "b0e979873f774c1"
  },
  {
   "cell_type": "code",
   "execution_count": 232,
   "outputs": [],
   "source": [
    "### Remove row where client_id is '5ff55094-5811-4d9d-99db-58e1091cced6'\n",
    "client_info = client_info[client_info['client_id']!='5ff55094-5811-4d9d-99db-58e1091cced6']"
   ],
   "metadata": {
    "collapsed": false,
    "ExecuteTime": {
     "end_time": "2024-08-11T02:36:17.954517Z",
     "start_time": "2024-08-11T02:36:17.922654Z"
    }
   },
   "id": "6171e2cc87a4b33b"
  },
  {
   "cell_type": "code",
   "execution_count": 233,
   "outputs": [
    {
     "data": {
      "text/plain": "                         _id  interaction_polite  interaction_dignity  \\\n20  66ac18f50c9a67655550109a                   1                    0   \n21  66ac2115f122a1c9aea2cff1                   2                    2   \n\n    interaction_respect  cognitive_demands  cognitive_resources  \\\n20                    1                  3                    3   \n21                    1                  3                    3   \n\n    affect_valence  affect_arousal  \\\n20               1               0   \n21               1               1   \n\n                                         client_param  \\\n20  name=Samantha%20K&domain=airlines&category=Res...   \n21  name=Luis%20H&domain=airlines&category=Policy&...   \n\n                              session_id                timestamp  \n20  55238f70-fc6f-457b-8d3f-8a1679dc77e3  2024-08-01 23:23:33.369  \n21  4b8bb159-88fd-4a12-b72b-966981d385ef  2024-08-01 23:58:13.316  ",
      "text/html": "<div>\n<style scoped>\n    .dataframe tbody tr th:only-of-type {\n        vertical-align: middle;\n    }\n\n    .dataframe tbody tr th {\n        vertical-align: top;\n    }\n\n    .dataframe thead th {\n        text-align: right;\n    }\n</style>\n<table border=\"1\" class=\"dataframe\">\n  <thead>\n    <tr style=\"text-align: right;\">\n      <th></th>\n      <th>_id</th>\n      <th>interaction_polite</th>\n      <th>interaction_dignity</th>\n      <th>interaction_respect</th>\n      <th>cognitive_demands</th>\n      <th>cognitive_resources</th>\n      <th>affect_valence</th>\n      <th>affect_arousal</th>\n      <th>client_param</th>\n      <th>session_id</th>\n      <th>timestamp</th>\n    </tr>\n  </thead>\n  <tbody>\n    <tr>\n      <th>20</th>\n      <td>66ac18f50c9a67655550109a</td>\n      <td>1</td>\n      <td>0</td>\n      <td>1</td>\n      <td>3</td>\n      <td>3</td>\n      <td>1</td>\n      <td>0</td>\n      <td>name=Samantha%20K&amp;domain=airlines&amp;category=Res...</td>\n      <td>55238f70-fc6f-457b-8d3f-8a1679dc77e3</td>\n      <td>2024-08-01 23:23:33.369</td>\n    </tr>\n    <tr>\n      <th>21</th>\n      <td>66ac2115f122a1c9aea2cff1</td>\n      <td>2</td>\n      <td>2</td>\n      <td>1</td>\n      <td>3</td>\n      <td>3</td>\n      <td>1</td>\n      <td>1</td>\n      <td>name=Luis%20H&amp;domain=airlines&amp;category=Policy&amp;...</td>\n      <td>4b8bb159-88fd-4a12-b72b-966981d385ef</td>\n      <td>2024-08-01 23:58:13.316</td>\n    </tr>\n  </tbody>\n</table>\n</div>"
     },
     "execution_count": 233,
     "metadata": {},
     "output_type": "execute_result"
    }
   ],
   "source": [
    "get_data_by_pid(chat_pre_task,6)"
   ],
   "metadata": {
    "collapsed": false,
    "ExecuteTime": {
     "end_time": "2024-08-11T02:36:17.954637Z",
     "start_time": "2024-08-11T02:36:17.925627Z"
    }
   },
   "id": "25ab35d4f640e8ba"
  },
  {
   "cell_type": "code",
   "execution_count": 234,
   "outputs": [],
   "source": [
    "### Remove row where session_id is '4b8bb159-88fd-4a12-b72b-966981d385ef'\n",
    "chat_pre_task = chat_pre_task[chat_pre_task['session_id']!='4b8bb159-88fd-4a12-b72b-966981d385ef']"
   ],
   "metadata": {
    "collapsed": false,
    "ExecuteTime": {
     "end_time": "2024-08-11T02:36:17.954670Z",
     "start_time": "2024-08-11T02:36:17.927808Z"
    }
   },
   "id": "f78430a98705cb0"
  },
  {
   "cell_type": "code",
   "execution_count": 235,
   "outputs": [
    {
     "data": {
      "text/plain": "                         _id  interaction_polite  interaction_dignity  \\\n44  66ac1d670c9a6765555010ad                   3                    3   \n45  66ac1f640c9a6765555010b3                  -1                   -1   \n46  66ac1f640c9a6765555010b4                  -1                   -1   \n47  66ac1f650c9a6765555010b5                  -1                   -1   \n48  66ac1f690c9a6765555010b6                  -1                   -1   \n49  66ac28df0c9a6765555010ca                  -2                   -2   \n50  66ac300ef122a1c9aea2d005                  -2                   -2   \n\n    interaction_respect  cognitive_demands  cognitive_resources  \\\n44                    3                  3                    5   \n45                   -1                  4                    4   \n46                   -1                  4                    4   \n47                   -1                  4                    4   \n48                   -1                  4                    4   \n49                   -2                  4                    4   \n50                   -2                  4                    4   \n\n    affect_valence  affect_arousal  support_effective  support_helpful  \\\n44               2               2                  2                2   \n45              -1               1                  1                1   \n46              -1               1                  1                1   \n47              -1               1                  1                1   \n48              -1               1                  1                1   \n49              -2               1                  0                1   \n50              -2               1                  0                1   \n\n    support_beneficial  support_adequate  support_sensitive  support_caring  \\\n44                   2                 2                  1               1   \n45                   1                 1                  1               1   \n46                   1                 1                  1               1   \n47                   1                 1                  1               1   \n48                   1                 1                  1               1   \n49                   1                 1                  0               0   \n50                   1                 1                  0               0   \n\n    support_understanding  support_supportive  \\\n44                      2                   2   \n45                      1                   1   \n46                      1                   1   \n47                      1                   1   \n48                      1                   1   \n49                      1                  -1   \n50                      1                  -1   \n\n                               client_id  \\\n44  3e1f2059-4407-494c-be55-6eac76299913   \n45  7d1e680e-7a9f-4f9e-a3cf-295cd4f9cfa8   \n46  7d1e680e-7a9f-4f9e-a3cf-295cd4f9cfa8   \n47  7d1e680e-7a9f-4f9e-a3cf-295cd4f9cfa8   \n48  7d1e680e-7a9f-4f9e-a3cf-295cd4f9cfa8   \n49  31633a46-f92e-4ecb-be08-580fb09eb876   \n50  31633a46-f92e-4ecb-be08-580fb09eb876   \n\n                              session_id                timestamp  \n44  55238f70-fc6f-457b-8d3f-8a1679dc77e3  2024-08-01 23:42:31.323  \n45  55238f70-fc6f-457b-8d3f-8a1679dc77e3  2024-08-01 23:51:00.912  \n46  55238f70-fc6f-457b-8d3f-8a1679dc77e3  2024-08-01 23:51:00.977  \n47  55238f70-fc6f-457b-8d3f-8a1679dc77e3  2024-08-01 23:51:01.050  \n48  55238f70-fc6f-457b-8d3f-8a1679dc77e3  2024-08-01 23:51:05.812  \n49  4b8bb159-88fd-4a12-b72b-966981d385ef  2024-08-02 00:31:27.861  \n50  4b8bb159-88fd-4a12-b72b-966981d385ef  2024-08-02 01:02:06.196  ",
      "text/html": "<div>\n<style scoped>\n    .dataframe tbody tr th:only-of-type {\n        vertical-align: middle;\n    }\n\n    .dataframe tbody tr th {\n        vertical-align: top;\n    }\n\n    .dataframe thead th {\n        text-align: right;\n    }\n</style>\n<table border=\"1\" class=\"dataframe\">\n  <thead>\n    <tr style=\"text-align: right;\">\n      <th></th>\n      <th>_id</th>\n      <th>interaction_polite</th>\n      <th>interaction_dignity</th>\n      <th>interaction_respect</th>\n      <th>cognitive_demands</th>\n      <th>cognitive_resources</th>\n      <th>affect_valence</th>\n      <th>affect_arousal</th>\n      <th>support_effective</th>\n      <th>support_helpful</th>\n      <th>support_beneficial</th>\n      <th>support_adequate</th>\n      <th>support_sensitive</th>\n      <th>support_caring</th>\n      <th>support_understanding</th>\n      <th>support_supportive</th>\n      <th>client_id</th>\n      <th>session_id</th>\n      <th>timestamp</th>\n    </tr>\n  </thead>\n  <tbody>\n    <tr>\n      <th>44</th>\n      <td>66ac1d670c9a6765555010ad</td>\n      <td>3</td>\n      <td>3</td>\n      <td>3</td>\n      <td>3</td>\n      <td>5</td>\n      <td>2</td>\n      <td>2</td>\n      <td>2</td>\n      <td>2</td>\n      <td>2</td>\n      <td>2</td>\n      <td>1</td>\n      <td>1</td>\n      <td>2</td>\n      <td>2</td>\n      <td>3e1f2059-4407-494c-be55-6eac76299913</td>\n      <td>55238f70-fc6f-457b-8d3f-8a1679dc77e3</td>\n      <td>2024-08-01 23:42:31.323</td>\n    </tr>\n    <tr>\n      <th>45</th>\n      <td>66ac1f640c9a6765555010b3</td>\n      <td>-1</td>\n      <td>-1</td>\n      <td>-1</td>\n      <td>4</td>\n      <td>4</td>\n      <td>-1</td>\n      <td>1</td>\n      <td>1</td>\n      <td>1</td>\n      <td>1</td>\n      <td>1</td>\n      <td>1</td>\n      <td>1</td>\n      <td>1</td>\n      <td>1</td>\n      <td>7d1e680e-7a9f-4f9e-a3cf-295cd4f9cfa8</td>\n      <td>55238f70-fc6f-457b-8d3f-8a1679dc77e3</td>\n      <td>2024-08-01 23:51:00.912</td>\n    </tr>\n    <tr>\n      <th>46</th>\n      <td>66ac1f640c9a6765555010b4</td>\n      <td>-1</td>\n      <td>-1</td>\n      <td>-1</td>\n      <td>4</td>\n      <td>4</td>\n      <td>-1</td>\n      <td>1</td>\n      <td>1</td>\n      <td>1</td>\n      <td>1</td>\n      <td>1</td>\n      <td>1</td>\n      <td>1</td>\n      <td>1</td>\n      <td>1</td>\n      <td>7d1e680e-7a9f-4f9e-a3cf-295cd4f9cfa8</td>\n      <td>55238f70-fc6f-457b-8d3f-8a1679dc77e3</td>\n      <td>2024-08-01 23:51:00.977</td>\n    </tr>\n    <tr>\n      <th>47</th>\n      <td>66ac1f650c9a6765555010b5</td>\n      <td>-1</td>\n      <td>-1</td>\n      <td>-1</td>\n      <td>4</td>\n      <td>4</td>\n      <td>-1</td>\n      <td>1</td>\n      <td>1</td>\n      <td>1</td>\n      <td>1</td>\n      <td>1</td>\n      <td>1</td>\n      <td>1</td>\n      <td>1</td>\n      <td>1</td>\n      <td>7d1e680e-7a9f-4f9e-a3cf-295cd4f9cfa8</td>\n      <td>55238f70-fc6f-457b-8d3f-8a1679dc77e3</td>\n      <td>2024-08-01 23:51:01.050</td>\n    </tr>\n    <tr>\n      <th>48</th>\n      <td>66ac1f690c9a6765555010b6</td>\n      <td>-1</td>\n      <td>-1</td>\n      <td>-1</td>\n      <td>4</td>\n      <td>4</td>\n      <td>-1</td>\n      <td>1</td>\n      <td>1</td>\n      <td>1</td>\n      <td>1</td>\n      <td>1</td>\n      <td>1</td>\n      <td>1</td>\n      <td>1</td>\n      <td>1</td>\n      <td>7d1e680e-7a9f-4f9e-a3cf-295cd4f9cfa8</td>\n      <td>55238f70-fc6f-457b-8d3f-8a1679dc77e3</td>\n      <td>2024-08-01 23:51:05.812</td>\n    </tr>\n    <tr>\n      <th>49</th>\n      <td>66ac28df0c9a6765555010ca</td>\n      <td>-2</td>\n      <td>-2</td>\n      <td>-2</td>\n      <td>4</td>\n      <td>4</td>\n      <td>-2</td>\n      <td>1</td>\n      <td>0</td>\n      <td>1</td>\n      <td>1</td>\n      <td>1</td>\n      <td>0</td>\n      <td>0</td>\n      <td>1</td>\n      <td>-1</td>\n      <td>31633a46-f92e-4ecb-be08-580fb09eb876</td>\n      <td>4b8bb159-88fd-4a12-b72b-966981d385ef</td>\n      <td>2024-08-02 00:31:27.861</td>\n    </tr>\n    <tr>\n      <th>50</th>\n      <td>66ac300ef122a1c9aea2d005</td>\n      <td>-2</td>\n      <td>-2</td>\n      <td>-2</td>\n      <td>4</td>\n      <td>4</td>\n      <td>-2</td>\n      <td>1</td>\n      <td>0</td>\n      <td>1</td>\n      <td>1</td>\n      <td>1</td>\n      <td>0</td>\n      <td>0</td>\n      <td>1</td>\n      <td>-1</td>\n      <td>31633a46-f92e-4ecb-be08-580fb09eb876</td>\n      <td>4b8bb159-88fd-4a12-b72b-966981d385ef</td>\n      <td>2024-08-02 01:02:06.196</td>\n    </tr>\n  </tbody>\n</table>\n</div>"
     },
     "execution_count": 235,
     "metadata": {},
     "output_type": "execute_result"
    }
   ],
   "source": [
    "get_data_by_pid(chat_post_task,6)"
   ],
   "metadata": {
    "collapsed": false,
    "ExecuteTime": {
     "end_time": "2024-08-11T02:36:17.954864Z",
     "start_time": "2024-08-11T02:36:17.931865Z"
    }
   },
   "id": "77b809b111c7c1d4"
  },
  {
   "cell_type": "code",
   "execution_count": 236,
   "outputs": [],
   "source": [
    "'''\n",
    "for each client_id in chat_post_task\n",
    "keep row with earliest timestamp\n",
    "(additional rows are erroneous duplicates)\n",
    "'''\n",
    "chat_post_task = chat_post_task.sort_values('timestamp').drop_duplicates(['client_id'])"
   ],
   "metadata": {
    "collapsed": false,
    "ExecuteTime": {
     "end_time": "2024-08-11T02:36:17.954895Z",
     "start_time": "2024-08-11T02:36:17.934014Z"
    }
   },
   "id": "cf2d03e05eda9361"
  },
  {
   "cell_type": "code",
   "execution_count": 237,
   "outputs": [
    {
     "data": {
      "text/plain": "                         _id  interaction_polite  interaction_dignity  \\\n44  66ac1d670c9a6765555010ad                   3                    3   \n45  66ac1f640c9a6765555010b3                  -1                   -1   \n49  66ac28df0c9a6765555010ca                  -2                   -2   \n\n    interaction_respect  cognitive_demands  cognitive_resources  \\\n44                    3                  3                    5   \n45                   -1                  4                    4   \n49                   -2                  4                    4   \n\n    affect_valence  affect_arousal  support_effective  support_helpful  \\\n44               2               2                  2                2   \n45              -1               1                  1                1   \n49              -2               1                  0                1   \n\n    support_beneficial  support_adequate  support_sensitive  support_caring  \\\n44                   2                 2                  1               1   \n45                   1                 1                  1               1   \n49                   1                 1                  0               0   \n\n    support_understanding  support_supportive  \\\n44                      2                   2   \n45                      1                   1   \n49                      1                  -1   \n\n                               client_id  \\\n44  3e1f2059-4407-494c-be55-6eac76299913   \n45  7d1e680e-7a9f-4f9e-a3cf-295cd4f9cfa8   \n49  31633a46-f92e-4ecb-be08-580fb09eb876   \n\n                              session_id                timestamp  \n44  55238f70-fc6f-457b-8d3f-8a1679dc77e3  2024-08-01 23:42:31.323  \n45  55238f70-fc6f-457b-8d3f-8a1679dc77e3  2024-08-01 23:51:00.912  \n49  4b8bb159-88fd-4a12-b72b-966981d385ef  2024-08-02 00:31:27.861  ",
      "text/html": "<div>\n<style scoped>\n    .dataframe tbody tr th:only-of-type {\n        vertical-align: middle;\n    }\n\n    .dataframe tbody tr th {\n        vertical-align: top;\n    }\n\n    .dataframe thead th {\n        text-align: right;\n    }\n</style>\n<table border=\"1\" class=\"dataframe\">\n  <thead>\n    <tr style=\"text-align: right;\">\n      <th></th>\n      <th>_id</th>\n      <th>interaction_polite</th>\n      <th>interaction_dignity</th>\n      <th>interaction_respect</th>\n      <th>cognitive_demands</th>\n      <th>cognitive_resources</th>\n      <th>affect_valence</th>\n      <th>affect_arousal</th>\n      <th>support_effective</th>\n      <th>support_helpful</th>\n      <th>support_beneficial</th>\n      <th>support_adequate</th>\n      <th>support_sensitive</th>\n      <th>support_caring</th>\n      <th>support_understanding</th>\n      <th>support_supportive</th>\n      <th>client_id</th>\n      <th>session_id</th>\n      <th>timestamp</th>\n    </tr>\n  </thead>\n  <tbody>\n    <tr>\n      <th>44</th>\n      <td>66ac1d670c9a6765555010ad</td>\n      <td>3</td>\n      <td>3</td>\n      <td>3</td>\n      <td>3</td>\n      <td>5</td>\n      <td>2</td>\n      <td>2</td>\n      <td>2</td>\n      <td>2</td>\n      <td>2</td>\n      <td>2</td>\n      <td>1</td>\n      <td>1</td>\n      <td>2</td>\n      <td>2</td>\n      <td>3e1f2059-4407-494c-be55-6eac76299913</td>\n      <td>55238f70-fc6f-457b-8d3f-8a1679dc77e3</td>\n      <td>2024-08-01 23:42:31.323</td>\n    </tr>\n    <tr>\n      <th>45</th>\n      <td>66ac1f640c9a6765555010b3</td>\n      <td>-1</td>\n      <td>-1</td>\n      <td>-1</td>\n      <td>4</td>\n      <td>4</td>\n      <td>-1</td>\n      <td>1</td>\n      <td>1</td>\n      <td>1</td>\n      <td>1</td>\n      <td>1</td>\n      <td>1</td>\n      <td>1</td>\n      <td>1</td>\n      <td>1</td>\n      <td>7d1e680e-7a9f-4f9e-a3cf-295cd4f9cfa8</td>\n      <td>55238f70-fc6f-457b-8d3f-8a1679dc77e3</td>\n      <td>2024-08-01 23:51:00.912</td>\n    </tr>\n    <tr>\n      <th>49</th>\n      <td>66ac28df0c9a6765555010ca</td>\n      <td>-2</td>\n      <td>-2</td>\n      <td>-2</td>\n      <td>4</td>\n      <td>4</td>\n      <td>-2</td>\n      <td>1</td>\n      <td>0</td>\n      <td>1</td>\n      <td>1</td>\n      <td>1</td>\n      <td>0</td>\n      <td>0</td>\n      <td>1</td>\n      <td>-1</td>\n      <td>31633a46-f92e-4ecb-be08-580fb09eb876</td>\n      <td>4b8bb159-88fd-4a12-b72b-966981d385ef</td>\n      <td>2024-08-02 00:31:27.861</td>\n    </tr>\n  </tbody>\n</table>\n</div>"
     },
     "execution_count": 237,
     "metadata": {},
     "output_type": "execute_result"
    }
   ],
   "source": [
    "get_data_by_pid(chat_post_task,6)"
   ],
   "metadata": {
    "collapsed": false,
    "ExecuteTime": {
     "end_time": "2024-08-11T02:36:17.955040Z",
     "start_time": "2024-08-11T02:36:17.937810Z"
    }
   },
   "id": "3f978cc84b133822"
  },
  {
   "cell_type": "code",
   "execution_count": 238,
   "outputs": [],
   "source": [
    "chat_post_task = replace_client_id(chat_post_task, '31633a46-f92e-4ecb-be08-580fb09eb876' , '0571ce3a-d4b7-430d-8c70-f2ac6c6f42da')"
   ],
   "metadata": {
    "collapsed": false,
    "ExecuteTime": {
     "end_time": "2024-08-11T02:36:17.955072Z",
     "start_time": "2024-08-11T02:36:17.939782Z"
    }
   },
   "id": "c01092b315362b1a"
  },
  {
   "cell_type": "markdown",
   "source": [
    "## All Cases"
   ],
   "metadata": {
    "collapsed": false
   },
   "id": "d2678d218ff93480"
  },
  {
   "cell_type": "code",
   "execution_count": 239,
   "outputs": [],
   "source": [
    "chat_client_info = chat_client_info[['session_id','client_id','client_name','civil','emo','timestamp']]"
   ],
   "metadata": {
    "collapsed": false,
    "ExecuteTime": {
     "end_time": "2024-08-11T02:36:17.955102Z",
     "start_time": "2024-08-11T02:36:17.941836Z"
    }
   },
   "id": "99f875bb1e2eecb5"
  },
  {
   "cell_type": "code",
   "execution_count": 240,
   "outputs": [],
   "source": [
    "chat_client_info = join_to_participant_data(participant_log, chat_client_info)\n",
    "chat_history = join_to_participant_data(participant_log, chat_history)\n",
    "chat_in_task = join_to_participant_data(participant_log, chat_in_task)\n",
    "chat_post_task = join_to_participant_data(participant_log, chat_post_task)\n",
    "chat_pre_task = join_to_participant_data(participant_log, chat_pre_task)"
   ],
   "metadata": {
    "collapsed": false,
    "ExecuteTime": {
     "end_time": "2024-08-11T02:36:17.966080Z",
     "start_time": "2024-08-11T02:36:17.945480Z"
    }
   },
   "id": "bed0bc489e96e3"
  },
  {
   "cell_type": "code",
   "execution_count": 241,
   "outputs": [],
   "source": [
    "'''\n",
    "for each client_id in chat_history\n",
    "if turn_number when sender is \"representative\" == turn_number when sender is \"client\"\n",
    "keep client_id\n",
    "'''\n",
    "chat_history_turns = chat_history.groupby(['client_id','turn_number']).sender.nunique().reset_index()\n",
    "chat_history_turns = chat_history_turns[chat_history_turns['sender']==2]\n",
    "\n",
    "chat_history = pd.merge(chat_history, chat_history_turns, on=['client_id','turn_number'], how='inner')"
   ],
   "metadata": {
    "collapsed": false,
    "ExecuteTime": {
     "end_time": "2024-08-11T02:36:17.985395Z",
     "start_time": "2024-08-11T02:36:17.950863Z"
    }
   },
   "id": "83d882712b22aed6"
  },
  {
   "cell_type": "code",
   "execution_count": 242,
   "outputs": [],
   "source": [
    "'''\n",
    "Only keep data when client has max turns greater than 2\n",
    "'''\n",
    "max_turns = chat_history.groupby(['client_id']).turn_number.max()\n",
    "client_ids_w_max_turns = max_turns[max_turns>=2].index\n",
    "\n",
    "chat_history = chat_history[chat_history['client_id'].isin(client_ids_w_max_turns)]\n",
    "chat_in_task = chat_in_task[chat_in_task['client_id'].isin(client_ids_w_max_turns)]\n",
    "chat_post_task = chat_post_task[chat_post_task['client_id'].isin(client_ids_w_max_turns)]\n",
    "chat_client_info = chat_client_info[chat_client_info['client_id'].isin(client_ids_w_max_turns)]"
   ],
   "metadata": {
    "collapsed": false,
    "ExecuteTime": {
     "end_time": "2024-08-11T02:36:18.011379Z",
     "start_time": "2024-08-11T02:36:17.954490Z"
    }
   },
   "id": "f4a0126aa00fb705"
  },
  {
   "cell_type": "code",
   "execution_count": 248,
   "outputs": [],
   "source": [
    "'''\n",
    "Group chat_client_info by pid\n",
    "remove client_id with earliest timestamp\n",
    "'''\n",
    "pid_no_practice = [2]\n",
    "clients_simulation = chat_client_info.groupby(['pid']).apply(lambda x: x.sort_values('timestamp').iloc[1:] if x.name not in pid_no_practice else x, include_groups=False).client_id.unique().tolist()"
   ],
   "metadata": {
    "collapsed": false,
    "ExecuteTime": {
     "end_time": "2024-08-11T02:38:27.657318Z",
     "start_time": "2024-08-11T02:38:27.644837Z"
    }
   },
   "id": "e4a76884313cffcf"
  },
  {
   "cell_type": "code",
   "execution_count": 250,
   "outputs": [],
   "source": [
    "chat_history = chat_history[chat_history['client_id'].isin(clients_simulation)]\n",
    "chat_in_task = chat_in_task[chat_in_task['client_id'].isin(clients_simulation)]\n",
    "chat_post_task = chat_post_task[chat_post_task['client_id'].isin(clients_simulation)]\n",
    "chat_client_info = chat_client_info[chat_client_info['client_id'].isin(clients_simulation)]"
   ],
   "metadata": {
    "collapsed": false,
    "ExecuteTime": {
     "end_time": "2024-08-11T02:39:50.037873Z",
     "start_time": "2024-08-11T02:39:50.013872Z"
    }
   },
   "id": "6b4baaffb3d4dc34"
  },
  {
   "cell_type": "code",
   "execution_count": null,
   "outputs": [],
   "source": [],
   "metadata": {
    "collapsed": false,
    "ExecuteTime": {
     "start_time": "2024-08-11T02:16:34.850076Z"
    }
   },
   "id": "fc75f0b5d9d4091c"
  }
 ],
 "metadata": {
  "kernelspec": {
   "display_name": "Python 3",
   "language": "python",
   "name": "python3"
  },
  "language_info": {
   "codemirror_mode": {
    "name": "ipython",
    "version": 2
   },
   "file_extension": ".py",
   "mimetype": "text/x-python",
   "name": "python",
   "nbconvert_exporter": "python",
   "pygments_lexer": "ipython2",
   "version": "2.7.6"
  }
 },
 "nbformat": 4,
 "nbformat_minor": 5
}
