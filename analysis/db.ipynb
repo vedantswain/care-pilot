{
 "cells": [
  {
   "cell_type": "code",
   "execution_count": 3,
   "metadata": {},
   "outputs": [
    {
     "name": "stdout",
     "output_type": "stream",
     "text": [
      "Requirement already satisfied: pymongo in /Users/max/Desktop/GitHub/pro-pilot/.venv/lib/python3.11/site-packages (4.6.2)\n",
      "Requirement already satisfied: pandas in /Users/max/Desktop/GitHub/pro-pilot/.venv/lib/python3.11/site-packages (2.2.1)\n",
      "Requirement already satisfied: dnspython<3.0.0,>=1.16.0 in /Users/max/Desktop/GitHub/pro-pilot/.venv/lib/python3.11/site-packages (from pymongo) (2.6.1)\n",
      "Requirement already satisfied: numpy<2,>=1.23.2 in /Users/max/Desktop/GitHub/pro-pilot/.venv/lib/python3.11/site-packages (from pandas) (1.26.4)\n",
      "Requirement already satisfied: python-dateutil>=2.8.2 in /Users/max/Desktop/GitHub/pro-pilot/.venv/lib/python3.11/site-packages (from pandas) (2.9.0.post0)\n",
      "Requirement already satisfied: pytz>=2020.1 in /Users/max/Desktop/GitHub/pro-pilot/.venv/lib/python3.11/site-packages (from pandas) (2024.1)\n",
      "Requirement already satisfied: tzdata>=2022.7 in /Users/max/Desktop/GitHub/pro-pilot/.venv/lib/python3.11/site-packages (from pandas) (2024.1)\n",
      "Requirement already satisfied: six>=1.5 in /Users/max/Desktop/GitHub/pro-pilot/.venv/lib/python3.11/site-packages (from python-dateutil>=2.8.2->pandas) (1.16.0)\n",
      "\n",
      "\u001b[1m[\u001b[0m\u001b[34;49mnotice\u001b[0m\u001b[1;39;49m]\u001b[0m\u001b[39;49m A new release of pip is available: \u001b[0m\u001b[31;49m24.0\u001b[0m\u001b[39;49m -> \u001b[0m\u001b[32;49m24.2\u001b[0m\n",
      "\u001b[1m[\u001b[0m\u001b[34;49mnotice\u001b[0m\u001b[1;39;49m]\u001b[0m\u001b[39;49m To update, run: \u001b[0m\u001b[32;49mpip install --upgrade pip\u001b[0m\n"
     ]
    }
   ],
   "source": [
    "!pip install pymongo pandas"
   ]
  },
  {
   "cell_type": "code",
   "execution_count": 4,
   "metadata": {
    "ExecuteTime": {
     "end_time": "2024-07-21T21:05:29.980484Z",
     "start_time": "2024-07-21T21:05:25.966907Z"
    }
   },
   "outputs": [],
   "source": [
    "from pymongo import MongoClient\n",
    "import pandas as pd\n",
    "import os"
   ]
  },
  {
   "cell_type": "code",
   "execution_count": 5,
   "metadata": {
    "ExecuteTime": {
     "end_time": "2024-07-21T21:05:30.068084Z",
     "start_time": "2024-07-21T21:05:29.987802Z"
    }
   },
   "outputs": [],
   "source": [
    "client = MongoClient('localhost', 27017)\n",
    "db = client['flask_db']"
   ]
  },
  {
   "cell_type": "code",
   "execution_count": 6,
   "metadata": {
    "ExecuteTime": {
     "end_time": "2024-07-21T21:05:34.294673Z",
     "start_time": "2024-07-21T21:05:34.285337Z"
    }
   },
   "outputs": [],
   "source": [
    "collections = {\n",
    "    'chat_post_task': db.chat_post_task,\n",
    "    'chat_history': db.chat_history,\n",
    "    'chat_client_info': db.chat_client_info,\n",
    "    'chat_in_task': db.chat_in_task,\n",
    "    'chat_pre_task': db.chat_pre_task\n",
    "}\n",
    "\n",
    "desktop_path = '/Users/max/Desktop/csv'\n",
    "os.makedirs(desktop_path, exist_ok=True)\n",
    "\n",
    "\n",
    "def fetch_and_format_data(collection):\n",
    "    data = list(collection.find())\n",
    "    df = pd.DataFrame(data)\n",
    "    df = df.loc[:, ~df.columns.duplicated()]\n",
    "    return df"
   ]
  },
  {
   "cell_type": "code",
   "execution_count": 7,
   "metadata": {},
   "outputs": [],
   "source": [
    "chat_post_task_data = fetch_and_format_data(db.chat_post_task)\n",
    "csv_file_name = os.path.join(desktop_path, \"chat_post_task.csv\")\n",
    "chat_post_task_data.to_csv(csv_file_name, index=False)\n",
    "\n",
    "\n"
   ]
  },
  {
   "cell_type": "code",
   "execution_count": 8,
   "metadata": {},
   "outputs": [],
   "source": [
    "chat_history_data = fetch_and_format_data(db.chat_history)\n",
    "csv_file_name = os.path.join(desktop_path, \"chat_history.csv\")\n",
    "chat_history_data.to_csv(csv_file_name, index=False)\n",
    "\n"
   ]
  },
  {
   "cell_type": "code",
   "execution_count": 9,
   "metadata": {},
   "outputs": [],
   "source": [
    "chat_client_info_data = fetch_and_format_data(db.chat_client_info)\n",
    "csv_file_name = os.path.join(desktop_path, \"chat_client_info.csv\")\n",
    "chat_client_info_data.to_csv(csv_file_name, index=False)\n",
    "\n"
   ]
  },
  {
   "cell_type": "code",
   "execution_count": 10,
   "metadata": {},
   "outputs": [],
   "source": [
    "chat_in_task_data = fetch_and_format_data(db.chat_in_task)\n",
    "csv_file_name = os.path.join(desktop_path, \"chat_in_task.csv\")\n",
    "chat_in_task_data.to_csv(csv_file_name, index=False)\n",
    "\n"
   ]
  },
  {
   "cell_type": "code",
   "execution_count": 11,
   "metadata": {
    "ExecuteTime": {
     "end_time": "2024-07-21T21:15:40.943872Z",
     "start_time": "2024-07-21T21:15:40.922841Z"
    }
   },
   "outputs": [],
   "source": [
    "chat_pre_task_data = fetch_and_format_data(db.chat_pre_task)\n",
    "csv_file_name = os.path.join(desktop_path, \"chat_pre_task.csv\")\n",
    "chat_pre_task_data.to_csv(csv_file_name, index=False)"
   ]
  },
  {
   "cell_type": "code",
   "execution_count": null,
   "metadata": {
    "collapsed": false
   },
   "outputs": [],
   "source": []
  }
 ],
 "metadata": {
  "kernelspec": {
   "display_name": ".venv",
   "language": "python",
   "name": "python3"
  },
  "language_info": {
   "codemirror_mode": {
    "name": "ipython",
    "version": 3
   },
   "file_extension": ".py",
   "mimetype": "text/x-python",
   "name": "python",
   "nbconvert_exporter": "python",
   "pygments_lexer": "ipython3",
   "version": "3.11.4"
  }
 },
 "nbformat": 4,
 "nbformat_minor": 2
}
